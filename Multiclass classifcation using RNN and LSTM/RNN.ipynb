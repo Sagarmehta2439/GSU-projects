{
 "cells": [
  {
   "cell_type": "code",
   "execution_count": 1,
   "id": "eaTI-Dn1RTK6",
   "metadata": {
    "colab": {
     "base_uri": "https://localhost:8080/"
    },
    "id": "eaTI-Dn1RTK6",
    "outputId": "a461354a-74ed-414e-e344-14d8da7091cc"
   },
   "outputs": [
    {
     "name": "stdout",
     "output_type": "stream",
     "text": [
      "Requirement already satisfied: nltk==3.6.1 in /usr/local/lib/python3.7/dist-packages (3.6.1)\n",
      "Requirement already satisfied: joblib in /usr/local/lib/python3.7/dist-packages (from nltk==3.6.1) (1.1.0)\n",
      "Requirement already satisfied: tqdm in /usr/local/lib/python3.7/dist-packages (from nltk==3.6.1) (4.59.0)\n",
      "Requirement already satisfied: click in /usr/local/lib/python3.7/dist-packages (from nltk==3.6.1) (7.1.2)\n",
      "Requirement already satisfied: regex in /usr/local/lib/python3.7/dist-packages (from nltk==3.6.1) (2019.12.20)\n",
      "Requirement already satisfied: numpy==1.18.5 in /usr/local/lib/python3.7/dist-packages (1.18.5)\n",
      "Requirement already satisfied: pandas==1.3.0 in /usr/local/lib/python3.7/dist-packages (1.3.0)\n",
      "Requirement already satisfied: python-dateutil>=2.7.3 in /usr/local/lib/python3.7/dist-packages (from pandas==1.3.0) (2.8.2)\n",
      "Requirement already satisfied: numpy>=1.17.3 in /usr/local/lib/python3.7/dist-packages (from pandas==1.3.0) (1.18.5)\n",
      "Requirement already satisfied: pytz>=2017.3 in /usr/local/lib/python3.7/dist-packages (from pandas==1.3.0) (2018.9)\n",
      "Requirement already satisfied: six>=1.5 in /usr/local/lib/python3.7/dist-packages (from python-dateutil>=2.7.3->pandas==1.3.0) (1.15.0)\n",
      "Requirement already satisfied: torch==1.9.0 in /usr/local/lib/python3.7/dist-packages (1.9.0)\n",
      "Requirement already satisfied: typing-extensions in /usr/local/lib/python3.7/dist-packages (from torch==1.9.0) (3.10.0.2)\n",
      "Requirement already satisfied: tqdm==4.59.0 in /usr/local/lib/python3.7/dist-packages (4.59.0)\n",
      "Requirement already satisfied: scikit_learn==1.0.2 in /usr/local/lib/python3.7/dist-packages (1.0.2)\n",
      "Requirement already satisfied: scipy>=1.1.0 in /usr/local/lib/python3.7/dist-packages (from scikit_learn==1.0.2) (1.4.1)\n",
      "Requirement already satisfied: numpy>=1.14.6 in /usr/local/lib/python3.7/dist-packages (from scikit_learn==1.0.2) (1.18.5)\n",
      "Requirement already satisfied: threadpoolctl>=2.0.0 in /usr/local/lib/python3.7/dist-packages (from scikit_learn==1.0.2) (3.1.0)\n",
      "Requirement already satisfied: joblib>=0.11 in /usr/local/lib/python3.7/dist-packages (from scikit_learn==1.0.2) (1.1.0)\n"
     ]
    }
   ],
   "source": [
    "# import the required packages\n",
    "#!pip install nltk==3.6.1\n",
    "#!pip install numpy==1.18.5\n",
    "#!pip install pandas==1.3.0\n",
    "#!pip install torch==1.9.0\n",
    "#!pip install tqdm==4.59.0\n",
    "#!pip install scikit_learn==1.0.2"
   ]
  },
  {
   "cell_type": "code",
   "execution_count": 1,
   "id": "6ccf15cd",
   "metadata": {
    "ExecuteTime": {
     "end_time": "2022-04-19T16:42:45.361063Z",
     "start_time": "2022-04-19T16:42:37.221779Z"
    },
    "id": "6ccf15cd"
   },
   "outputs": [],
   "source": [
    "# import the required libraries\n",
    "import re\n",
    "import torch\n",
    "import pickle\n",
    "import numpy as np\n",
    "import pandas as pd\n",
    "from tqdm import tqdm\n",
    "from nltk.tokenize import word_tokenize\n",
    "from sklearn.metrics import accuracy_score\n",
    "from sklearn.preprocessing import LabelEncoder\n",
    "from sklearn.model_selection import train_test_split"
   ]
  },
  {
   "cell_type": "code",
   "execution_count": 10,
   "id": "b6429449",
   "metadata": {
    "ExecuteTime": {
     "end_time": "2022-04-08T21:25:58.715737Z",
     "start_time": "2022-04-08T21:25:58.703167Z"
    }
   },
   "outputs": [
    {
     "data": {
      "text/plain": [
       "'/Users/sagar/Desktop/Project pro/Multiclass text classification using RNN and LSTM/Notebook'"
      ]
     },
     "execution_count": 10,
     "metadata": {},
     "output_type": "execute_result"
    }
   ],
   "source": [
    "import os\n",
    "os.getcwd()"
   ]
  },
  {
   "cell_type": "code",
   "execution_count": 88,
   "id": "b872de2f",
   "metadata": {
    "ExecuteTime": {
     "end_time": "2022-04-10T03:50:57.850860Z",
     "start_time": "2022-04-10T03:50:57.800478Z"
    }
   },
   "outputs": [],
   "source": [
    "# define configuration file paths\n",
    "lr = 0.0001\n",
    "input_size = 50\n",
    "num_epochs = 10\n",
    "hidden_size = 50\n",
    "label_col = \"Product\"\n",
    "tokens_path = \"/Users/sagar/Desktop/Project pro/Multiclass text classification using RNN and LSTM/Modular_code/Output/tokens.pkl\"\n",
    "labels_path = \"/Users/sagar/Desktop/Project pro/Multiclass text classification using RNN and LSTM/Modular_code/Output/labels.pkl\"\n",
    "data_path = '/Users/sagar/Desktop/Project pro/Multiclass text classification using RNN and LSTM/Modular_code/Input/complaints.csv'\n",
    "rnn_model_path = \"/Users/sagar/Desktop/Project pro/Multiclass text classification using RNN and LSTM/Modular_code/Output/model_rnn.pth\"\n",
    "lstm_model_path = \"/Users/sagar/Desktop/Project pro/Multiclass text classification using RNN and LSTM/Modular_code/Output/model_lstm.pth\"\n",
    "vocabulary_path = \"/Users/sagar/Desktop/Project pro/Multiclass text classification using RNN and LSTM/Modular_code/Output/vocabulary.pkl\"\n",
    "embeddings_path = \"/Users/sagar/Desktop/Project pro/Multiclass text classification using RNN and LSTM/Modular_code/Output/embeddings.pkl\"\n",
    "glove_vector_path ='/Users/sagar/Desktop/Project pro/Multiclass text classification using RNN and LSTM/Modular_code/Input/glove.6B.50d.txt'\n",
    "text_col_name = \"Consumer complaint narrative\"\n",
    "label_encoder_path = \"/Users/sagar/Desktop/Project pro/Multiclass text classification using RNN and LSTM/Modular_code/Output/label_encoder.pkl\"\n",
    "product_map = {'Vehicle loan or lease': 'vehicle_loan',\n",
    "               'Credit reporting, credit repair services, or other personal consumer reports': 'credit_report',\n",
    "               'Credit card or prepaid card': 'card',\n",
    "               'Money transfer, virtual currency, or money service': 'money_transfer',\n",
    "               'virtual currency': 'money_transfer',\n",
    "               'Mortgage': 'mortgage',\n",
    "               'Payday loan, title loan, or personal loan': 'loan',\n",
    "               'Debt collection': 'debt_collection',\n",
    "               'Checking or savings account': 'savings_account',\n",
    "               'Credit card': 'card',\n",
    "               'Bank account or service': 'savings_account',\n",
    "               'Credit reporting': 'credit_report',\n",
    "               'Prepaid card': 'card',\n",
    "               'Payday loan': 'loan',\n",
    "               'Other financial service': 'others',\n",
    "               'Virtual currency': 'money_transfer',\n",
    "               'Student loan': 'loan',\n",
    "               'Consumer Loan': 'loan',\n",
    "               'Money transfers': 'money_transfer'}"
   ]
  },
  {
   "cell_type": "code",
   "execution_count": 8,
   "id": "9935336a",
   "metadata": {
    "ExecuteTime": {
     "end_time": "2022-04-08T21:25:00.736336Z",
     "start_time": "2022-04-08T21:25:00.729902Z"
    },
    "id": "9935336a"
   },
   "outputs": [],
   "source": [
    "# define function for saving a file\n",
    "def save_file(name, obj):\n",
    "    \"\"\"\n",
    "    Function to save an object as pickle file\n",
    "    \"\"\"\n",
    "    with open(name, 'wb') as f:\n",
    "        pickle.dump(obj, f)\n",
    "\n",
    "# define function for loading a file\n",
    "def load_file(name):\n",
    "    \"\"\"\n",
    "    Function to load a pickle object\n",
    "    \"\"\"\n",
    "    return pickle.load(open(name, \"rb\"))"
   ]
  },
  {
   "cell_type": "markdown",
   "id": "cde95503",
   "metadata": {
    "id": "cde95503"
   },
   "source": [
    "## Process glove embeddings\n",
    "---"
   ]
  },
  {
   "cell_type": "code",
   "execution_count": 12,
   "id": "531f3f24",
   "metadata": {
    "ExecuteTime": {
     "end_time": "2022-04-08T21:27:53.233391Z",
     "start_time": "2022-04-08T21:27:52.501743Z"
    },
    "id": "531f3f24"
   },
   "outputs": [],
   "source": [
    "# open the glove embeddings file and read\n",
    "with open(glove_vector_path, \"rt\") as f:\n",
    "    emb = f.readlines()"
   ]
  },
  {
   "cell_type": "markdown",
   "id": "03d4e03a",
   "metadata": {
    "id": "03d4e03a"
   },
   "source": [
    "### 400000 unique words are there in the embeddings"
   ]
  },
  {
   "cell_type": "code",
   "execution_count": 13,
   "id": "b60b0e62",
   "metadata": {
    "ExecuteTime": {
     "end_time": "2022-04-08T21:29:05.264143Z",
     "start_time": "2022-04-08T21:29:05.256384Z"
    },
    "id": "b60b0e62"
   },
   "outputs": [
    {
     "data": {
      "text/plain": [
       "400000"
      ]
     },
     "execution_count": 13,
     "metadata": {},
     "output_type": "execute_result"
    }
   ],
   "source": [
    "# length of embeddings\n",
    "len(emb)"
   ]
  },
  {
   "cell_type": "markdown",
   "id": "7fb6e904",
   "metadata": {
    "id": "7fb6e904"
   },
   "source": [
    "### Check the first record"
   ]
  },
  {
   "cell_type": "code",
   "execution_count": 14,
   "id": "e27f3bfd",
   "metadata": {
    "ExecuteTime": {
     "end_time": "2022-04-08T21:29:09.841631Z",
     "start_time": "2022-04-08T21:29:09.833196Z"
    },
    "id": "e27f3bfd"
   },
   "outputs": [
    {
     "data": {
      "text/plain": [
       "'the 0.418 0.24968 -0.41242 0.1217 0.34527 -0.044457 -0.49688 -0.17862 -0.00066023 -0.6566 0.27843 -0.14767 -0.55677 0.14658 -0.0095095 0.011658 0.10204 -0.12792 -0.8443 -0.12181 -0.016801 -0.33279 -0.1552 -0.23131 -0.19181 -1.8823 -0.76746 0.099051 -0.42125 -0.19526 4.0071 -0.18594 -0.52287 -0.31681 0.00059213 0.0074449 0.17778 -0.15897 0.012041 -0.054223 -0.29871 -0.15749 -0.34758 -0.045637 -0.44251 0.18785 0.0027849 -0.18411 -0.11514 -0.78581\\n'"
      ]
     },
     "execution_count": 14,
     "metadata": {},
     "output_type": "execute_result"
    }
   ],
   "source": [
    "# check first record\n",
    "emb[0]"
   ]
  },
  {
   "cell_type": "code",
   "execution_count": 15,
   "id": "3d5698d0",
   "metadata": {
    "ExecuteTime": {
     "end_time": "2022-04-08T21:29:12.816873Z",
     "start_time": "2022-04-08T21:29:12.809289Z"
    },
    "id": "3d5698d0"
   },
   "outputs": [
    {
     "data": {
      "text/plain": [
       "'the'"
      ]
     },
     "execution_count": 15,
     "metadata": {},
     "output_type": "execute_result"
    }
   ],
   "source": [
    "# split the first record and check for vocabulary\n",
    "emb[0].split()[0]"
   ]
  },
  {
   "cell_type": "code",
   "execution_count": 16,
   "id": "89c86e32",
   "metadata": {
    "ExecuteTime": {
     "end_time": "2022-04-08T21:29:15.620458Z",
     "start_time": "2022-04-08T21:29:15.610783Z"
    },
    "id": "89c86e32"
   },
   "outputs": [
    {
     "data": {
      "text/plain": [
       "['0.418',\n",
       " '0.24968',\n",
       " '-0.41242',\n",
       " '0.1217',\n",
       " '0.34527',\n",
       " '-0.044457',\n",
       " '-0.49688',\n",
       " '-0.17862',\n",
       " '-0.00066023',\n",
       " '-0.6566',\n",
       " '0.27843',\n",
       " '-0.14767',\n",
       " '-0.55677',\n",
       " '0.14658',\n",
       " '-0.0095095',\n",
       " '0.011658',\n",
       " '0.10204',\n",
       " '-0.12792',\n",
       " '-0.8443',\n",
       " '-0.12181',\n",
       " '-0.016801',\n",
       " '-0.33279',\n",
       " '-0.1552',\n",
       " '-0.23131',\n",
       " '-0.19181',\n",
       " '-1.8823',\n",
       " '-0.76746',\n",
       " '0.099051',\n",
       " '-0.42125',\n",
       " '-0.19526',\n",
       " '4.0071',\n",
       " '-0.18594',\n",
       " '-0.52287',\n",
       " '-0.31681',\n",
       " '0.00059213',\n",
       " '0.0074449',\n",
       " '0.17778',\n",
       " '-0.15897',\n",
       " '0.012041',\n",
       " '-0.054223',\n",
       " '-0.29871',\n",
       " '-0.15749',\n",
       " '-0.34758',\n",
       " '-0.045637',\n",
       " '-0.44251',\n",
       " '0.18785',\n",
       " '0.0027849',\n",
       " '-0.18411',\n",
       " '-0.11514',\n",
       " '-0.78581']"
      ]
     },
     "execution_count": 16,
     "metadata": {},
     "output_type": "execute_result"
    }
   ],
   "source": [
    "# split the first record and check for embeddings\n",
    "emb[0].split()[1:]"
   ]
  },
  {
   "cell_type": "markdown",
   "id": "84fdfd89",
   "metadata": {
    "id": "84fdfd89"
   },
   "source": [
    "### Separate embeddings and vocabulary"
   ]
  },
  {
   "cell_type": "code",
   "execution_count": 17,
   "id": "242f889d",
   "metadata": {
    "ExecuteTime": {
     "end_time": "2022-04-08T21:29:26.533999Z",
     "start_time": "2022-04-08T21:29:21.440537Z"
    },
    "id": "242f889d"
   },
   "outputs": [],
   "source": [
    "vocabulary, embeddings = [], []\n",
    "\n",
    "for item in emb:\n",
    "    vocabulary.append(item.split()[0])\n",
    "    embeddings.append(item.split()[1:])"
   ]
  },
  {
   "cell_type": "markdown",
   "id": "bbcb6c39",
   "metadata": {
    "id": "bbcb6c39"
   },
   "source": [
    "### Convert embeddings to numpy float array"
   ]
  },
  {
   "cell_type": "code",
   "execution_count": 18,
   "id": "8bfab44e",
   "metadata": {
    "ExecuteTime": {
     "end_time": "2022-04-08T21:29:38.804302Z",
     "start_time": "2022-04-08T21:29:35.912234Z"
    },
    "id": "8bfab44e"
   },
   "outputs": [],
   "source": [
    "embeddings = np.array(embeddings, dtype=np.float32)"
   ]
  },
  {
   "cell_type": "code",
   "execution_count": 19,
   "id": "01efb524",
   "metadata": {
    "ExecuteTime": {
     "end_time": "2022-04-08T21:29:41.399066Z",
     "start_time": "2022-04-08T21:29:41.387929Z"
    },
    "id": "01efb524"
   },
   "outputs": [
    {
     "data": {
      "text/plain": [
       "(400000, 50)"
      ]
     },
     "execution_count": 19,
     "metadata": {},
     "output_type": "execute_result"
    }
   ],
   "source": [
    "embeddings.shape"
   ]
  },
  {
   "cell_type": "markdown",
   "id": "99dbd776",
   "metadata": {
    "id": "99dbd776"
   },
   "source": [
    "### Add embeddings for padding and unknown items"
   ]
  },
  {
   "cell_type": "code",
   "execution_count": 20,
   "id": "85da0e52",
   "metadata": {
    "ExecuteTime": {
     "end_time": "2022-04-08T21:29:48.138937Z",
     "start_time": "2022-04-08T21:29:48.132556Z"
    },
    "id": "85da0e52"
   },
   "outputs": [
    {
     "data": {
      "text/plain": [
       "['the', ',', '.', 'of', 'to', 'and', 'in', 'a', '\"', \"'s\"]"
      ]
     },
     "execution_count": 20,
     "metadata": {},
     "output_type": "execute_result"
    }
   ],
   "source": [
    "vocabulary[:10]"
   ]
  },
  {
   "cell_type": "code",
   "execution_count": 21,
   "id": "0fbb2c52",
   "metadata": {
    "ExecuteTime": {
     "end_time": "2022-04-08T21:29:51.349710Z",
     "start_time": "2022-04-08T21:29:51.321069Z"
    },
    "id": "0fbb2c52"
   },
   "outputs": [],
   "source": [
    "vocabulary = [\"<pad>\", \"<unk>\"] + vocabulary"
   ]
  },
  {
   "cell_type": "code",
   "execution_count": 22,
   "id": "428314b9",
   "metadata": {
    "ExecuteTime": {
     "end_time": "2022-04-08T21:29:55.461148Z",
     "start_time": "2022-04-08T21:29:55.274329Z"
    },
    "id": "428314b9"
   },
   "outputs": [],
   "source": [
    "embeddings = np.vstack([np.ones(50, dtype=np.float32), np.mean(embeddings, axis=0),\n",
    "                            embeddings])"
   ]
  },
  {
   "cell_type": "code",
   "execution_count": 23,
   "id": "5cac06f0",
   "metadata": {
    "ExecuteTime": {
     "end_time": "2022-04-08T21:29:58.503735Z",
     "start_time": "2022-04-08T21:29:58.498011Z"
    },
    "id": "5cac06f0"
   },
   "outputs": [
    {
     "name": "stdout",
     "output_type": "stream",
     "text": [
      "400002 (400002, 50)\n"
     ]
    }
   ],
   "source": [
    "print(len(vocabulary), embeddings.shape)"
   ]
  },
  {
   "cell_type": "markdown",
   "id": "42b3b07a",
   "metadata": {
    "id": "42b3b07a"
   },
   "source": [
    "### Save embeddings and vocabulary"
   ]
  },
  {
   "cell_type": "code",
   "execution_count": 56,
   "id": "b173a0ea",
   "metadata": {
    "ExecuteTime": {
     "end_time": "2022-04-09T02:05:09.661788Z",
     "start_time": "2022-04-09T02:05:08.247469Z"
    },
    "id": "b173a0ea"
   },
   "outputs": [],
   "source": [
    "save_file(embeddings_path, embeddings)\n",
    "save_file(vocabulary_path, vocabulary)"
   ]
  },
  {
   "cell_type": "markdown",
   "id": "f58d0479",
   "metadata": {
    "id": "f58d0479"
   },
   "source": [
    "## Process text data\n",
    "---"
   ]
  },
  {
   "cell_type": "markdown",
   "id": "f567f06f",
   "metadata": {
    "id": "f567f06f"
   },
   "source": [
    "### Read the data file"
   ]
  },
  {
   "cell_type": "code",
   "execution_count": 28,
   "id": "c71c7dfc",
   "metadata": {
    "ExecuteTime": {
     "end_time": "2022-04-08T21:31:04.228816Z",
     "start_time": "2022-04-08T21:30:43.985606Z"
    },
    "id": "c71c7dfc"
   },
   "outputs": [],
   "source": [
    "data = pd.read_csv(data_path)"
   ]
  },
  {
   "cell_type": "markdown",
   "id": "86dffa9a",
   "metadata": {
    "id": "86dffa9a"
   },
   "source": [
    "### Drop rows where the text column is empty"
   ]
  },
  {
   "cell_type": "code",
   "execution_count": 29,
   "id": "216c4a4d",
   "metadata": {
    "ExecuteTime": {
     "end_time": "2022-04-08T21:31:16.697139Z",
     "start_time": "2022-04-08T21:31:10.924970Z"
    },
    "id": "216c4a4d"
   },
   "outputs": [],
   "source": [
    "data.dropna(subset=[text_col_name], inplace=True)"
   ]
  },
  {
   "cell_type": "markdown",
   "id": "a70b83e2",
   "metadata": {
    "id": "a70b83e2"
   },
   "source": [
    "### Replace duplicate labels"
   ]
  },
  {
   "cell_type": "code",
   "execution_count": 30,
   "id": "64801543",
   "metadata": {
    "ExecuteTime": {
     "end_time": "2022-04-08T21:31:30.319367Z",
     "start_time": "2022-04-08T21:31:29.841543Z"
    },
    "id": "64801543"
   },
   "outputs": [],
   "source": [
    "data.replace({label_col: product_map}, inplace=True)"
   ]
  },
  {
   "cell_type": "markdown",
   "id": "6b1714dc",
   "metadata": {
    "id": "6b1714dc"
   },
   "source": [
    "### Encode the label column and save the encoder and encoded labels"
   ]
  },
  {
   "cell_type": "code",
   "execution_count": 31,
   "id": "900db623",
   "metadata": {
    "ExecuteTime": {
     "end_time": "2022-04-08T21:31:33.768608Z",
     "start_time": "2022-04-08T21:31:33.575073Z"
    },
    "id": "900db623"
   },
   "outputs": [],
   "source": [
    "label_encoder = LabelEncoder()\n",
    "label_encoder.fit(data[label_col])\n",
    "labels = label_encoder.transform(data[label_col])"
   ]
  },
  {
   "cell_type": "code",
   "execution_count": 32,
   "id": "edd80694",
   "metadata": {
    "ExecuteTime": {
     "end_time": "2022-04-08T21:31:36.607038Z",
     "start_time": "2022-04-08T21:31:36.599671Z"
    },
    "id": "edd80694"
   },
   "outputs": [
    {
     "data": {
      "text/plain": [
       "8"
      ]
     },
     "execution_count": 32,
     "metadata": {},
     "output_type": "execute_result"
    }
   ],
   "source": [
    "labels[0]"
   ]
  },
  {
   "cell_type": "code",
   "execution_count": 33,
   "id": "52c367c8",
   "metadata": {
    "ExecuteTime": {
     "end_time": "2022-04-08T21:31:40.122347Z",
     "start_time": "2022-04-08T21:31:40.111282Z"
    },
    "id": "52c367c8"
   },
   "outputs": [
    {
     "data": {
      "text/plain": [
       "array(['card', 'credit_report', 'debt_collection', 'loan',\n",
       "       'money_transfer', 'mortgage', 'others', 'savings_account',\n",
       "       'vehicle_loan'], dtype=object)"
      ]
     },
     "execution_count": 33,
     "metadata": {},
     "output_type": "execute_result"
    }
   ],
   "source": [
    "label_encoder.classes_"
   ]
  },
  {
   "cell_type": "code",
   "execution_count": 34,
   "id": "f7ccce6f",
   "metadata": {
    "ExecuteTime": {
     "end_time": "2022-04-08T21:31:43.511628Z",
     "start_time": "2022-04-08T21:31:43.499509Z"
    },
    "id": "f7ccce6f"
   },
   "outputs": [
    {
     "data": {
      "text/plain": [
       "1             vehicle_loan\n",
       "7            credit_report\n",
       "8            credit_report\n",
       "10           credit_report\n",
       "13           credit_report\n",
       "                ...       \n",
       "2326240               card\n",
       "2326241    debt_collection\n",
       "2326242           mortgage\n",
       "2326243      credit_report\n",
       "2326244      credit_report\n",
       "Name: Product, Length: 809343, dtype: object"
      ]
     },
     "execution_count": 34,
     "metadata": {},
     "output_type": "execute_result"
    }
   ],
   "source": [
    "data[label_col]"
   ]
  },
  {
   "cell_type": "code",
   "execution_count": null,
   "id": "0544906f",
   "metadata": {
    "id": "0544906f"
   },
   "outputs": [],
   "source": [
    "save_file(labels_path, labels)\n",
    "save_file(label_encoder_path, label_encoder)"
   ]
  },
  {
   "cell_type": "markdown",
   "id": "fc16fc63",
   "metadata": {
    "id": "fc16fc63"
   },
   "source": [
    "### Process the text column"
   ]
  },
  {
   "cell_type": "code",
   "execution_count": 35,
   "id": "06b2e29d",
   "metadata": {
    "ExecuteTime": {
     "end_time": "2022-04-08T21:31:49.370773Z",
     "start_time": "2022-04-08T21:31:49.365934Z"
    },
    "id": "06b2e29d"
   },
   "outputs": [],
   "source": [
    "input_text = data[text_col_name]"
   ]
  },
  {
   "cell_type": "markdown",
   "id": "e2fd241b",
   "metadata": {
    "id": "e2fd241b"
   },
   "source": [
    "### Convert text to lower case"
   ]
  },
  {
   "cell_type": "code",
   "execution_count": 36,
   "id": "857dec2b",
   "metadata": {
    "ExecuteTime": {
     "end_time": "2022-04-08T21:31:58.717336Z",
     "start_time": "2022-04-08T21:31:53.093839Z"
    },
    "id": "857dec2b"
   },
   "outputs": [
    {
     "name": "stderr",
     "output_type": "stream",
     "text": [
      "100%|███████████████████████████████| 809343/809343 [00:05<00:00, 145098.91it/s]\n"
     ]
    }
   ],
   "source": [
    "input_text = [i.lower() for i in tqdm(input_text)]"
   ]
  },
  {
   "cell_type": "markdown",
   "id": "54188fc7",
   "metadata": {
    "id": "54188fc7"
   },
   "source": [
    "### Remove punctuations except apostrophe"
   ]
  },
  {
   "cell_type": "code",
   "execution_count": 37,
   "id": "eee07ba3",
   "metadata": {
    "ExecuteTime": {
     "end_time": "2022-04-08T21:33:26.743379Z",
     "start_time": "2022-04-08T21:32:33.561933Z"
    },
    "id": "eee07ba3"
   },
   "outputs": [
    {
     "name": "stderr",
     "output_type": "stream",
     "text": [
      "100%|████████████████████████████████| 809343/809343 [00:52<00:00, 15406.34it/s]\n"
     ]
    }
   ],
   "source": [
    "input_text = [re.sub(r\"[^\\w\\d'\\s]+\", \" \", i) for i in tqdm(input_text)]"
   ]
  },
  {
   "cell_type": "markdown",
   "id": "03cce62f",
   "metadata": {
    "id": "03cce62f"
   },
   "source": [
    "### Remove digits"
   ]
  },
  {
   "cell_type": "code",
   "execution_count": 38,
   "id": "c239f6ec",
   "metadata": {
    "ExecuteTime": {
     "end_time": "2022-04-08T21:34:32.824646Z",
     "start_time": "2022-04-08T21:33:53.013812Z"
    },
    "id": "c239f6ec"
   },
   "outputs": [
    {
     "name": "stderr",
     "output_type": "stream",
     "text": [
      "100%|████████████████████████████████| 809343/809343 [00:39<00:00, 20526.53it/s]\n"
     ]
    }
   ],
   "source": [
    "input_text = [re.sub(\"\\d+\", \"\", i) for i in tqdm(input_text)]"
   ]
  },
  {
   "cell_type": "markdown",
   "id": "7fa2608b",
   "metadata": {
    "id": "7fa2608b"
   },
   "source": [
    "### Remove more than one consecutive instance of 'x'"
   ]
  },
  {
   "cell_type": "code",
   "execution_count": 39,
   "id": "264dc356",
   "metadata": {
    "ExecuteTime": {
     "end_time": "2022-04-08T21:35:25.753495Z",
     "start_time": "2022-04-08T21:35:03.748588Z"
    },
    "id": "264dc356"
   },
   "outputs": [
    {
     "name": "stderr",
     "output_type": "stream",
     "text": [
      "100%|████████████████████████████████| 809343/809343 [00:21<00:00, 37301.82it/s]\n"
     ]
    }
   ],
   "source": [
    "input_text = [re.sub(r'[x]{2,}', \"\", i) for i in tqdm(input_text)]"
   ]
  },
  {
   "cell_type": "markdown",
   "id": "6dea776b",
   "metadata": {
    "id": "6dea776b"
   },
   "source": [
    "### Replace multiple spaces with single space"
   ]
  },
  {
   "cell_type": "code",
   "execution_count": 40,
   "id": "1cd744c4",
   "metadata": {
    "ExecuteTime": {
     "end_time": "2022-04-08T21:36:43.030210Z",
     "start_time": "2022-04-08T21:35:49.566327Z"
    },
    "id": "1cd744c4"
   },
   "outputs": [
    {
     "name": "stderr",
     "output_type": "stream",
     "text": [
      "100%|████████████████████████████████| 809343/809343 [00:53<00:00, 15212.74it/s]\n"
     ]
    }
   ],
   "source": [
    "input_text = [re.sub(' +', ' ', i) for i in tqdm(input_text)]"
   ]
  },
  {
   "cell_type": "markdown",
   "id": "934505ad",
   "metadata": {
    "id": "934505ad"
   },
   "source": [
    "### Tokenize the text"
   ]
  },
  {
   "cell_type": "code",
   "execution_count": 41,
   "id": "d0c315fb",
   "metadata": {
    "ExecuteTime": {
     "end_time": "2022-04-08T21:50:20.032857Z",
     "start_time": "2022-04-08T21:37:05.325939Z"
    },
    "id": "d0c315fb"
   },
   "outputs": [
    {
     "name": "stderr",
     "output_type": "stream",
     "text": [
      "100%|█████████████████████████████████| 809343/809343 [13:14<00:00, 1018.45it/s]\n"
     ]
    }
   ],
   "source": [
    "tokens = [word_tokenize(t) for t in tqdm(input_text)]"
   ]
  },
  {
   "cell_type": "markdown",
   "id": "5c312593",
   "metadata": {
    "id": "5c312593"
   },
   "source": [
    "### Take the first 20 tokens in each complaint text"
   ]
  },
  {
   "cell_type": "code",
   "execution_count": 42,
   "id": "f46b8bdf",
   "metadata": {
    "ExecuteTime": {
     "end_time": "2022-04-08T22:02:28.007888Z",
     "start_time": "2022-04-08T21:54:24.897775Z"
    }
   },
   "outputs": [
    {
     "name": "stderr",
     "output_type": "stream",
     "text": [
      "100%|█████████████████████████████████| 809343/809343 [07:19<00:00, 1839.61it/s]\n"
     ]
    }
   ],
   "source": [
    "tokens = [i[:20] if len(i) > 19 else ['<pad>'] * (20 - len(i)) + i for i in tqdm(tokens)]"
   ]
  },
  {
   "cell_type": "code",
   "execution_count": null,
   "id": "5744c903",
   "metadata": {},
   "outputs": [],
   "source": []
  },
  {
   "cell_type": "markdown",
   "id": "be6561df",
   "metadata": {
    "id": "be6561df"
   },
   "source": [
    "### Convert tokens to integer indices from vocabulary"
   ]
  },
  {
   "cell_type": "code",
   "execution_count": 43,
   "id": "288a4e01",
   "metadata": {
    "ExecuteTime": {
     "end_time": "2022-04-08T22:09:35.939176Z",
     "start_time": "2022-04-08T22:09:35.113235Z"
    },
    "id": "288a4e01"
   },
   "outputs": [],
   "source": [
    "def token_index(tokens, vocabulary, missing='<unk>'):\n",
    "    \"\"\"\n",
    "    :param tokens: List of word tokens\n",
    "    :param vocabulary: All words in the embeddings\n",
    "    :param missing: Token for words not present in the vocabulary\n",
    "    :return: List of integers representing the word tokens\n",
    "    \"\"\"\n",
    "    idx_token = []\n",
    "    for text in tqdm(tokens):\n",
    "        idx_text = []\n",
    "        for token in text:\n",
    "            if token in vocabulary:\n",
    "                idx_text.append(vocabulary.index(token))\n",
    "            else:\n",
    "                idx_text.append(vocabulary.index(missing))\n",
    "        idx_token.append(idx_text)\n",
    "    return idx_token"
   ]
  },
  {
   "cell_type": "code",
   "execution_count": 44,
   "id": "618f32df",
   "metadata": {
    "ExecuteTime": {
     "end_time": "2022-04-09T01:29:57.293307Z",
     "start_time": "2022-04-08T22:10:45.711779Z"
    },
    "id": "618f32df",
    "scrolled": true
   },
   "outputs": [
    {
     "name": "stderr",
     "output_type": "stream",
     "text": [
      " 94%|███████████████████████████████  | 760312/809343 [3:08:41<09:58, 81.98it/s]IOStream.flush timed out\n",
      "100%|█████████████████████████████████| 809343/809343 [3:18:57<00:00, 67.80it/s]\n"
     ]
    }
   ],
   "source": [
    "tokens = token_index(tokens, vocabulary)"
   ]
  },
  {
   "cell_type": "code",
   "execution_count": 45,
   "id": "c51657a5",
   "metadata": {
    "ExecuteTime": {
     "end_time": "2022-04-09T01:44:41.395849Z",
     "start_time": "2022-04-09T01:44:41.327820Z"
    },
    "id": "c51657a5"
   },
   "outputs": [
    {
     "data": {
      "text/plain": [
       "809343"
      ]
     },
     "execution_count": 45,
     "metadata": {},
     "output_type": "execute_result"
    }
   ],
   "source": [
    "len(tokens)"
   ]
  },
  {
   "cell_type": "code",
   "execution_count": 46,
   "id": "e7fe16b6",
   "metadata": {
    "ExecuteTime": {
     "end_time": "2022-04-09T01:45:08.669715Z",
     "start_time": "2022-04-09T01:45:08.614724Z"
    },
    "id": "e7fe16b6"
   },
   "outputs": [
    {
     "data": {
      "text/plain": [
       "[43,\n",
       " 5909,\n",
       " 3660,\n",
       " 15,\n",
       " 187,\n",
       " 51,\n",
       " 2333,\n",
       " 563,\n",
       " 15,\n",
       " 3115,\n",
       " 447,\n",
       " 6,\n",
       " 136,\n",
       " 68,\n",
       " 5,\n",
       " 163,\n",
       " 12,\n",
       " 9,\n",
       " 638,\n",
       " 568]"
      ]
     },
     "execution_count": 46,
     "metadata": {},
     "output_type": "execute_result"
    }
   ],
   "source": [
    "tokens[0]"
   ]
  },
  {
   "cell_type": "code",
   "execution_count": 47,
   "id": "00b35a7e",
   "metadata": {
    "ExecuteTime": {
     "end_time": "2022-04-09T01:45:25.803709Z",
     "start_time": "2022-04-09T01:45:25.591316Z"
    },
    "id": "00b35a7e"
   },
   "outputs": [
    {
     "data": {
      "text/html": [
       "<div>\n",
       "<style scoped>\n",
       "    .dataframe tbody tr th:only-of-type {\n",
       "        vertical-align: middle;\n",
       "    }\n",
       "\n",
       "    .dataframe tbody tr th {\n",
       "        vertical-align: top;\n",
       "    }\n",
       "\n",
       "    .dataframe thead th {\n",
       "        text-align: right;\n",
       "    }\n",
       "</style>\n",
       "<table border=\"1\" class=\"dataframe\">\n",
       "  <thead>\n",
       "    <tr style=\"text-align: right;\">\n",
       "      <th></th>\n",
       "      <th>Date received</th>\n",
       "      <th>Product</th>\n",
       "      <th>Sub-product</th>\n",
       "      <th>Issue</th>\n",
       "      <th>Sub-issue</th>\n",
       "      <th>Consumer complaint narrative</th>\n",
       "      <th>Company public response</th>\n",
       "      <th>Company</th>\n",
       "      <th>State</th>\n",
       "      <th>ZIP code</th>\n",
       "      <th>Tags</th>\n",
       "      <th>Consumer consent provided?</th>\n",
       "      <th>Submitted via</th>\n",
       "      <th>Date sent to company</th>\n",
       "      <th>Company response to consumer</th>\n",
       "      <th>Timely response?</th>\n",
       "      <th>Consumer disputed?</th>\n",
       "      <th>Complaint ID</th>\n",
       "    </tr>\n",
       "  </thead>\n",
       "  <tbody>\n",
       "    <tr>\n",
       "      <th>1</th>\n",
       "      <td>2019-11-01</td>\n",
       "      <td>vehicle_loan</td>\n",
       "      <td>Loan</td>\n",
       "      <td>Struggling to pay your loan</td>\n",
       "      <td>Denied request to lower payments</td>\n",
       "      <td>I contacted Ally on Friday XX/XX/XXXX after fa...</td>\n",
       "      <td>Company has responded to the consumer and the ...</td>\n",
       "      <td>ALLY FINANCIAL INC.</td>\n",
       "      <td>NJ</td>\n",
       "      <td>088XX</td>\n",
       "      <td>NaN</td>\n",
       "      <td>Consent provided</td>\n",
       "      <td>Web</td>\n",
       "      <td>2019-11-01</td>\n",
       "      <td>Closed with explanation</td>\n",
       "      <td>Yes</td>\n",
       "      <td>NaN</td>\n",
       "      <td>3425257</td>\n",
       "    </tr>\n",
       "    <tr>\n",
       "      <th>7</th>\n",
       "      <td>2019-07-08</td>\n",
       "      <td>credit_report</td>\n",
       "      <td>Credit reporting</td>\n",
       "      <td>Problem with a credit reporting company's inve...</td>\n",
       "      <td>Their investigation did not fix an error on yo...</td>\n",
       "      <td>Hello This complaint is against the three cred...</td>\n",
       "      <td>Company has responded to the consumer and the ...</td>\n",
       "      <td>TRANSUNION INTERMEDIATE HOLDINGS, INC.</td>\n",
       "      <td>NY</td>\n",
       "      <td>109XX</td>\n",
       "      <td>NaN</td>\n",
       "      <td>Consent provided</td>\n",
       "      <td>Web</td>\n",
       "      <td>2019-07-08</td>\n",
       "      <td>Closed with explanation</td>\n",
       "      <td>Yes</td>\n",
       "      <td>NaN</td>\n",
       "      <td>3299394</td>\n",
       "    </tr>\n",
       "    <tr>\n",
       "      <th>8</th>\n",
       "      <td>2020-06-10</td>\n",
       "      <td>credit_report</td>\n",
       "      <td>Credit reporting</td>\n",
       "      <td>Improper use of your report</td>\n",
       "      <td>Credit inquiries on your report that you don't...</td>\n",
       "      <td>I am a victim of Identity Theft &amp; currently ha...</td>\n",
       "      <td>Company has responded to the consumer and the ...</td>\n",
       "      <td>Experian Information Solutions Inc.</td>\n",
       "      <td>MT</td>\n",
       "      <td>NaN</td>\n",
       "      <td>Servicemember</td>\n",
       "      <td>Consent provided</td>\n",
       "      <td>Web</td>\n",
       "      <td>2020-06-10</td>\n",
       "      <td>Closed with explanation</td>\n",
       "      <td>Yes</td>\n",
       "      <td>NaN</td>\n",
       "      <td>3692762</td>\n",
       "    </tr>\n",
       "    <tr>\n",
       "      <th>10</th>\n",
       "      <td>2019-07-03</td>\n",
       "      <td>credit_report</td>\n",
       "      <td>Credit reporting</td>\n",
       "      <td>Incorrect information on your report</td>\n",
       "      <td>Account information incorrect</td>\n",
       "      <td>Two accounts are still on my credit history af...</td>\n",
       "      <td>Company has responded to the consumer and the ...</td>\n",
       "      <td>Experian Information Solutions Inc.</td>\n",
       "      <td>FL</td>\n",
       "      <td>328XX</td>\n",
       "      <td>NaN</td>\n",
       "      <td>Consent provided</td>\n",
       "      <td>Web</td>\n",
       "      <td>2019-07-03</td>\n",
       "      <td>Closed with non-monetary relief</td>\n",
       "      <td>Yes</td>\n",
       "      <td>NaN</td>\n",
       "      <td>3294745</td>\n",
       "    </tr>\n",
       "    <tr>\n",
       "      <th>13</th>\n",
       "      <td>2019-03-21</td>\n",
       "      <td>credit_report</td>\n",
       "      <td>Other personal consumer report</td>\n",
       "      <td>Identity theft protection or other monitoring ...</td>\n",
       "      <td>Received unwanted marketing or advertising</td>\n",
       "      <td>Receiving daily telephone call ( s ) from XXXX...</td>\n",
       "      <td>Company has responded to the consumer and the ...</td>\n",
       "      <td>NRA Group, LLC</td>\n",
       "      <td>MA</td>\n",
       "      <td>NaN</td>\n",
       "      <td>NaN</td>\n",
       "      <td>Consent provided</td>\n",
       "      <td>Web</td>\n",
       "      <td>2019-03-27</td>\n",
       "      <td>Closed with explanation</td>\n",
       "      <td>Yes</td>\n",
       "      <td>NaN</td>\n",
       "      <td>3186954</td>\n",
       "    </tr>\n",
       "  </tbody>\n",
       "</table>\n",
       "</div>"
      ],
      "text/plain": [
       "   Date received        Product                     Sub-product  \\\n",
       "1     2019-11-01   vehicle_loan                            Loan   \n",
       "7     2019-07-08  credit_report                Credit reporting   \n",
       "8     2020-06-10  credit_report                Credit reporting   \n",
       "10    2019-07-03  credit_report                Credit reporting   \n",
       "13    2019-03-21  credit_report  Other personal consumer report   \n",
       "\n",
       "                                                Issue  \\\n",
       "1                         Struggling to pay your loan   \n",
       "7   Problem with a credit reporting company's inve...   \n",
       "8                         Improper use of your report   \n",
       "10               Incorrect information on your report   \n",
       "13  Identity theft protection or other monitoring ...   \n",
       "\n",
       "                                            Sub-issue  \\\n",
       "1                    Denied request to lower payments   \n",
       "7   Their investigation did not fix an error on yo...   \n",
       "8   Credit inquiries on your report that you don't...   \n",
       "10                      Account information incorrect   \n",
       "13         Received unwanted marketing or advertising   \n",
       "\n",
       "                         Consumer complaint narrative  \\\n",
       "1   I contacted Ally on Friday XX/XX/XXXX after fa...   \n",
       "7   Hello This complaint is against the three cred...   \n",
       "8   I am a victim of Identity Theft & currently ha...   \n",
       "10  Two accounts are still on my credit history af...   \n",
       "13  Receiving daily telephone call ( s ) from XXXX...   \n",
       "\n",
       "                              Company public response  \\\n",
       "1   Company has responded to the consumer and the ...   \n",
       "7   Company has responded to the consumer and the ...   \n",
       "8   Company has responded to the consumer and the ...   \n",
       "10  Company has responded to the consumer and the ...   \n",
       "13  Company has responded to the consumer and the ...   \n",
       "\n",
       "                                   Company State ZIP code           Tags  \\\n",
       "1                      ALLY FINANCIAL INC.    NJ    088XX            NaN   \n",
       "7   TRANSUNION INTERMEDIATE HOLDINGS, INC.    NY    109XX            NaN   \n",
       "8      Experian Information Solutions Inc.    MT      NaN  Servicemember   \n",
       "10     Experian Information Solutions Inc.    FL    328XX            NaN   \n",
       "13                          NRA Group, LLC    MA      NaN            NaN   \n",
       "\n",
       "   Consumer consent provided? Submitted via Date sent to company  \\\n",
       "1            Consent provided           Web           2019-11-01   \n",
       "7            Consent provided           Web           2019-07-08   \n",
       "8            Consent provided           Web           2020-06-10   \n",
       "10           Consent provided           Web           2019-07-03   \n",
       "13           Consent provided           Web           2019-03-27   \n",
       "\n",
       "       Company response to consumer Timely response? Consumer disputed?  \\\n",
       "1           Closed with explanation              Yes                NaN   \n",
       "7           Closed with explanation              Yes                NaN   \n",
       "8           Closed with explanation              Yes                NaN   \n",
       "10  Closed with non-monetary relief              Yes                NaN   \n",
       "13          Closed with explanation              Yes                NaN   \n",
       "\n",
       "    Complaint ID  \n",
       "1        3425257  \n",
       "7        3299394  \n",
       "8        3692762  \n",
       "10       3294745  \n",
       "13       3186954  "
      ]
     },
     "execution_count": 47,
     "metadata": {},
     "output_type": "execute_result"
    }
   ],
   "source": [
    "data.head()"
   ]
  },
  {
   "cell_type": "code",
   "execution_count": 92,
   "id": "56f3ea83",
   "metadata": {
    "ExecuteTime": {
     "end_time": "2022-04-13T00:15:20.060760Z",
     "start_time": "2022-04-13T00:15:18.568965Z"
    }
   },
   "outputs": [
    {
     "data": {
      "text/plain": [
       "<AxesSubplot:>"
      ]
     },
     "execution_count": 92,
     "metadata": {},
     "output_type": "execute_result"
    },
    {
     "data": {
      "image/png": "[encoded data removed]",
      "text/plain": [
       "<Figure size 432x288 with 1 Axes>"
      ]
     },
     "metadata": {
      "needs_background": "light"
     },
     "output_type": "display_data"
    }
   ],
   "source": [
    "data.Product.value_counts().plot(kind = 'barh')"
   ]
  },
  {
   "cell_type": "code",
   "execution_count": 48,
   "id": "a056489b",
   "metadata": {
    "ExecuteTime": {
     "end_time": "2022-04-09T01:45:43.723116Z",
     "start_time": "2022-04-09T01:45:43.718149Z"
    },
    "id": "a056489b"
   },
   "outputs": [
    {
     "data": {
      "text/plain": [
       "'i'"
      ]
     },
     "execution_count": 48,
     "metadata": {},
     "output_type": "execute_result"
    }
   ],
   "source": [
    "vocabulary[tokens[0][0]]"
   ]
  },
  {
   "cell_type": "markdown",
   "id": "ab9c8712",
   "metadata": {
    "id": "ab9c8712"
   },
   "source": [
    "### Save the tokens"
   ]
  },
  {
   "cell_type": "code",
   "execution_count": null,
   "id": "ab83d5fb",
   "metadata": {
    "id": "ab83d5fb"
   },
   "outputs": [],
   "source": [
    "save_file(tokens_path, tokens)"
   ]
  },
  {
   "cell_type": "markdown",
   "id": "8d52e1c1",
   "metadata": {
    "id": "8d52e1c1"
   },
   "source": [
    "## Create PyTorch Dataset\n",
    "---"
   ]
  },
  {
   "cell_type": "code",
   "execution_count": 49,
   "id": "8936a733",
   "metadata": {
    "ExecuteTime": {
     "end_time": "2022-04-09T01:46:01.257208Z",
     "start_time": "2022-04-09T01:46:01.197170Z"
    },
    "id": "8936a733"
   },
   "outputs": [],
   "source": [
    "class TextDataset(torch.utils.data.Dataset):\n",
    "\n",
    "    def __init__(self, tokens, embeddings, labels):\n",
    "        \"\"\"\n",
    "        :param tokens: List of word tokens\n",
    "        :param embeddings: Word embeddings (from glove)\n",
    "        :param labels: List of labels\n",
    "        \"\"\"\n",
    "        self.tokens = tokens\n",
    "        self.embeddings = embeddings\n",
    "        self.labels = labels\n",
    "\n",
    "    def __len__(self):\n",
    "        return len(self.tokens)\n",
    "\n",
    "    def __getitem__(self, idx):\n",
    "        return self.labels[idx], self.embeddings[self.tokens[idx], :]"
   ]
  },
  {
   "cell_type": "markdown",
   "id": "8f1c8577",
   "metadata": {
    "id": "8f1c8577"
   },
   "source": [
    "## Create Models\n",
    "---"
   ]
  },
  {
   "cell_type": "markdown",
   "id": "8b77dedc",
   "metadata": {
    "id": "8b77dedc"
   },
   "source": [
    "### RNN Model"
   ]
  },
  {
   "cell_type": "code",
   "execution_count": 50,
   "id": "f4953da5",
   "metadata": {
    "ExecuteTime": {
     "end_time": "2022-04-09T01:46:18.449650Z",
     "start_time": "2022-04-09T01:46:18.377761Z"
    },
    "id": "f4953da5"
   },
   "outputs": [],
   "source": [
    "class RNNNetwork(torch.nn.Module):\n",
    "\n",
    "    def __init__(self, input_size, hidden_size, num_classes):\n",
    "        \"\"\"\n",
    "        :param input_size: Size of embedding\n",
    "        :param hidden_size: Hidden vector size\n",
    "        :param num_classes: Number of classes in the dataset\n",
    "        \"\"\"\n",
    "        super(RNNNetwork, self).__init__()\n",
    "        # RNN Layer\n",
    "        self.rnn = torch.nn.RNN(input_size=input_size,\n",
    "                                hidden_size=hidden_size,\n",
    "                                batch_first=True)\n",
    "        # Linear Layer\n",
    "        self.linear = torch.nn.Linear(hidden_size, num_classes)\n",
    "\n",
    "    def forward(self, input_data):\n",
    "        _, hidden = self.rnn(input_data)\n",
    "        output = self.linear(hidden)\n",
    "        return output"
   ]
  },
  {
   "cell_type": "markdown",
   "id": "550fc77e",
   "metadata": {
    "id": "550fc77e"
   },
   "source": [
    "### LSTM Model"
   ]
  },
  {
   "cell_type": "code",
   "execution_count": 51,
   "id": "a1383a39",
   "metadata": {
    "ExecuteTime": {
     "end_time": "2022-04-09T01:46:54.427606Z",
     "start_time": "2022-04-09T01:46:54.404903Z"
    },
    "id": "a1383a39"
   },
   "outputs": [],
   "source": [
    "class LSTMNetwork(torch.nn.Module):\n",
    "\n",
    "    def __init__(self, input_size, hidden_size, num_classes):\n",
    "        \"\"\"\n",
    "        :param input_size: Size of embedding\n",
    "        :param hidden_size: Hidden vector size\n",
    "        :param num_classes: Number of classes in the dataset\n",
    "        \"\"\"\n",
    "        super(LSTMNetwork, self).__init__()\n",
    "        # LSTM Layer\n",
    "        self.rnn = torch.nn.LSTM(input_size=input_size,\n",
    "                                 hidden_size=hidden_size,\n",
    "                                 batch_first=True)\n",
    "        # Linear Layer\n",
    "        self.linear = torch.nn.Linear(hidden_size, num_classes)\n",
    "\n",
    "    def forward(self, input_data):\n",
    "        _, (hidden, _) = self.rnn(input_data)\n",
    "        output = self.linear(hidden[-1])\n",
    "        return output"
   ]
  },
  {
   "cell_type": "markdown",
   "id": "e76960f7",
   "metadata": {
    "id": "e76960f7"
   },
   "source": [
    "### Define train function"
   ]
  },
  {
   "cell_type": "code",
   "execution_count": 52,
   "id": "f289dabc",
   "metadata": {
    "ExecuteTime": {
     "end_time": "2022-04-09T01:47:13.483078Z",
     "start_time": "2022-04-09T01:47:13.427887Z"
    },
    "id": "f289dabc"
   },
   "outputs": [],
   "source": [
    "def train(train_loader, valid_loader, model, criterion, optimizer, device,\n",
    "          num_epochs, model_path):\n",
    "    \"\"\"\n",
    "    Function to train the model\n",
    "    :param train_loader: Data loader for train dataset\n",
    "    :param valid_loader: Data loader for validation dataset\n",
    "    :param model: Model object\n",
    "    :param criterion: Loss function\n",
    "    :param optimizer: Optimizer\n",
    "    :param device: CUDA or CPU\n",
    "    :param num_epochs: Number of epochs\n",
    "    :param model_path: Path to save the model\n",
    "    \"\"\"\n",
    "    best_loss = 1e8\n",
    "    for i in range(num_epochs):\n",
    "        print(f\"Epoch {i+1} of {num_epochs}\")\n",
    "        valid_loss, train_loss = [], []\n",
    "        model.train()\n",
    "        # Train loop\n",
    "        for batch_labels, batch_data in tqdm(train_loader):\n",
    "            # Move data to GPU if available\n",
    "            batch_labels = batch_labels.to(device)\n",
    "            batch_labels = batch_labels.type(torch.LongTensor)\n",
    "            batch_data = batch_data.to(device)\n",
    "            # Forward pass\n",
    "            batch_output = model(batch_data)\n",
    "            batch_output = torch.squeeze(batch_output)\n",
    "            # Calculate loss\n",
    "            loss = criterion(batch_output, batch_labels)\n",
    "            train_loss.append(loss.item())\n",
    "            optimizer.zero_grad()\n",
    "            # Backward pass\n",
    "            loss.backward()\n",
    "            # Gradient update step\n",
    "            optimizer.step()\n",
    "        model.eval()\n",
    "        # Validation loop\n",
    "        for batch_labels, batch_data in tqdm(valid_loader):\n",
    "            # Move data to GPU if available\n",
    "            batch_labels = batch_labels.to(device)\n",
    "            batch_labels = batch_labels.type(torch.LongTensor)\n",
    "            batch_data = batch_data.to(device)\n",
    "            # Forward pass\n",
    "            batch_output = model(batch_data)\n",
    "            batch_output = torch.squeeze(batch_output)\n",
    "            # Calculate loss\n",
    "            loss = criterion(batch_output, batch_labels)\n",
    "            valid_loss.append(loss.item())\n",
    "        t_loss = np.mean(train_loss)\n",
    "        v_loss = np.mean(valid_loss)\n",
    "        print(f\"Train Loss: {t_loss}, Validation Loss: {v_loss}\")\n",
    "        if v_loss < best_loss:\n",
    "            best_loss = v_loss\n",
    "            # Save model if validation loss improves\n",
    "            torch.save(model.state_dict(), model_path)\n",
    "        print(f\"Best Validation Loss: {best_loss}\")"
   ]
  },
  {
   "cell_type": "markdown",
   "id": "853388ef",
   "metadata": {
    "id": "853388ef"
   },
   "source": [
    "### Define test function"
   ]
  },
  {
   "cell_type": "code",
   "execution_count": 72,
   "id": "6b9e405f",
   "metadata": {
    "ExecuteTime": {
     "end_time": "2022-04-09T06:00:25.863545Z",
     "start_time": "2022-04-09T06:00:25.737244Z"
    },
    "id": "6b9e405f"
   },
   "outputs": [],
   "source": [
    "def test(test_loader, model, criterion, device):\n",
    "    \"\"\"\n",
    "    Function to test the model\n",
    "    :param test_loader: Data loader for test dataset\n",
    "    :param model: Model object\n",
    "    :param criterion: Loss function\n",
    "    :param device: CUDA or CPU\n",
    "    \"\"\"\n",
    "    model.eval()\n",
    "    test_loss = []\n",
    "    test_accu = []\n",
    "    for batch_labels, batch_data in tqdm(test_loader):\n",
    "        # Move data to device\n",
    "        batch_labels = batch_labels.to(device)\n",
    "        batch_labels = batch_labels.type(torch.LongTensor)\n",
    "        batch_data = batch_data.to(device)\n",
    "        # Forward pass\n",
    "        batch_output = model(batch_data)\n",
    "        batch_output = torch.squeeze(batch_output)\n",
    "        # Calculate loss\n",
    "        loss = criterion(batch_output, batch_labels)\n",
    "        test_loss.append(loss.item())\n",
    "        batch_preds = torch.argmax(batch_output, axis=1)\n",
    "        # Move predictions to CPU\n",
    "        if torch.cuda.is_available():\n",
    "            batch_labels = batch_labels.cpu()\n",
    "            batch_preds = batch_preds.cpu()\n",
    "        # Compute accuracy\n",
    "        test_accu.append(accuracy_score(batch_labels.detach().numpy(),\n",
    "                                        batch_preds.detach().numpy()))\n",
    "    test_loss = np.mean(test_loss)\n",
    "    test_accu = np.mean(test_accu)\n",
    "    print(f\"Test Loss: {test_loss}, Test Accuracy: {test_accu}\")"
   ]
  },
  {
   "cell_type": "markdown",
   "id": "4163f818",
   "metadata": {
    "id": "4163f818"
   },
   "source": [
    "## Train RNN Model\n",
    "---"
   ]
  },
  {
   "cell_type": "markdown",
   "id": "e752fd29",
   "metadata": {
    "id": "e752fd29"
   },
   "source": [
    "### Load the files"
   ]
  },
  {
   "cell_type": "code",
   "execution_count": 60,
   "id": "c9aaae86",
   "metadata": {
    "ExecuteTime": {
     "end_time": "2022-04-09T02:07:13.709277Z",
     "start_time": "2022-04-09T02:07:07.313255Z"
    },
    "id": "c9aaae86"
   },
   "outputs": [
    {
     "name": "stderr",
     "output_type": "stream",
     "text": [
      "/opt/anaconda3/lib/python3.7/site-packages/sklearn/base.py:315: UserWarning: Trying to unpickle estimator LabelEncoder from version 0.23.2 when using version 0.24.2. This might lead to breaking code or invalid results. Use at your own risk.\n",
      "  UserWarning)\n"
     ]
    }
   ],
   "source": [
    "tokens = load_file(tokens_path)\n",
    "labels = load_file(labels_path)\n",
    "embeddings = load_file(embeddings_path)\n",
    "label_encoder = load_file(label_encoder_path)\n",
    "num_classes = len(label_encoder.classes_)"
   ]
  },
  {
   "cell_type": "markdown",
   "id": "2ad46f7e",
   "metadata": {
    "id": "2ad46f7e"
   },
   "source": [
    "### Split data into train, validation and test sets"
   ]
  },
  {
   "cell_type": "code",
   "execution_count": 61,
   "id": "7916b320",
   "metadata": {
    "ExecuteTime": {
     "end_time": "2022-04-09T02:07:40.942598Z",
     "start_time": "2022-04-09T02:07:40.173609Z"
    },
    "id": "7916b320"
   },
   "outputs": [],
   "source": [
    "X_train, X_test, y_train, y_test = train_test_split(tokens, labels,\n",
    "                                                    test_size=0.2)\n",
    "X_train, X_valid, y_train, y_valid = train_test_split(X_train, y_train,\n",
    "                                                      test_size=0.25)"
   ]
  },
  {
   "cell_type": "markdown",
   "id": "171cc1be",
   "metadata": {
    "id": "171cc1be"
   },
   "source": [
    "### Create PyTorch datasets"
   ]
  },
  {
   "cell_type": "code",
   "execution_count": 62,
   "id": "af22498f",
   "metadata": {
    "ExecuteTime": {
     "end_time": "2022-04-09T02:08:33.786282Z",
     "start_time": "2022-04-09T02:08:33.761598Z"
    },
    "id": "af22498f"
   },
   "outputs": [],
   "source": [
    "train_dataset = TextDataset(X_train, embeddings, y_train)\n",
    "valid_dataset = TextDataset(X_valid, embeddings, y_valid)\n",
    "test_dataset = TextDataset(X_test, embeddings, y_test)"
   ]
  },
  {
   "cell_type": "markdown",
   "id": "030610ea",
   "metadata": {
    "id": "030610ea"
   },
   "source": [
    "### Create data loaders"
   ]
  },
  {
   "cell_type": "code",
   "execution_count": 63,
   "id": "a0dcc6dd",
   "metadata": {
    "ExecuteTime": {
     "end_time": "2022-04-09T02:08:59.592252Z",
     "start_time": "2022-04-09T02:08:59.429337Z"
    },
    "id": "a0dcc6dd"
   },
   "outputs": [],
   "source": [
    "train_loader = torch.utils.data.DataLoader(train_dataset, batch_size=16,\n",
    "                                           shuffle=True, drop_last=True)\n",
    "valid_loader = torch.utils.data.DataLoader(valid_dataset, batch_size=16)\n",
    "test_loader = torch.utils.data.DataLoader(test_dataset, batch_size=16)"
   ]
  },
  {
   "cell_type": "markdown",
   "id": "af02c4c2",
   "metadata": {
    "id": "af02c4c2"
   },
   "source": [
    "### Create model object"
   ]
  },
  {
   "cell_type": "code",
   "execution_count": 64,
   "id": "7aaacda1",
   "metadata": {
    "ExecuteTime": {
     "end_time": "2022-04-09T02:09:24.667191Z",
     "start_time": "2022-04-09T02:09:24.204406Z"
    },
    "id": "7aaacda1"
   },
   "outputs": [],
   "source": [
    "model = RNNNetwork(input_size, hidden_size, num_classes)"
   ]
  },
  {
   "cell_type": "markdown",
   "id": "7c88a3f8",
   "metadata": {
    "id": "7c88a3f8"
   },
   "source": [
    "### Move the model to GPU if available"
   ]
  },
  {
   "cell_type": "code",
   "execution_count": 65,
   "id": "ca465cd6",
   "metadata": {
    "ExecuteTime": {
     "end_time": "2022-04-09T02:09:46.867614Z",
     "start_time": "2022-04-09T02:09:46.858802Z"
    },
    "id": "ca465cd6"
   },
   "outputs": [],
   "source": [
    "if torch.cuda.is_available():\n",
    "    model = model.cuda()"
   ]
  },
  {
   "cell_type": "markdown",
   "id": "1deebde4",
   "metadata": {
    "id": "1deebde4"
   },
   "source": [
    "### Define loss function and optimizer"
   ]
  },
  {
   "cell_type": "code",
   "execution_count": 66,
   "id": "d4becc10",
   "metadata": {
    "ExecuteTime": {
     "end_time": "2022-04-09T02:10:09.507879Z",
     "start_time": "2022-04-09T02:10:09.451275Z"
    },
    "id": "d4becc10"
   },
   "outputs": [],
   "source": [
    "criterion = torch.nn.CrossEntropyLoss()\n",
    "optimizer = torch.optim.Adam(model.parameters(), lr=lr)\n",
    "device = torch.device(\"cuda:0\" if torch.cuda.is_available() else \"cpu\")"
   ]
  },
  {
   "cell_type": "markdown",
   "id": "7f90ad48",
   "metadata": {
    "id": "7f90ad48"
   },
   "source": [
    "### Training loop"
   ]
  },
  {
   "cell_type": "code",
   "execution_count": 89,
   "id": "f80daf65",
   "metadata": {
    "ExecuteTime": {
     "end_time": "2022-04-10T04:40:51.645603Z",
     "start_time": "2022-04-10T03:51:25.479455Z"
    },
    "id": "f80daf65",
    "scrolled": true
   },
   "outputs": [
    {
     "name": "stdout",
     "output_type": "stream",
     "text": [
      "Epoch 1 of 10\n"
     ]
    },
    {
     "name": "stderr",
     "output_type": "stream",
     "text": [
      "100%|████████████████████████████████████| 30350/30350 [03:30<00:00, 144.16it/s]\n",
      "100%|████████████████████████████████████| 10117/10117 [00:28<00:00, 359.06it/s]\n"
     ]
    },
    {
     "name": "stdout",
     "output_type": "stream",
     "text": [
      "Train Loss: 0.6421072641196715, Validation Loss: 0.676749323365763\n",
      "Best Validation Loss: 0.676749323365763\n",
      "Epoch 2 of 10\n"
     ]
    },
    {
     "name": "stderr",
     "output_type": "stream",
     "text": [
      "100%|████████████████████████████████████| 30350/30350 [03:32<00:00, 142.51it/s]\n",
      "100%|████████████████████████████████████| 10117/10117 [00:26<00:00, 384.23it/s]\n"
     ]
    },
    {
     "name": "stdout",
     "output_type": "stream",
     "text": [
      "Train Loss: 0.642107213073252, Validation Loss: 0.676749323365763\n",
      "Best Validation Loss: 0.676749323365763\n",
      "Epoch 3 of 10\n"
     ]
    },
    {
     "name": "stderr",
     "output_type": "stream",
     "text": [
      "100%|████████████████████████████████████| 30350/30350 [03:27<00:00, 145.96it/s]\n",
      "100%|████████████████████████████████████| 10117/10117 [00:27<00:00, 372.79it/s]\n"
     ]
    },
    {
     "name": "stdout",
     "output_type": "stream",
     "text": [
      "Train Loss: 0.6421040648541105, Validation Loss: 0.676749323365763\n",
      "Best Validation Loss: 0.676749323365763\n",
      "Epoch 4 of 10\n"
     ]
    },
    {
     "name": "stderr",
     "output_type": "stream",
     "text": [
      "100%|████████████████████████████████████| 30350/30350 [03:26<00:00, 146.69it/s]\n",
      "100%|████████████████████████████████████| 10117/10117 [00:28<00:00, 349.39it/s]\n"
     ]
    },
    {
     "name": "stdout",
     "output_type": "stream",
     "text": [
      "Train Loss: 0.64210391178273, Validation Loss: 0.676749323365763\n",
      "Best Validation Loss: 0.676749323365763\n",
      "Epoch 5 of 10\n"
     ]
    },
    {
     "name": "stderr",
     "output_type": "stream",
     "text": [
      "100%|████████████████████████████████████| 30350/30350 [04:03<00:00, 124.66it/s]\n",
      "100%|████████████████████████████████████| 10117/10117 [00:27<00:00, 370.24it/s]\n"
     ]
    },
    {
     "name": "stdout",
     "output_type": "stream",
     "text": [
      "Train Loss: 0.6421035943898377, Validation Loss: 0.676749323365763\n",
      "Best Validation Loss: 0.676749323365763\n",
      "Epoch 6 of 10\n"
     ]
    },
    {
     "name": "stderr",
     "output_type": "stream",
     "text": [
      "100%|████████████████████████████████████| 30350/30350 [04:11<00:00, 120.81it/s]\n",
      "100%|████████████████████████████████████| 10117/10117 [01:06<00:00, 151.26it/s]\n"
     ]
    },
    {
     "name": "stdout",
     "output_type": "stream",
     "text": [
      "Train Loss: 0.6421021523455517, Validation Loss: 0.676749323365763\n",
      "Best Validation Loss: 0.676749323365763\n",
      "Epoch 7 of 10\n"
     ]
    },
    {
     "name": "stderr",
     "output_type": "stream",
     "text": [
      "100%|█████████████████████████████████████| 30350/30350 [05:52<00:00, 86.04it/s]\n",
      "100%|████████████████████████████████████| 10117/10117 [00:32<00:00, 308.07it/s]\n"
     ]
    },
    {
     "name": "stdout",
     "output_type": "stream",
     "text": [
      "Train Loss: 0.6421109306769326, Validation Loss: 0.676749323365763\n",
      "Best Validation Loss: 0.676749323365763\n",
      "Epoch 8 of 10\n"
     ]
    },
    {
     "name": "stderr",
     "output_type": "stream",
     "text": [
      "100%|████████████████████████████████████| 30350/30350 [04:28<00:00, 113.24it/s]\n",
      "100%|████████████████████████████████████| 10117/10117 [00:39<00:00, 257.71it/s]\n"
     ]
    },
    {
     "name": "stdout",
     "output_type": "stream",
     "text": [
      "Train Loss: 0.6421061017797551, Validation Loss: 0.676749323365763\n",
      "Best Validation Loss: 0.676749323365763\n",
      "Epoch 9 of 10\n"
     ]
    },
    {
     "name": "stderr",
     "output_type": "stream",
     "text": [
      "100%|█████████████████████████████████████| 30350/30350 [07:49<00:00, 64.69it/s]\n",
      "100%|████████████████████████████████████| 10117/10117 [00:28<00:00, 351.17it/s]\n"
     ]
    },
    {
     "name": "stdout",
     "output_type": "stream",
     "text": [
      "Train Loss: 0.6421085069333456, Validation Loss: 0.676749323365763\n",
      "Best Validation Loss: 0.676749323365763\n",
      "Epoch 10 of 10\n"
     ]
    },
    {
     "name": "stderr",
     "output_type": "stream",
     "text": [
      "100%|████████████████████████████████████| 30350/30350 [03:34<00:00, 141.52it/s]\n",
      "100%|████████████████████████████████████| 10117/10117 [00:22<00:00, 450.26it/s]"
     ]
    },
    {
     "name": "stdout",
     "output_type": "stream",
     "text": [
      "Train Loss: 0.6421067217765668, Validation Loss: 0.676749323365763\n",
      "Best Validation Loss: 0.676749323365763\n"
     ]
    },
    {
     "name": "stderr",
     "output_type": "stream",
     "text": [
      "\n"
     ]
    }
   ],
   "source": [
    "train(train_loader, valid_loader, model, criterion, optimizer,\n",
    "      device, num_epochs, rnn_model_path)"
   ]
  },
  {
   "cell_type": "code",
   "execution_count": 90,
   "id": "bb65fcff",
   "metadata": {
    "ExecuteTime": {
     "end_time": "2022-04-10T04:41:39.828286Z",
     "start_time": "2022-04-10T04:41:12.756124Z"
    }
   },
   "outputs": [
    {
     "name": "stderr",
     "output_type": "stream",
     "text": [
      "100%|████████████████████████████████████| 10117/10117 [00:27<00:00, 374.36it/s]"
     ]
    },
    {
     "name": "stdout",
     "output_type": "stream",
     "text": [
      "Test Loss: 0.6800998210854695, Test Accuracy: 0.7700253191505539\n"
     ]
    },
    {
     "name": "stderr",
     "output_type": "stream",
     "text": [
      "\n"
     ]
    }
   ],
   "source": [
    "test(test_loader, model, criterion, device)"
   ]
  },
  {
   "cell_type": "markdown",
   "id": "1215b67c",
   "metadata": {
    "id": "1215b67c"
   },
   "source": [
    "## Train LSTM Model\n",
    "---"
   ]
  },
  {
   "cell_type": "code",
   "execution_count": 68,
   "id": "a5e3ceb0",
   "metadata": {
    "ExecuteTime": {
     "end_time": "2022-04-09T03:25:17.589095Z",
     "start_time": "2022-04-09T03:25:17.388982Z"
    },
    "id": "a5e3ceb0"
   },
   "outputs": [],
   "source": [
    "model = LSTMNetwork(input_size, hidden_size, num_classes)"
   ]
  },
  {
   "cell_type": "code",
   "execution_count": null,
   "id": "92a8e560",
   "metadata": {
    "id": "92a8e560"
   },
   "outputs": [],
   "source": [
    "if torch.cuda.is_available():\n",
    "    model = model.cuda()"
   ]
  },
  {
   "cell_type": "code",
   "execution_count": 69,
   "id": "d7aee94f",
   "metadata": {
    "ExecuteTime": {
     "end_time": "2022-04-09T03:25:54.586415Z",
     "start_time": "2022-04-09T03:25:54.483483Z"
    },
    "id": "d7aee94f"
   },
   "outputs": [],
   "source": [
    "criterion = torch.nn.CrossEntropyLoss()\n",
    "optimizer = torch.optim.Adam(model.parameters(), lr=lr)\n",
    "device = torch.device(\"cuda:0\" if torch.cuda.is_available() else \"cpu\")"
   ]
  },
  {
   "cell_type": "code",
   "execution_count": 70,
   "id": "9f9d0c17",
   "metadata": {
    "ExecuteTime": {
     "end_time": "2022-04-09T05:59:19.860289Z",
     "start_time": "2022-04-09T03:26:24.128863Z"
    },
    "id": "9f9d0c17"
   },
   "outputs": [
    {
     "name": "stdout",
     "output_type": "stream",
     "text": [
      "Epoch 1 of 50\n"
     ]
    },
    {
     "name": "stderr",
     "output_type": "stream",
     "text": [
      "100%|████████████████████████████████████| 30350/30350 [02:50<00:00, 177.87it/s]\n",
      "100%|████████████████████████████████████| 10117/10117 [00:25<00:00, 396.82it/s]\n"
     ]
    },
    {
     "name": "stdout",
     "output_type": "stream",
     "text": [
      "Train Loss: 1.0729198273977103, Validation Loss: 0.9000718026448936\n",
      "Best Validation Loss: 0.9000718026448936\n",
      "Epoch 2 of 50\n"
     ]
    },
    {
     "name": "stderr",
     "output_type": "stream",
     "text": [
      "100%|████████████████████████████████████| 30350/30350 [02:43<00:00, 186.04it/s]\n",
      "100%|████████████████████████████████████| 10117/10117 [00:22<00:00, 452.81it/s]\n"
     ]
    },
    {
     "name": "stdout",
     "output_type": "stream",
     "text": [
      "Train Loss: 0.8608453140266644, Validation Loss: 0.823797575686835\n",
      "Best Validation Loss: 0.823797575686835\n",
      "Epoch 3 of 50\n"
     ]
    },
    {
     "name": "stderr",
     "output_type": "stream",
     "text": [
      "100%|████████████████████████████████████| 30350/30350 [02:46<00:00, 181.82it/s]\n",
      "100%|████████████████████████████████████| 10117/10117 [00:22<00:00, 455.46it/s]\n"
     ]
    },
    {
     "name": "stdout",
     "output_type": "stream",
     "text": [
      "Train Loss: 0.8107744735658562, Validation Loss: 0.8022007622444088\n",
      "Best Validation Loss: 0.8022007622444088\n",
      "Epoch 4 of 50\n"
     ]
    },
    {
     "name": "stderr",
     "output_type": "stream",
     "text": [
      "100%|████████████████████████████████████| 30350/30350 [02:40<00:00, 189.07it/s]\n",
      "100%|████████████████████████████████████| 10117/10117 [00:24<00:00, 406.58it/s]\n"
     ]
    },
    {
     "name": "stdout",
     "output_type": "stream",
     "text": [
      "Train Loss: 0.7832963553785394, Validation Loss: 0.7724441464895008\n",
      "Best Validation Loss: 0.7724441464895008\n",
      "Epoch 5 of 50\n"
     ]
    },
    {
     "name": "stderr",
     "output_type": "stream",
     "text": [
      "100%|████████████████████████████████████| 30350/30350 [03:01<00:00, 166.96it/s]\n",
      "100%|████████████████████████████████████| 10117/10117 [00:31<00:00, 320.97it/s]\n"
     ]
    },
    {
     "name": "stdout",
     "output_type": "stream",
     "text": [
      "Train Loss: 0.7652324506493141, Validation Loss: 0.7770100166102261\n",
      "Best Validation Loss: 0.7724441464895008\n",
      "Epoch 6 of 50\n"
     ]
    },
    {
     "name": "stderr",
     "output_type": "stream",
     "text": [
      "100%|████████████████████████████████████| 30350/30350 [03:10<00:00, 159.72it/s]\n",
      "100%|████████████████████████████████████| 10117/10117 [00:29<00:00, 340.11it/s]\n"
     ]
    },
    {
     "name": "stdout",
     "output_type": "stream",
     "text": [
      "Train Loss: 0.7518367845951726, Validation Loss: 0.7429941838318691\n",
      "Best Validation Loss: 0.7429941838318691\n",
      "Epoch 7 of 50\n"
     ]
    },
    {
     "name": "stderr",
     "output_type": "stream",
     "text": [
      "100%|████████████████████████████████████| 30350/30350 [02:46<00:00, 182.49it/s]\n",
      "100%|████████████████████████████████████| 10117/10117 [00:26<00:00, 375.47it/s]\n"
     ]
    },
    {
     "name": "stdout",
     "output_type": "stream",
     "text": [
      "Train Loss: 0.7410353009687519, Validation Loss: 0.7410316939948163\n",
      "Best Validation Loss: 0.7410316939948163\n",
      "Epoch 8 of 50\n"
     ]
    },
    {
     "name": "stderr",
     "output_type": "stream",
     "text": [
      "100%|████████████████████████████████████| 30350/30350 [02:52<00:00, 175.50it/s]\n",
      "100%|████████████████████████████████████| 10117/10117 [00:22<00:00, 453.44it/s]\n"
     ]
    },
    {
     "name": "stdout",
     "output_type": "stream",
     "text": [
      "Train Loss: 0.7318508983961931, Validation Loss: 0.7304120986255966\n",
      "Best Validation Loss: 0.7304120986255966\n",
      "Epoch 9 of 50\n"
     ]
    },
    {
     "name": "stderr",
     "output_type": "stream",
     "text": [
      "100%|████████████████████████████████████| 30350/30350 [02:55<00:00, 173.23it/s]\n",
      "100%|████████████████████████████████████| 10117/10117 [00:22<00:00, 452.92it/s]\n"
     ]
    },
    {
     "name": "stdout",
     "output_type": "stream",
     "text": [
      "Train Loss: 0.7245690095591585, Validation Loss: 0.7244213231035321\n",
      "Best Validation Loss: 0.7244213231035321\n",
      "Epoch 10 of 50\n"
     ]
    },
    {
     "name": "stderr",
     "output_type": "stream",
     "text": [
      "100%|████████████████████████████████████| 30350/30350 [02:54<00:00, 174.36it/s]\n",
      "100%|████████████████████████████████████| 10117/10117 [00:25<00:00, 404.63it/s]\n"
     ]
    },
    {
     "name": "stdout",
     "output_type": "stream",
     "text": [
      "Train Loss: 0.7183781006335721, Validation Loss: 0.7234061647667189\n",
      "Best Validation Loss: 0.7234061647667189\n",
      "Epoch 11 of 50\n"
     ]
    },
    {
     "name": "stderr",
     "output_type": "stream",
     "text": [
      "100%|████████████████████████████████████| 30350/30350 [02:43<00:00, 186.14it/s]\n",
      "100%|████████████████████████████████████| 10117/10117 [00:22<00:00, 446.54it/s]\n"
     ]
    },
    {
     "name": "stdout",
     "output_type": "stream",
     "text": [
      "Train Loss: 0.7126599447578928, Validation Loss: 0.7188839431871618\n",
      "Best Validation Loss: 0.7188839431871618\n",
      "Epoch 12 of 50\n"
     ]
    },
    {
     "name": "stderr",
     "output_type": "stream",
     "text": [
      "100%|████████████████████████████████████| 30350/30350 [02:38<00:00, 191.03it/s]\n",
      "100%|████████████████████████████████████| 10117/10117 [00:24<00:00, 412.26it/s]\n"
     ]
    },
    {
     "name": "stdout",
     "output_type": "stream",
     "text": [
      "Train Loss: 0.7077138639858861, Validation Loss: 0.7134556440060066\n",
      "Best Validation Loss: 0.7134556440060066\n",
      "Epoch 13 of 50\n"
     ]
    },
    {
     "name": "stderr",
     "output_type": "stream",
     "text": [
      "100%|████████████████████████████████████| 30350/30350 [02:44<00:00, 184.47it/s]\n",
      "100%|████████████████████████████████████| 10117/10117 [00:23<00:00, 426.82it/s]\n"
     ]
    },
    {
     "name": "stdout",
     "output_type": "stream",
     "text": [
      "Train Loss: 0.703426656507729, Validation Loss: 0.7172939287846746\n",
      "Best Validation Loss: 0.7134556440060066\n",
      "Epoch 14 of 50\n"
     ]
    },
    {
     "name": "stderr",
     "output_type": "stream",
     "text": [
      "100%|████████████████████████████████████| 30350/30350 [02:43<00:00, 185.70it/s]\n",
      "100%|████████████████████████████████████| 10117/10117 [00:22<00:00, 449.11it/s]\n"
     ]
    },
    {
     "name": "stdout",
     "output_type": "stream",
     "text": [
      "Train Loss: 0.6994239197641955, Validation Loss: 0.7050322210317699\n",
      "Best Validation Loss: 0.7050322210317699\n",
      "Epoch 15 of 50\n"
     ]
    },
    {
     "name": "stderr",
     "output_type": "stream",
     "text": [
      "100%|████████████████████████████████████| 30350/30350 [02:41<00:00, 187.75it/s]\n",
      "100%|████████████████████████████████████| 10117/10117 [00:22<00:00, 451.24it/s]\n"
     ]
    },
    {
     "name": "stdout",
     "output_type": "stream",
     "text": [
      "Train Loss: 0.6960079471341026, Validation Loss: 0.7057309150607428\n",
      "Best Validation Loss: 0.7050322210317699\n",
      "Epoch 16 of 50\n"
     ]
    },
    {
     "name": "stderr",
     "output_type": "stream",
     "text": [
      "100%|████████████████████████████████████| 30350/30350 [02:45<00:00, 183.08it/s]\n",
      "100%|████████████████████████████████████| 10117/10117 [00:22<00:00, 452.62it/s]\n"
     ]
    },
    {
     "name": "stdout",
     "output_type": "stream",
     "text": [
      "Train Loss: 0.6927428153221061, Validation Loss: 0.7018757802303087\n",
      "Best Validation Loss: 0.7018757802303087\n",
      "Epoch 17 of 50\n"
     ]
    },
    {
     "name": "stderr",
     "output_type": "stream",
     "text": [
      "100%|████████████████████████████████████| 30350/30350 [02:51<00:00, 176.67it/s]\n",
      "100%|████████████████████████████████████| 10117/10117 [00:24<00:00, 410.24it/s]\n"
     ]
    },
    {
     "name": "stdout",
     "output_type": "stream",
     "text": [
      "Train Loss: 0.6898757897155386, Validation Loss: 0.6992979132215638\n",
      "Best Validation Loss: 0.6992979132215638\n",
      "Epoch 18 of 50\n"
     ]
    },
    {
     "name": "stderr",
     "output_type": "stream",
     "text": [
      "100%|████████████████████████████████████| 30350/30350 [02:41<00:00, 187.69it/s]\n",
      "100%|████████████████████████████████████| 10117/10117 [00:22<00:00, 442.02it/s]\n"
     ]
    },
    {
     "name": "stdout",
     "output_type": "stream",
     "text": [
      "Train Loss: 0.6869735812816824, Validation Loss: 0.6962692540470727\n",
      "Best Validation Loss: 0.6962692540470727\n",
      "Epoch 19 of 50\n"
     ]
    },
    {
     "name": "stderr",
     "output_type": "stream",
     "text": [
      "100%|████████████████████████████████████| 30350/30350 [02:57<00:00, 170.88it/s]\n",
      "100%|████████████████████████████████████| 10117/10117 [00:25<00:00, 395.74it/s]\n"
     ]
    },
    {
     "name": "stdout",
     "output_type": "stream",
     "text": [
      "Train Loss: 0.6844707319393287, Validation Loss: 0.6984595599931974\n",
      "Best Validation Loss: 0.6962692540470727\n",
      "Epoch 20 of 50\n"
     ]
    },
    {
     "name": "stderr",
     "output_type": "stream",
     "text": [
      "100%|████████████████████████████████████| 30350/30350 [02:46<00:00, 182.44it/s]\n",
      "100%|████████████████████████████████████| 10117/10117 [00:23<00:00, 437.21it/s]\n"
     ]
    },
    {
     "name": "stdout",
     "output_type": "stream",
     "text": [
      "Train Loss: 0.6820878697340139, Validation Loss: 0.6963311041312878\n",
      "Best Validation Loss: 0.6962692540470727\n",
      "Epoch 21 of 50\n"
     ]
    },
    {
     "name": "stderr",
     "output_type": "stream",
     "text": [
      "100%|████████████████████████████████████| 30350/30350 [02:41<00:00, 187.83it/s]\n",
      "100%|████████████████████████████████████| 10117/10117 [00:23<00:00, 430.62it/s]\n"
     ]
    },
    {
     "name": "stdout",
     "output_type": "stream",
     "text": [
      "Train Loss: 0.6797654543941015, Validation Loss: 0.6957075934891375\n",
      "Best Validation Loss: 0.6957075934891375\n",
      "Epoch 22 of 50\n"
     ]
    },
    {
     "name": "stderr",
     "output_type": "stream",
     "text": [
      "100%|████████████████████████████████████| 30350/30350 [02:49<00:00, 179.10it/s]\n",
      "100%|████████████████████████████████████| 10117/10117 [00:19<00:00, 521.03it/s]\n"
     ]
    },
    {
     "name": "stdout",
     "output_type": "stream",
     "text": [
      "Train Loss: 0.6775353158790698, Validation Loss: 0.6918921579871121\n",
      "Best Validation Loss: 0.6918921579871121\n",
      "Epoch 23 of 50\n"
     ]
    },
    {
     "name": "stderr",
     "output_type": "stream",
     "text": [
      "100%|████████████████████████████████████| 30350/30350 [02:14<00:00, 226.24it/s]\n",
      "100%|████████████████████████████████████| 10117/10117 [00:18<00:00, 542.51it/s]\n"
     ]
    },
    {
     "name": "stdout",
     "output_type": "stream",
     "text": [
      "Train Loss: 0.6754854063284652, Validation Loss: 0.6923834496531501\n",
      "Best Validation Loss: 0.6918921579871121\n",
      "Epoch 24 of 50\n"
     ]
    },
    {
     "name": "stderr",
     "output_type": "stream",
     "text": [
      "100%|████████████████████████████████████| 30350/30350 [02:13<00:00, 226.97it/s]\n",
      "100%|████████████████████████████████████| 10117/10117 [00:22<00:00, 447.43it/s]\n"
     ]
    },
    {
     "name": "stdout",
     "output_type": "stream",
     "text": [
      "Train Loss: 0.6735642420450192, Validation Loss: 0.6888349795093752\n",
      "Best Validation Loss: 0.6888349795093752\n",
      "Epoch 25 of 50\n"
     ]
    },
    {
     "name": "stderr",
     "output_type": "stream",
     "text": [
      "100%|████████████████████████████████████| 30350/30350 [03:23<00:00, 149.18it/s]\n",
      "100%|████████████████████████████████████| 10117/10117 [00:22<00:00, 453.69it/s]\n"
     ]
    },
    {
     "name": "stdout",
     "output_type": "stream",
     "text": [
      "Train Loss: 0.6717176657378723, Validation Loss: 0.6913746114221146\n",
      "Best Validation Loss: 0.6888349795093752\n",
      "Epoch 26 of 50\n"
     ]
    },
    {
     "name": "stderr",
     "output_type": "stream",
     "text": [
      "100%|████████████████████████████████████| 30350/30350 [02:39<00:00, 189.99it/s]\n",
      "100%|████████████████████████████████████| 10117/10117 [00:22<00:00, 457.17it/s]\n"
     ]
    },
    {
     "name": "stdout",
     "output_type": "stream",
     "text": [
      "Train Loss: 0.6700293284315842, Validation Loss: 0.6882282175919785\n",
      "Best Validation Loss: 0.6882282175919785\n",
      "Epoch 27 of 50\n"
     ]
    },
    {
     "name": "stderr",
     "output_type": "stream",
     "text": [
      "100%|████████████████████████████████████| 30350/30350 [02:39<00:00, 190.10it/s]\n",
      "100%|████████████████████████████████████| 10117/10117 [00:22<00:00, 451.87it/s]\n"
     ]
    },
    {
     "name": "stdout",
     "output_type": "stream",
     "text": [
      "Train Loss: 0.6682799104511541, Validation Loss: 0.693531583184173\n",
      "Best Validation Loss: 0.6882282175919785\n",
      "Epoch 28 of 50\n"
     ]
    },
    {
     "name": "stderr",
     "output_type": "stream",
     "text": [
      "100%|████████████████████████████████████| 30350/30350 [02:39<00:00, 189.78it/s]\n",
      "100%|████████████████████████████████████| 10117/10117 [00:22<00:00, 458.07it/s]\n"
     ]
    },
    {
     "name": "stdout",
     "output_type": "stream",
     "text": [
      "Train Loss: 0.6667931203225005, Validation Loss: 0.6859006275217312\n",
      "Best Validation Loss: 0.6859006275217312\n",
      "Epoch 29 of 50\n"
     ]
    },
    {
     "name": "stderr",
     "output_type": "stream",
     "text": [
      "100%|████████████████████████████████████| 30350/30350 [02:35<00:00, 194.99it/s]\n",
      "100%|████████████████████████████████████| 10117/10117 [00:21<00:00, 460.59it/s]\n"
     ]
    },
    {
     "name": "stdout",
     "output_type": "stream",
     "text": [
      "Train Loss: 0.6653184106965631, Validation Loss: 0.6862338281084606\n",
      "Best Validation Loss: 0.6859006275217312\n",
      "Epoch 30 of 50\n"
     ]
    },
    {
     "name": "stderr",
     "output_type": "stream",
     "text": [
      "100%|████████████████████████████████████| 30350/30350 [02:37<00:00, 193.30it/s]\n",
      "100%|████████████████████████████████████| 10117/10117 [00:22<00:00, 458.93it/s]\n"
     ]
    },
    {
     "name": "stdout",
     "output_type": "stream",
     "text": [
      "Train Loss: 0.664023897885368, Validation Loss: 0.6848047040833708\n",
      "Best Validation Loss: 0.6848047040833708\n",
      "Epoch 31 of 50\n"
     ]
    },
    {
     "name": "stderr",
     "output_type": "stream",
     "text": [
      "100%|████████████████████████████████████| 30350/30350 [02:40<00:00, 189.61it/s]\n",
      "100%|████████████████████████████████████| 10117/10117 [00:22<00:00, 446.85it/s]\n"
     ]
    },
    {
     "name": "stdout",
     "output_type": "stream",
     "text": [
      "Train Loss: 0.6625233287699337, Validation Loss: 0.6840123624530832\n",
      "Best Validation Loss: 0.6840123624530832\n",
      "Epoch 32 of 50\n"
     ]
    },
    {
     "name": "stderr",
     "output_type": "stream",
     "text": [
      "100%|████████████████████████████████████| 30350/30350 [02:37<00:00, 192.22it/s]\n",
      "100%|████████████████████████████████████| 10117/10117 [00:22<00:00, 450.69it/s]\n"
     ]
    },
    {
     "name": "stdout",
     "output_type": "stream",
     "text": [
      "Train Loss: 0.6613030260830774, Validation Loss: 0.6842190379683203\n",
      "Best Validation Loss: 0.6840123624530832\n",
      "Epoch 33 of 50\n"
     ]
    },
    {
     "name": "stderr",
     "output_type": "stream",
     "text": [
      "100%|████████████████████████████████████| 30350/30350 [02:38<00:00, 191.24it/s]\n",
      "100%|████████████████████████████████████| 10117/10117 [00:22<00:00, 449.59it/s]\n"
     ]
    },
    {
     "name": "stdout",
     "output_type": "stream",
     "text": [
      "Train Loss: 0.6600771185373995, Validation Loss: 0.6814027877175237\n",
      "Best Validation Loss: 0.6814027877175237\n",
      "Epoch 34 of 50\n"
     ]
    },
    {
     "name": "stderr",
     "output_type": "stream",
     "text": [
      "100%|████████████████████████████████████| 30350/30350 [02:35<00:00, 194.88it/s]\n",
      "100%|████████████████████████████████████| 10117/10117 [00:21<00:00, 462.68it/s]\n"
     ]
    },
    {
     "name": "stdout",
     "output_type": "stream",
     "text": [
      "Train Loss: 0.6589221169871985, Validation Loss: 0.6831236590718851\n",
      "Best Validation Loss: 0.6814027877175237\n",
      "Epoch 35 of 50\n"
     ]
    },
    {
     "name": "stderr",
     "output_type": "stream",
     "text": [
      "100%|████████████████████████████████████| 30350/30350 [02:36<00:00, 194.32it/s]\n",
      "100%|████████████████████████████████████| 10117/10117 [00:19<00:00, 509.57it/s]\n"
     ]
    },
    {
     "name": "stdout",
     "output_type": "stream",
     "text": [
      "Train Loss: 0.6577787225510575, Validation Loss: 0.6815928108931277\n",
      "Best Validation Loss: 0.6814027877175237\n",
      "Epoch 36 of 50\n"
     ]
    },
    {
     "name": "stderr",
     "output_type": "stream",
     "text": [
      "100%|████████████████████████████████████| 30350/30350 [02:38<00:00, 191.57it/s]\n",
      "100%|████████████████████████████████████| 10117/10117 [00:26<00:00, 375.52it/s]\n"
     ]
    },
    {
     "name": "stdout",
     "output_type": "stream",
     "text": [
      "Train Loss: 0.6566388851485201, Validation Loss: 0.6811578288130125\n",
      "Best Validation Loss: 0.6811578288130125\n",
      "Epoch 37 of 50\n"
     ]
    },
    {
     "name": "stderr",
     "output_type": "stream",
     "text": [
      "100%|████████████████████████████████████| 30350/30350 [03:03<00:00, 165.25it/s]\n",
      "100%|████████████████████████████████████| 10117/10117 [00:25<00:00, 397.93it/s]\n"
     ]
    },
    {
     "name": "stdout",
     "output_type": "stream",
     "text": [
      "Train Loss: 0.6555894215819863, Validation Loss: 0.6817985011377542\n",
      "Best Validation Loss: 0.6811578288130125\n",
      "Epoch 38 of 50\n"
     ]
    },
    {
     "name": "stderr",
     "output_type": "stream",
     "text": [
      "100%|████████████████████████████████████| 30350/30350 [03:07<00:00, 162.28it/s]\n",
      "100%|████████████████████████████████████| 10117/10117 [00:23<00:00, 428.20it/s]\n"
     ]
    },
    {
     "name": "stdout",
     "output_type": "stream",
     "text": [
      "Train Loss: 0.6544836190767599, Validation Loss: 0.6815251208881569\n",
      "Best Validation Loss: 0.6811578288130125\n",
      "Epoch 39 of 50\n"
     ]
    },
    {
     "name": "stderr",
     "output_type": "stream",
     "text": [
      "100%|████████████████████████████████████| 30350/30350 [02:48<00:00, 180.14it/s]\n",
      "100%|████████████████████████████████████| 10117/10117 [00:25<00:00, 390.12it/s]\n"
     ]
    },
    {
     "name": "stdout",
     "output_type": "stream",
     "text": [
      "Train Loss: 0.6534507282912928, Validation Loss: 0.6785949477855014\n",
      "Best Validation Loss: 0.6785949477855014\n",
      "Epoch 40 of 50\n"
     ]
    },
    {
     "name": "stderr",
     "output_type": "stream",
     "text": [
      "100%|████████████████████████████████████| 30350/30350 [02:46<00:00, 181.94it/s]\n",
      "100%|████████████████████████████████████| 10117/10117 [00:22<00:00, 447.41it/s]\n"
     ]
    },
    {
     "name": "stdout",
     "output_type": "stream",
     "text": [
      "Train Loss: 0.6525584463089017, Validation Loss: 0.682155807804785\n",
      "Best Validation Loss: 0.6785949477855014\n",
      "Epoch 41 of 50\n"
     ]
    },
    {
     "name": "stderr",
     "output_type": "stream",
     "text": [
      "100%|████████████████████████████████████| 30350/30350 [02:41<00:00, 187.78it/s]\n",
      "100%|████████████████████████████████████| 10117/10117 [00:25<00:00, 404.04it/s]\n"
     ]
    },
    {
     "name": "stdout",
     "output_type": "stream",
     "text": [
      "Train Loss: 0.6516443012932184, Validation Loss: 0.6773195634097571\n",
      "Best Validation Loss: 0.6773195634097571\n",
      "Epoch 42 of 50\n"
     ]
    },
    {
     "name": "stderr",
     "output_type": "stream",
     "text": [
      "100%|████████████████████████████████████| 30350/30350 [03:05<00:00, 163.53it/s]\n",
      "100%|████████████████████████████████████| 10117/10117 [00:18<00:00, 532.82it/s]\n"
     ]
    },
    {
     "name": "stdout",
     "output_type": "stream",
     "text": [
      "Train Loss: 0.6505885562919314, Validation Loss: 0.6811721796228608\n",
      "Best Validation Loss: 0.6773195634097571\n",
      "Epoch 43 of 50\n"
     ]
    },
    {
     "name": "stderr",
     "output_type": "stream",
     "text": [
      "100%|████████████████████████████████████| 30350/30350 [02:14<00:00, 226.41it/s]\n",
      "100%|████████████████████████████████████| 10117/10117 [00:18<00:00, 539.91it/s]\n"
     ]
    },
    {
     "name": "stdout",
     "output_type": "stream",
     "text": [
      "Train Loss: 0.6498548589433241, Validation Loss: 0.6833768980812329\n",
      "Best Validation Loss: 0.6773195634097571\n",
      "Epoch 44 of 50\n"
     ]
    },
    {
     "name": "stderr",
     "output_type": "stream",
     "text": [
      "100%|████████████████████████████████████| 30350/30350 [02:13<00:00, 227.80it/s]\n",
      "100%|████████████████████████████████████| 10117/10117 [00:18<00:00, 549.07it/s]\n"
     ]
    },
    {
     "name": "stdout",
     "output_type": "stream",
     "text": [
      "Train Loss: 0.6488350846534948, Validation Loss: 0.6823069485031629\n",
      "Best Validation Loss: 0.6773195634097571\n",
      "Epoch 45 of 50\n"
     ]
    },
    {
     "name": "stderr",
     "output_type": "stream",
     "text": [
      "100%|████████████████████████████████████| 30350/30350 [02:13<00:00, 226.80it/s]\n",
      "100%|████████████████████████████████████| 10117/10117 [00:18<00:00, 545.13it/s]\n"
     ]
    },
    {
     "name": "stdout",
     "output_type": "stream",
     "text": [
      "Train Loss: 0.6481770151433776, Validation Loss: 0.676749323365763\n",
      "Best Validation Loss: 0.676749323365763\n",
      "Epoch 46 of 50\n"
     ]
    },
    {
     "name": "stderr",
     "output_type": "stream",
     "text": [
      "100%|████████████████████████████████████| 30350/30350 [02:13<00:00, 228.10it/s]\n",
      "100%|████████████████████████████████████| 10117/10117 [00:18<00:00, 537.46it/s]\n"
     ]
    },
    {
     "name": "stdout",
     "output_type": "stream",
     "text": [
      "Train Loss: 0.6475325646071006, Validation Loss: 0.679196721448238\n",
      "Best Validation Loss: 0.676749323365763\n",
      "Epoch 47 of 50\n"
     ]
    },
    {
     "name": "stderr",
     "output_type": "stream",
     "text": [
      "100%|████████████████████████████████████| 30350/30350 [02:13<00:00, 228.09it/s]\n",
      "100%|████████████████████████████████████| 10117/10117 [00:18<00:00, 541.75it/s]\n"
     ]
    },
    {
     "name": "stdout",
     "output_type": "stream",
     "text": [
      "Train Loss: 0.6466896621698799, Validation Loss: 0.6793607003074384\n",
      "Best Validation Loss: 0.676749323365763\n",
      "Epoch 48 of 50\n"
     ]
    },
    {
     "name": "stderr",
     "output_type": "stream",
     "text": [
      "100%|████████████████████████████████████| 30350/30350 [02:12<00:00, 228.95it/s]\n",
      "100%|████████████████████████████████████| 10117/10117 [00:18<00:00, 545.66it/s]\n"
     ]
    },
    {
     "name": "stdout",
     "output_type": "stream",
     "text": [
      "Train Loss: 0.6457014830712432, Validation Loss: 0.6783172730767021\n",
      "Best Validation Loss: 0.676749323365763\n",
      "Epoch 49 of 50\n"
     ]
    },
    {
     "name": "stderr",
     "output_type": "stream",
     "text": [
      "100%|████████████████████████████████████| 30350/30350 [02:14<00:00, 225.91it/s]\n",
      "100%|████████████████████████████████████| 10117/10117 [00:18<00:00, 546.20it/s]\n"
     ]
    },
    {
     "name": "stdout",
     "output_type": "stream",
     "text": [
      "Train Loss: 0.6451129358742982, Validation Loss: 0.6769056852829248\n",
      "Best Validation Loss: 0.676749323365763\n",
      "Epoch 50 of 50\n"
     ]
    },
    {
     "name": "stderr",
     "output_type": "stream",
     "text": [
      "100%|████████████████████████████████████| 30350/30350 [02:17<00:00, 220.36it/s]\n",
      "100%|████████████████████████████████████| 10117/10117 [00:19<00:00, 515.61it/s]"
     ]
    },
    {
     "name": "stdout",
     "output_type": "stream",
     "text": [
      "Train Loss: 0.6443483572821493, Validation Loss: 0.6790276773762206\n",
      "Best Validation Loss: 0.676749323365763\n"
     ]
    },
    {
     "name": "stderr",
     "output_type": "stream",
     "text": [
      "\n"
     ]
    }
   ],
   "source": [
    "train(train_loader, valid_loader, model, criterion, optimizer,\n",
    "      device, num_epochs, lstm_model_path)"
   ]
  },
  {
   "cell_type": "code",
   "execution_count": 73,
   "id": "f1882978",
   "metadata": {
    "ExecuteTime": {
     "end_time": "2022-04-09T06:01:17.341273Z",
     "start_time": "2022-04-09T06:00:50.200152Z"
    },
    "id": "f1882978"
   },
   "outputs": [
    {
     "name": "stderr",
     "output_type": "stream",
     "text": [
      "100%|████████████████████████████████████| 10117/10117 [00:27<00:00, 373.14it/s]"
     ]
    },
    {
     "name": "stdout",
     "output_type": "stream",
     "text": [
      "Test Loss: 0.6830420606747805, Test Accuracy: 0.7689874620782994\n"
     ]
    },
    {
     "name": "stderr",
     "output_type": "stream",
     "text": [
      "\n"
     ]
    }
   ],
   "source": [
    "test(test_loader, model, criterion, device)"
   ]
  },
  {
   "cell_type": "markdown",
   "id": "8a74eb71",
   "metadata": {
    "id": "8a74eb71"
   },
   "source": [
    "## Predict on new text\n",
    "---"
   ]
  },
  {
   "cell_type": "code",
   "execution_count": 74,
   "id": "ff13ab78",
   "metadata": {
    "ExecuteTime": {
     "end_time": "2022-04-09T06:01:42.066008Z",
     "start_time": "2022-04-09T06:01:38.784488Z"
    },
    "id": "ff13ab78"
   },
   "outputs": [],
   "source": [
    "input_text = '''I am a victim of Identity Theft & currently have an Experian account that \n",
    "I can view my Experian Credit Report and getting notified when there is activity on \n",
    "my Experian Credit Report. For the past 3 days I've spent a total of approximately 9 \n",
    "hours on the phone with Experian. Every time I call I get transferred repeatedly and \n",
    "then my last transfer and automated message states to press 1 and leave a message and \n",
    "someone would call me. Every time I press 1 I get an automatic message stating than you \n",
    "before I even leave a message and get disconnected. I call Experian again, explain what \n",
    "is happening and the process begins again with the same end result. I was trying to have \n",
    "this issue attended and resolved informally but I give up after 9 hours. There are hard \n",
    "hit inquiries on my Experian Credit Report that are fraud, I didn't authorize, or recall \n",
    "and I respectfully request that Experian remove the hard hit inquiries immediately just \n",
    "like they've done in the past when I was able to speak to a live Experian representative \n",
    "in the United States. The following are the hard hit inquiries : BK OF XXXX XX/XX/XXXX \n",
    "XXXX XXXX XXXX  XX/XX/XXXX XXXX  XXXX XXXX  XX/XX/XXXX XXXX  XX/XX/XXXX XXXX  XXXX \n",
    "XX/XX/XXXX'''"
   ]
  },
  {
   "cell_type": "markdown",
   "id": "678d4e28",
   "metadata": {
    "id": "678d4e28"
   },
   "source": [
    "### Process input text"
   ]
  },
  {
   "cell_type": "code",
   "execution_count": 75,
   "id": "1dded0d3",
   "metadata": {
    "ExecuteTime": {
     "end_time": "2022-04-09T06:01:53.867272Z",
     "start_time": "2022-04-09T06:01:53.809480Z"
    },
    "id": "1dded0d3"
   },
   "outputs": [],
   "source": [
    "input_text = input_text.lower()\n",
    "input_text = re.sub(r\"[^\\w\\d'\\s]+\", \" \", input_text)\n",
    "input_text = re.sub(\"\\d+\", \"\", input_text)\n",
    "input_text = re.sub(r'[x]{2,}', \"\", input_text)\n",
    "input_text = re.sub(' +', ' ', input_text)\n",
    "tokens = word_tokenize(input_text)"
   ]
  },
  {
   "cell_type": "markdown",
   "id": "d09d91b1",
   "metadata": {
    "id": "d09d91b1"
   },
   "source": [
    "### Add padding if the length of tokens is less than 20"
   ]
  },
  {
   "cell_type": "code",
   "execution_count": 76,
   "id": "7ba95fe0",
   "metadata": {
    "ExecuteTime": {
     "end_time": "2022-04-09T06:02:01.507443Z",
     "start_time": "2022-04-09T06:02:01.494830Z"
    },
    "id": "7ba95fe0"
   },
   "outputs": [],
   "source": [
    "tokens = ['<pad>']*(20-len(tokens))+tokens"
   ]
  },
  {
   "cell_type": "markdown",
   "id": "82fbbab5",
   "metadata": {
    "id": "82fbbab5"
   },
   "source": [
    "### Tokenize the input text"
   ]
  },
  {
   "cell_type": "code",
   "execution_count": 77,
   "id": "821fb5de",
   "metadata": {
    "ExecuteTime": {
     "end_time": "2022-04-09T06:02:09.435058Z",
     "start_time": "2022-04-09T06:02:09.341607Z"
    },
    "id": "821fb5de"
   },
   "outputs": [],
   "source": [
    "idx_token = []\n",
    "for token in tokens:\n",
    "    if token in vocabulary:\n",
    "        idx_token.append(vocabulary.index(token))\n",
    "    else:\n",
    "        idx_token.append(vocabulary.index('<unk>'))"
   ]
  },
  {
   "cell_type": "markdown",
   "id": "540cb058",
   "metadata": {
    "id": "540cb058"
   },
   "source": [
    "### Get embeddings for tokens"
   ]
  },
  {
   "cell_type": "code",
   "execution_count": 78,
   "id": "1d6cc01c",
   "metadata": {
    "ExecuteTime": {
     "end_time": "2022-04-09T06:02:16.693496Z",
     "start_time": "2022-04-09T06:02:16.690177Z"
    },
    "id": "1d6cc01c"
   },
   "outputs": [],
   "source": [
    "token_emb = embeddings[idx_token,:]"
   ]
  },
  {
   "cell_type": "markdown",
   "id": "de584626",
   "metadata": {
    "id": "de584626"
   },
   "source": [
    "### Convert to torch tensor"
   ]
  },
  {
   "cell_type": "code",
   "execution_count": 79,
   "id": "780d42e4",
   "metadata": {
    "ExecuteTime": {
     "end_time": "2022-04-09T06:02:23.482899Z",
     "start_time": "2022-04-09T06:02:23.477656Z"
    },
    "id": "780d42e4"
   },
   "outputs": [],
   "source": [
    "inp = torch.from_numpy(token_emb)"
   ]
  },
  {
   "cell_type": "markdown",
   "id": "e91e281c",
   "metadata": {
    "id": "e91e281c"
   },
   "source": [
    "### Move the tensor to GPU if available"
   ]
  },
  {
   "cell_type": "code",
   "execution_count": 80,
   "id": "f15e636d",
   "metadata": {
    "ExecuteTime": {
     "end_time": "2022-04-09T06:02:30.591016Z",
     "start_time": "2022-04-09T06:02:30.586543Z"
    },
    "id": "f15e636d"
   },
   "outputs": [],
   "source": [
    "inp = inp.to(device)"
   ]
  },
  {
   "cell_type": "markdown",
   "id": "ebed4640",
   "metadata": {
    "id": "ebed4640"
   },
   "source": [
    "### Create a batch of one record"
   ]
  },
  {
   "cell_type": "code",
   "execution_count": 81,
   "id": "5c3865b5",
   "metadata": {
    "ExecuteTime": {
     "end_time": "2022-04-09T06:02:38.207351Z",
     "start_time": "2022-04-09T06:02:38.187118Z"
    },
    "id": "5c3865b5"
   },
   "outputs": [],
   "source": [
    "inp = torch.unsqueeze(inp, 0)"
   ]
  },
  {
   "cell_type": "markdown",
   "id": "e2cc919d",
   "metadata": {
    "id": "e2cc919d"
   },
   "source": [
    "### Load label encoder"
   ]
  },
  {
   "cell_type": "code",
   "execution_count": 82,
   "id": "92a17e27",
   "metadata": {
    "ExecuteTime": {
     "end_time": "2022-04-09T06:02:45.294084Z",
     "start_time": "2022-04-09T06:02:45.163349Z"
    },
    "id": "92a17e27"
   },
   "outputs": [
    {
     "name": "stderr",
     "output_type": "stream",
     "text": [
      "/opt/anaconda3/lib/python3.7/site-packages/sklearn/base.py:315: UserWarning: Trying to unpickle estimator LabelEncoder from version 0.23.2 when using version 0.24.2. This might lead to breaking code or invalid results. Use at your own risk.\n",
      "  UserWarning)\n"
     ]
    }
   ],
   "source": [
    "label_encoder = load_file(label_encoder_path)\n",
    "num_classes = len(label_encoder.classes_)"
   ]
  },
  {
   "cell_type": "code",
   "execution_count": 83,
   "id": "07dd7955",
   "metadata": {
    "ExecuteTime": {
     "end_time": "2022-04-09T06:02:52.059178Z",
     "start_time": "2022-04-09T06:02:52.055760Z"
    },
    "id": "07dd7955"
   },
   "outputs": [],
   "source": [
    "device = torch.device(\"cuda:0\" if torch.cuda.is_available() else \"cpu\")"
   ]
  },
  {
   "cell_type": "markdown",
   "id": "cdbe841b",
   "metadata": {
    "id": "cdbe841b"
   },
   "source": [
    "### RNN prediction"
   ]
  },
  {
   "cell_type": "code",
   "execution_count": 84,
   "id": "1a23eb5c",
   "metadata": {
    "ExecuteTime": {
     "end_time": "2022-04-09T06:02:59.779290Z",
     "start_time": "2022-04-09T06:02:59.531815Z"
    },
    "id": "1a23eb5c"
   },
   "outputs": [
    {
     "name": "stdout",
     "output_type": "stream",
     "text": [
      "Predicted  Class: credit_report\n"
     ]
    }
   ],
   "source": [
    "# Create model object\n",
    "model = RNNNetwork(input_size, hidden_size, num_classes)\n",
    "\n",
    "# Load trained weights\n",
    "model.load_state_dict(torch.load(rnn_model_path))\n",
    "\n",
    "# Move the model to GPU if available\n",
    "if torch.cuda.is_available():\n",
    "    model = model.cuda()\n",
    "    \n",
    "# Forward pass\n",
    "out = torch.squeeze(model(inp))\n",
    "\n",
    "# Find predicted class\n",
    "prediction = label_encoder.classes_[torch.argmax(out)]\n",
    "print(f\"Predicted  Class: {prediction}\")"
   ]
  },
  {
   "cell_type": "markdown",
   "id": "1426d72f",
   "metadata": {
    "id": "1426d72f"
   },
   "source": [
    "### LSTM prediction"
   ]
  },
  {
   "cell_type": "code",
   "execution_count": 85,
   "id": "db3cce1e",
   "metadata": {
    "ExecuteTime": {
     "end_time": "2022-04-09T06:03:06.685561Z",
     "start_time": "2022-04-09T06:03:06.507185Z"
    },
    "id": "db3cce1e"
   },
   "outputs": [
    {
     "name": "stdout",
     "output_type": "stream",
     "text": [
      "Predicted  Class: credit_report\n"
     ]
    }
   ],
   "source": [
    "# Create model object\n",
    "model = LSTMNetwork(input_size, hidden_size, num_classes)\n",
    "\n",
    "# Load trained weights\n",
    "model.load_state_dict(torch.load(lstm_model_path))\n",
    "\n",
    "# Move the model to GPU if available\n",
    "if torch.cuda.is_available():\n",
    "    model = model.cuda()\n",
    "    \n",
    "# Forward pass\n",
    "out = torch.squeeze(model(inp))\n",
    "\n",
    "# Find predicted class\n",
    "prediction = label_encoder.classes_[torch.argmax(out)]\n",
    "print(f\"Predicted  Class: {prediction}\")"
   ]
  },
  {
   "cell_type": "code",
   "execution_count": null,
   "id": "290e2616",
   "metadata": {
    "id": "290e2616"
   },
   "outputs": [],
   "source": []
  }
 ],
 "metadata": {
  "colab": {
   "collapsed_sections": [
    "99dbd776",
    "42b3b07a",
    "f567f06f",
    "86dffa9a",
    "a70b83e2",
    "6b1714dc",
    "fc16fc63",
    "e2fd241b",
    "54188fc7",
    "03cce62f",
    "7fa2608b",
    "6dea776b",
    "934505ad",
    "5c312593",
    "be6561df",
    "ab9c8712",
    "8b77dedc",
    "550fc77e",
    "e752fd29",
    "2ad46f7e",
    "171cc1be",
    "030610ea",
    "af02c4c2",
    "7c88a3f8",
    "1deebde4",
    "7f90ad48",
    "678d4e28",
    "d09d91b1",
    "82fbbab5",
    "540cb058",
    "de584626",
    "e91e281c",
    "ebed4640",
    "e2cc919d",
    "cdbe841b",
    "1426d72f"
   ],
   "name": "RNN.ipynb",
   "provenance": []
  },
  "hide_input": false,
  "kernelspec": {
   "display_name": "Python 3 (ipykernel)",
   "language": "python",
   "name": "python3"
  },
  "language_info": {
   "codemirror_mode": {
    "name": "ipython",
    "version": 3
   },
   "file_extension": ".py",
   "mimetype": "text/x-python",
   "name": "python",
   "nbconvert_exporter": "python",
   "pygments_lexer": "ipython3",
   "version": "3.7.4"
  },
  "toc": {
   "base_numbering": 1,
   "nav_menu": {},
   "number_sections": true,
   "sideBar": true,
   "skip_h1_title": false,
   "title_cell": "Table of Contents",
   "title_sidebar": "Contents",
   "toc_cell": false,
   "toc_position": {},
   "toc_section_display": true,
   "toc_window_display": true
  },
  "varInspector": {
   "cols": {
    "lenName": 16,
    "lenType": 16,
    "lenVar": 40
   },
   "kernels_config": {
    "python": {
     "delete_cmd_postfix": "",
     "delete_cmd_prefix": "del ",
     "library": "var_list.py",
     "varRefreshCmd": "print(var_dic_list())"
    },
    "r": {
     "delete_cmd_postfix": ") ",
     "delete_cmd_prefix": "rm(",
     "library": "var_list.r",
     "varRefreshCmd": "cat(var_dic_list()) "
    }
   },
   "types_to_exclude": [
    "module",
    "function",
    "builtin_function_or_method",
    "instance",
    "_Feature"
   ],
   "window_display": false
  }
 },
 "nbformat": 4,
 "nbformat_minor": 5
}
