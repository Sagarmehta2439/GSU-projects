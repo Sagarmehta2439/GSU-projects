{
 "cells": [
  {
   "cell_type": "markdown",
   "metadata": {
    "slideshow": {
     "slide_type": "slide"
    }
   },
   "source": [
    "# Linear Algebra and Python Basics\n",
    "\n",
    "by Rob Hicks http://rlhick.people.wm.edu/stories/linear-algebra-python-basics.html\n",
    "\n",
    "In this chapter, I will be discussing some linear algebra basics that will provide sufficient linear algebra background for effective programming in Python for our purposes.  We will be doing very basic linear algebra that by no means covers the full breadth of this topic.  Why linear algebra?  Linear algebra allows us to express relatively complex linear expressions in a very compact way.\n",
    "\n",
    "Being comfortable with the rules for scalar and matrix addition, subtraction, multiplication, and division (known as inversion) is important for our class.\n",
    "\n",
    "Before we can implement any of these ideas in code, we need to talk a bit about python and how data is stored."
   ]
  },
  {
   "cell_type": "markdown",
   "metadata": {
    "slideshow": {
     "slide_type": "slide"
    }
   },
   "source": [
    "## Python Primer\n",
    "\n",
    "There are numerous ways to run python code.  I will show you two and both are easily accessible after installing Anaconda:\n",
    "\n",
    "### The Spyder\n",
    "is an integrated development environment (IDE).  The major advantages of Spyder is that it provides a graphical way for viewing matrices, vectors, and other objects you want to check as you work on a problem.  It also has the most intuitive way of debugging code.\n",
    "\n",
    "   Spyder looks like this:\n",
    "    ![](http://rlhick.people.wm.edu/site_pics/Spyder_1.png)\n",
    "    Code can be run by clicking the green arrow (runs the entire file) or by blocking a subset and running it.\n",
    "    In Windows or Mac, you can launch the Spyder by looking for the icon in the newly installed Program Folder Anaconda.  "
   ]
  },
  {
   "cell_type": "markdown",
   "metadata": {
    "slideshow": {
     "slide_type": "slide"
    }
   },
   "source": [
    "### The Jupyter Notebook (Ipython) \n",
    "The major advantages of this approach is that you use your web browser for all of your python work and you can mix code, videos, notes, graphics from the web, and mathematical notation to tell the whole story of your python project. In fact, I am using the ipython notebook for writing these notes. \n",
    "    The Ipython Notebook looks like this:\n",
    "    ![](http://rlhick.people.wm.edu/site_pics/Jupyter_1.png)\n",
    "    In Windows or Mac, you can launch the Ipython Notebook by looking in the newly installed Program Folder Anaconda.\n",
    "\n",
    "In my work flow, I usually only use the Ipython Notebook, but for some coding problems where I need access to the easy debugging capabilities of Spyder, I use it.  We will be using the Ipython Notebook interface (web browser) mostly in this class."
   ]
  },
  {
   "cell_type": "markdown",
   "metadata": {
    "slideshow": {
     "slide_type": "slide"
    }
   },
   "source": [
    "### Loading libraries\n",
    "\n",
    "The python universe has a huge number of libraries that extend the capabilities of python. Nearly all of these are open source, unlike packages like stata or matlab where some key libraries are proprietary (and can cost lots of money).  In lots of my code, you will see this at the top:"
   ]
  },
  {
   "cell_type": "code",
   "execution_count": 6,
   "metadata": {
    "slideshow": {
     "slide_type": "fragment"
    }
   },
   "outputs": [],
   "source": [
    "%matplotlib inline\n",
    "##import sympy as sympy\n",
    "import numpy as np\n",
    "import matplotlib.pyplot as plt\n",
    "import seaborn as sbn\n",
    "from scipy import *"
   ]
  },
  {
   "cell_type": "markdown",
   "metadata": {
    "slideshow": {
     "slide_type": "fragment"
    }
   },
   "source": [
    "This code sets up Ipython Notebook environments (lines beginning with `%`), and loads several libraries and functions.  The core scientific stack in python consists of a number of free libraries.  The ones I have loaded above include:\n",
    "\n",
    "1. sympy: provides for symbolic computation (solving algebra problems)\n",
    "2. numpy: provides for linear algebra computations\n",
    "3. matplotlib.pyplot: provides for the ability to graph functions and draw figures\n",
    "4. scipy: scientific python provides a plethora of capabilities\n",
    "5. seaborn: makes matplotlib figures even prettier (another library like this is called bokeh).  This is entirely optional and is purely for eye candy."
   ]
  },
  {
   "cell_type": "markdown",
   "metadata": {
    "slideshow": {
     "slide_type": "slide"
    }
   },
   "source": [
    "### Creating arrays, scalars, and matrices in Python\n",
    "\n",
    "Scalars can be created easily like this:"
   ]
  },
  {
   "cell_type": "code",
   "execution_count": 7,
   "metadata": {
    "slideshow": {
     "slide_type": "fragment"
    }
   },
   "outputs": [
    {
     "name": "stdout",
     "output_type": "stream",
     "text": [
      "0.5\n"
     ]
    }
   ],
   "source": [
    "x = .5\n",
    "print (x)"
   ]
  },
  {
   "cell_type": "markdown",
   "metadata": {
    "slideshow": {
     "slide_type": "slide"
    }
   },
   "source": [
    "#### Vectors and Lists\n",
    "\n",
    "The numpy library (we will reference it by np) is the workhorse library for linear algebra in python.  To create a vector simply surround a python list $[1,2,3]$ with the np.array function:"
   ]
  },
  {
   "cell_type": "code",
   "execution_count": 8,
   "metadata": {
    "slideshow": {
     "slide_type": "fragment"
    }
   },
   "outputs": [
    {
     "name": "stdout",
     "output_type": "stream",
     "text": [
      "[1 2 3]\n"
     ]
    }
   ],
   "source": [
    "x_vector = np.array([1,2,3])\n",
    "print (x_vector)"
   ]
  },
  {
   "cell_type": "markdown",
   "metadata": {
    "slideshow": {
     "slide_type": "fragment"
    }
   },
   "source": [
    "We could have done this by defining a python list and converting it to an array:"
   ]
  },
  {
   "cell_type": "code",
   "execution_count": 9,
   "metadata": {
    "slideshow": {
     "slide_type": "fragment"
    }
   },
   "outputs": [
    {
     "name": "stdout",
     "output_type": "stream",
     "text": [
      "The list: [1, 2]\n",
      "Has length: 2\n",
      "The vector: [1 2]\n",
      "Has shape: (2,)\n"
     ]
    }
   ],
   "source": [
    "c_list = [1,2]\n",
    "print (\"The list:\",c_list)\n",
    "print (\"Has length:\", len(c_list))\n",
    "\n",
    "c_vector = np.array(c_list)\n",
    "print (\"The vector:\", c_vector)\n",
    "print (\"Has shape:\", c_vector.shape)"
   ]
  },
  {
   "cell_type": "code",
   "execution_count": 11,
   "metadata": {
    "slideshow": {
     "slide_type": "slide"
    }
   },
   "outputs": [
    {
     "name": "stdout",
     "output_type": "stream",
     "text": [
      "This is a list, not an array: [5, 6]\n",
      "<class 'list'>\n"
     ]
    }
   ],
   "source": [
    "z = [5,6]\n",
    "print (\"This is a list, not an array:\",z)\n",
    "print (type(z))"
   ]
  },
  {
   "cell_type": "code",
   "execution_count": 12,
   "metadata": {
    "slideshow": {
     "slide_type": "fragment"
    }
   },
   "outputs": [
    {
     "name": "stdout",
     "output_type": "stream",
     "text": [
      "This is an array, not a list [5 6]\n",
      "<class 'numpy.ndarray'>\n"
     ]
    }
   ],
   "source": [
    "zarray = np.array(z)\n",
    "print (\"This is an array, not a list\",zarray)\n",
    "print (type(zarray))"
   ]
  },
  {
   "cell_type": "markdown",
   "metadata": {
    "slideshow": {
     "slide_type": "slide"
    }
   },
   "source": [
    "#### Matrix"
   ]
  },
  {
   "cell_type": "code",
   "execution_count": 14,
   "metadata": {
    "slideshow": {
     "slide_type": "fragment"
    }
   },
   "outputs": [
    {
     "name": "stdout",
     "output_type": "stream",
     "text": [
      "[(5, 1), (6, 2)]\n",
      "Note that the length of our zipped list is 2 not (2 by 2): 2\n"
     ]
    }
   ],
   "source": [
    "b = list(zip(z,c_vector))\n",
    "print (b)\n",
    "print (\"Note that the length of our zipped list is 2 not (2 by 2):\",len(b))"
   ]
  },
  {
   "cell_type": "code",
   "execution_count": 15,
   "metadata": {
    "slideshow": {
     "slide_type": "fragment"
    }
   },
   "outputs": [
    {
     "name": "stdout",
     "output_type": "stream",
     "text": [
      "But we can convert the list to a matrix like this:\n",
      "[[5 1]\n",
      " [6 2]]\n",
      "<class 'numpy.ndarray'>\n",
      "A has shape: (2, 2)\n"
     ]
    }
   ],
   "source": [
    "print (\"But we can convert the list to a matrix like this:\")\n",
    "A = np.array(b)\n",
    "print (A)\n",
    "print (type(A))\n",
    "print (\"A has shape:\",A.shape)"
   ]
  },
  {
   "cell_type": "markdown",
   "metadata": {
    "slideshow": {
     "slide_type": "slide"
    }
   },
   "source": [
    "## Matrix Addition and Subtraction\n",
    "\n",
    "### Adding or subtracting a scalar value to a matrix\n",
    "\n",
    "To learn the basics, consider a small matrix of dimension $2 \\times 2$, where $2 \\times 2$ denotes the number of rows $\\times$ the number of columns.  Let $A$=$\\bigl( \\begin{smallmatrix} a_{11} & a_{12} \\\\ a_{21} & a_{22} \\end{smallmatrix} \\bigr)$.  Consider adding a scalar value (e.g. 3) to the A.\n",
    "$$\n",
    "\\begin{equation}\n",
    "\tA+3=\\begin{bmatrix}\n",
    "\t  a_{11} & a_{12} \\\\\n",
    "\t  a_{21} & a_{22} \t\n",
    "\t\\end{bmatrix}+3\n",
    "\t=\\begin{bmatrix}\n",
    "\t  a_{11}+3 & a_{12}+3 \\\\\n",
    "\t  a_{21}+3 & a_{22}+3 \t\n",
    "\t\\end{bmatrix}\n",
    "\\end{equation}\n",
    "$$\n",
    "The same basic principle holds true for A-3:\n",
    "$$\n",
    "\\begin{equation}\n",
    "\tA-3=\\begin{bmatrix}\n",
    "\t  a_{11} & a_{12} \\\\\n",
    "\t  a_{21} & a_{22} \t\n",
    "\t\\end{bmatrix}-3\n",
    "\t=\\begin{bmatrix}\n",
    "\t  a_{11}-3 & a_{12}-3 \\\\\n",
    "\t  a_{21}-3 & a_{22}-3 \t\n",
    "\t\\end{bmatrix}\n",
    "\\end{equation}\n",
    "$$\n",
    "Notice that we add (or subtract) the scalar value to each element in the matrix A.  A can be of any dimension.\n",
    "\n",
    "This is trivial to implement, now that we have defined our matrix A:"
   ]
  },
  {
   "cell_type": "code",
   "execution_count": 53,
   "metadata": {
    "slideshow": {
     "slide_type": "fragment"
    }
   },
   "outputs": [
    {
     "name": "stdout",
     "output_type": "stream",
     "text": [
      "[[8 4]\n",
      " [9 5]]\n"
     ]
    }
   ],
   "source": [
    "result = A + 3\n",
    "#or\n",
    "result = 3 + A\n",
    "print (result)"
   ]
  },
  {
   "cell_type": "markdown",
   "metadata": {
    "slideshow": {
     "slide_type": "slide"
    }
   },
   "source": [
    "### Adding or subtracting two matrices\n",
    "Consider two small $2 \\times 2$ matrices, where $2 \\times 2$ denotes the \\# of rows $\\times$ the \\# of columns.  Let $A$=$\\bigl( \\begin{smallmatrix} a_{11} & a_{12} \\\\ a_{21} & a_{22} \\end{smallmatrix} \\bigr)$ and $B$=$\\bigl( \\begin{smallmatrix} b_{11} & b_{12} \\\\ b_{21} & b_{22} \\end{smallmatrix} \\bigr)$.  To find the result of $A-B$, simply subtract each element of A with the corresponding element of B:\n",
    "\n",
    "$$\n",
    "\\begin{equation}\n",
    "\tA -B =\n",
    "\t\\begin{bmatrix}\n",
    "\t  a_{11} & a_{12} \\\\\n",
    "\t  a_{21} & a_{22} \t\n",
    "\t\\end{bmatrix} -\n",
    "\t\\begin{bmatrix} b_{11} & b_{12} \\\\\n",
    "\t  b_{21} & b_{22}\n",
    "\t\\end{bmatrix}\n",
    "\t=\n",
    "\t\\begin{bmatrix}\n",
    "\t  a_{11}-b_{11} & a_{12}-b_{12} \\\\\n",
    "\t  a_{21}-b_{21} & a_{22}-b_{22} \t\n",
    "\t\\end{bmatrix}\n",
    "\\end{equation}\n",
    "$$\n",
    "\n",
    "Addition works exactly the same way:\n",
    "\n",
    "$$\n",
    "\\begin{equation}\n",
    "\tA + B =\n",
    "\t\\begin{bmatrix}\n",
    "\t  a_{11} & a_{12} \\\\\n",
    "\t  a_{21} & a_{22} \t\n",
    "\t\\end{bmatrix} +\n",
    "\t\\begin{bmatrix} b_{11} & b_{12} \\\\\n",
    "\t  b_{21} & b_{22}\n",
    "\t\\end{bmatrix}\n",
    "\t=\n",
    "\t\\begin{bmatrix}\n",
    "\t  a_{11}+b_{11} & a_{12}+b_{12} \\\\\n",
    "\t  a_{21}+b_{21} & a_{22}+b_{22} \t\n",
    "\t\\end{bmatrix}\n",
    "\\end{equation}\n",
    "$$\n",
    "\n",
    "An important point to know about matrix addition and subtraction is that it is only defined when $A$ and $B$ are of the same size.  Here, both are $2 \\times 2$.  Since operations are performed element by element, these two matrices must be conformable- and for addition and subtraction that means they must have the same numbers of rows and columns.  I like to be explicit about the dimensions of matrices for checking conformability as I write the equations, so write\n",
    "\n",
    "$$\n",
    "A_{2 \\times 2} + B_{2 \\times 2}= \\begin{bmatrix}\n",
    "  a_{11}+b_{11} & a_{12}+b_{12} \\\\\n",
    "  a_{21}+b_{21} & a_{22}+b_{22} \t\n",
    "\\end{bmatrix}_{2 \\times 2}\n",
    "$$\n",
    "\n",
    "Notice that the result of a matrix addition or subtraction operation is always of the same dimension as the two operands.\n",
    "\n",
    "Let's define another matrix, B, that is also $2 \\times 2$ and add it to A:"
   ]
  },
  {
   "cell_type": "code",
   "execution_count": 54,
   "metadata": {
    "slideshow": {
     "slide_type": "slide"
    }
   },
   "outputs": [
    {
     "name": "stdout",
     "output_type": "stream",
     "text": [
      "[[-1.50735165 -0.42317008]\n",
      " [ 0.90989983 -0.00281215]]\n"
     ]
    }
   ],
   "source": [
    "B = np.random.randn(2,2)\n",
    "print (B)"
   ]
  },
  {
   "cell_type": "code",
   "execution_count": 55,
   "metadata": {
    "slideshow": {
     "slide_type": "fragment"
    }
   },
   "outputs": [
    {
     "data": {
      "text/plain": [
       "array([[3.49264835, 0.57682992],\n",
       "       [6.90989983, 1.99718785]])"
      ]
     },
     "execution_count": 55,
     "metadata": {},
     "output_type": "execute_result"
    }
   ],
   "source": [
    "result = A + B\n",
    "result"
   ]
  },
  {
   "cell_type": "markdown",
   "metadata": {
    "slideshow": {
     "slide_type": "slide"
    }
   },
   "source": [
    "## Matrix Multiplication\n",
    "\n",
    "### Multiplying a scalar value times a matrix\n",
    "\n",
    "As before, let $A$=$\\bigl( \\begin{smallmatrix} a_{11} & a_{12} \\\\ a_{21} & a_{22} \\end{smallmatrix} \\bigr)$.  Suppose we want to multiply A times a scalar value (e.g. $3 \\times A$)\n",
    "\n",
    "$$\n",
    "\\begin{equation}\n",
    "\t3 \\times A = 3 \\times \\begin{bmatrix}\n",
    "\t  a_{11} & a_{12} \\\\\n",
    "\t  a_{21} & a_{22} \t\n",
    "\t\\end{bmatrix}\n",
    "\t=\n",
    "\t\\begin{bmatrix}\n",
    "\t  3a_{11} & 3a_{12} \\\\\n",
    "\t  3a_{21} & 3a_{22} \t\n",
    "\t\\end{bmatrix}\n",
    "\\end{equation}\n",
    "$$\n",
    "\n",
    "is of dimension (2,2).  Scalar multiplication is commutative, so that $3 \\times A$=$A \\times 3$.  Notice that the product is defined for a matrix A of any dimension.\n",
    "\n",
    "Similar to scalar addition and subtration, the code is simple:"
   ]
  },
  {
   "cell_type": "code",
   "execution_count": 56,
   "metadata": {
    "slideshow": {
     "slide_type": "fragment"
    }
   },
   "outputs": [
    {
     "data": {
      "text/plain": [
       "array([[15,  3],\n",
       "       [18,  6]])"
      ]
     },
     "execution_count": 56,
     "metadata": {},
     "output_type": "execute_result"
    }
   ],
   "source": [
    "A * 3"
   ]
  },
  {
   "cell_type": "markdown",
   "metadata": {
    "slideshow": {
     "slide_type": "slide"
    }
   },
   "source": [
    "### Multiplying two matricies\n",
    "\n",
    "Now, consider the $2 \\times 1$ vector $C=\\bigl( \\begin{smallmatrix} c_{11} \\\\\n",
    "  c_{21}\n",
    "\\end{smallmatrix} \\bigr)$  \n",
    "\n",
    "Consider multiplying matrix $A_{2 \\times 2}$ and the vector $C_{2 \\times 1}$.  Unlike the addition and subtraction case, this product is defined.  Here, conformability depends not on the row **and** column dimensions, but rather on the column dimensions of the first operand and the row dimensions of the second operand.  We can write this operation as follows\n",
    "\n",
    "$$\n",
    "\\begin{equation}\n",
    "\tA_{2 \\times 2} \\times C_{2 \\times 1} = \n",
    "\t\\begin{bmatrix}\n",
    "\t  a_{11} & a_{12} \\\\\n",
    "\t  a_{21} & a_{22} \t\n",
    "\t\\end{bmatrix}_{2 \\times 2}\n",
    "    \\times\n",
    "    \\begin{bmatrix}\n",
    "\tc_{11} \\\\\n",
    "\tc_{21}\n",
    "\t\\end{bmatrix}_{2 \\times 1}\n",
    "\t=\n",
    "\t\\begin{bmatrix}\n",
    "\t  a_{11}c_{11} + a_{12}c_{21} \\\\\n",
    "\t  a_{21}c_{11} + a_{22}c_{21} \t\n",
    "\t\\end{bmatrix}_{2 \\times 1}\n",
    "\\end{equation}\n",
    "$$\n",
    "\n",
    "Alternatively, consider a matrix C of dimension $2 \\times 3$ and a matrix A of dimension $3 \\times 2$\n",
    "\n",
    "$$\n",
    "\\begin{equation}\n",
    "\tA_{3 \\times 2}=\\begin{bmatrix}\n",
    "\t  a_{11} & a_{12} \\\\\n",
    "\t  a_{21} & a_{22} \\\\\n",
    "\t  a_{31} & a_{32} \t\n",
    "\t\\end{bmatrix}_{3 \\times 2}\n",
    "\t,\n",
    "\tC_{2 \\times 3} = \n",
    "\t\\begin{bmatrix}\n",
    "\t\t  c_{11} & c_{12} & c_{13} \\\\\n",
    "\t\t  c_{21} & c_{22} & c_{23} \\\\\n",
    "\t\\end{bmatrix}_{2 \\times 3}\n",
    "\t\\end{equation}\n",
    "$$\n",
    "\n",
    "Here, A $\\times$ C is\n",
    "\n",
    "$$\n",
    "\\begin{align}\n",
    "\tA_{3 \\times 2} \\times C_{2 \\times 3}=&\n",
    "\t\\begin{bmatrix}\n",
    "\t  a_{11} & a_{12} \\\\\n",
    "\t  a_{21} & a_{22} \\\\\n",
    "\t  a_{31} & a_{32} \t\n",
    "\t\\end{bmatrix}_{3 \\times 2}\n",
    "\t\\times\n",
    "\t\\begin{bmatrix}\n",
    "\t  c_{11} & c_{12} & c_{13} \\\\\n",
    "\t  c_{21} & c_{22} & c_{23} \n",
    "\t\\end{bmatrix}_{2 \\times 3} \\\\\n",
    "\t=&\n",
    "\t\\begin{bmatrix}\n",
    "\t  a_{11} c_{11}+a_{12} c_{21} & a_{11} c_{12}+a_{12} c_{22} & a_{11} c_{13}+a_{12} c_{23} \\\\\n",
    "\t  a_{21} c_{11}+a_{22} c_{21} & a_{21} c_{12}+a_{22} c_{22} & a_{21} c_{13}+a_{22} c_{23} \\\\\n",
    "\t  a_{31} c_{11}+a_{32} c_{21} & a_{31} c_{12}+a_{32} c_{22} & a_{31} c_{13}+a_{32} c_{23}\n",
    "\t\\end{bmatrix}_{3 \\times 3}\t\n",
    "\\end{align}\n",
    "$$\n",
    "\n",
    "So in general, $X_{r_x \\times c_x} \\times Y_{r_y \\times c_y}$ we have two important things to remember: \n",
    "\n",
    "* For conformability in matrix multiplication, $c_x=r_y$, or the columns in the first operand must be equal to the rows of the second operand.\n",
    "* The result will be of dimension $r_x \\times c_y$, or of dimensions equal to the rows of the first operand and columns equal to columns of the second operand.\n",
    "\n",
    "Given these facts, you should convince yourself that matrix multiplication is not generally commutative, that the relationship $X \\times Y = Y \\times X$ does **not** hold in all cases.\n",
    "For this reason, we will always be very explicit about whether we are pre multiplying ($X \\times Y$) or post multiplying ($Y \\times X$) the vectors/matrices $X$ and $Y$.\n",
    "\n",
    "For more information on this topic, see this\n",
    "http://en.wikipedia.org/wiki/Matrix_multiplication."
   ]
  },
  {
   "cell_type": "code",
   "execution_count": 66,
   "metadata": {
    "slideshow": {
     "slide_type": "slide"
    }
   },
   "outputs": [
    {
     "name": "stdout",
     "output_type": "stream",
     "text": [
      "[[0 1]\n",
      " [2 3]\n",
      " [4 5]] \n",
      "\n",
      "[[ 0.70483447  1.68741128]\n",
      " [-0.27882334 -0.14780335]] \n",
      "\n",
      "(3, 2)\n",
      "(2, 2)\n"
     ]
    }
   ],
   "source": [
    "# Let's redefine A and C to demonstrate matrix multiplication:\n",
    "A = np.arange(6).reshape((3,2))\n",
    "C = np.random.randn(2,2)\n",
    "print(A, '\\n')\n",
    "print(C, '\\n')\n",
    "\n",
    "print (A.shape)\n",
    "print (C.shape)"
   ]
  },
  {
   "cell_type": "markdown",
   "metadata": {
    "slideshow": {
     "slide_type": "slide"
    }
   },
   "source": [
    "We will use the numpy dot operator to perform the these multiplications.  You can use it two ways to yield the same result:"
   ]
  },
  {
   "cell_type": "code",
   "execution_count": 60,
   "metadata": {
    "slideshow": {
     "slide_type": "fragment"
    }
   },
   "outputs": [
    {
     "name": "stdout",
     "output_type": "stream",
     "text": [
      "[[ -0.9169831   -2.28806119]\n",
      " [ -1.6130054   -7.98624535]\n",
      " [ -2.3090277  -13.68442951]]\n",
      "[[ -0.9169831   -2.28806119]\n",
      " [ -1.6130054   -7.98624535]\n",
      " [ -2.3090277  -13.68442951]]\n"
     ]
    }
   ],
   "source": [
    "print (A.dot(C))\n",
    "print (np.dot(A,C))"
   ]
  },
  {
   "cell_type": "markdown",
   "metadata": {
    "slideshow": {
     "slide_type": "slide"
    }
   },
   "source": [
    "Suppose instead of pre-multiplying C by A, we post-multiply.  The product doesn't exist because we don't have conformability as described above:"
   ]
  },
  {
   "cell_type": "code",
   "execution_count": 67,
   "metadata": {
    "slideshow": {
     "slide_type": "fragment"
    }
   },
   "outputs": [
    {
     "ename": "ValueError",
     "evalue": "shapes (2,2) and (3,2) not aligned: 2 (dim 1) != 3 (dim 0)",
     "output_type": "error",
     "traceback": [
      "\u001b[0;31m---------------------------------------------------------------------------\u001b[0m",
      "\u001b[0;31mValueError\u001b[0m                                Traceback (most recent call last)",
      "\u001b[0;32m<ipython-input-67-b4bc17848904>\u001b[0m in \u001b[0;36m<module>\u001b[0;34m\u001b[0m\n\u001b[0;32m----> 1\u001b[0;31m \u001b[0mC\u001b[0m\u001b[0;34m.\u001b[0m\u001b[0mdot\u001b[0m\u001b[0;34m(\u001b[0m\u001b[0mA\u001b[0m\u001b[0;34m)\u001b[0m\u001b[0;34m\u001b[0m\u001b[0;34m\u001b[0m\u001b[0m\n\u001b[0m",
      "\u001b[0;31mValueError\u001b[0m: shapes (2,2) and (3,2) not aligned: 2 (dim 1) != 3 (dim 0)"
     ]
    }
   ],
   "source": [
    "C.dot(A)"
   ]
  },
  {
   "cell_type": "markdown",
   "metadata": {
    "slideshow": {
     "slide_type": "slide"
    }
   },
   "source": [
    "## Matrix Division\n",
    "The term matrix division is actually a misnomer.  To divide in a matrix algebra world we first need to invert the matrix.  It is useful to consider the analog case in a scalar work.  Suppose we want to divide the $f$ by $g$.  We could do this in two different ways:\n",
    "$$\n",
    "\\begin{equation}\n",
    "\t\\frac{f}{g}=f \\times g^{-1}.\n",
    "\\end{equation}\n",
    "$$\n",
    "In a scalar seeting, these are equivalent ways of solving the division problem.  The second one requires two steps: first we invert g and then we multiply f times g.  In a matrix world, we need to think about this second approach.  First we have to invert the matrix g and then we will need to pre or post multiply depending on the exact situation we encounter (this is intended to be vague for now).\n",
    "\n",
    "###Inverting a Matrix\n",
    "\n",
    "As before, consider the square $2 \\times 2$ matrix $A$=$\\bigl( \\begin{smallmatrix} a_{11} & a_{12} \\\\ a_{21} & a_{22}\\end{smallmatrix} \\bigr)$.  Let the inverse of matrix A (denoted as $A^{-1}$) be \n",
    "\n",
    "$$\n",
    "\\begin{equation}\n",
    "\tA^{-1}=\\begin{bmatrix}\n",
    "             a_{11} & a_{12} \\\\\n",
    "\t\t     a_{21} & a_{22} \n",
    "           \\end{bmatrix}^{-1}=\\frac{1}{a_{11}a_{22}-a_{12}a_{21}}\t\\begin{bmatrix}\n",
    "\t\t             a_{22} & -a_{12} \\\\\n",
    "\t\t\t\t     -a_{21} & a_{11} \n",
    "\t\t           \\end{bmatrix}\n",
    "\\end{equation}\n",
    "$$\n",
    "\n",
    "The inverted matrix $A^{-1}$ has a useful property:\n",
    "$$\n",
    "\\begin{equation}\n",
    "\tA \\times A^{-1}=A^{-1} \\times A=I\n",
    "\\end{equation}\n",
    "$$\n",
    "where I, the identity matrix (the matrix equivalent of the scalar value 1), is\n",
    "$$\n",
    "\\begin{equation}\n",
    "\tI_{2 \\times 2}=\\begin{bmatrix}\n",
    "             1 & 0 \\\\\n",
    "\t\t     0 & 1 \n",
    "           \\end{bmatrix}\n",
    "\\end{equation}\n",
    "$$\n",
    "furthermore, $A \\times I = A$ and $I \\times A = A$.\n",
    "\n",
    "An important feature about matrix inversion is that it is undefined if (in the $2 \\times 2$ case), $a_{11}a_{22}-a_{12}a_{21}=0$.  If this relationship is equal to zero the inverse of A does not exist.  If this term is very close to zero, an inverse may exist but $A^{-1}$ may be poorly conditioned meaning it is prone to rounding error and is likely not well identified computationally.  The term $a_{11}a_{22}-a_{12}a_{21}$ is the determinant of matrix A, and for square matrices of size greater than $2 \\times 2$, if equal to zero indicates that you have a problem with your data matrix (columns are linearly dependent on other columns).  The inverse of matrix A exists if A is square and is of full rank (ie. the columns of A are not linear combinations of other columns of A).\n",
    "\n",
    "For more information on this topic, see this\n",
    "http://en.wikipedia.org/wiki/Matrix_inversion, for example, on inverting matrices.\n",
    "https://www.mathsisfun.com/algebra/matrix-multiplying.html"
   ]
  },
  {
   "cell_type": "code",
   "execution_count": 68,
   "metadata": {
    "slideshow": {
     "slide_type": "slide"
    }
   },
   "outputs": [
    {
     "name": "stdout",
     "output_type": "stream",
     "text": [
      "[[-0.40348949 -4.60647698]\n",
      " [ 0.76116198  1.92413304]]\n"
     ]
    }
   ],
   "source": [
    "# note, we need a square matrix (# rows = # cols), use C:\n",
    "C_inverse = np.linalg.inv(C)\n",
    "print (C_inverse)"
   ]
  },
  {
   "cell_type": "markdown",
   "metadata": {
    "slideshow": {
     "slide_type": "fragment"
    }
   },
   "source": [
    "Check that $C\\times C^{-1} = I$:"
   ]
  },
  {
   "cell_type": "code",
   "execution_count": 70,
   "metadata": {
    "slideshow": {
     "slide_type": "fragment"
    }
   },
   "outputs": [
    {
     "name": "stdout",
     "output_type": "stream",
     "text": [
      "[[ 1.00000000e+00  0.00000000e+00]\n",
      " [-2.77555756e-17  1.00000000e+00]]\n",
      "Is identical to:\n",
      "[[1.00000000e+00 2.22044605e-16]\n",
      " [0.00000000e+00 1.00000000e+00]]\n"
     ]
    }
   ],
   "source": [
    "print (C.dot(C_inverse))\n",
    "print (\"Is identical to:\")\n",
    "print (C_inverse.dot(C))"
   ]
  },
  {
   "cell_type": "markdown",
   "metadata": {
    "slideshow": {
     "slide_type": "slide"
    }
   },
   "source": [
    "## Transposing a Matrix\n",
    "\n",
    "At times it is useful to pivot a matrix for conformability- that is in order to matrix divide or multiply, we need to switch the rows and column dimensions of matrices.  Consider the matrix\n",
    "$$\n",
    "\\begin{equation}\n",
    "\tA_{3 \\times 2}=\\begin{bmatrix}\n",
    "\t  a_{11} & a_{12} \\\\\n",
    "\t  a_{21} & a_{22} \\\\\n",
    "\t  a_{31} & a_{32} \t\n",
    "\t\\end{bmatrix}_{3 \\times 2}\t\n",
    "\\end{equation}\n",
    "$$\n",
    "The transpose of A (denoted as $A^{\\prime}$) is\n",
    "$$\n",
    "\\begin{equation}\n",
    "   A^{\\prime}=\\begin{bmatrix}\n",
    "\t  a_{11} & a_{21} & a_{31} \\\\\n",
    "\t  a_{12} & a_{22} & a_{32} \\\\\n",
    "\t\\end{bmatrix}_{2 \\times 3}\n",
    "\\end{equation}\n",
    "$$"
   ]
  },
  {
   "cell_type": "code",
   "execution_count": 71,
   "metadata": {
    "slideshow": {
     "slide_type": "fragment"
    }
   },
   "outputs": [
    {
     "name": "stdout",
     "output_type": "stream",
     "text": [
      "A is\n",
      "[[0 1]\n",
      " [2 3]\n",
      " [4 5]]\n",
      "The Transpose of A is\n",
      "[[0 2 4]\n",
      " [1 3 5]]\n"
     ]
    }
   ],
   "source": [
    "A = np.arange(6).reshape((3,2))\n",
    "B = np.arange(8).reshape((2,4))\n",
    "print (\"A is\")\n",
    "print (A)\n",
    "\n",
    "print (\"The Transpose of A is\")\n",
    "print (A.T)"
   ]
  },
  {
   "cell_type": "markdown",
   "metadata": {
    "slideshow": {
     "slide_type": "slide"
    }
   },
   "source": [
    "One important property of transposing a matrix is the transpose of a product of two matrices.  Let matrix A be of dimension $N \\times M$ and let B of of dimension $M \\times P$.  Then\n",
    "$$\n",
    "\\begin{equation}\n",
    "\t(AB)^{\\prime}=B^{\\prime}A^{\\prime}\n",
    "\\end{equation}\n",
    "$$\n",
    "For more information, see this http://en.wikipedia.org/wiki/Matrix_transposition on matrix transposition.  This is also easy to implement:"
   ]
  },
  {
   "cell_type": "code",
   "execution_count": 72,
   "metadata": {
    "slideshow": {
     "slide_type": "fragment"
    }
   },
   "outputs": [
    {
     "name": "stdout",
     "output_type": "stream",
     "text": [
      "[[ 4 12 20]\n",
      " [ 5 17 29]\n",
      " [ 6 22 38]\n",
      " [ 7 27 47]]\n",
      "Is identical to:\n",
      "[[ 4 12 20]\n",
      " [ 5 17 29]\n",
      " [ 6 22 38]\n",
      " [ 7 27 47]]\n"
     ]
    }
   ],
   "source": [
    "print (B.T.dot(A.T))\n",
    "print (\"Is identical to:\")\n",
    "print ((A.dot(B)).T)"
   ]
  },
  {
   "cell_type": "markdown",
   "metadata": {
    "slideshow": {
     "slide_type": "slide"
    }
   },
   "source": [
    "## More python tools\n",
    "\n",
    "### Indexing\n",
    "\n",
    "Python begins indexing at 0 (not 1), therefore the first row and first column is referenced by 0,0 **not** 1,1.\n",
    "\n",
    "### Slicing  \n",
    "\n",
    "Accessing elements of numpy matrices and arrays. This code grabs the first column of A:\n",
    "\n",
    "\n",
    "examples from https://www.tutorialspoint.com/numpy/numpy_indexing_and_slicing.htm"
   ]
  },
  {
   "cell_type": "code",
   "execution_count": 73,
   "metadata": {
    "slideshow": {
     "slide_type": "slide"
    }
   },
   "outputs": [
    {
     "name": "stdout",
     "output_type": "stream",
     "text": [
      "[[0 1]\n",
      " [2 3]\n",
      " [4 5]]\n"
     ]
    },
    {
     "data": {
      "text/plain": [
       "array([0, 2, 4])"
      ]
     },
     "execution_count": 73,
     "metadata": {},
     "output_type": "execute_result"
    }
   ],
   "source": [
    "print (A)\n",
    "A[:,0]"
   ]
  },
  {
   "cell_type": "markdown",
   "metadata": {
    "slideshow": {
     "slide_type": "fragment"
    }
   },
   "source": [
    "or, we could grab a particular element (in this case, the second column, last row):"
   ]
  },
  {
   "cell_type": "code",
   "execution_count": 74,
   "metadata": {
    "slideshow": {
     "slide_type": "fragment"
    }
   },
   "outputs": [
    {
     "data": {
      "text/plain": [
       "5"
      ]
     },
     "execution_count": 74,
     "metadata": {},
     "output_type": "execute_result"
    }
   ],
   "source": [
    "A[2,1]"
   ]
  },
  {
   "cell_type": "code",
   "execution_count": 89,
   "metadata": {
    "slideshow": {
     "slide_type": "slide"
    }
   },
   "outputs": [
    {
     "name": "stdout",
     "output_type": "stream",
     "text": [
      "[0 1 2 3 4 5 6 7 8 9]\n",
      "[2 4 6]\n"
     ]
    }
   ],
   "source": [
    "a = np.arange(10) \n",
    "s = slice(2,7,2) \n",
    "print (a)\n",
    "print (a[s])"
   ]
  },
  {
   "cell_type": "code",
   "execution_count": 90,
   "metadata": {
    "slideshow": {
     "slide_type": "fragment"
    }
   },
   "outputs": [
    {
     "name": "stdout",
     "output_type": "stream",
     "text": [
      "[0 1 2 3 4 5 6 7 8 9]\n",
      "[2 4 6]\n"
     ]
    }
   ],
   "source": [
    "a = np.arange(10) \n",
    "b = a[2:7:2] \n",
    "print (a)\n",
    "print (b)"
   ]
  },
  {
   "cell_type": "code",
   "execution_count": 92,
   "metadata": {
    "slideshow": {
     "slide_type": "slide"
    }
   },
   "outputs": [
    {
     "name": "stdout",
     "output_type": "stream",
     "text": [
      "[[1 2 3]\n",
      " [3 4 5]\n",
      " [4 5 6]]\n",
      "Now we will slice the array from the index a[1:]\n",
      "[[3 4 5]\n",
      " [4 5 6]]\n",
      "slicing along 2 dimensions\n",
      "[5 6]\n",
      "aside: if a is a matrix, we keep the original shape of the slice...\n",
      "[[5]\n",
      " [6]]\n"
     ]
    }
   ],
   "source": [
    "a = np.array([[1,2,3],[3,4,5],[4,5,6]]) \n",
    "print (a)\n",
    "\n",
    "# slice items starting from index\n",
    "print ('Now we will slice the array from the index a[1:]' )\n",
    "print (a[1:])\n",
    "print (\"slicing along 2 dimensions\")\n",
    "print (a[1:,2])\n",
    "print (\"aside: if a is a matrix, we keep the original shape of the slice...\")\n",
    "print (np.matrix(a)[1:,2])"
   ]
  },
  {
   "cell_type": "code",
   "execution_count": 94,
   "metadata": {
    "slideshow": {
     "slide_type": "slide"
    }
   },
   "outputs": [
    {
     "name": "stdout",
     "output_type": "stream",
     "text": [
      "Our array is:\n",
      "[[1 2 3]\n",
      " [3 4 5]\n",
      " [4 5 6]] \n",
      "\n",
      "The items in the second column are:\n",
      "[2 4 5] \n",
      "\n",
      "The items in the second row are:\n",
      "[3 4 5] \n",
      "\n",
      "The items column 1 onwards are:\n",
      "[[2 3]\n",
      " [4 5]\n",
      " [5 6]]\n"
     ]
    }
   ],
   "source": [
    "# array to begin with \n",
    "a = np.array([[1,2,3],[3,4,5],[4,5,6]]) \n",
    "\n",
    "print ('Our array is:')\n",
    "print (a,'\\n')\n",
    "\n",
    "# this returns array of items in the second column \n",
    "print ('The items in the second column are:'  )\n",
    "print (a[...,1], '\\n') \n",
    "  \n",
    "# Now we will slice all items from the second row \n",
    "print ('The items in the second row are:' )\n",
    "print (a[1,...],'\\n')  \n",
    "\n",
    "# Now we will slice all items from column 1 onwards \n",
    "print ('The items column 1 onwards are:' )\n",
    "print (a[...,1:])"
   ]
  },
  {
   "cell_type": "code",
   "execution_count": 96,
   "metadata": {
    "slideshow": {
     "slide_type": "slide"
    }
   },
   "outputs": [],
   "source": [
    "# in-class exercise:\n",
    "a = np.arange(18)\n",
    "# what is the transpose of the 3x3 matrix formed from taking the even elements of a?"
   ]
  },
  {
   "cell_type": "code",
   "execution_count": null,
   "metadata": {
    "slideshow": {
     "slide_type": "skip"
    }
   },
   "outputs": [],
   "source": []
  },
  {
   "cell_type": "code",
   "execution_count": null,
   "metadata": {
    "slideshow": {
     "slide_type": "skip"
    }
   },
   "outputs": [],
   "source": []
  },
  {
   "cell_type": "code",
   "execution_count": null,
   "metadata": {
    "slideshow": {
     "slide_type": "skip"
    }
   },
   "outputs": [],
   "source": []
  },
  {
   "cell_type": "code",
   "execution_count": null,
   "metadata": {
    "slideshow": {
     "slide_type": "skip"
    }
   },
   "outputs": [],
   "source": []
  },
  {
   "cell_type": "code",
   "execution_count": null,
   "metadata": {
    "slideshow": {
     "slide_type": "skip"
    }
   },
   "outputs": [],
   "source": []
  },
  {
   "cell_type": "code",
   "execution_count": null,
   "metadata": {
    "slideshow": {
     "slide_type": "skip"
    }
   },
   "outputs": [],
   "source": []
  },
  {
   "cell_type": "code",
   "execution_count": null,
   "metadata": {
    "slideshow": {
     "slide_type": "skip"
    }
   },
   "outputs": [],
   "source": []
  },
  {
   "cell_type": "code",
   "execution_count": null,
   "metadata": {
    "slideshow": {
     "slide_type": "skip"
    }
   },
   "outputs": [],
   "source": []
  },
  {
   "cell_type": "code",
   "execution_count": null,
   "metadata": {
    "slideshow": {
     "slide_type": "skip"
    }
   },
   "outputs": [],
   "source": []
  },
  {
   "cell_type": "code",
   "execution_count": null,
   "metadata": {
    "slideshow": {
     "slide_type": "skip"
    }
   },
   "outputs": [],
   "source": []
  },
  {
   "cell_type": "code",
   "execution_count": null,
   "metadata": {
    "slideshow": {
     "slide_type": "skip"
    }
   },
   "outputs": [],
   "source": []
  },
  {
   "cell_type": "code",
   "execution_count": null,
   "metadata": {
    "slideshow": {
     "slide_type": "skip"
    }
   },
   "outputs": [],
   "source": []
  },
  {
   "cell_type": "code",
   "execution_count": 97,
   "metadata": {
    "slideshow": {
     "slide_type": "fragment"
    }
   },
   "outputs": [
    {
     "data": {
      "text/plain": [
       "array([[ 0,  6, 12],\n",
       "       [ 2,  8, 14],\n",
       "       [ 4, 10, 16]])"
      ]
     },
     "execution_count": 97,
     "metadata": {},
     "output_type": "execute_result"
    }
   ],
   "source": [
    "# answer:\n",
    "a[0:18:2].reshape([3,3]).T"
   ]
  },
  {
   "cell_type": "markdown",
   "metadata": {
    "slideshow": {
     "slide_type": "slide"
    }
   },
   "source": [
    "### Logical Checks to extract values from matrices/arrays:"
   ]
  },
  {
   "cell_type": "code",
   "execution_count": 75,
   "metadata": {
    "slideshow": {
     "slide_type": "fragment"
    }
   },
   "outputs": [
    {
     "name": "stdout",
     "output_type": "stream",
     "text": [
      "[False False  True]\n"
     ]
    },
    {
     "data": {
      "text/plain": [
       "array([[4, 5]])"
      ]
     },
     "execution_count": 75,
     "metadata": {},
     "output_type": "execute_result"
    }
   ],
   "source": [
    "print (A[:,1]>4)\n",
    "\n",
    "A[A[:,1]>4]"
   ]
  },
  {
   "cell_type": "code",
   "execution_count": 101,
   "metadata": {
    "slideshow": {
     "slide_type": "slide"
    }
   },
   "outputs": [
    {
     "name": "stdout",
     "output_type": "stream",
     "text": [
      "[[9.24672643e+00 2.04049538e+00 4.71272180e+00 4.40471111e+00\n",
      "  4.95943231e+00]\n",
      " [5.15550602e-01 7.26291319e+00 5.81347238e+00 7.27767868e+00\n",
      "  2.32008917e+00]\n",
      " [5.18985234e-01 9.80872225e+00 3.64000847e-01 3.69216255e+00\n",
      "  7.51152147e+00]\n",
      " [2.85302850e+00 1.97420888e+00 8.10647714e+00 4.37324536e+00\n",
      "  8.88849910e+00]\n",
      " [7.82821592e+00 3.59051168e-03 8.69226531e+00 4.40017701e+00\n",
      "  9.67571318e-01]] \n",
      "\n",
      "[[False  True  True  True  True]\n",
      " [ True False False False  True]\n",
      " [ True False  True  True False]\n",
      " [ True  True False  True False]\n",
      " [False  True False  True  True]]\n"
     ]
    }
   ],
   "source": [
    "A = np.random.rand(5,5)*10\n",
    "print( A, '\\n')\n",
    "print (A < 5)"
   ]
  },
  {
   "cell_type": "code",
   "execution_count": 102,
   "metadata": {
    "slideshow": {
     "slide_type": "slide"
    }
   },
   "outputs": [
    {
     "data": {
      "text/plain": [
       "False"
      ]
     },
     "execution_count": 102,
     "metadata": {},
     "output_type": "execute_result"
    }
   ],
   "source": [
    "np.all(A<5)"
   ]
  },
  {
   "cell_type": "code",
   "execution_count": 103,
   "metadata": {
    "slideshow": {
     "slide_type": "fragment"
    }
   },
   "outputs": [
    {
     "data": {
      "text/plain": [
       "array([False,  True,  True,  True,  True,  True, False, False, False,\n",
       "        True,  True, False,  True,  True, False,  True,  True, False,\n",
       "        True, False, False,  True, False,  True,  True])"
      ]
     },
     "execution_count": 103,
     "metadata": {},
     "output_type": "execute_result"
    }
   ],
   "source": [
    "A.flatten() <5"
   ]
  },
  {
   "cell_type": "code",
   "execution_count": 108,
   "metadata": {
    "slideshow": {
     "slide_type": "fragment"
    }
   },
   "outputs": [
    {
     "name": "stdout",
     "output_type": "stream",
     "text": [
      "[0. 0. 0. 0. 0. 0. 0. 0. 0. 0. 0. 0. 0. 0. 0.]\n"
     ]
    }
   ],
   "source": [
    "print (A[A < 5])"
   ]
  },
  {
   "cell_type": "code",
   "execution_count": 106,
   "metadata": {
    "slideshow": {
     "slide_type": "slide"
    }
   },
   "outputs": [
    {
     "data": {
      "text/plain": [
       "array([[9.24672643, 0.        , 0.        , 0.        , 0.        ],\n",
       "       [0.        , 7.26291319, 5.81347238, 7.27767868, 0.        ],\n",
       "       [0.        , 9.80872225, 0.        , 0.        , 7.51152147],\n",
       "       [0.        , 0.        , 8.10647714, 0.        , 8.8884991 ],\n",
       "       [7.82821592, 0.        , 8.69226531, 0.        , 0.        ]])"
      ]
     },
     "execution_count": 106,
     "metadata": {},
     "output_type": "execute_result"
    }
   ],
   "source": [
    "A[A<5] = 0\n",
    "A"
   ]
  },
  {
   "cell_type": "code",
   "execution_count": 109,
   "metadata": {
    "slideshow": {
     "slide_type": "fragment"
    }
   },
   "outputs": [],
   "source": [
    "A[A>=5] = 1"
   ]
  },
  {
   "cell_type": "code",
   "execution_count": 110,
   "metadata": {
    "slideshow": {
     "slide_type": "fragment"
    }
   },
   "outputs": [
    {
     "data": {
      "text/plain": [
       "array([[1., 0., 0., 0., 0.],\n",
       "       [0., 1., 1., 1., 0.],\n",
       "       [0., 1., 0., 0., 1.],\n",
       "       [0., 0., 1., 0., 1.],\n",
       "       [1., 0., 1., 0., 0.]])"
      ]
     },
     "execution_count": 110,
     "metadata": {},
     "output_type": "execute_result"
    }
   ],
   "source": [
    "A"
   ]
  },
  {
   "cell_type": "code",
   "execution_count": 114,
   "metadata": {
    "slideshow": {
     "slide_type": "slide"
    }
   },
   "outputs": [
    {
     "name": "stdout",
     "output_type": "stream",
     "text": [
      "[[ 0.99637831  0.73183414  0.92100647 -1.37024414]\n",
      " [-1.00821924 -0.16954409  1.0438458  -0.25248005]\n",
      " [ 0.73841859 -0.8546627  -0.08462337  0.46381551]\n",
      " [-0.18051485  0.53157282 -0.77503029 -0.43341064]] \n",
      "\n",
      " [[ 0  1  2  3]\n",
      " [ 4  5  6  7]\n",
      " [ 8  9 10 11]\n",
      " [12 13 14 15]]\n"
     ]
    }
   ],
   "source": [
    "# in-class exercise\n",
    "A = np.random.randn(4,4)\n",
    "B = np.arange(16).reshape([4,4])\n",
    "print (A, '\\n\\n', B)\n",
    "# find the elements of A that are less than 0, and replace them \n",
    "# with corresponding elements of B"
   ]
  },
  {
   "cell_type": "code",
   "execution_count": null,
   "metadata": {
    "slideshow": {
     "slide_type": "skip"
    }
   },
   "outputs": [],
   "source": []
  },
  {
   "cell_type": "code",
   "execution_count": null,
   "metadata": {
    "slideshow": {
     "slide_type": "skip"
    }
   },
   "outputs": [],
   "source": []
  },
  {
   "cell_type": "code",
   "execution_count": null,
   "metadata": {
    "slideshow": {
     "slide_type": "skip"
    }
   },
   "outputs": [],
   "source": []
  },
  {
   "cell_type": "code",
   "execution_count": null,
   "metadata": {
    "slideshow": {
     "slide_type": "skip"
    }
   },
   "outputs": [],
   "source": []
  },
  {
   "cell_type": "code",
   "execution_count": null,
   "metadata": {
    "slideshow": {
     "slide_type": "skip"
    }
   },
   "outputs": [],
   "source": []
  },
  {
   "cell_type": "code",
   "execution_count": null,
   "metadata": {
    "slideshow": {
     "slide_type": "skip"
    }
   },
   "outputs": [],
   "source": []
  },
  {
   "cell_type": "code",
   "execution_count": null,
   "metadata": {
    "slideshow": {
     "slide_type": "skip"
    }
   },
   "outputs": [],
   "source": []
  },
  {
   "cell_type": "code",
   "execution_count": null,
   "metadata": {
    "slideshow": {
     "slide_type": "skip"
    }
   },
   "outputs": [],
   "source": []
  },
  {
   "cell_type": "code",
   "execution_count": null,
   "metadata": {
    "slideshow": {
     "slide_type": "skip"
    }
   },
   "outputs": [],
   "source": []
  },
  {
   "cell_type": "code",
   "execution_count": null,
   "metadata": {
    "slideshow": {
     "slide_type": "skip"
    }
   },
   "outputs": [],
   "source": []
  },
  {
   "cell_type": "code",
   "execution_count": 119,
   "metadata": {
    "slideshow": {
     "slide_type": "fragment"
    }
   },
   "outputs": [
    {
     "data": {
      "text/plain": [
       "array([[ 0.        ,  1.        ,  1.41754204,  0.96083948],\n",
       "       [ 4.        ,  0.71470482,  6.        ,  7.        ],\n",
       "       [ 8.        ,  9.        , 10.        ,  2.14832579],\n",
       "       [ 1.15748576,  0.70388959,  0.56875649,  0.07040605]])"
      ]
     },
     "execution_count": 119,
     "metadata": {},
     "output_type": "execute_result"
    }
   ],
   "source": [
    "#answer\n",
    "A[A<0]=B[A<0]\n",
    "A"
   ]
  },
  {
   "cell_type": "code",
   "execution_count": null,
   "metadata": {
    "slideshow": {
     "slide_type": "skip"
    }
   },
   "outputs": [],
   "source": []
  },
  {
   "cell_type": "code",
   "execution_count": 17,
   "metadata": {
    "slideshow": {
     "slide_type": "slide"
    }
   },
   "outputs": [
    {
     "data": {
      "text/plain": [
       "array([[-0.45943292,  1.14703562, -0.53633956,  1.24609555],\n",
       "       [ 0.87248615, -1.11287211, -0.95837166,  0.31213651],\n",
       "       [-1.418964  , -1.46815527, -2.37000614, -1.26255482],\n",
       "       [-0.21460424, -0.42321931,  2.66946478,  0.67653371]])"
      ]
     },
     "execution_count": 17,
     "metadata": {},
     "output_type": "execute_result"
    }
   ],
   "source": [
    "A = np.random.randn(4,4)\n",
    "A"
   ]
  },
  {
   "cell_type": "code",
   "execution_count": 18,
   "metadata": {
    "slideshow": {
     "slide_type": "fragment"
    }
   },
   "outputs": [
    {
     "ename": "ValueError",
     "evalue": "The truth value of an array with more than one element is ambiguous. Use a.any() or a.all()",
     "output_type": "error",
     "traceback": [
      "\u001b[0;31m---------------------------------------------------------------------------\u001b[0m",
      "\u001b[0;31mValueError\u001b[0m                                Traceback (most recent call last)",
      "\u001b[0;32m<ipython-input-18-f6378dbd0ca6>\u001b[0m in \u001b[0;36m<module>\u001b[0;34m\u001b[0m\n\u001b[0;32m----> 1\u001b[0;31m \u001b[0mA\u001b[0m\u001b[0;34m>\u001b[0m\u001b[0;36m0\u001b[0m \u001b[0;32mand\u001b[0m \u001b[0mA\u001b[0m\u001b[0;34m<\u001b[0m\u001b[0;36m2\u001b[0m\u001b[0;34m\u001b[0m\u001b[0;34m\u001b[0m\u001b[0m\n\u001b[0m",
      "\u001b[0;31mValueError\u001b[0m: The truth value of an array with more than one element is ambiguous. Use a.any() or a.all()"
     ]
    }
   ],
   "source": [
    "A>0 and A<2"
   ]
  },
  {
   "cell_type": "code",
   "execution_count": 19,
   "metadata": {
    "slideshow": {
     "slide_type": "fragment"
    }
   },
   "outputs": [
    {
     "data": {
      "text/plain": [
       "array([[False,  True, False,  True],\n",
       "       [ True, False, False,  True],\n",
       "       [False, False, False, False],\n",
       "       [False, False, False,  True]])"
      ]
     },
     "execution_count": 19,
     "metadata": {},
     "output_type": "execute_result"
    }
   ],
   "source": [
    "np.logical_and(A>0,A<2)"
   ]
  },
  {
   "cell_type": "markdown",
   "metadata": {
    "slideshow": {
     "slide_type": "slide"
    }
   },
   "source": [
    "### For loops\n",
    "\n",
    "Create a $12 \\times 2$ matrix and print it out:"
   ]
  },
  {
   "cell_type": "code",
   "execution_count": 76,
   "metadata": {
    "slideshow": {
     "slide_type": "fragment"
    }
   },
   "outputs": [
    {
     "name": "stdout",
     "output_type": "stream",
     "text": [
      "[[ 0  1]\n",
      " [ 2  3]\n",
      " [ 4  5]\n",
      " [ 6  7]\n",
      " [ 8  9]\n",
      " [10 11]\n",
      " [12 13]\n",
      " [14 15]\n",
      " [16 17]\n",
      " [18 19]\n",
      " [20 21]\n",
      " [22 23]]\n",
      "(12, 2)\n"
     ]
    }
   ],
   "source": [
    "A = np.arange(24).reshape((12,2))\n",
    "print (A)\n",
    "print (A.shape)"
   ]
  },
  {
   "cell_type": "markdown",
   "metadata": {
    "slideshow": {
     "slide_type": "slide"
    }
   },
   "source": [
    "The code below loops over the rows (12 of them) of our matrix A.  For each row, it slices A and prints the row values across all columns.  Notice the form of the for loop.  The colon defines the statement we are looping over.  For each iteration of the loop **idented** lines will be executed:"
   ]
  },
  {
   "cell_type": "code",
   "execution_count": 78,
   "metadata": {
    "slideshow": {
     "slide_type": "fragment"
    }
   },
   "outputs": [
    {
     "name": "stdout",
     "output_type": "stream",
     "text": [
      "[0 1]\n",
      "[2 3]\n",
      "[4 5]\n",
      "[6 7]\n",
      "[8 9]\n",
      "[10 11]\n",
      "[12 13]\n",
      "[14 15]\n",
      "[16 17]\n",
      "[18 19]\n",
      "[20 21]\n",
      "[22 23]\n"
     ]
    }
   ],
   "source": [
    "for rows in A:\n",
    "    print (rows)"
   ]
  },
  {
   "cell_type": "code",
   "execution_count": 82,
   "metadata": {
    "slideshow": {
     "slide_type": "slide"
    }
   },
   "outputs": [
    {
     "name": "stdout",
     "output_type": "stream",
     "text": [
      "[ 0  2  4  6  8 10 12 14 16 18 20 22]\n",
      "[ 1  3  5  7  9 11 13 15 17 19 21 23]\n"
     ]
    }
   ],
   "source": [
    "for cols in A.T:\n",
    "    print (cols)"
   ]
  },
  {
   "cell_type": "markdown",
   "metadata": {
    "slideshow": {
     "slide_type": "slide"
    }
   },
   "source": [
    "# Random numbers"
   ]
  },
  {
   "cell_type": "code",
   "execution_count": 126,
   "metadata": {
    "slideshow": {
     "slide_type": "fragment"
    }
   },
   "outputs": [],
   "source": [
    "np.random.seed(100)"
   ]
  },
  {
   "cell_type": "code",
   "execution_count": 127,
   "metadata": {
    "slideshow": {
     "slide_type": "fragment"
    }
   },
   "outputs": [
    {
     "data": {
      "image/png": "[encoded data removed]",
      "text/plain": [
       "<Figure size 432x288 with 1 Axes>"
      ]
     },
     "metadata": {
      "needs_background": "light"
     },
     "output_type": "display_data"
    }
   ],
   "source": [
    "v1 = np.random.rand(500)\n",
    "v2 = np.random.randn(500)\n",
    "plt.plot(range(v1.shape[0]), v1, '.')\n",
    "plt.scatter(range(len(v2)), v2)\n",
    "plt.xlabel('Index')\n",
    "plt.ylabel('Random Value')\n",
    "plt.title('Some random numbers')\n",
    "plt.show()"
   ]
  },
  {
   "cell_type": "code",
   "execution_count": 129,
   "metadata": {
    "slideshow": {
     "slide_type": "slide"
    }
   },
   "outputs": [
    {
     "data": {
      "image/png": "[encoded data removed]",
      "text/plain": [
       "<Figure size 432x288 with 1 Axes>"
      ]
     },
     "metadata": {
      "needs_background": "light"
     },
     "output_type": "display_data"
    }
   ],
   "source": [
    "plt.hist(v1, bins=20);"
   ]
  },
  {
   "cell_type": "code",
   "execution_count": 130,
   "metadata": {
    "slideshow": {
     "slide_type": "slide"
    }
   },
   "outputs": [
    {
     "data": {
      "text/plain": [
       "''"
      ]
     },
     "execution_count": 130,
     "metadata": {},
     "output_type": "execute_result"
    },
    {
     "data": {
      "image/png": "[encoded data removed]",
      "text/plain": [
       "<Figure size 432x288 with 1 Axes>"
      ]
     },
     "metadata": {
      "needs_background": "light"
     },
     "output_type": "display_data"
    }
   ],
   "source": [
    "v2 = np.random.randn(10000)\n",
    "plt.hist(v2, bins=100)\n",
    ";"
   ]
  },
  {
   "cell_type": "code",
   "execution_count": 133,
   "metadata": {
    "slideshow": {
     "slide_type": "slide"
    }
   },
   "outputs": [
    {
     "data": {
      "text/plain": [
       "''"
      ]
     },
     "execution_count": 133,
     "metadata": {},
     "output_type": "execute_result"
    },
    {
     "data": {
      "image/png": "[encoded data removed]",
      "text/plain": [
       "<Figure size 432x288 with 1 Axes>"
      ]
     },
     "metadata": {
      "needs_background": "light"
     },
     "output_type": "display_data"
    }
   ],
   "source": [
    "v3 = np.random.beta(3,2, 10000)\n",
    "plt.hist(v3, bins=100)\n",
    ";"
   ]
  },
  {
   "cell_type": "markdown",
   "metadata": {
    "slideshow": {
     "slide_type": "slide"
    }
   },
   "source": [
    "# Numpy load, save data files"
   ]
  },
  {
   "cell_type": "code",
   "execution_count": 145,
   "metadata": {
    "slideshow": {
     "slide_type": "fragment"
    }
   },
   "outputs": [],
   "source": [
    "v = np.random.beta(56, 23, 100)"
   ]
  },
  {
   "cell_type": "code",
   "execution_count": 146,
   "metadata": {
    "slideshow": {
     "slide_type": "fragment"
    }
   },
   "outputs": [],
   "source": [
    "np.savetxt(\"myvextor.txt\", v.reshape(20,5))"
   ]
  },
  {
   "cell_type": "code",
   "execution_count": 147,
   "metadata": {
    "slideshow": {
     "slide_type": "fragment"
    }
   },
   "outputs": [
    {
     "name": "stdout",
     "output_type": "stream",
     "text": [
      "total 1080\n",
      "-rw-rw-r--@ 1 wofibgf  704607697  135404 Aug 29 12:57 Lesson 0 - LinRegression.ipynb\n",
      "-rw-rw-r--@ 1 wofibgf  704607697   92357 Sep  4  2019 SeabornDemo.ipynb\n",
      "-rw-rw-r--@ 1 wofibgf  704607697    1049 Aug 21 20:11 Table of Contents.html\n",
      "-rw-rw-r--@ 1 wofibgf  704607697   59227 Aug 30 15:46 linear-algebra-python-basics.ipynb\n",
      "-rw-r--r--  1 wofibgf  704607697    2500 Sep  1 20:52 myvextor.txt\n",
      "-rw-rw-r--@ 1 wofibgf  704607697  249715 Sep  1 20:42 numpy_Introduction_class.ipynb\n"
     ]
    }
   ],
   "source": [
    "%%sh\n",
    "ls -l"
   ]
  },
  {
   "cell_type": "code",
   "execution_count": 148,
   "metadata": {
    "slideshow": {
     "slide_type": "slide"
    }
   },
   "outputs": [
    {
     "name": "stdout",
     "output_type": "stream",
     "text": [
      "5.922353158922397665e-01 7.655767667593565973e-01 6.841946487873069582e-01 6.755725887861238066e-01 7.032470481679692353e-01\n",
      "6.888677891209012971e-01 6.504530098396001936e-01 6.754661980627384432e-01 7.146865691310828606e-01 6.516325261868544105e-01\n",
      "7.633291640347856788e-01 8.178798301305683083e-01 7.920665129816673034e-01 6.184918007468266365e-01 6.905533494962573515e-01\n",
      "7.650494466440957986e-01 7.846032306451089511e-01 6.121724057918449535e-01 6.776412822875229613e-01 7.477257288481432562e-01\n",
      "7.365671337189656498e-01 6.994005046861828667e-01 7.288479314734659376e-01 6.489301425458805506e-01 7.399981026111525084e-01\n",
      "6.813368860026899343e-01 8.191661384439594684e-01 7.645078516360850340e-01 7.209648038066370779e-01 6.094092975382834343e-01\n",
      "7.680730174026317858e-01 7.456660552611670267e-01 7.649366774093963040e-01 8.126789941613165036e-01 6.705787357948108651e-01\n",
      "7.503852709079681382e-01 6.884334096056434760e-01 5.492021308519261513e-01 6.640734607089922026e-01 6.817492966104190533e-01\n",
      "7.012285646061150457e-01 6.947130694260560402e-01 5.653619256651775116e-01 6.433544437560551055e-01 7.079582044019453457e-01\n",
      "6.675268868548860368e-01 7.049299363726606593e-01 7.354175678748002820e-01 8.060575733590402692e-01 7.311194073085918177e-01\n"
     ]
    }
   ],
   "source": [
    "%%sh\n",
    "head -10 myvextor.txt"
   ]
  },
  {
   "cell_type": "code",
   "execution_count": 149,
   "metadata": {
    "slideshow": {
     "slide_type": "slide"
    }
   },
   "outputs": [],
   "source": [
    "w = np.loadtxt(\"myvextor.txt\")"
   ]
  },
  {
   "cell_type": "code",
   "execution_count": 150,
   "metadata": {
    "slideshow": {
     "slide_type": "fragment"
    }
   },
   "outputs": [
    {
     "data": {
      "text/plain": [
       "array([[0.59223532, 0.76557677, 0.68419465, 0.67557259, 0.70324705],\n",
       "       [0.68886779, 0.65045301, 0.6754662 , 0.71468657, 0.65163253],\n",
       "       [0.76332916, 0.81787983, 0.79206651, 0.6184918 , 0.69055335],\n",
       "       [0.76504945, 0.78460323, 0.61217241, 0.67764128, 0.74772573],\n",
       "       [0.73656713, 0.6994005 , 0.72884793, 0.64893014, 0.7399981 ],\n",
       "       [0.68133689, 0.81916614, 0.76450785, 0.7209648 , 0.6094093 ],\n",
       "       [0.76807302, 0.74566606, 0.76493668, 0.81267899, 0.67057874],\n",
       "       [0.75038527, 0.68843341, 0.54920213, 0.66407346, 0.6817493 ],\n",
       "       [0.70122856, 0.69471307, 0.56536193, 0.64335444, 0.7079582 ],\n",
       "       [0.66752689, 0.70492994, 0.73541757, 0.80605757, 0.73111941],\n",
       "       [0.69984573, 0.67875167, 0.78185555, 0.74639513, 0.68704548],\n",
       "       [0.63699586, 0.77852801, 0.7926164 , 0.68826438, 0.68108578],\n",
       "       [0.67810682, 0.79780821, 0.72530274, 0.69084585, 0.7523197 ],\n",
       "       [0.79137707, 0.81569965, 0.65544908, 0.74137199, 0.74933752],\n",
       "       [0.71186162, 0.71132968, 0.7315009 , 0.70552215, 0.67751996],\n",
       "       [0.76119153, 0.71006441, 0.65481157, 0.74359868, 0.64828808],\n",
       "       [0.60082692, 0.65646366, 0.79254044, 0.74299164, 0.66272882],\n",
       "       [0.67498439, 0.67681386, 0.63158433, 0.76189141, 0.68942444],\n",
       "       [0.78724901, 0.79402167, 0.68844835, 0.66397254, 0.75229682],\n",
       "       [0.74659225, 0.73055768, 0.77421182, 0.72516677, 0.74068079]])"
      ]
     },
     "execution_count": 150,
     "metadata": {},
     "output_type": "execute_result"
    }
   ],
   "source": [
    "w"
   ]
  },
  {
   "cell_type": "code",
   "execution_count": null,
   "metadata": {},
   "outputs": [],
   "source": []
  },
  {
   "cell_type": "code",
   "execution_count": null,
   "metadata": {},
   "outputs": [],
   "source": []
  },
  {
   "cell_type": "code",
   "execution_count": null,
   "metadata": {},
   "outputs": [],
   "source": []
  },
  {
   "cell_type": "code",
   "execution_count": null,
   "metadata": {},
   "outputs": [],
   "source": []
  },
  {
   "cell_type": "markdown",
   "metadata": {
    "slideshow": {
     "slide_type": "slide"
    }
   },
   "source": [
    "# Linear Regression\n",
    "\n",
    "Machine learning is about using data to infer patterns.\n",
    "\n",
    "Linear regression is the basic unit of Deep Learning. In fact, for some deep learning algorithms, I prefer to think of it as stacking linear regression modules.\n",
    "\n",
    "Deep Learning has proven itself over and over again to be far superior to traditional machine learning techiques. Its strength comes from the fact that it can be scalable to large amounts of data. \n",
    "\n",
    "Some of the most impressive applications are in voice recognition, self driving cars and in chatbots.\n",
    "\n",
    "If you are finding this tutorial challenging try playing around with https://www.blog.google/topics/machine-learning/now-anyone-can-explore-machine-learning-no-coding-required/ (and make sure you watch the video as well) . For a bit more mathematical take, try reading: https://ml.berkeley.edu/blog/2016/11/06/tutorial-1/. Also watch the "
   ]
  },
  {
   "cell_type": "code",
   "execution_count": 20,
   "metadata": {
    "scrolled": true
   },
   "outputs": [
    {
     "data": {
      "image/jpeg": "[encoded data removed]",
      "text/html": [
       "\n",
       "        <iframe\n",
       "            width=\"400\"\n",
       "            height=\"300\"\n",
       "            src=\"https://www.youtube.com/embed/jpmGxOB2YPo\"\n",
       "            frameborder=\"0\"\n",
       "            allowfullscreen\n",
       "        ></iframe>\n",
       "        "
      ],
      "text/plain": [
       "<IPython.lib.display.YouTubeVideo at 0x7fac700bbd50>"
      ]
     },
     "execution_count": 20,
     "metadata": {},
     "output_type": "execute_result"
    }
   ],
   "source": [
    "from IPython.display import YouTubeVideo\n",
    "YouTubeVideo(\"jpmGxOB2YPo\")"
   ]
  },
  {
   "cell_type": "code",
   "execution_count": 22,
   "metadata": {
    "slideshow": {
     "slide_type": "slide"
    }
   },
   "outputs": [],
   "source": [
    "import numpy as np\n",
    "import matplotlib.pyplot as plt\n",
    "\n",
    "%matplotlib inline"
   ]
  },
  {
   "cell_type": "markdown",
   "metadata": {
    "slideshow": {
     "slide_type": "fragment"
    }
   },
   "source": [
    "Consider the line $y=2x+3$. See below for a light introduction to plotting and numpy arrays. Numpy arrays are really important to understand. If you have experience with Matlab once you take out the `np.` part it should be familiar to the relevant Matlab function."
   ]
  },
  {
   "cell_type": "code",
   "execution_count": 23,
   "metadata": {
    "slideshow": {
     "slide_type": "slide"
    }
   },
   "outputs": [
    {
     "data": {
      "image/png": "[encoded data removed]",
      "text/plain": [
       "<Figure size 432x288 with 1 Axes>"
      ]
     },
     "metadata": {
      "needs_background": "light"
     },
     "output_type": "display_data"
    }
   ],
   "source": [
    "x = np.linspace(-5,5,num=100)\n",
    "y = 2*x+3\n",
    "\n",
    "plt.plot(x,y)\n",
    "plt.show()"
   ]
  },
  {
   "cell_type": "markdown",
   "metadata": {
    "slideshow": {
     "slide_type": "slide"
    }
   },
   "source": [
    "This is how you define a function in Python. Remember to return the value."
   ]
  },
  {
   "cell_type": "code",
   "execution_count": 24,
   "metadata": {
    "slideshow": {
     "slide_type": "fragment"
    }
   },
   "outputs": [],
   "source": [
    "def f(w,b):\n",
    "    \"\"\"\n",
    "    We will limit ourselves to a linear function\n",
    "    \"\"\"\n",
    "    return w*x+b\n",
    "\n",
    "def loss_function(w,b):\n",
    "    \"\"\"\n",
    "    Loss function (squared error)\n",
    "    Note that w and b are the ONLY variables\n",
    "    \"\"\"\n",
    "    e = y - f(w,b)\n",
    "    return np.mean(np.square(e))"
   ]
  },
  {
   "cell_type": "markdown",
   "metadata": {
    "slideshow": {
     "slide_type": "slide"
    }
   },
   "source": [
    "## Find the function\n",
    "\n",
    "Given the observation $x,y$ the goal is to find the best parameters, $w,b$ that fits the data. Ignore the fact that you can solve this as an equation. Most of the time the data isn't as linear or noiseless as what is being presented here.\n",
    "\n",
    "The most naiive way of finding $w$ and $b$ is to do a grid search over $w$ and $b$ for the smallest loss function value. In this case the loss function is: $$\\frac{1}{N}\\sum_{i=1}^N \\xi_i^2$$ where, $\\xi_i = y_i - f(x_i|w,b)$ and $f(x_i|w,b)=wx_i+b$."
   ]
  },
  {
   "cell_type": "markdown",
   "metadata": {
    "slideshow": {
     "slide_type": "slide"
    }
   },
   "source": [
    "Another way of stating the above is that we need to find the best fitting function $f(x_i|w,b)$ such that we minimize the __loss function__ by varying $w$ and $b$. An illustration is shown below:"
   ]
  },
  {
   "cell_type": "code",
   "execution_count": 25,
   "metadata": {
    "slideshow": {
     "slide_type": "fragment"
    }
   },
   "outputs": [
    {
     "data": {
      "text/plain": [
       "array([-7.        , -6.7979798 , -6.5959596 , -6.39393939, -6.19191919,\n",
       "       -5.98989899, -5.78787879, -5.58585859, -5.38383838, -5.18181818,\n",
       "       -4.97979798, -4.77777778, -4.57575758, -4.37373737, -4.17171717,\n",
       "       -3.96969697, -3.76767677, -3.56565657, -3.36363636, -3.16161616,\n",
       "       -2.95959596, -2.75757576, -2.55555556, -2.35353535, -2.15151515,\n",
       "       -1.94949495, -1.74747475, -1.54545455, -1.34343434, -1.14141414,\n",
       "       -0.93939394, -0.73737374, -0.53535354, -0.33333333, -0.13131313,\n",
       "        0.07070707,  0.27272727,  0.47474747,  0.67676768,  0.87878788,\n",
       "        1.08080808,  1.28282828,  1.48484848,  1.68686869,  1.88888889,\n",
       "        2.09090909,  2.29292929,  2.49494949,  2.6969697 ,  2.8989899 ,\n",
       "        3.1010101 ,  3.3030303 ,  3.50505051,  3.70707071,  3.90909091,\n",
       "        4.11111111,  4.31313131,  4.51515152,  4.71717172,  4.91919192,\n",
       "        5.12121212,  5.32323232,  5.52525253,  5.72727273,  5.92929293,\n",
       "        6.13131313,  6.33333333,  6.53535354,  6.73737374,  6.93939394,\n",
       "        7.14141414,  7.34343434,  7.54545455,  7.74747475,  7.94949495,\n",
       "        8.15151515,  8.35353535,  8.55555556,  8.75757576,  8.95959596,\n",
       "        9.16161616,  9.36363636,  9.56565657,  9.76767677,  9.96969697,\n",
       "       10.17171717, 10.37373737, 10.57575758, 10.77777778, 10.97979798,\n",
       "       11.18181818, 11.38383838, 11.58585859, 11.78787879, 11.98989899,\n",
       "       12.19191919, 12.39393939, 12.5959596 , 12.7979798 , 13.        ])"
      ]
     },
     "execution_count": 25,
     "metadata": {},
     "output_type": "execute_result"
    }
   ],
   "source": [
    "y"
   ]
  },
  {
   "cell_type": "code",
   "execution_count": 26,
   "metadata": {
    "slideshow": {
     "slide_type": "slide"
    }
   },
   "outputs": [
    {
     "data": {
      "text/plain": [
       "array([-5.        , -4.8989899 , -4.7979798 , -4.6969697 , -4.5959596 ,\n",
       "       -4.49494949, -4.39393939, -4.29292929, -4.19191919, -4.09090909,\n",
       "       -3.98989899, -3.88888889, -3.78787879, -3.68686869, -3.58585859,\n",
       "       -3.48484848, -3.38383838, -3.28282828, -3.18181818, -3.08080808,\n",
       "       -2.97979798, -2.87878788, -2.77777778, -2.67676768, -2.57575758,\n",
       "       -2.47474747, -2.37373737, -2.27272727, -2.17171717, -2.07070707,\n",
       "       -1.96969697, -1.86868687, -1.76767677, -1.66666667, -1.56565657,\n",
       "       -1.46464646, -1.36363636, -1.26262626, -1.16161616, -1.06060606,\n",
       "       -0.95959596, -0.85858586, -0.75757576, -0.65656566, -0.55555556,\n",
       "       -0.45454545, -0.35353535, -0.25252525, -0.15151515, -0.05050505,\n",
       "        0.05050505,  0.15151515,  0.25252525,  0.35353535,  0.45454545,\n",
       "        0.55555556,  0.65656566,  0.75757576,  0.85858586,  0.95959596,\n",
       "        1.06060606,  1.16161616,  1.26262626,  1.36363636,  1.46464646,\n",
       "        1.56565657,  1.66666667,  1.76767677,  1.86868687,  1.96969697,\n",
       "        2.07070707,  2.17171717,  2.27272727,  2.37373737,  2.47474747,\n",
       "        2.57575758,  2.67676768,  2.77777778,  2.87878788,  2.97979798,\n",
       "        3.08080808,  3.18181818,  3.28282828,  3.38383838,  3.48484848,\n",
       "        3.58585859,  3.68686869,  3.78787879,  3.88888889,  3.98989899,\n",
       "        4.09090909,  4.19191919,  4.29292929,  4.39393939,  4.49494949,\n",
       "        4.5959596 ,  4.6969697 ,  4.7979798 ,  4.8989899 ,  5.        ])"
      ]
     },
     "execution_count": 26,
     "metadata": {},
     "output_type": "execute_result"
    }
   ],
   "source": [
    "x"
   ]
  },
  {
   "cell_type": "code",
   "execution_count": 27,
   "metadata": {
    "slideshow": {
     "slide_type": "slide"
    }
   },
   "outputs": [
    {
     "data": {
      "text/plain": [
       "1.0"
      ]
     },
     "execution_count": 27,
     "metadata": {},
     "output_type": "execute_result"
    }
   ],
   "source": [
    "loss_function(2,2)"
   ]
  },
  {
   "cell_type": "code",
   "execution_count": 28,
   "metadata": {
    "slideshow": {
     "slide_type": "fragment"
    }
   },
   "outputs": [
    {
     "data": {
      "text/plain": [
       "0.0"
      ]
     },
     "execution_count": 28,
     "metadata": {},
     "output_type": "execute_result"
    }
   ],
   "source": [
    "loss_function(2,3)"
   ]
  },
  {
   "cell_type": "code",
   "execution_count": 29,
   "metadata": {
    "slideshow": {
     "slide_type": "fragment"
    }
   },
   "outputs": [],
   "source": [
    "###https://www.geeksforgeeks.org/numpy-meshgrid-function/\n",
    "w_try, b_try = np.meshgrid(np.linspace(-5,5), np.linspace(-5,5))"
   ]
  },
  {
   "cell_type": "code",
   "execution_count": 30,
   "metadata": {
    "slideshow": {
     "slide_type": "slide"
    }
   },
   "outputs": [
    {
     "data": {
      "text/plain": [
       "array([[-5.        , -4.79591837, -4.59183673, ...,  4.59183673,\n",
       "         4.79591837,  5.        ],\n",
       "       [-5.        , -4.79591837, -4.59183673, ...,  4.59183673,\n",
       "         4.79591837,  5.        ],\n",
       "       [-5.        , -4.79591837, -4.59183673, ...,  4.59183673,\n",
       "         4.79591837,  5.        ],\n",
       "       ...,\n",
       "       [-5.        , -4.79591837, -4.59183673, ...,  4.59183673,\n",
       "         4.79591837,  5.        ],\n",
       "       [-5.        , -4.79591837, -4.59183673, ...,  4.59183673,\n",
       "         4.79591837,  5.        ],\n",
       "       [-5.        , -4.79591837, -4.59183673, ...,  4.59183673,\n",
       "         4.79591837,  5.        ]])"
      ]
     },
     "execution_count": 30,
     "metadata": {},
     "output_type": "execute_result"
    }
   ],
   "source": [
    "w_try"
   ]
  },
  {
   "cell_type": "code",
   "execution_count": 31,
   "metadata": {
    "slideshow": {
     "slide_type": "slide"
    }
   },
   "outputs": [
    {
     "data": {
      "text/plain": [
       "array([[-5.        , -5.        , -5.        , ..., -5.        ,\n",
       "        -5.        , -5.        ],\n",
       "       [-4.79591837, -4.79591837, -4.79591837, ..., -4.79591837,\n",
       "        -4.79591837, -4.79591837],\n",
       "       [-4.59183673, -4.59183673, -4.59183673, ..., -4.59183673,\n",
       "        -4.59183673, -4.59183673],\n",
       "       ...,\n",
       "       [ 4.59183673,  4.59183673,  4.59183673, ...,  4.59183673,\n",
       "         4.59183673,  4.59183673],\n",
       "       [ 4.79591837,  4.79591837,  4.79591837, ...,  4.79591837,\n",
       "         4.79591837,  4.79591837],\n",
       "       [ 5.        ,  5.        ,  5.        , ...,  5.        ,\n",
       "         5.        ,  5.        ]])"
      ]
     },
     "execution_count": 31,
     "metadata": {},
     "output_type": "execute_result"
    }
   ],
   "source": [
    "b_try"
   ]
  },
  {
   "cell_type": "code",
   "execution_count": 38,
   "metadata": {
    "slideshow": {
     "slide_type": "slide"
    }
   },
   "outputs": [
    {
     "data": {
      "image/png": "[encoded data removed]",
      "text/plain": [
       "<Figure size 432x288 with 1 Axes>"
      ]
     },
     "metadata": {
      "needs_background": "light"
     },
     "output_type": "display_data"
    }
   ],
   "source": [
    "w_try = np.linspace(-4,4,num=100)\n",
    "b_try = np.linspace(-4,4,num=100)\n",
    "\n",
    "w_try, b_try = np.meshgrid(w_try,b_try)\n",
    "e_obs = np.zeros((100,100))\n",
    "\n",
    "for i in range(100):\n",
    "    for j in range(100):\n",
    "        e_obs[i,j] = loss_function(w_try[i,j],b_try[i,j])\n",
    "        \n",
    "plt.pcolormesh(w_try, b_try, np.log(e_obs), shading='auto') #using log here helps visualise better, you may take it out\n",
    "# Either specify the corners of the quadrilaterals with X and Y, \n",
    "# or pass shading='auto', 'nearest' or 'gouraud', or set rcParams['pcolor.shading'].\n",
    "plt.xlabel('w')\n",
    "plt.ylabel('b')\n",
    "plt.title('Mean Squared Error')\n",
    "plt.show()        "
   ]
  },
  {
   "cell_type": "markdown",
   "metadata": {
    "slideshow": {
     "slide_type": "slide"
    }
   },
   "source": [
    "You can see that the error in the plot is minimised at $w=2$ and $b=3$."
   ]
  },
  {
   "cell_type": "code",
   "execution_count": 13,
   "metadata": {
    "slideshow": {
     "slide_type": "fragment"
    }
   },
   "outputs": [
    {
     "data": {
      "text/plain": [
       "355.06060606060601"
      ]
     },
     "execution_count": 13,
     "metadata": {},
     "output_type": "execute_result"
    }
   ],
   "source": [
    "e_obs.max()"
   ]
  },
  {
   "cell_type": "code",
   "execution_count": 14,
   "metadata": {
    "slideshow": {
     "slide_type": "fragment"
    }
   },
   "outputs": [
    {
     "data": {
      "text/plain": [
       "0.0043879944910451526"
      ]
     },
     "execution_count": 14,
     "metadata": {},
     "output_type": "execute_result"
    }
   ],
   "source": [
    "e_obs.min()"
   ]
  },
  {
   "cell_type": "markdown",
   "metadata": {
    "slideshow": {
     "slide_type": "slide"
    }
   },
   "source": [
    "Algorithms try to be a bit smarter by following the gradients to find the minimum. Remember we can only influence the error via the weights (and bias) `w,b`.\n",
    "\n",
    "## Maths (optional - no really)\n",
    "\\begin{align}\n",
    "\\mathcal{L} & = \\sum_{i=1}^N (y_i-f(x_i,w,b))^2 \\\\\n",
    "\\frac{\\delta\\mathcal{L}}{\\delta w} & = \\sum_{i=1}^N 2(y_i-f(x_i,w,b))\\frac{\\delta f(x_i,w,b)}{\\delta w} \\\\ \n",
    "& = \\sum_{i=1}^N 2\\xi_i\\frac{\\delta f(x_i,w,b)}{\\delta w}\n",
    "\\end{align}\n",
    "where $\\xi_i$ is the error term $y_i-f(x_i,w,b)$ and \n",
    "$$\n",
    "\\frac{\\delta f(x_i,w,b)}{\\delta w} = x_i\n",
    "$$\n",
    "\n",
    "Similar expression can be found for $\\frac{\\delta\\mathcal{L}}{\\delta b}$ (exercise).\n",
    "\n",
    "Finally the weights can be updated as $w_{new} = w_{current} - \\gamma \\frac{\\delta\\mathcal{L}}{\\delta w}$ where $\\gamma$ is a learning rate between 0 and 1."
   ]
  },
  {
   "cell_type": "code",
   "execution_count": 39,
   "metadata": {},
   "outputs": [
    {
     "data": {
      "image/jpeg": "[encoded data removed]",
      "text/html": [
       "\n",
       "        <iframe\n",
       "            width=\"400\"\n",
       "            height=\"300\"\n",
       "            src=\"https://www.youtube.com/embed/EvnpoUTXA0E\"\n",
       "            frameborder=\"0\"\n",
       "            allowfullscreen\n",
       "        ></iframe>\n",
       "        "
      ],
      "text/plain": [
       "<IPython.lib.display.YouTubeVideo at 0x7fac92c12a50>"
      ]
     },
     "execution_count": 39,
     "metadata": {},
     "output_type": "execute_result"
    }
   ],
   "source": [
    "from IPython.display import YouTubeVideo\n",
    "YouTubeVideo(\"EvnpoUTXA0E\")"
   ]
  },
  {
   "cell_type": "markdown",
   "metadata": {
    "slideshow": {
     "slide_type": "fragment"
    }
   },
   "source": [
    "## Noisy Data\n",
    "Scikit learn is another Machine Learning that is quite powerful on itself. However it may not scale to millions of data points same way that DL does.\n",
    "\n",
    "We see how to find the weights using scikit learn below. However, the data isn't as perfect as before. We add a tiny bit of noise."
   ]
  },
  {
   "cell_type": "code",
   "execution_count": 10,
   "metadata": {
    "collapsed": true,
    "slideshow": {
     "slide_type": "slide"
    }
   },
   "outputs": [],
   "source": [
    "from sklearn.linear_model import LinearRegression"
   ]
  },
  {
   "cell_type": "code",
   "execution_count": 15,
   "metadata": {},
   "outputs": [
    {
     "data": {
      "text/plain": [
       "<matplotlib.collections.PathCollection at 0x1a16c53cf8>"
      ]
     },
     "execution_count": 15,
     "metadata": {},
     "output_type": "execute_result"
    },
    {
     "data": {
      "image/png": "[encoded data removed]",
      "text/plain": [
       "<Figure size 432x288 with 1 Axes>"
      ]
     },
     "metadata": {},
     "output_type": "display_data"
    }
   ],
   "source": [
    "x = np.random.randn(10,1)\n",
    "y = 2*x+3 + 0.1*np.random.randn(10,1)\n",
    "\n",
    "plt.scatter(x,y)\n",
    "plt.show()"
   ]
  },
  {
   "cell_type": "code",
   "execution_count": 17,
   "metadata": {},
   "outputs": [
    {
     "data": {
      "text/plain": [
       "array([[-0.0710438 ],\n",
       "       [-1.63204099],\n",
       "       [ 0.61393732],\n",
       "       [-0.72602171],\n",
       "       [ 0.56296216],\n",
       "       [-1.19009865],\n",
       "       [ 0.21120869],\n",
       "       [ 1.11886921],\n",
       "       [-0.21082568],\n",
       "       [-2.44257088]])"
      ]
     },
     "execution_count": 17,
     "metadata": {},
     "output_type": "execute_result"
    }
   ],
   "source": [
    "x"
   ]
  },
  {
   "cell_type": "code",
   "execution_count": 16,
   "metadata": {},
   "outputs": [
    {
     "data": {
      "text/plain": [
       "LinearRegression(copy_X=True, fit_intercept=True, n_jobs=None,\n",
       "         normalize=False)"
      ]
     },
     "execution_count": 16,
     "metadata": {},
     "output_type": "execute_result"
    }
   ],
   "source": [
    "model = LinearRegression() # \n",
    "model.fit(x,y)"
   ]
  },
  {
   "cell_type": "code",
   "execution_count": 19,
   "metadata": {},
   "outputs": [
    {
     "data": {
      "text/plain": [
       "array([[ 2.00976455]])"
      ]
     },
     "execution_count": 19,
     "metadata": {},
     "output_type": "execute_result"
    }
   ],
   "source": [
    "model.coef_"
   ]
  },
  {
   "cell_type": "code",
   "execution_count": 20,
   "metadata": {},
   "outputs": [
    {
     "data": {
      "text/plain": [
       "array([ 3.03645155])"
      ]
     },
     "execution_count": 20,
     "metadata": {},
     "output_type": "execute_result"
    }
   ],
   "source": [
    "model.intercept_"
   ]
  },
  {
   "cell_type": "code",
   "execution_count": 21,
   "metadata": {},
   "outputs": [
    {
     "data": {
      "text/plain": [
       "array([[ 43.2317426]])"
      ]
     },
     "execution_count": 21,
     "metadata": {},
     "output_type": "execute_result"
    }
   ],
   "source": [
    "model.predict(20)"
   ]
  },
  {
   "cell_type": "markdown",
   "metadata": {},
   "source": [
    "## Note:\n",
    "1. `model.fit(...)` and `model.predict` will be two of the most important functions you will use all throughout. Worth remembering!"
   ]
  },
  {
   "cell_type": "code",
   "execution_count": 22,
   "metadata": {},
   "outputs": [
    {
     "data": {
      "text/plain": [
       "43"
      ]
     },
     "execution_count": 22,
     "metadata": {},
     "output_type": "execute_result"
    }
   ],
   "source": [
    "2*20+3"
   ]
  },
  {
   "cell_type": "code",
   "execution_count": 30,
   "metadata": {},
   "outputs": [
    {
     "data": {
      "text/plain": [
       "(50, 1)"
      ]
     },
     "execution_count": 30,
     "metadata": {},
     "output_type": "execute_result"
    }
   ],
   "source": [
    "x_test = np.linspace(-3,3)\n",
    "x_test[:, None].shape"
   ]
  },
  {
   "cell_type": "code",
   "execution_count": 29,
   "metadata": {},
   "outputs": [
    {
     "data": {
      "text/plain": [
       "<matplotlib.collections.PathCollection at 0x1a17098e48>"
      ]
     },
     "execution_count": 29,
     "metadata": {},
     "output_type": "execute_result"
    },
    {
     "data": {
      "text/plain": [
       "[<matplotlib.lines.Line2D at 0x1a16feec50>]"
      ]
     },
     "execution_count": 29,
     "metadata": {},
     "output_type": "execute_result"
    },
    {
     "data": {
      "text/plain": [
       "<matplotlib.legend.Legend at 0x1a170a3390>"
      ]
     },
     "execution_count": 29,
     "metadata": {},
     "output_type": "execute_result"
    },
    {
     "data": {
      "image/png": "[encoded data removed]",
      "text/plain": [
       "<Figure size 432x288 with 1 Axes>"
      ]
     },
     "metadata": {},
     "output_type": "display_data"
    }
   ],
   "source": [
    "x_test = np.linspace(-3,3)\n",
    "y_pred = model.predict(x_test.reshape(-1, 1))\n",
    "\n",
    "plt.scatter(x,y)\n",
    "plt.plot(x_test,y_pred,'r')\n",
    "plt.legend(['Predicted line','Observed data'])\n",
    "plt.show()"
   ]
  },
  {
   "cell_type": "markdown",
   "metadata": {},
   "source": [
    "## More complicated functions\n",
    "Remember that when we say linear regression it mean linear in the parmaters $w, b$ not $x$! See illustration below:\n",
    "\n",
    "\\begin{align}\n",
    "y & = b +w^T X \\\\\n",
    "X & = [x\\quad x^2\\quad x^3] \\\\\n",
    "y & = b +wx +w_2 x^2 +w_3 x^3 \\\\\n",
    "\\end{align}\n",
    "The shapes of the matrices are:\n",
    "- X = NxD matrix\n",
    "- y = Nx1 vector\n",
    "- w = Dx1 vector\n",
    "\n"
   ]
  },
  {
   "cell_type": "code",
   "execution_count": null,
   "metadata": {
    "collapsed": true
   },
   "outputs": [],
   "source": []
  }
 ],
 "metadata": {
  "anaconda-cloud": {},
  "celltoolbar": "Slideshow",
  "kernelspec": {
   "display_name": "Python 3",
   "language": "python",
   "name": "python3"
  },
  "language_info": {
   "codemirror_mode": {
    "name": "ipython",
    "version": 3
   },
   "file_extension": ".py",
   "mimetype": "text/x-python",
   "name": "python",
   "nbconvert_exporter": "python",
   "pygments_lexer": "ipython3",
   "version": "3.7.6"
  },
  "latex_envs": {
   "bibliofile": "biblio.bib",
   "cite_by": "apalike",
   "current_citInitial": 1,
   "eqLabelWithNumbers": true,
   "eqNumInitial": 0
  }
 },
 "nbformat": 4,
 "nbformat_minor": 1
}
