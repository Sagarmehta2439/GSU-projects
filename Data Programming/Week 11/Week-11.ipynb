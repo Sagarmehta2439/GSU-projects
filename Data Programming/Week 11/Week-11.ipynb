{
 "cells": [
  {
   "cell_type": "markdown",
   "metadata": {
    "slideshow": {
     "slide_type": "slide"
    }
   },
   "source": [
    "# Announcements\n",
    "\n",
    "**Assignment 5**<br>\n",
    "\n",
    "**Project 2**<br>\n",
    "\n",
    "**Practicing makes much difference.** \n",
    "\n",
    "**If not feeling well, go to a doctor and bring a note.** \n",
    "\n",
    "**Assignments and Projects**<br>\n",
    "For assistance in your assignment or project, if you are close to the deadline (e.g., one day earlier), it may be harder to find help.\n"
   ]
  },
  {
   "cell_type": "code",
   "execution_count": 1,
   "metadata": {
    "ExecuteTime": {
     "end_time": "2021-11-03T19:35:11.431439Z",
     "start_time": "2021-11-03T19:35:07.476473Z"
    },
    "slideshow": {
     "slide_type": "slide"
    }
   },
   "outputs": [],
   "source": [
    "###copy right \n",
    "#https://github.com/zhlli1/Genism-word2vec/blob/master/Genism%20Word2Vec%20Tutorial.ipynb\n",
    "### This tutorial code is copied for educational purpose.\n",
    "\n",
    "# basic libraries\n",
    "import pandas as pd\n",
    "import numpy as np\n",
    "from sklearn.manifold import TSNE\n",
    "from numpy import dot\n",
    "from numpy.linalg import norm\n",
    "import warnings\n",
    "warnings.filterwarnings('ignore')\n",
    "from time import time  # To time our operations\n",
    "\n",
    "## visulization lirbraries\n",
    "import matplotlib.pyplot as plt\n",
    "%matplotlib notebook\n",
    "import seaborn as sns"
   ]
  },
  {
   "cell_type": "code",
   "execution_count": 3,
   "metadata": {
    "ExecuteTime": {
     "end_time": "2021-11-03T19:35:47.944235Z",
     "start_time": "2021-11-03T19:35:47.772176Z"
    },
    "slideshow": {
     "slide_type": "skip"
    }
   },
   "outputs": [
    {
     "name": "stdout",
     "output_type": "stream",
     "text": [
      "zsh:1: command not found: conda\r\n"
     ]
    }
   ],
   "source": [
    "#If spacy not installed\n",
    "import sys\n",
    "!conda install --yes --prefix {sys.prefix} spacy\n",
    "#If gensim not installed, run this on terminal or command line. \n",
    "#conda install -c anaconda gensim"
   ]
  },
  {
   "cell_type": "code",
   "execution_count": 4,
   "metadata": {
    "ExecuteTime": {
     "end_time": "2021-11-03T19:37:41.135613Z",
     "start_time": "2021-11-03T19:36:48.352139Z"
    }
   },
   "outputs": [
    {
     "name": "stdout",
     "output_type": "stream",
     "text": [
      "Collecting package metadata (current_repodata.json): done\n",
      "Solving environment: done\n",
      "\n",
      "## Package Plan ##\n",
      "\n",
      "  environment location: /opt/anaconda3\n",
      "\n",
      "  added / updated specs:\n",
      "    - spacy\n",
      "\n",
      "\n",
      "The following packages will be downloaded:\n",
      "\n",
      "    package                    |            build\n",
      "    ---------------------------|-----------------\n",
      "    ca-certificates-2021.10.8  |       h033912b_0         139 KB  conda-forge\n",
      "    certifi-2021.10.8          |   py37hf985489_1         145 KB  conda-forge\n",
      "    conda-4.10.3               |   py37hf985489_3         3.1 MB  conda-forge\n",
      "    ------------------------------------------------------------\n",
      "                                           Total:         3.3 MB\n",
      "\n",
      "The following packages will be UPDATED:\n",
      "\n",
      "  ca-certificates    pkgs/main::ca-certificates-2021.9.30-~ --> conda-forge::ca-certificates-2021.10.8-h033912b_0\n",
      "  certifi            pkgs/main::certifi-2021.10.8-py37hecd~ --> conda-forge::certifi-2021.10.8-py37hf985489_1\n",
      "  conda              pkgs/main::conda-4.10.3-py37hecd8cb5_0 --> conda-forge::conda-4.10.3-py37hf985489_3\n",
      "\n",
      "The following packages will be SUPERSEDED by a higher-priority channel:\n",
      "\n",
      "  openssl              pkgs/main::openssl-1.1.1l-h9ed2024_0 --> conda-forge::openssl-1.1.1l-h0d85af4_0\n",
      "\n",
      "\n",
      "\n",
      "Downloading and Extracting Packages\n",
      "conda-4.10.3         | 3.1 MB    | ##################################### | 100% \n",
      "certifi-2021.10.8    | 145 KB    | ##################################### | 100% \n",
      "ca-certificates-2021 | 139 KB    | ##################################### | 100% \n",
      "Preparing transaction: done\n",
      "Verifying transaction: - WARNING conda.core.path_actions:verify(963): Unable to create environments file. Path not writable.\n",
      "  environment location: /Users/sagar/.conda/environments.txt\n",
      "\n",
      "done\n",
      "Executing transaction: done\n",
      "\n",
      "Note: you may need to restart the kernel to use updated packages.\n"
     ]
    }
   ],
   "source": [
    "conda install -c conda-forge spacy"
   ]
  },
  {
   "cell_type": "code",
   "execution_count": 5,
   "metadata": {
    "ExecuteTime": {
     "end_time": "2021-11-03T19:37:54.819577Z",
     "start_time": "2021-11-03T19:37:49.414768Z"
    },
    "slideshow": {
     "slide_type": "slide"
    }
   },
   "outputs": [],
   "source": [
    "#NLP data pre-processing\n",
    "import re  # For preprocessing\n",
    "from collections import defaultdict  # For word frequency\n",
    "import spacy  # For preprocessing\n",
    "\n",
    "## modeling\n",
    "import smart_open\n",
    "smart_open.open = smart_open.smart_open \n",
    "from gensim.models import Word2Vec\n",
    "import logging  # Setting up the loggings to monitor gensim\n",
    "logging.basicConfig(format=\"%(levelname)s - %(asctime)s: %(message)s\", datefmt= '%H:%M:%S', level=logging.INFO)\n"
   ]
  },
  {
   "cell_type": "markdown",
   "metadata": {
    "slideshow": {
     "slide_type": "slide"
    }
   },
   "source": [
    "## Dataset Description\n",
    "\n",
    "The dataset I used for this tutorial is from Kaggle Dataset( https://www.kaggle.com/CooperUnion/cardataset) \n",
    "\n",
    "This cars dataset includes features such as make, model, year, engine, and other properties of the car. \n",
    "\n",
    "We will use these features to generate the word embeddings for each make model and then compare the similarities between different make model. "
   ]
  },
  {
   "cell_type": "markdown",
   "metadata": {
    "slideshow": {
     "slide_type": "slide"
    }
   },
   "source": [
    "The following dataframe shows the detail information of this dataset."
   ]
  },
  {
   "cell_type": "code",
   "execution_count": 7,
   "metadata": {
    "ExecuteTime": {
     "end_time": "2021-11-03T19:40:01.184320Z",
     "start_time": "2021-11-03T19:40:01.083231Z"
    },
    "slideshow": {
     "slide_type": "fragment"
    }
   },
   "outputs": [
    {
     "data": {
      "text/html": [
       "<div>\n",
       "<style scoped>\n",
       "    .dataframe tbody tr th:only-of-type {\n",
       "        vertical-align: middle;\n",
       "    }\n",
       "\n",
       "    .dataframe tbody tr th {\n",
       "        vertical-align: top;\n",
       "    }\n",
       "\n",
       "    .dataframe thead th {\n",
       "        text-align: right;\n",
       "    }\n",
       "</style>\n",
       "<table border=\"1\" class=\"dataframe\">\n",
       "  <thead>\n",
       "    <tr style=\"text-align: right;\">\n",
       "      <th></th>\n",
       "      <th>Make</th>\n",
       "      <th>Model</th>\n",
       "      <th>Year</th>\n",
       "      <th>Engine Fuel Type</th>\n",
       "      <th>Engine HP</th>\n",
       "      <th>Engine Cylinders</th>\n",
       "      <th>Transmission Type</th>\n",
       "      <th>Driven_Wheels</th>\n",
       "      <th>Number of Doors</th>\n",
       "      <th>Market Category</th>\n",
       "      <th>Vehicle Size</th>\n",
       "      <th>Vehicle Style</th>\n",
       "      <th>highway MPG</th>\n",
       "      <th>city mpg</th>\n",
       "      <th>Popularity</th>\n",
       "      <th>MSRP</th>\n",
       "    </tr>\n",
       "  </thead>\n",
       "  <tbody>\n",
       "    <tr>\n",
       "      <th>0</th>\n",
       "      <td>BMW</td>\n",
       "      <td>1 Series M</td>\n",
       "      <td>2011</td>\n",
       "      <td>premium unleaded (required)</td>\n",
       "      <td>335.0</td>\n",
       "      <td>6.0</td>\n",
       "      <td>MANUAL</td>\n",
       "      <td>rear wheel drive</td>\n",
       "      <td>2.0</td>\n",
       "      <td>Factory Tuner,Luxury,High-Performance</td>\n",
       "      <td>Compact</td>\n",
       "      <td>Coupe</td>\n",
       "      <td>26</td>\n",
       "      <td>19</td>\n",
       "      <td>3916</td>\n",
       "      <td>46135</td>\n",
       "    </tr>\n",
       "    <tr>\n",
       "      <th>1</th>\n",
       "      <td>BMW</td>\n",
       "      <td>1 Series</td>\n",
       "      <td>2011</td>\n",
       "      <td>premium unleaded (required)</td>\n",
       "      <td>300.0</td>\n",
       "      <td>6.0</td>\n",
       "      <td>MANUAL</td>\n",
       "      <td>rear wheel drive</td>\n",
       "      <td>2.0</td>\n",
       "      <td>Luxury,Performance</td>\n",
       "      <td>Compact</td>\n",
       "      <td>Convertible</td>\n",
       "      <td>28</td>\n",
       "      <td>19</td>\n",
       "      <td>3916</td>\n",
       "      <td>40650</td>\n",
       "    </tr>\n",
       "    <tr>\n",
       "      <th>2</th>\n",
       "      <td>BMW</td>\n",
       "      <td>1 Series</td>\n",
       "      <td>2011</td>\n",
       "      <td>premium unleaded (required)</td>\n",
       "      <td>300.0</td>\n",
       "      <td>6.0</td>\n",
       "      <td>MANUAL</td>\n",
       "      <td>rear wheel drive</td>\n",
       "      <td>2.0</td>\n",
       "      <td>Luxury,High-Performance</td>\n",
       "      <td>Compact</td>\n",
       "      <td>Coupe</td>\n",
       "      <td>28</td>\n",
       "      <td>20</td>\n",
       "      <td>3916</td>\n",
       "      <td>36350</td>\n",
       "    </tr>\n",
       "    <tr>\n",
       "      <th>3</th>\n",
       "      <td>BMW</td>\n",
       "      <td>1 Series</td>\n",
       "      <td>2011</td>\n",
       "      <td>premium unleaded (required)</td>\n",
       "      <td>230.0</td>\n",
       "      <td>6.0</td>\n",
       "      <td>MANUAL</td>\n",
       "      <td>rear wheel drive</td>\n",
       "      <td>2.0</td>\n",
       "      <td>Luxury,Performance</td>\n",
       "      <td>Compact</td>\n",
       "      <td>Coupe</td>\n",
       "      <td>28</td>\n",
       "      <td>18</td>\n",
       "      <td>3916</td>\n",
       "      <td>29450</td>\n",
       "    </tr>\n",
       "    <tr>\n",
       "      <th>4</th>\n",
       "      <td>BMW</td>\n",
       "      <td>1 Series</td>\n",
       "      <td>2011</td>\n",
       "      <td>premium unleaded (required)</td>\n",
       "      <td>230.0</td>\n",
       "      <td>6.0</td>\n",
       "      <td>MANUAL</td>\n",
       "      <td>rear wheel drive</td>\n",
       "      <td>2.0</td>\n",
       "      <td>Luxury</td>\n",
       "      <td>Compact</td>\n",
       "      <td>Convertible</td>\n",
       "      <td>28</td>\n",
       "      <td>18</td>\n",
       "      <td>3916</td>\n",
       "      <td>34500</td>\n",
       "    </tr>\n",
       "  </tbody>\n",
       "</table>\n",
       "</div>"
      ],
      "text/plain": [
       "  Make       Model  Year             Engine Fuel Type  Engine HP  \\\n",
       "0  BMW  1 Series M  2011  premium unleaded (required)      335.0   \n",
       "1  BMW    1 Series  2011  premium unleaded (required)      300.0   \n",
       "2  BMW    1 Series  2011  premium unleaded (required)      300.0   \n",
       "3  BMW    1 Series  2011  premium unleaded (required)      230.0   \n",
       "4  BMW    1 Series  2011  premium unleaded (required)      230.0   \n",
       "\n",
       "   Engine Cylinders Transmission Type     Driven_Wheels  Number of Doors  \\\n",
       "0               6.0            MANUAL  rear wheel drive              2.0   \n",
       "1               6.0            MANUAL  rear wheel drive              2.0   \n",
       "2               6.0            MANUAL  rear wheel drive              2.0   \n",
       "3               6.0            MANUAL  rear wheel drive              2.0   \n",
       "4               6.0            MANUAL  rear wheel drive              2.0   \n",
       "\n",
       "                         Market Category Vehicle Size Vehicle Style  \\\n",
       "0  Factory Tuner,Luxury,High-Performance      Compact         Coupe   \n",
       "1                     Luxury,Performance      Compact   Convertible   \n",
       "2                Luxury,High-Performance      Compact         Coupe   \n",
       "3                     Luxury,Performance      Compact         Coupe   \n",
       "4                                 Luxury      Compact   Convertible   \n",
       "\n",
       "   highway MPG  city mpg  Popularity   MSRP  \n",
       "0           26        19        3916  46135  \n",
       "1           28        19        3916  40650  \n",
       "2           28        20        3916  36350  \n",
       "3           28        18        3916  29450  \n",
       "4           28        18        3916  34500  "
      ]
     },
     "execution_count": 7,
     "metadata": {},
     "output_type": "execute_result"
    }
   ],
   "source": [
    "df = pd.read_csv('data.csv')\n",
    "df.head()"
   ]
  },
  {
   "cell_type": "markdown",
   "metadata": {
    "slideshow": {
     "slide_type": "slide"
    }
   },
   "source": [
    "## Data Preprocessing\n",
    "\n",
    "Since the purpose of this tutorial is to learn how to generate word embeddings using gensimm library, we will not do the EDA and feature selection for the word2vec model for the sake of simplicity.\n",
    "Gensim word2Vec requires that a format of list of list for training where every document is contained in a list and every list contains list of tokens of that document. At first, we need to generate a format of list of list for training the make model word embedding. To be more specific, each make model is contained in a list and every list contains list of features of that make model. To achieve these, we need to do the following data preprocessing steps :\n",
    "\n",
    "Create a new column for Make Model,\n",
    "\n",
    "Generate a format of list of list for each Make Model with the following features: Engine Fuel Type, Transmission Type, Driven_Wheels, Market Category, Vehicle Size and Vehicle Style."
   ]
  },
  {
   "cell_type": "code",
   "execution_count": 9,
   "metadata": {
    "ExecuteTime": {
     "end_time": "2021-11-03T19:40:24.404468Z",
     "start_time": "2021-11-03T19:40:24.355387Z"
    },
    "slideshow": {
     "slide_type": "slide"
    }
   },
   "outputs": [
    {
     "name": "stderr",
     "output_type": "stream",
     "text": [
      "INFO - 15:40:24: NumExpr defaulting to 4 threads.\n"
     ]
    }
   ],
   "source": [
    "df['Maker_Model']= df['Make']+ \" \" + df['Model']"
   ]
  },
  {
   "cell_type": "code",
   "execution_count": 10,
   "metadata": {
    "ExecuteTime": {
     "end_time": "2021-11-03T19:40:42.167010Z",
     "start_time": "2021-11-03T19:40:41.417842Z"
    },
    "slideshow": {
     "slide_type": "fragment"
    }
   },
   "outputs": [
    {
     "data": {
      "text/plain": [
       "[['premium unleaded (required)',\n",
       "  'MANUAL',\n",
       "  'rear wheel drive',\n",
       "  'Factory Tuner',\n",
       "  'Luxury',\n",
       "  'High-Performance',\n",
       "  'Compact',\n",
       "  'Coupe',\n",
       "  'BMW 1 Series M'],\n",
       " ['premium unleaded (required)',\n",
       "  'MANUAL',\n",
       "  'rear wheel drive',\n",
       "  'Luxury',\n",
       "  'Performance',\n",
       "  'Compact',\n",
       "  'Convertible',\n",
       "  'BMW 1 Series']]"
      ]
     },
     "execution_count": 10,
     "metadata": {},
     "output_type": "execute_result"
    }
   ],
   "source": [
    "# Select features from original dataset to form a new dataframe \n",
    "df1 = df[['Engine Fuel Type','Transmission Type','Driven_Wheels','Market Category','Vehicle Size', 'Vehicle Style', 'Maker_Model']]\n",
    "# For each row, combine all the columns into one column\n",
    "df2 = df1.apply(lambda x: ','.join(x.astype(str)), axis=1) \n",
    "# Store them in the pandas dataframe\n",
    "df_clean = pd.DataFrame({'clean': df2}) \n",
    "# Create the list of list format of the custom corpus for gensim modeling \n",
    "sent = [row.split(',') for row in df_clean['clean']]\n",
    "# show the example of list of list format of the custom corpus for gensim modeling \n",
    "sent[:2]"
   ]
  },
  {
   "cell_type": "markdown",
   "metadata": {
    "slideshow": {
     "slide_type": "slide"
    }
   },
   "source": [
    "## Gensim word2vec Model Training\n",
    "\n",
    "Gensim is an open source python library for natural language processing and it was developed and is maintained by the Czech natural language processing researcher Radim Řehůřekand his company RaRe Technologies. Gensim library will enable us to develop word embedding by training our own word2vec models on a custom corpus either with CBOW or skip grams algorithms."
   ]
  },
  {
   "cell_type": "code",
   "execution_count": 11,
   "metadata": {
    "ExecuteTime": {
     "end_time": "2021-11-03T19:40:52.740502Z",
     "start_time": "2021-11-03T19:40:52.196860Z"
    },
    "slideshow": {
     "slide_type": "fragment"
    }
   },
   "outputs": [
    {
     "name": "stderr",
     "output_type": "stream",
     "text": [
      "WARNING - 15:40:52: consider setting layer size to a multiple of 4 for greater performance\n",
      "INFO - 15:40:52: collecting all words and their counts\n",
      "INFO - 15:40:52: PROGRESS: at sentence #0, processed 0 words, keeping 0 word types\n",
      "INFO - 15:40:52: PROGRESS: at sentence #10000, processed 74060 words, keeping 841 word types\n",
      "INFO - 15:40:52: collected 977 word types from a corpus of 88129 raw words and 11914 sentences\n",
      "INFO - 15:40:52: Loading a fresh vocabulary\n",
      "INFO - 15:40:52: effective_min_count=1 retains 977 unique words (100% of original 977, drops 0)\n",
      "INFO - 15:40:52: effective_min_count=1 leaves 88129 word corpus (100% of original 88129, drops 0)\n",
      "INFO - 15:40:52: deleting the raw counts dictionary of 977 items\n",
      "INFO - 15:40:52: sample=0.001 downsamples 35 most-common words\n",
      "INFO - 15:40:52: downsampling leaves estimated 29996 word corpus (34.0% of prior 88129)\n",
      "INFO - 15:40:52: estimated required memory for 977 words and 50 dimensions: 879300 bytes\n",
      "INFO - 15:40:52: resetting layer weights\n",
      "INFO - 15:40:52: training model with 3 workers on 977 vocabulary and 50 features, using sg=1 hs=0 sample=0.001 negative=5 window=3\n",
      "INFO - 15:40:52: worker thread finished; awaiting finish of 2 more threads\n",
      "INFO - 15:40:52: worker thread finished; awaiting finish of 1 more threads\n",
      "INFO - 15:40:52: worker thread finished; awaiting finish of 0 more threads\n",
      "INFO - 15:40:52: EPOCH - 1 : training on 88129 raw words (30123 effective words) took 0.1s, 597412 effective words/s\n",
      "INFO - 15:40:52: worker thread finished; awaiting finish of 2 more threads\n",
      "INFO - 15:40:52: worker thread finished; awaiting finish of 1 more threads\n",
      "INFO - 15:40:52: worker thread finished; awaiting finish of 0 more threads\n",
      "INFO - 15:40:52: EPOCH - 2 : training on 88129 raw words (30126 effective words) took 0.0s, 718016 effective words/s\n",
      "INFO - 15:40:52: worker thread finished; awaiting finish of 2 more threads\n",
      "INFO - 15:40:52: worker thread finished; awaiting finish of 1 more threads\n",
      "INFO - 15:40:52: worker thread finished; awaiting finish of 0 more threads\n",
      "INFO - 15:40:52: EPOCH - 3 : training on 88129 raw words (29997 effective words) took 0.0s, 765633 effective words/s\n",
      "INFO - 15:40:52: worker thread finished; awaiting finish of 2 more threads\n",
      "INFO - 15:40:52: worker thread finished; awaiting finish of 1 more threads\n",
      "INFO - 15:40:52: worker thread finished; awaiting finish of 0 more threads\n",
      "INFO - 15:40:52: EPOCH - 4 : training on 88129 raw words (29989 effective words) took 0.0s, 718134 effective words/s\n",
      "INFO - 15:40:52: worker thread finished; awaiting finish of 2 more threads\n",
      "INFO - 15:40:52: worker thread finished; awaiting finish of 1 more threads\n",
      "INFO - 15:40:52: worker thread finished; awaiting finish of 0 more threads\n",
      "INFO - 15:40:52: EPOCH - 5 : training on 88129 raw words (29990 effective words) took 0.0s, 711463 effective words/s\n",
      "INFO - 15:40:52: training on a 440645 raw words (150225 effective words) took 0.3s, 566264 effective words/s\n"
     ]
    }
   ],
   "source": [
    "## Train the gensim word2vec model with our own custom corpus\n",
    "model = Word2Vec(sent, min_count=1,size= 50,workers=3, window =3, sg = 1)"
   ]
  },
  {
   "cell_type": "markdown",
   "metadata": {
    "slideshow": {
     "slide_type": "slide"
    }
   },
   "source": [
    "\n",
    "Let's try to understand the hyperparameter of this model.\n",
    "\n",
    "**size:** The number of dimensions of the embeddings and the default is 100.\n",
    "\n",
    "**window:** The maximum distance between a target word and words around the target word. The default window is 5.\n",
    "\n",
    "**min_count:** The minimum count of words to consider when training the model; words with occurrence less than this count will be ignored. The default for min_count is 5.\n",
    "\n",
    "**workers:** The number of partitions during training and the default workers is 3.\n",
    "\n",
    "**sg:** The training algorithm, either CBOW(0) or skip gram (1). The default training alogrithm is CBOW."
   ]
  },
  {
   "cell_type": "code",
   "execution_count": 12,
   "metadata": {
    "ExecuteTime": {
     "end_time": "2021-11-03T19:43:10.664495Z",
     "start_time": "2021-11-03T19:43:10.650771Z"
    },
    "slideshow": {
     "slide_type": "slide"
    }
   },
   "outputs": [
    {
     "data": {
      "text/plain": [
       "array([-0.12087409,  0.05934598,  0.32708734, -0.09478489, -0.09293083,\n",
       "        0.30690145,  0.04271424,  0.29635924, -0.08314354,  0.07856131,\n",
       "        0.19361895,  0.04539906,  0.10619727,  0.01741519,  0.05866427,\n",
       "       -0.10278923, -0.09806925,  0.11768019, -0.18073373,  0.02053614,\n",
       "        0.01121254,  0.18442446,  0.0196985 ,  0.11220718, -0.12804027,\n",
       "       -0.04639316, -0.03240807,  0.16514301,  0.00362874,  0.01843087,\n",
       "        0.13528526, -0.12706219,  0.09034661, -0.12396058, -0.0872044 ,\n",
       "        0.02999313, -0.20581584,  0.07884497,  0.13961987,  0.10639737,\n",
       "       -0.05264191, -0.01167076, -0.15332675, -0.18845467,  0.02679469,\n",
       "        0.1443999 ,  0.05167615, -0.05151412, -0.04289369,  0.0683965 ],\n",
       "      dtype=float32)"
      ]
     },
     "execution_count": 12,
     "metadata": {},
     "output_type": "execute_result"
    }
   ],
   "source": [
    "## We can obtain the word embedding directly from the training model\n",
    "model['Toyota Camry']"
   ]
  },
  {
   "cell_type": "markdown",
   "metadata": {
    "slideshow": {
     "slide_type": "slide"
    }
   },
   "source": [
    "## Compare Similarities\n",
    "\n",
    "Now we could even use Word2vec to compute similarity between two make model in the vocabulary by invoking the model.similarity() and passing in the relvevant words. For instance, model.similarity('Porsche 718 Cayman', 'Nissan Van') This will give us the Euclidian similarity between Porsche 718 Cayman and Nissan Van."
   ]
  },
  {
   "cell_type": "code",
   "execution_count": 13,
   "metadata": {
    "ExecuteTime": {
     "end_time": "2021-11-03T19:52:24.869541Z",
     "start_time": "2021-11-03T19:52:24.854950Z"
    },
    "slideshow": {
     "slide_type": "slide"
    }
   },
   "outputs": [
    {
     "data": {
      "text/plain": [
       "0.9002287"
      ]
     },
     "execution_count": 13,
     "metadata": {},
     "output_type": "execute_result"
    }
   ],
   "source": [
    "model.similarity('Porsche 718 Cayman', 'Nissan Van')"
   ]
  },
  {
   "cell_type": "code",
   "execution_count": 14,
   "metadata": {
    "ExecuteTime": {
     "end_time": "2021-11-03T19:52:32.042612Z",
     "start_time": "2021-11-03T19:52:32.033437Z"
    },
    "slideshow": {
     "slide_type": "fragment"
    }
   },
   "outputs": [
    {
     "data": {
      "text/plain": [
       "0.9449583"
      ]
     },
     "execution_count": 14,
     "metadata": {},
     "output_type": "execute_result"
    }
   ],
   "source": [
    "model.similarity('Porsche 718 Cayman', 'Mercedes-Benz SLK-Class')"
   ]
  },
  {
   "cell_type": "code",
   "execution_count": 17,
   "metadata": {
    "ExecuteTime": {
     "end_time": "2021-11-03T19:53:52.426580Z",
     "start_time": "2021-11-03T19:53:52.419882Z"
    }
   },
   "outputs": [
    {
     "data": {
      "text/plain": [
       "'3.7.4 (default, Aug 13 2019, 15:17:50) \\n[Clang 4.0.1 (tags/RELEASE_401/final)]'"
      ]
     },
     "execution_count": 17,
     "metadata": {},
     "output_type": "execute_result"
    }
   ],
   "source": [
    "import sys\n",
    "sys.version"
   ]
  },
  {
   "cell_type": "markdown",
   "metadata": {},
   "source": [
    "From the above example, we can tell that Porsche 718 Cayman is more similar with Mercedes-Benz SLK-Class than Nissan Van. We also can use the build in function model.most_similar() to get a set of the most similar make models for a given make model."
   ]
  },
  {
   "cell_type": "code",
   "execution_count": 18,
   "metadata": {
    "ExecuteTime": {
     "end_time": "2021-11-03T19:54:24.173804Z",
     "start_time": "2021-11-03T19:54:24.151986Z"
    },
    "slideshow": {
     "slide_type": "slide"
    }
   },
   "outputs": [
    {
     "name": "stderr",
     "output_type": "stream",
     "text": [
      "INFO - 15:54:24: precomputing L2-norms of word weight vectors\n"
     ]
    },
    {
     "data": {
      "text/plain": [
       "[('Lamborghini Huracan', 0.9958299398422241),\n",
       " ('Ferrari 599', 0.9947282671928406),\n",
       " ('BMW M4', 0.9943681359291077),\n",
       " ('Bentley Continental', 0.9938045740127563),\n",
       " ('Acura NSX', 0.9937849640846252)]"
      ]
     },
     "execution_count": 18,
     "metadata": {},
     "output_type": "execute_result"
    }
   ],
   "source": [
    "## Show the most similar vehicles for Mercedes-Benz SLK-Class : Default by eculidean distance \n",
    "model.most_similar('Mercedes-Benz SLK-Class')[:5]"
   ]
  },
  {
   "cell_type": "code",
   "execution_count": 19,
   "metadata": {
    "ExecuteTime": {
     "end_time": "2021-11-03T19:54:32.351312Z",
     "start_time": "2021-11-03T19:54:32.340556Z"
    },
    "slideshow": {
     "slide_type": "slide"
    }
   },
   "outputs": [
    {
     "data": {
      "text/plain": [
       "[('Chevrolet Malibu', 0.9958120584487915),\n",
       " ('Nissan Altima', 0.9934118390083313),\n",
       " ('Mazda 626', 0.9927581548690796),\n",
       " ('Toyota Camry Hybrid', 0.9909971356391907),\n",
       " ('Mazda 6', 0.9904687404632568)]"
      ]
     },
     "execution_count": 19,
     "metadata": {},
     "output_type": "execute_result"
    }
   ],
   "source": [
    "## Show the most similar vehicles for Toyota Camry : Default by eculidean distance \n",
    "model.most_similar('Toyota Camry')[:5]"
   ]
  },
  {
   "cell_type": "markdown",
   "metadata": {
    "slideshow": {
     "slide_type": "slide"
    }
   },
   "source": [
    "\n",
    "However, Euclidian similarity cannot work well for the high-dimensional word vectors, This is because Euclidian similarity will increase the number of dimensions increases even if the word embedding stands for different meanings. \n",
    "\n",
    "Alternatively, we can use cosine similarity to measure the similarity between two vectors. Mathematically, it measures the cosine of the angle between two vectors projected in a multi-dimensional space. Therefore, the cosine similarity captures the angle of the word vectors and not the magnitude. Under cosine similarity, no similarity is expressed as a 90-degree angle while the total similarity of 1 is at 0 degree angle. The following function shows how can we generate the most similar make model based on cosine similarity."
   ]
  },
  {
   "cell_type": "code",
   "execution_count": 21,
   "metadata": {
    "ExecuteTime": {
     "end_time": "2021-11-03T19:54:54.841606Z",
     "start_time": "2021-11-03T19:54:54.835172Z"
    },
    "slideshow": {
     "slide_type": "slide"
    }
   },
   "outputs": [],
   "source": [
    "def cosine_distance (model, word,target_list , num) :\n",
    "    cosine_dict ={}\n",
    "    word_list = []\n",
    "    a = model[word]\n",
    "    for item in target_list :\n",
    "        if item != word :\n",
    "            b = model [item]\n",
    "            cos_sim = dot(a, b)/(norm(a)*norm(b))\n",
    "            cosine_dict[item] = cos_sim\n",
    "    dist_sort=sorted(cosine_dict.items(), key=lambda dist: dist[1],reverse = True) ## in Descending order \n",
    "    for item in dist_sort:\n",
    "        word_list.append((item[0], item[1]))\n",
    "    return word_list[0:num]"
   ]
  },
  {
   "cell_type": "markdown",
   "metadata": {
    "slideshow": {
     "slide_type": "slide"
    }
   },
   "source": [
    "## T-SNE Plot\n",
    "\n",
    "It’s hard to visualize the word embedding directly, for they usually has more than 3 dimensions. T-SNE is an useful tool to visualize high-dimensional data by reducing dimensional space while keeping relative pairwise distance between points. It can be said that t-SNE looking for a new data representation where the neighborhood relations are preserved. We use TSNE package from scikit-learn library. The following code showed how to plot the word embedding with T-SNE plot."
   ]
  },
  {
   "cell_type": "code",
   "execution_count": 20,
   "metadata": {
    "ExecuteTime": {
     "end_time": "2021-11-03T19:54:40.101390Z",
     "start_time": "2021-11-03T19:54:40.088192Z"
    },
    "slideshow": {
     "slide_type": "slide"
    }
   },
   "outputs": [],
   "source": [
    "def display_closestwords_tsnescatterplot(model, word, size):\n",
    "    \n",
    "    arr = np.empty((0,size), dtype='f')\n",
    "    word_labels = [word]\n",
    "\n",
    "    close_words = model.similar_by_word(word)\n",
    "\n",
    "    arr = np.append(arr, np.array([model[word]]), axis=0)\n",
    "    for wrd_score in close_words:\n",
    "        wrd_vector = model[wrd_score[0]]\n",
    "        word_labels.append(wrd_score[0])\n",
    "        arr = np.append(arr, np.array([wrd_vector]), axis=0)\n",
    "        \n",
    "    tsne = TSNE(n_components=2, random_state=0)\n",
    "    np.set_printoptions(suppress=True)\n",
    "    Y = tsne.fit_transform(arr)\n",
    "\n",
    "    x_coords = Y[:, 0]\n",
    "    y_coords = Y[:, 1]\n",
    "    plt.scatter(x_coords, y_coords)\n",
    "\n",
    "    for label, x, y in zip(word_labels, x_coords, y_coords):\n",
    "        plt.annotate(label, xy=(x, y), xytext=(0, 0), textcoords='offset points')\n",
    "    plt.xlim(x_coords.min()+0.00005, x_coords.max()+0.00005)\n",
    "    plt.ylim(y_coords.min()+0.00005, y_coords.max()+0.00005)\n",
    "    plt.show()"
   ]
  },
  {
   "cell_type": "code",
   "execution_count": 14,
   "metadata": {
    "slideshow": {
     "slide_type": "slide"
    }
   },
   "outputs": [
    {
     "data": {
      "application/javascript": [
       "/* Put everything inside the global mpl namespace */\n",
       "window.mpl = {};\n",
       "\n",
       "\n",
       "mpl.get_websocket_type = function() {\n",
       "    if (typeof(WebSocket) !== 'undefined') {\n",
       "        return WebSocket;\n",
       "    } else if (typeof(MozWebSocket) !== 'undefined') {\n",
       "        return MozWebSocket;\n",
       "    } else {\n",
       "        alert('Your browser does not have WebSocket support. ' +\n",
       "              'Please try Chrome, Safari or Firefox ≥ 6. ' +\n",
       "              'Firefox 4 and 5 are also supported but you ' +\n",
       "              'have to enable WebSockets in about:config.');\n",
       "    };\n",
       "}\n",
       "\n",
       "mpl.figure = function(figure_id, websocket, ondownload, parent_element) {\n",
       "    this.id = figure_id;\n",
       "\n",
       "    this.ws = websocket;\n",
       "\n",
       "    this.supports_binary = (this.ws.binaryType != undefined);\n",
       "\n",
       "    if (!this.supports_binary) {\n",
       "        var warnings = document.getElementById(\"mpl-warnings\");\n",
       "        if (warnings) {\n",
       "            warnings.style.display = 'block';\n",
       "            warnings.textContent = (\n",
       "                \"This browser does not support binary websocket messages. \" +\n",
       "                    \"Performance may be slow.\");\n",
       "        }\n",
       "    }\n",
       "\n",
       "    this.imageObj = new Image();\n",
       "\n",
       "    this.context = undefined;\n",
       "    this.message = undefined;\n",
       "    this.canvas = undefined;\n",
       "    this.rubberband_canvas = undefined;\n",
       "    this.rubberband_context = undefined;\n",
       "    this.format_dropdown = undefined;\n",
       "\n",
       "    this.image_mode = 'full';\n",
       "\n",
       "    this.root = $('<div/>');\n",
       "    this._root_extra_style(this.root)\n",
       "    this.root.attr('style', 'display: inline-block');\n",
       "\n",
       "    $(parent_element).append(this.root);\n",
       "\n",
       "    this._init_header(this);\n",
       "    this._init_canvas(this);\n",
       "    this._init_toolbar(this);\n",
       "\n",
       "    var fig = this;\n",
       "\n",
       "    this.waiting = false;\n",
       "\n",
       "    this.ws.onopen =  function () {\n",
       "            fig.send_message(\"supports_binary\", {value: fig.supports_binary});\n",
       "            fig.send_message(\"send_image_mode\", {});\n",
       "            if (mpl.ratio != 1) {\n",
       "                fig.send_message(\"set_dpi_ratio\", {'dpi_ratio': mpl.ratio});\n",
       "            }\n",
       "            fig.send_message(\"refresh\", {});\n",
       "        }\n",
       "\n",
       "    this.imageObj.onload = function() {\n",
       "            if (fig.image_mode == 'full') {\n",
       "                // Full images could contain transparency (where diff images\n",
       "                // almost always do), so we need to clear the canvas so that\n",
       "                // there is no ghosting.\n",
       "                fig.context.clearRect(0, 0, fig.canvas.width, fig.canvas.height);\n",
       "            }\n",
       "            fig.context.drawImage(fig.imageObj, 0, 0);\n",
       "        };\n",
       "\n",
       "    this.imageObj.onunload = function() {\n",
       "        fig.ws.close();\n",
       "    }\n",
       "\n",
       "    this.ws.onmessage = this._make_on_message_function(this);\n",
       "\n",
       "    this.ondownload = ondownload;\n",
       "}\n",
       "\n",
       "mpl.figure.prototype._init_header = function() {\n",
       "    var titlebar = $(\n",
       "        '<div class=\"ui-dialog-titlebar ui-widget-header ui-corner-all ' +\n",
       "        'ui-helper-clearfix\"/>');\n",
       "    var titletext = $(\n",
       "        '<div class=\"ui-dialog-title\" style=\"width: 100%; ' +\n",
       "        'text-align: center; padding: 3px;\"/>');\n",
       "    titlebar.append(titletext)\n",
       "    this.root.append(titlebar);\n",
       "    this.header = titletext[0];\n",
       "}\n",
       "\n",
       "\n",
       "\n",
       "mpl.figure.prototype._canvas_extra_style = function(canvas_div) {\n",
       "\n",
       "}\n",
       "\n",
       "\n",
       "mpl.figure.prototype._root_extra_style = function(canvas_div) {\n",
       "\n",
       "}\n",
       "\n",
       "mpl.figure.prototype._init_canvas = function() {\n",
       "    var fig = this;\n",
       "\n",
       "    var canvas_div = $('<div/>');\n",
       "\n",
       "    canvas_div.attr('style', 'position: relative; clear: both; outline: 0');\n",
       "\n",
       "    function canvas_keyboard_event(event) {\n",
       "        return fig.key_event(event, event['data']);\n",
       "    }\n",
       "\n",
       "    canvas_div.keydown('key_press', canvas_keyboard_event);\n",
       "    canvas_div.keyup('key_release', canvas_keyboard_event);\n",
       "    this.canvas_div = canvas_div\n",
       "    this._canvas_extra_style(canvas_div)\n",
       "    this.root.append(canvas_div);\n",
       "\n",
       "    var canvas = $('<canvas/>');\n",
       "    canvas.addClass('mpl-canvas');\n",
       "    canvas.attr('style', \"left: 0; top: 0; z-index: 0; outline: 0\")\n",
       "\n",
       "    this.canvas = canvas[0];\n",
       "    this.context = canvas[0].getContext(\"2d\");\n",
       "\n",
       "    var backingStore = this.context.backingStorePixelRatio ||\n",
       "\tthis.context.webkitBackingStorePixelRatio ||\n",
       "\tthis.context.mozBackingStorePixelRatio ||\n",
       "\tthis.context.msBackingStorePixelRatio ||\n",
       "\tthis.context.oBackingStorePixelRatio ||\n",
       "\tthis.context.backingStorePixelRatio || 1;\n",
       "\n",
       "    mpl.ratio = (window.devicePixelRatio || 1) / backingStore;\n",
       "\n",
       "    var rubberband = $('<canvas/>');\n",
       "    rubberband.attr('style', \"position: absolute; left: 0; top: 0; z-index: 1;\")\n",
       "\n",
       "    var pass_mouse_events = true;\n",
       "\n",
       "    canvas_div.resizable({\n",
       "        start: function(event, ui) {\n",
       "            pass_mouse_events = false;\n",
       "        },\n",
       "        resize: function(event, ui) {\n",
       "            fig.request_resize(ui.size.width, ui.size.height);\n",
       "        },\n",
       "        stop: function(event, ui) {\n",
       "            pass_mouse_events = true;\n",
       "            fig.request_resize(ui.size.width, ui.size.height);\n",
       "        },\n",
       "    });\n",
       "\n",
       "    function mouse_event_fn(event) {\n",
       "        if (pass_mouse_events)\n",
       "            return fig.mouse_event(event, event['data']);\n",
       "    }\n",
       "\n",
       "    rubberband.mousedown('button_press', mouse_event_fn);\n",
       "    rubberband.mouseup('button_release', mouse_event_fn);\n",
       "    // Throttle sequential mouse events to 1 every 20ms.\n",
       "    rubberband.mousemove('motion_notify', mouse_event_fn);\n",
       "\n",
       "    rubberband.mouseenter('figure_enter', mouse_event_fn);\n",
       "    rubberband.mouseleave('figure_leave', mouse_event_fn);\n",
       "\n",
       "    canvas_div.on(\"wheel\", function (event) {\n",
       "        event = event.originalEvent;\n",
       "        event['data'] = 'scroll'\n",
       "        if (event.deltaY < 0) {\n",
       "            event.step = 1;\n",
       "        } else {\n",
       "            event.step = -1;\n",
       "        }\n",
       "        mouse_event_fn(event);\n",
       "    });\n",
       "\n",
       "    canvas_div.append(canvas);\n",
       "    canvas_div.append(rubberband);\n",
       "\n",
       "    this.rubberband = rubberband;\n",
       "    this.rubberband_canvas = rubberband[0];\n",
       "    this.rubberband_context = rubberband[0].getContext(\"2d\");\n",
       "    this.rubberband_context.strokeStyle = \"#000000\";\n",
       "\n",
       "    this._resize_canvas = function(width, height) {\n",
       "        // Keep the size of the canvas, canvas container, and rubber band\n",
       "        // canvas in synch.\n",
       "        canvas_div.css('width', width)\n",
       "        canvas_div.css('height', height)\n",
       "\n",
       "        canvas.attr('width', width * mpl.ratio);\n",
       "        canvas.attr('height', height * mpl.ratio);\n",
       "        canvas.attr('style', 'width: ' + width + 'px; height: ' + height + 'px;');\n",
       "\n",
       "        rubberband.attr('width', width);\n",
       "        rubberband.attr('height', height);\n",
       "    }\n",
       "\n",
       "    // Set the figure to an initial 600x600px, this will subsequently be updated\n",
       "    // upon first draw.\n",
       "    this._resize_canvas(600, 600);\n",
       "\n",
       "    // Disable right mouse context menu.\n",
       "    $(this.rubberband_canvas).bind(\"contextmenu\",function(e){\n",
       "        return false;\n",
       "    });\n",
       "\n",
       "    function set_focus () {\n",
       "        canvas.focus();\n",
       "        canvas_div.focus();\n",
       "    }\n",
       "\n",
       "    window.setTimeout(set_focus, 100);\n",
       "}\n",
       "\n",
       "mpl.figure.prototype._init_toolbar = function() {\n",
       "    var fig = this;\n",
       "\n",
       "    var nav_element = $('<div/>');\n",
       "    nav_element.attr('style', 'width: 100%');\n",
       "    this.root.append(nav_element);\n",
       "\n",
       "    // Define a callback function for later on.\n",
       "    function toolbar_event(event) {\n",
       "        return fig.toolbar_button_onclick(event['data']);\n",
       "    }\n",
       "    function toolbar_mouse_event(event) {\n",
       "        return fig.toolbar_button_onmouseover(event['data']);\n",
       "    }\n",
       "\n",
       "    for(var toolbar_ind in mpl.toolbar_items) {\n",
       "        var name = mpl.toolbar_items[toolbar_ind][0];\n",
       "        var tooltip = mpl.toolbar_items[toolbar_ind][1];\n",
       "        var image = mpl.toolbar_items[toolbar_ind][2];\n",
       "        var method_name = mpl.toolbar_items[toolbar_ind][3];\n",
       "\n",
       "        if (!name) {\n",
       "            // put a spacer in here.\n",
       "            continue;\n",
       "        }\n",
       "        var button = $('<button/>');\n",
       "        button.addClass('ui-button ui-widget ui-state-default ui-corner-all ' +\n",
       "                        'ui-button-icon-only');\n",
       "        button.attr('role', 'button');\n",
       "        button.attr('aria-disabled', 'false');\n",
       "        button.click(method_name, toolbar_event);\n",
       "        button.mouseover(tooltip, toolbar_mouse_event);\n",
       "\n",
       "        var icon_img = $('<span/>');\n",
       "        icon_img.addClass('ui-button-icon-primary ui-icon');\n",
       "        icon_img.addClass(image);\n",
       "        icon_img.addClass('ui-corner-all');\n",
       "\n",
       "        var tooltip_span = $('<span/>');\n",
       "        tooltip_span.addClass('ui-button-text');\n",
       "        tooltip_span.html(tooltip);\n",
       "\n",
       "        button.append(icon_img);\n",
       "        button.append(tooltip_span);\n",
       "\n",
       "        nav_element.append(button);\n",
       "    }\n",
       "\n",
       "    var fmt_picker_span = $('<span/>');\n",
       "\n",
       "    var fmt_picker = $('<select/>');\n",
       "    fmt_picker.addClass('mpl-toolbar-option ui-widget ui-widget-content');\n",
       "    fmt_picker_span.append(fmt_picker);\n",
       "    nav_element.append(fmt_picker_span);\n",
       "    this.format_dropdown = fmt_picker[0];\n",
       "\n",
       "    for (var ind in mpl.extensions) {\n",
       "        var fmt = mpl.extensions[ind];\n",
       "        var option = $(\n",
       "            '<option/>', {selected: fmt === mpl.default_extension}).html(fmt);\n",
       "        fmt_picker.append(option);\n",
       "    }\n",
       "\n",
       "    // Add hover states to the ui-buttons\n",
       "    $( \".ui-button\" ).hover(\n",
       "        function() { $(this).addClass(\"ui-state-hover\");},\n",
       "        function() { $(this).removeClass(\"ui-state-hover\");}\n",
       "    );\n",
       "\n",
       "    var status_bar = $('<span class=\"mpl-message\"/>');\n",
       "    nav_element.append(status_bar);\n",
       "    this.message = status_bar[0];\n",
       "}\n",
       "\n",
       "mpl.figure.prototype.request_resize = function(x_pixels, y_pixels) {\n",
       "    // Request matplotlib to resize the figure. Matplotlib will then trigger a resize in the client,\n",
       "    // which will in turn request a refresh of the image.\n",
       "    this.send_message('resize', {'width': x_pixels, 'height': y_pixels});\n",
       "}\n",
       "\n",
       "mpl.figure.prototype.send_message = function(type, properties) {\n",
       "    properties['type'] = type;\n",
       "    properties['figure_id'] = this.id;\n",
       "    this.ws.send(JSON.stringify(properties));\n",
       "}\n",
       "\n",
       "mpl.figure.prototype.send_draw_message = function() {\n",
       "    if (!this.waiting) {\n",
       "        this.waiting = true;\n",
       "        this.ws.send(JSON.stringify({type: \"draw\", figure_id: this.id}));\n",
       "    }\n",
       "}\n",
       "\n",
       "\n",
       "mpl.figure.prototype.handle_save = function(fig, msg) {\n",
       "    var format_dropdown = fig.format_dropdown;\n",
       "    var format = format_dropdown.options[format_dropdown.selectedIndex].value;\n",
       "    fig.ondownload(fig, format);\n",
       "}\n",
       "\n",
       "\n",
       "mpl.figure.prototype.handle_resize = function(fig, msg) {\n",
       "    var size = msg['size'];\n",
       "    if (size[0] != fig.canvas.width || size[1] != fig.canvas.height) {\n",
       "        fig._resize_canvas(size[0], size[1]);\n",
       "        fig.send_message(\"refresh\", {});\n",
       "    };\n",
       "}\n",
       "\n",
       "mpl.figure.prototype.handle_rubberband = function(fig, msg) {\n",
       "    var x0 = msg['x0'] / mpl.ratio;\n",
       "    var y0 = (fig.canvas.height - msg['y0']) / mpl.ratio;\n",
       "    var x1 = msg['x1'] / mpl.ratio;\n",
       "    var y1 = (fig.canvas.height - msg['y1']) / mpl.ratio;\n",
       "    x0 = Math.floor(x0) + 0.5;\n",
       "    y0 = Math.floor(y0) + 0.5;\n",
       "    x1 = Math.floor(x1) + 0.5;\n",
       "    y1 = Math.floor(y1) + 0.5;\n",
       "    var min_x = Math.min(x0, x1);\n",
       "    var min_y = Math.min(y0, y1);\n",
       "    var width = Math.abs(x1 - x0);\n",
       "    var height = Math.abs(y1 - y0);\n",
       "\n",
       "    fig.rubberband_context.clearRect(\n",
       "        0, 0, fig.canvas.width / mpl.ratio, fig.canvas.height / mpl.ratio);\n",
       "\n",
       "    fig.rubberband_context.strokeRect(min_x, min_y, width, height);\n",
       "}\n",
       "\n",
       "mpl.figure.prototype.handle_figure_label = function(fig, msg) {\n",
       "    // Updates the figure title.\n",
       "    fig.header.textContent = msg['label'];\n",
       "}\n",
       "\n",
       "mpl.figure.prototype.handle_cursor = function(fig, msg) {\n",
       "    var cursor = msg['cursor'];\n",
       "    switch(cursor)\n",
       "    {\n",
       "    case 0:\n",
       "        cursor = 'pointer';\n",
       "        break;\n",
       "    case 1:\n",
       "        cursor = 'default';\n",
       "        break;\n",
       "    case 2:\n",
       "        cursor = 'crosshair';\n",
       "        break;\n",
       "    case 3:\n",
       "        cursor = 'move';\n",
       "        break;\n",
       "    }\n",
       "    fig.rubberband_canvas.style.cursor = cursor;\n",
       "}\n",
       "\n",
       "mpl.figure.prototype.handle_message = function(fig, msg) {\n",
       "    fig.message.textContent = msg['message'];\n",
       "}\n",
       "\n",
       "mpl.figure.prototype.handle_draw = function(fig, msg) {\n",
       "    // Request the server to send over a new figure.\n",
       "    fig.send_draw_message();\n",
       "}\n",
       "\n",
       "mpl.figure.prototype.handle_image_mode = function(fig, msg) {\n",
       "    fig.image_mode = msg['mode'];\n",
       "}\n",
       "\n",
       "mpl.figure.prototype.updated_canvas_event = function() {\n",
       "    // Called whenever the canvas gets updated.\n",
       "    this.send_message(\"ack\", {});\n",
       "}\n",
       "\n",
       "// A function to construct a web socket function for onmessage handling.\n",
       "// Called in the figure constructor.\n",
       "mpl.figure.prototype._make_on_message_function = function(fig) {\n",
       "    return function socket_on_message(evt) {\n",
       "        if (evt.data instanceof Blob) {\n",
       "            /* FIXME: We get \"Resource interpreted as Image but\n",
       "             * transferred with MIME type text/plain:\" errors on\n",
       "             * Chrome.  But how to set the MIME type?  It doesn't seem\n",
       "             * to be part of the websocket stream */\n",
       "            evt.data.type = \"image/png\";\n",
       "\n",
       "            /* Free the memory for the previous frames */\n",
       "            if (fig.imageObj.src) {\n",
       "                (window.URL || window.webkitURL).revokeObjectURL(\n",
       "                    fig.imageObj.src);\n",
       "            }\n",
       "\n",
       "            fig.imageObj.src = (window.URL || window.webkitURL).createObjectURL(\n",
       "                evt.data);\n",
       "            fig.updated_canvas_event();\n",
       "            fig.waiting = false;\n",
       "            return;\n",
       "        }\n",
       "        else if (typeof evt.data === 'string' && evt.data.slice(0, 21) == \"data:image/png;base64\") {\n",
       "            fig.imageObj.src = evt.data;\n",
       "            fig.updated_canvas_event();\n",
       "            fig.waiting = false;\n",
       "            return;\n",
       "        }\n",
       "\n",
       "        var msg = JSON.parse(evt.data);\n",
       "        var msg_type = msg['type'];\n",
       "\n",
       "        // Call the  \"handle_{type}\" callback, which takes\n",
       "        // the figure and JSON message as its only arguments.\n",
       "        try {\n",
       "            var callback = fig[\"handle_\" + msg_type];\n",
       "        } catch (e) {\n",
       "            console.log(\"No handler for the '\" + msg_type + \"' message type: \", msg);\n",
       "            return;\n",
       "        }\n",
       "\n",
       "        if (callback) {\n",
       "            try {\n",
       "                // console.log(\"Handling '\" + msg_type + \"' message: \", msg);\n",
       "                callback(fig, msg);\n",
       "            } catch (e) {\n",
       "                console.log(\"Exception inside the 'handler_\" + msg_type + \"' callback:\", e, e.stack, msg);\n",
       "            }\n",
       "        }\n",
       "    };\n",
       "}\n",
       "\n",
       "// from http://stackoverflow.com/questions/1114465/getting-mouse-location-in-canvas\n",
       "mpl.findpos = function(e) {\n",
       "    //this section is from http://www.quirksmode.org/js/events_properties.html\n",
       "    var targ;\n",
       "    if (!e)\n",
       "        e = window.event;\n",
       "    if (e.target)\n",
       "        targ = e.target;\n",
       "    else if (e.srcElement)\n",
       "        targ = e.srcElement;\n",
       "    if (targ.nodeType == 3) // defeat Safari bug\n",
       "        targ = targ.parentNode;\n",
       "\n",
       "    // jQuery normalizes the pageX and pageY\n",
       "    // pageX,Y are the mouse positions relative to the document\n",
       "    // offset() returns the position of the element relative to the document\n",
       "    var x = e.pageX - $(targ).offset().left;\n",
       "    var y = e.pageY - $(targ).offset().top;\n",
       "\n",
       "    return {\"x\": x, \"y\": y};\n",
       "};\n",
       "\n",
       "/*\n",
       " * return a copy of an object with only non-object keys\n",
       " * we need this to avoid circular references\n",
       " * http://stackoverflow.com/a/24161582/3208463\n",
       " */\n",
       "function simpleKeys (original) {\n",
       "  return Object.keys(original).reduce(function (obj, key) {\n",
       "    if (typeof original[key] !== 'object')\n",
       "        obj[key] = original[key]\n",
       "    return obj;\n",
       "  }, {});\n",
       "}\n",
       "\n",
       "mpl.figure.prototype.mouse_event = function(event, name) {\n",
       "    var canvas_pos = mpl.findpos(event)\n",
       "\n",
       "    if (name === 'button_press')\n",
       "    {\n",
       "        this.canvas.focus();\n",
       "        this.canvas_div.focus();\n",
       "    }\n",
       "\n",
       "    var x = canvas_pos.x * mpl.ratio;\n",
       "    var y = canvas_pos.y * mpl.ratio;\n",
       "\n",
       "    this.send_message(name, {x: x, y: y, button: event.button,\n",
       "                             step: event.step,\n",
       "                             guiEvent: simpleKeys(event)});\n",
       "\n",
       "    /* This prevents the web browser from automatically changing to\n",
       "     * the text insertion cursor when the button is pressed.  We want\n",
       "     * to control all of the cursor setting manually through the\n",
       "     * 'cursor' event from matplotlib */\n",
       "    event.preventDefault();\n",
       "    return false;\n",
       "}\n",
       "\n",
       "mpl.figure.prototype._key_event_extra = function(event, name) {\n",
       "    // Handle any extra behaviour associated with a key event\n",
       "}\n",
       "\n",
       "mpl.figure.prototype.key_event = function(event, name) {\n",
       "\n",
       "    // Prevent repeat events\n",
       "    if (name == 'key_press')\n",
       "    {\n",
       "        if (event.which === this._key)\n",
       "            return;\n",
       "        else\n",
       "            this._key = event.which;\n",
       "    }\n",
       "    if (name == 'key_release')\n",
       "        this._key = null;\n",
       "\n",
       "    var value = '';\n",
       "    if (event.ctrlKey && event.which != 17)\n",
       "        value += \"ctrl+\";\n",
       "    if (event.altKey && event.which != 18)\n",
       "        value += \"alt+\";\n",
       "    if (event.shiftKey && event.which != 16)\n",
       "        value += \"shift+\";\n",
       "\n",
       "    value += 'k';\n",
       "    value += event.which.toString();\n",
       "\n",
       "    this._key_event_extra(event, name);\n",
       "\n",
       "    this.send_message(name, {key: value,\n",
       "                             guiEvent: simpleKeys(event)});\n",
       "    return false;\n",
       "}\n",
       "\n",
       "mpl.figure.prototype.toolbar_button_onclick = function(name) {\n",
       "    if (name == 'download') {\n",
       "        this.handle_save(this, null);\n",
       "    } else {\n",
       "        this.send_message(\"toolbar_button\", {name: name});\n",
       "    }\n",
       "};\n",
       "\n",
       "mpl.figure.prototype.toolbar_button_onmouseover = function(tooltip) {\n",
       "    this.message.textContent = tooltip;\n",
       "};\n",
       "mpl.toolbar_items = [[\"Home\", \"Reset original view\", \"fa fa-home icon-home\", \"home\"], [\"Back\", \"Back to previous view\", \"fa fa-arrow-left icon-arrow-left\", \"back\"], [\"Forward\", \"Forward to next view\", \"fa fa-arrow-right icon-arrow-right\", \"forward\"], [\"\", \"\", \"\", \"\"], [\"Pan\", \"Pan axes with left mouse, zoom with right\", \"fa fa-arrows icon-move\", \"pan\"], [\"Zoom\", \"Zoom to rectangle\", \"fa fa-square-o icon-check-empty\", \"zoom\"], [\"\", \"\", \"\", \"\"], [\"Download\", \"Download plot\", \"fa fa-floppy-o icon-save\", \"download\"]];\n",
       "\n",
       "mpl.extensions = [\"eps\", \"jpeg\", \"pdf\", \"png\", \"ps\", \"raw\", \"svg\", \"tif\"];\n",
       "\n",
       "mpl.default_extension = \"png\";var comm_websocket_adapter = function(comm) {\n",
       "    // Create a \"websocket\"-like object which calls the given IPython comm\n",
       "    // object with the appropriate methods. Currently this is a non binary\n",
       "    // socket, so there is still some room for performance tuning.\n",
       "    var ws = {};\n",
       "\n",
       "    ws.close = function() {\n",
       "        comm.close()\n",
       "    };\n",
       "    ws.send = function(m) {\n",
       "        //console.log('sending', m);\n",
       "        comm.send(m);\n",
       "    };\n",
       "    // Register the callback with on_msg.\n",
       "    comm.on_msg(function(msg) {\n",
       "        //console.log('receiving', msg['content']['data'], msg);\n",
       "        // Pass the mpl event to the overridden (by mpl) onmessage function.\n",
       "        ws.onmessage(msg['content']['data'])\n",
       "    });\n",
       "    return ws;\n",
       "}\n",
       "\n",
       "mpl.mpl_figure_comm = function(comm, msg) {\n",
       "    // This is the function which gets called when the mpl process\n",
       "    // starts-up an IPython Comm through the \"matplotlib\" channel.\n",
       "\n",
       "    var id = msg.content.data.id;\n",
       "    // Get hold of the div created by the display call when the Comm\n",
       "    // socket was opened in Python.\n",
       "    var element = $(\"#\" + id);\n",
       "    var ws_proxy = comm_websocket_adapter(comm)\n",
       "\n",
       "    function ondownload(figure, format) {\n",
       "        window.open(figure.imageObj.src);\n",
       "    }\n",
       "\n",
       "    var fig = new mpl.figure(id, ws_proxy,\n",
       "                           ondownload,\n",
       "                           element.get(0));\n",
       "\n",
       "    // Call onopen now - mpl needs it, as it is assuming we've passed it a real\n",
       "    // web socket which is closed, not our websocket->open comm proxy.\n",
       "    ws_proxy.onopen();\n",
       "\n",
       "    fig.parent_element = element.get(0);\n",
       "    fig.cell_info = mpl.find_output_cell(\"<div id='\" + id + \"'></div>\");\n",
       "    if (!fig.cell_info) {\n",
       "        console.error(\"Failed to find cell for figure\", id, fig);\n",
       "        return;\n",
       "    }\n",
       "\n",
       "    var output_index = fig.cell_info[2]\n",
       "    var cell = fig.cell_info[0];\n",
       "\n",
       "};\n",
       "\n",
       "mpl.figure.prototype.handle_close = function(fig, msg) {\n",
       "    var width = fig.canvas.width/mpl.ratio\n",
       "    fig.root.unbind('remove')\n",
       "\n",
       "    // Update the output cell to use the data from the current canvas.\n",
       "    fig.push_to_output();\n",
       "    var dataURL = fig.canvas.toDataURL();\n",
       "    // Re-enable the keyboard manager in IPython - without this line, in FF,\n",
       "    // the notebook keyboard shortcuts fail.\n",
       "    IPython.keyboard_manager.enable()\n",
       "    $(fig.parent_element).html('<img src=\"' + dataURL + '\" width=\"' + width + '\">');\n",
       "    fig.close_ws(fig, msg);\n",
       "}\n",
       "\n",
       "mpl.figure.prototype.close_ws = function(fig, msg){\n",
       "    fig.send_message('closing', msg);\n",
       "    // fig.ws.close()\n",
       "}\n",
       "\n",
       "mpl.figure.prototype.push_to_output = function(remove_interactive) {\n",
       "    // Turn the data on the canvas into data in the output cell.\n",
       "    var width = this.canvas.width/mpl.ratio\n",
       "    var dataURL = this.canvas.toDataURL();\n",
       "    this.cell_info[1]['text/html'] = '<img src=\"' + dataURL + '\" width=\"' + width + '\">';\n",
       "}\n",
       "\n",
       "mpl.figure.prototype.updated_canvas_event = function() {\n",
       "    // Tell IPython that the notebook contents must change.\n",
       "    IPython.notebook.set_dirty(true);\n",
       "    this.send_message(\"ack\", {});\n",
       "    var fig = this;\n",
       "    // Wait a second, then push the new image to the DOM so\n",
       "    // that it is saved nicely (might be nice to debounce this).\n",
       "    setTimeout(function () { fig.push_to_output() }, 1000);\n",
       "}\n",
       "\n",
       "mpl.figure.prototype._init_toolbar = function() {\n",
       "    var fig = this;\n",
       "\n",
       "    var nav_element = $('<div/>');\n",
       "    nav_element.attr('style', 'width: 100%');\n",
       "    this.root.append(nav_element);\n",
       "\n",
       "    // Define a callback function for later on.\n",
       "    function toolbar_event(event) {\n",
       "        return fig.toolbar_button_onclick(event['data']);\n",
       "    }\n",
       "    function toolbar_mouse_event(event) {\n",
       "        return fig.toolbar_button_onmouseover(event['data']);\n",
       "    }\n",
       "\n",
       "    for(var toolbar_ind in mpl.toolbar_items){\n",
       "        var name = mpl.toolbar_items[toolbar_ind][0];\n",
       "        var tooltip = mpl.toolbar_items[toolbar_ind][1];\n",
       "        var image = mpl.toolbar_items[toolbar_ind][2];\n",
       "        var method_name = mpl.toolbar_items[toolbar_ind][3];\n",
       "\n",
       "        if (!name) { continue; };\n",
       "\n",
       "        var button = $('<button class=\"btn btn-default\" href=\"#\" title=\"' + name + '\"><i class=\"fa ' + image + ' fa-lg\"></i></button>');\n",
       "        button.click(method_name, toolbar_event);\n",
       "        button.mouseover(tooltip, toolbar_mouse_event);\n",
       "        nav_element.append(button);\n",
       "    }\n",
       "\n",
       "    // Add the status bar.\n",
       "    var status_bar = $('<span class=\"mpl-message\" style=\"text-align:right; float: right;\"/>');\n",
       "    nav_element.append(status_bar);\n",
       "    this.message = status_bar[0];\n",
       "\n",
       "    // Add the close button to the window.\n",
       "    var buttongrp = $('<div class=\"btn-group inline pull-right\"></div>');\n",
       "    var button = $('<button class=\"btn btn-mini btn-primary\" href=\"#\" title=\"Stop Interaction\"><i class=\"fa fa-power-off icon-remove icon-large\"></i></button>');\n",
       "    button.click(function (evt) { fig.handle_close(fig, {}); } );\n",
       "    button.mouseover('Stop Interaction', toolbar_mouse_event);\n",
       "    buttongrp.append(button);\n",
       "    var titlebar = this.root.find($('.ui-dialog-titlebar'));\n",
       "    titlebar.prepend(buttongrp);\n",
       "}\n",
       "\n",
       "mpl.figure.prototype._root_extra_style = function(el){\n",
       "    var fig = this\n",
       "    el.on(\"remove\", function(){\n",
       "\tfig.close_ws(fig, {});\n",
       "    });\n",
       "}\n",
       "\n",
       "mpl.figure.prototype._canvas_extra_style = function(el){\n",
       "    // this is important to make the div 'focusable\n",
       "    el.attr('tabindex', 0)\n",
       "    // reach out to IPython and tell the keyboard manager to turn it's self\n",
       "    // off when our div gets focus\n",
       "\n",
       "    // location in version 3\n",
       "    if (IPython.notebook.keyboard_manager) {\n",
       "        IPython.notebook.keyboard_manager.register_events(el);\n",
       "    }\n",
       "    else {\n",
       "        // location in version 2\n",
       "        IPython.keyboard_manager.register_events(el);\n",
       "    }\n",
       "\n",
       "}\n",
       "\n",
       "mpl.figure.prototype._key_event_extra = function(event, name) {\n",
       "    var manager = IPython.notebook.keyboard_manager;\n",
       "    if (!manager)\n",
       "        manager = IPython.keyboard_manager;\n",
       "\n",
       "    // Check for shift+enter\n",
       "    if (event.shiftKey && event.which == 13) {\n",
       "        this.canvas_div.blur();\n",
       "        // select the cell after this one\n",
       "        var index = IPython.notebook.find_cell_index(this.cell_info[0]);\n",
       "        IPython.notebook.select(index + 1);\n",
       "    }\n",
       "}\n",
       "\n",
       "mpl.figure.prototype.handle_save = function(fig, msg) {\n",
       "    fig.ondownload(fig, null);\n",
       "}\n",
       "\n",
       "\n",
       "mpl.find_output_cell = function(html_output) {\n",
       "    // Return the cell and output element which can be found *uniquely* in the notebook.\n",
       "    // Note - this is a bit hacky, but it is done because the \"notebook_saving.Notebook\"\n",
       "    // IPython event is triggered only after the cells have been serialised, which for\n",
       "    // our purposes (turning an active figure into a static one), is too late.\n",
       "    var cells = IPython.notebook.get_cells();\n",
       "    var ncells = cells.length;\n",
       "    for (var i=0; i<ncells; i++) {\n",
       "        var cell = cells[i];\n",
       "        if (cell.cell_type === 'code'){\n",
       "            for (var j=0; j<cell.output_area.outputs.length; j++) {\n",
       "                var data = cell.output_area.outputs[j];\n",
       "                if (data.data) {\n",
       "                    // IPython >= 3 moved mimebundle to data attribute of output\n",
       "                    data = data.data;\n",
       "                }\n",
       "                if (data['text/html'] == html_output) {\n",
       "                    return [cell, data, j];\n",
       "                }\n",
       "            }\n",
       "        }\n",
       "    }\n",
       "}\n",
       "\n",
       "// Register the function which deals with the matplotlib target/channel.\n",
       "// The kernel may be null if the page has been refreshed.\n",
       "if (IPython.notebook.kernel != null) {\n",
       "    IPython.notebook.kernel.comm_manager.register_target('matplotlib', mpl.mpl_figure_comm);\n",
       "}\n"
      ],
      "text/plain": [
       "<IPython.core.display.Javascript object>"
      ]
     },
     "metadata": {},
     "output_type": "display_data"
    },
    {
     "data": {
      "text/html": [
       "<img src=\"data:image/png;base64,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\" width=\"640\">"
      ],
      "text/plain": [
       "<IPython.core.display.HTML object>"
      ]
     },
     "metadata": {},
     "output_type": "display_data"
    }
   ],
   "source": [
    "display_closestwords_tsnescatterplot(model, 'Porsche 718 Cayman', 50)"
   ]
  },
  {
   "cell_type": "code",
   "execution_count": null,
   "metadata": {},
   "outputs": [],
   "source": []
  }
 ],
 "metadata": {
  "celltoolbar": "Slideshow",
  "kernelspec": {
   "display_name": "Python 3 (ipykernel)",
   "language": "python",
   "name": "python3"
  },
  "language_info": {
   "codemirror_mode": {
    "name": "ipython",
    "version": 3
   },
   "file_extension": ".py",
   "mimetype": "text/x-python",
   "name": "python",
   "nbconvert_exporter": "python",
   "pygments_lexer": "ipython3",
   "version": "3.7.4"
  },
  "toc": {
   "base_numbering": 1,
   "nav_menu": {},
   "number_sections": true,
   "sideBar": true,
   "skip_h1_title": false,
   "title_cell": "Table of Contents",
   "title_sidebar": "Contents",
   "toc_cell": false,
   "toc_position": {},
   "toc_section_display": true,
   "toc_window_display": false
  },
  "varInspector": {
   "cols": {
    "lenName": 16,
    "lenType": 16,
    "lenVar": 40
   },
   "kernels_config": {
    "python": {
     "delete_cmd_postfix": "",
     "delete_cmd_prefix": "del ",
     "library": "var_list.py",
     "varRefreshCmd": "print(var_dic_list())"
    },
    "r": {
     "delete_cmd_postfix": ") ",
     "delete_cmd_prefix": "rm(",
     "library": "var_list.r",
     "varRefreshCmd": "cat(var_dic_list()) "
    }
   },
   "types_to_exclude": [
    "module",
    "function",
    "builtin_function_or_method",
    "instance",
    "_Feature"
   ],
   "window_display": false
  }
 },
 "nbformat": 4,
 "nbformat_minor": 4
}
