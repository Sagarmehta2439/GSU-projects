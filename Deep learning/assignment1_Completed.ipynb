{
  "cells": [
    {
      "cell_type": "markdown",
      "metadata": {
        "id": "DgWlyYejDwBF"
      },
      "source": [
        "# MSA 8650 Assignment 1: Semantic Segmentaion\n",
        "In this part, you will design and implement your Convolutional Neural Networks to perform semantic segmentation on the Mini Facade dataset.\n",
        "\n",
        "Group Members\n",
        "\n",
        "- : Sagar Mehta LASTNAME, #002649430  //\n",
        "- : Vineetha Burugupalli, #002581345   //\n",
        "\n"
      ]
    },
    {
      "cell_type": "markdown",
      "metadata": {
        "id": "E54t0DTZDzpl"
      },
      "source": []
    },
    {
      "cell_type": "markdown",
      "metadata": {
        "id": "oFgib63vLvfU"
      },
      "source": [
        "## Setup\n",
        "First, we will install some required packages for this notebook and download the Mini Facade dataset. \n"
      ]
    },
    {
      "cell_type": "code",
      "execution_count": 2,
      "metadata": {
        "id": "wDEtIQjnEWN5",
        "colab": {
          "base_uri": "https://localhost:8080/"
        },
        "outputId": "3d2ed23f-5057-412a-bcd0-fffff1641c42"
      },
      "outputs": [
        {
          "output_type": "stream",
          "name": "stdout",
          "text": [
            "Looking in indexes: https://pypi.org/simple, https://us-python.pkg.dev/colab-wheels/public/simple/\n",
            "Collecting colormap\n",
            "  Downloading colormap-1.0.4.tar.gz (17 kB)\n",
            "Collecting easydev\n",
            "  Downloading easydev-0.12.0.tar.gz (47 kB)\n",
            "\u001b[K     |████████████████████████████████| 47 kB 2.6 MB/s \n",
            "\u001b[?25hCollecting pypng\n",
            "  Downloading pypng-0.20220715.0-py3-none-any.whl (58 kB)\n",
            "\u001b[K     |████████████████████████████████| 58 kB 4.4 MB/s \n",
            "\u001b[?25hCollecting colorama\n",
            "  Downloading colorama-0.4.5-py2.py3-none-any.whl (16 kB)\n",
            "Requirement already satisfied: pexpect in /usr/local/lib/python3.7/dist-packages (from easydev) (4.8.0)\n",
            "Collecting colorlog\n",
            "  Downloading colorlog-6.7.0-py2.py3-none-any.whl (11 kB)\n",
            "Requirement already satisfied: ptyprocess>=0.5 in /usr/local/lib/python3.7/dist-packages (from pexpect->easydev) (0.7.0)\n",
            "Building wheels for collected packages: colormap, easydev\n",
            "  Building wheel for colormap (setup.py) ... \u001b[?25l\u001b[?25hdone\n",
            "  Created wheel for colormap: filename=colormap-1.0.4-py3-none-any.whl size=15637 sha256=e3f019a64edfa9d9f75f2cfb74ac71d30c2af120d43712f0cf13f495b8a40e4e\n",
            "  Stored in directory: /root/.cache/pip/wheels/71/35/4b/259c328e39ede29b184e4ffe4443bcc2be4e475178a83794c3\n",
            "  Building wheel for easydev (setup.py) ... \u001b[?25l\u001b[?25hdone\n",
            "  Created wheel for easydev: filename=easydev-0.12.0-py3-none-any.whl size=64232 sha256=7117dffe90f878d6b08c4b994433bc87892fa62a3054e435c67f2d451eb31f04\n",
            "  Stored in directory: /root/.cache/pip/wheels/82/ab/83/fdfc4017ea44a585b6754752cc5f63f2d0d63fcc1317e7174b\n",
            "Successfully built colormap easydev\n",
            "Installing collected packages: colorlog, colorama, pypng, easydev, colormap\n",
            "Successfully installed colorama-0.4.5 colorlog-6.7.0 colormap-1.0.4 easydev-0.12.0 pypng-0.20220715.0\n",
            "--2022-10-12 21:35:51--  http://web.eecs.umich.edu/~justincj/teaching/eecs442/resources/facades.zip\n",
            "Resolving web.eecs.umich.edu (web.eecs.umich.edu)... 141.212.113.214\n",
            "Connecting to web.eecs.umich.edu (web.eecs.umich.edu)|141.212.113.214|:80... connected.\n",
            "HTTP request sent, awaiting response... 200 OK\n",
            "Length: 29562790 (28M) [application/zip]\n",
            "Saving to: ‘facades.zip’\n",
            "\n",
            "facades.zip         100%[===================>]  28.19M  52.2MB/s    in 0.5s    \n",
            "\n",
            "2022-10-12 21:35:52 (52.2 MB/s) - ‘facades.zip’ saved [29562790/29562790]\n",
            "\n",
            "Archive:  facades.zip\n",
            "   creating: facades/\n",
            "  inflating: __MACOSX/._facades      \n",
            "  inflating: facades/.DS_Store       \n",
            "  inflating: __MACOSX/facades/._.DS_Store  \n",
            "   creating: facades/test_dev/\n",
            "  inflating: __MACOSX/facades/._test_dev  \n",
            "   creating: facades/train/\n",
            "  inflating: __MACOSX/facades/._train  \n",
            "  inflating: facades/readme.txt      \n",
            "  inflating: facades/colormap.png    \n",
            "  inflating: __MACOSX/facades/._colormap.png  \n",
            "  inflating: facades/test_dev/eecs442_0109.jpg  \n",
            "  inflating: facades/test_dev/eecs442_0109.png  \n",
            "  inflating: facades/test_dev/eecs442_0096.png  \n",
            "  inflating: facades/test_dev/eecs442_0082.png  \n",
            "  inflating: facades/test_dev/eecs442_0069.png  \n",
            "  inflating: facades/test_dev/eecs442_0055.png  \n",
            "  inflating: facades/test_dev/eecs442_0041.png  \n",
            "  inflating: facades/test_dev/eecs442_0069.jpg  \n",
            "  inflating: facades/test_dev/eecs442_0041.jpg  \n",
            "  inflating: facades/test_dev/eecs442_0055.jpg  \n",
            "  inflating: facades/test_dev/eecs442_0082.jpg  \n",
            "  inflating: facades/test_dev/eecs442_0096.jpg  \n",
            "  inflating: facades/test_dev/eecs442_0097.jpg  \n",
            "  inflating: facades/test_dev/eecs442_0083.jpg  \n",
            "  inflating: facades/test_dev/eecs442_0054.jpg  \n",
            "  inflating: facades/test_dev/eecs442_0040.jpg  \n",
            "  inflating: facades/test_dev/eecs442_0068.jpg  \n",
            "  inflating: facades/test_dev/eecs442_0040.png  \n",
            "  inflating: facades/test_dev/eecs442_0054.png  \n",
            "  inflating: facades/test_dev/eecs442_0068.png  \n",
            "  inflating: facades/test_dev/eecs442_0083.png  \n",
            "  inflating: facades/test_dev/eecs442_0097.png  \n",
            "  inflating: facades/test_dev/eecs442_0108.png  \n",
            "  inflating: facades/test_dev/eecs442_0108.jpg  \n",
            "  inflating: facades/test_dev/eecs442_0081.png  \n",
            "  inflating: facades/test_dev/eecs442_0095.png  \n",
            "  inflating: facades/test_dev/eecs442_0042.png  \n",
            "  inflating: facades/test_dev/eecs442_0056.png  \n",
            "  inflating: facades/test_dev/eecs442_0056.jpg  \n",
            "  inflating: facades/test_dev/eecs442_0042.jpg  \n",
            "  inflating: facades/test_dev/eecs442_0095.jpg  \n",
            "  inflating: facades/test_dev/eecs442_0081.jpg  \n",
            "  inflating: facades/test_dev/eecs442_0080.jpg  \n",
            "  inflating: facades/test_dev/eecs442_0094.jpg  \n",
            "  inflating: facades/test_dev/eecs442_0043.jpg  \n",
            "  inflating: facades/test_dev/eecs442_0057.jpg  \n",
            "  inflating: facades/test_dev/eecs442_0057.png  \n",
            "  inflating: facades/test_dev/eecs442_0043.png  \n",
            "  inflating: facades/test_dev/eecs442_0094.png  \n",
            "  inflating: facades/test_dev/eecs442_0080.png  \n",
            "  inflating: facades/test_dev/eecs442_0084.png  \n",
            "  inflating: facades/test_dev/eecs442_0090.png  \n",
            "  inflating: facades/test_dev/eecs442_0047.png  \n",
            "  inflating: facades/test_dev/eecs442_0053.png  \n",
            "  inflating: facades/test_dev/eecs442_0053.jpg  \n",
            "  inflating: facades/test_dev/eecs442_0047.jpg  \n",
            "  inflating: facades/test_dev/eecs442_0090.jpg  \n",
            "  inflating: facades/test_dev/eecs442_0084.jpg  \n",
            "  inflating: facades/test_dev/eecs442_0085.jpg  \n",
            "  inflating: facades/test_dev/eecs442_0091.jpg  \n",
            "  inflating: facades/test_dev/eecs442_0046.jpg  \n",
            "  inflating: facades/test_dev/eecs442_0052.jpg  \n",
            "  inflating: facades/test_dev/eecs442_0052.png  \n",
            "  inflating: facades/test_dev/eecs442_0046.png  \n",
            "  inflating: facades/test_dev/eecs442_0091.png  \n",
            "  inflating: facades/test_dev/eecs442_0085.png  \n",
            "  inflating: facades/test_dev/eecs442_0093.png  \n",
            "  inflating: facades/test_dev/eecs442_0087.png  \n",
            "  inflating: facades/test_dev/eecs442_0050.png  \n",
            "  inflating: facades/test_dev/eecs442_0044.png  \n",
            "  inflating: facades/test_dev/eecs442_0078.png  \n",
            "  inflating: facades/test_dev/eecs442_0044.jpg  \n",
            "  inflating: facades/test_dev/eecs442_0050.jpg  \n",
            "  inflating: facades/test_dev/eecs442_0078.jpg  \n",
            "  inflating: facades/test_dev/eecs442_0087.jpg  \n",
            "  inflating: facades/test_dev/eecs442_0093.jpg  \n",
            "  inflating: facades/test_dev/eecs442_0092.jpg  \n",
            "  inflating: facades/test_dev/eecs442_0086.jpg  \n",
            "  inflating: facades/test_dev/eecs442_0079.jpg  \n",
            "  inflating: facades/test_dev/eecs442_0051.jpg  \n",
            "  inflating: facades/test_dev/eecs442_0045.jpg  \n",
            "  inflating: facades/test_dev/eecs442_0079.png  \n",
            "  inflating: facades/test_dev/eecs442_0045.png  \n",
            "  inflating: facades/test_dev/eecs442_0051.png  \n",
            "  inflating: facades/test_dev/eecs442_0086.png  \n",
            "  inflating: facades/test_dev/eecs442_0092.png  \n",
            "  inflating: facades/test_dev/eecs442_0036.png  \n",
            "  inflating: facades/test_dev/eecs442_0022.png  \n",
            "  inflating: facades/test_dev/eecs442_0022.jpg  \n",
            "  inflating: facades/test_dev/eecs442_0036.jpg  \n",
            "  inflating: facades/test_dev/eecs442_0037.jpg  \n",
            "  inflating: facades/test_dev/eecs442_0023.jpg  \n",
            "  inflating: facades/test_dev/eecs442_0023.png  \n",
            "  inflating: facades/test_dev/eecs442_0037.png  \n",
            "  inflating: facades/test_dev/eecs442_0009.png  \n",
            "  inflating: facades/test_dev/eecs442_0021.png  \n",
            "  inflating: facades/test_dev/eecs442_0035.png  \n",
            "  inflating: facades/test_dev/eecs442_0009.jpg  \n",
            "  inflating: facades/test_dev/eecs442_0035.jpg  \n",
            "  inflating: facades/test_dev/eecs442_0021.jpg  \n",
            "  inflating: facades/test_dev/eecs442_0020.jpg  \n",
            "  inflating: facades/test_dev/eecs442_0034.jpg  \n",
            "  inflating: facades/test_dev/eecs442_0008.jpg  \n",
            "  inflating: facades/test_dev/eecs442_0034.png  \n",
            "  inflating: facades/test_dev/eecs442_0020.png  \n",
            "  inflating: facades/test_dev/eecs442_0008.png  \n",
            "  inflating: facades/test_dev/eecs442_0024.png  \n",
            "  inflating: facades/test_dev/eecs442_0030.png  \n",
            "  inflating: facades/test_dev/eecs442_0018.png  \n",
            "  inflating: facades/test_dev/eecs442_0030.jpg  \n",
            "  inflating: facades/test_dev/eecs442_0024.jpg  \n",
            "  inflating: facades/test_dev/eecs442_0018.jpg  \n",
            "  inflating: facades/test_dev/eecs442_0019.jpg  \n",
            "  inflating: facades/test_dev/eecs442_0025.jpg  \n",
            "  inflating: facades/test_dev/eecs442_0031.jpg  \n",
            "  inflating: facades/test_dev/eecs442_0019.png  \n",
            "  inflating: facades/test_dev/eecs442_0031.png  \n",
            "  inflating: facades/test_dev/eecs442_0025.png  \n",
            "  inflating: facades/test_dev/eecs442_0033.png  \n",
            "  inflating: facades/test_dev/eecs442_0027.png  \n",
            "  inflating: facades/test_dev/eecs442_0027.jpg  \n",
            "  inflating: facades/test_dev/eecs442_0033.jpg  \n",
            "  inflating: facades/test_dev/eecs442_0032.jpg  \n",
            "  inflating: facades/test_dev/eecs442_0026.jpg  \n",
            "  inflating: facades/test_dev/eecs442_0026.png  \n",
            "  inflating: facades/test_dev/eecs442_0032.png  \n",
            "  inflating: facades/test_dev/eecs442_0017.png  \n",
            "  inflating: facades/test_dev/eecs442_0003.png  \n",
            "  inflating: facades/test_dev/eecs442_0003.jpg  \n",
            "  inflating: facades/test_dev/eecs442_0017.jpg  \n",
            "  inflating: facades/test_dev/eecs442_0016.jpg  \n",
            "  inflating: facades/test_dev/eecs442_0002.jpg  \n",
            "  inflating: facades/test_dev/eecs442_0002.png  \n",
            "  inflating: facades/test_dev/eecs442_0016.png  \n",
            "  inflating: facades/test_dev/eecs442_0028.png  \n",
            "  inflating: facades/test_dev/eecs442_0000.png  \n",
            "  inflating: facades/test_dev/eecs442_0014.png  \n",
            "  inflating: facades/test_dev/eecs442_0028.jpg  \n",
            "  inflating: facades/test_dev/eecs442_0014.jpg  \n",
            "  inflating: facades/test_dev/eecs442_0000.jpg  \n",
            "  inflating: facades/test_dev/eecs442_0001.jpg  \n",
            "  inflating: facades/test_dev/eecs442_0015.jpg  \n",
            "  inflating: facades/test_dev/eecs442_0029.jpg  \n",
            "  inflating: facades/test_dev/eecs442_0015.png  \n",
            "  inflating: facades/test_dev/eecs442_0001.png  \n",
            "  inflating: facades/test_dev/eecs442_0029.png  \n",
            "  inflating: facades/test_dev/eecs442_0005.png  \n",
            "  inflating: facades/test_dev/eecs442_0011.png  \n",
            "  inflating: facades/test_dev/eecs442_0039.png  \n",
            "  inflating: facades/test_dev/eecs442_0011.jpg  \n",
            "  inflating: facades/test_dev/eecs442_0005.jpg  \n",
            "  inflating: facades/test_dev/eecs442_0039.jpg  \n",
            "  inflating: facades/test_dev/eecs442_0038.jpg  \n",
            "  inflating: facades/test_dev/eecs442_0004.jpg  \n",
            "  inflating: facades/test_dev/eecs442_0010.jpg  \n",
            "  inflating: facades/test_dev/eecs442_0038.png  \n",
            "  inflating: facades/test_dev/eecs442_0010.png  \n",
            "  inflating: facades/test_dev/eecs442_0004.png  \n",
            "  inflating: facades/test_dev/eecs442_0012.png  \n",
            "  inflating: facades/test_dev/eecs442_0006.png  \n",
            "  inflating: facades/test_dev/eecs442_0006.jpg  \n",
            "  inflating: facades/test_dev/eecs442_0012.jpg  \n",
            "  inflating: facades/test_dev/eecs442_0013.jpg  \n",
            "  inflating: facades/test_dev/eecs442_0007.jpg  \n",
            "  inflating: facades/test_dev/eecs442_0007.png  \n",
            "  inflating: facades/test_dev/eecs442_0013.png  \n",
            "  inflating: facades/test_dev/eecs442_0100.jpg  \n",
            "  inflating: facades/test_dev/eecs442_0100.png  \n",
            "  inflating: facades/test_dev/eecs442_0048.png  \n",
            "  inflating: facades/test_dev/eecs442_0074.png  \n",
            "  inflating: facades/test_dev/eecs442_0060.png  \n",
            "  inflating: facades/test_dev/eecs442_0048.jpg  \n",
            "  inflating: facades/test_dev/eecs442_0060.jpg  \n",
            "  inflating: facades/test_dev/eecs442_0074.jpg  \n",
            "  inflating: facades/test_dev/eecs442_0075.jpg  \n",
            "  inflating: facades/test_dev/eecs442_0061.jpg  \n",
            "  inflating: facades/test_dev/eecs442_0049.jpg  \n",
            "  inflating: facades/test_dev/eecs442_0061.png  \n",
            "  inflating: facades/test_dev/eecs442_0075.png  \n",
            "  inflating: facades/test_dev/eecs442_0049.png  \n",
            "  inflating: facades/test_dev/eecs442_0101.png  \n",
            "  inflating: facades/test_dev/eecs442_0101.jpg  \n",
            "  inflating: facades/test_dev/eecs442_0103.jpg  \n",
            "  inflating: facades/test_dev/eecs442_0103.png  \n",
            "  inflating: facades/test_dev/eecs442_0088.png  \n",
            "  inflating: facades/test_dev/eecs442_0063.png  \n",
            "  inflating: facades/test_dev/eecs442_0077.png  \n",
            "  inflating: facades/test_dev/eecs442_0077.jpg  \n",
            "  inflating: facades/test_dev/eecs442_0063.jpg  \n",
            "  inflating: facades/test_dev/eecs442_0088.jpg  \n",
            "  inflating: facades/test_dev/eecs442_0089.jpg  \n",
            "  inflating: facades/test_dev/eecs442_0062.jpg  \n",
            "  inflating: facades/test_dev/eecs442_0076.jpg  \n",
            "  inflating: facades/test_dev/eecs442_0076.png  \n",
            "  inflating: facades/test_dev/eecs442_0062.png  \n",
            "  inflating: facades/test_dev/eecs442_0089.png  \n",
            "  inflating: facades/test_dev/eecs442_0102.png  \n",
            "  inflating: facades/test_dev/eecs442_0102.jpg  \n",
            "  inflating: facades/test_dev/eecs442_0106.jpg  \n",
            "  inflating: facades/test_dev/eecs442_0112.jpg  \n",
            "  inflating: facades/test_dev/eecs442_0112.png  \n",
            "  inflating: facades/test_dev/eecs442_0106.png  \n",
            "  inflating: facades/test_dev/eecs442_0099.png  \n",
            "  inflating: facades/test_dev/eecs442_0066.png  \n",
            "  inflating: facades/test_dev/eecs442_0072.png  \n",
            "  inflating: facades/test_dev/eecs442_0072.jpg  \n",
            "  inflating: facades/test_dev/eecs442_0066.jpg  \n",
            "  inflating: facades/test_dev/eecs442_0099.jpg  \n",
            "  inflating: facades/test_dev/eecs442_0098.jpg  \n",
            "  inflating: facades/test_dev/eecs442_0067.jpg  \n",
            "  inflating: facades/test_dev/eecs442_0073.jpg  \n",
            "  inflating: facades/test_dev/eecs442_0073.png  \n",
            "  inflating: facades/test_dev/eecs442_0067.png  \n",
            "  inflating: facades/test_dev/eecs442_0098.png  \n",
            "  inflating: facades/test_dev/eecs442_0107.png  \n",
            "  inflating: facades/test_dev/eecs442_0113.png  \n",
            "  inflating: facades/test_dev/eecs442_0113.jpg  \n",
            "  inflating: facades/test_dev/eecs442_0107.jpg  \n",
            "  inflating: facades/test_dev/eecs442_0111.jpg  \n",
            "  inflating: facades/test_dev/eecs442_0105.jpg  \n",
            "  inflating: facades/test_dev/eecs442_0105.png  \n",
            "  inflating: facades/test_dev/eecs442_0111.png  \n",
            "  inflating: facades/test_dev/eecs442_0071.png  \n",
            "  inflating: facades/test_dev/eecs442_0065.png  \n",
            "  inflating: facades/test_dev/eecs442_0059.png  \n",
            "  inflating: facades/test_dev/eecs442_0065.jpg  \n",
            "  inflating: facades/test_dev/eecs442_0071.jpg  \n",
            "  inflating: facades/test_dev/eecs442_0059.jpg  \n",
            "  inflating: facades/test_dev/eecs442_0058.jpg  \n",
            "  inflating: facades/test_dev/eecs442_0070.jpg  \n",
            "  inflating: facades/test_dev/eecs442_0064.jpg  \n",
            "  inflating: facades/test_dev/eecs442_0058.png  \n",
            "  inflating: facades/test_dev/eecs442_0064.png  \n",
            "  inflating: facades/test_dev/eecs442_0070.png  \n",
            "  inflating: facades/test_dev/eecs442_0110.png  \n",
            "  inflating: facades/test_dev/eecs442_0104.png  \n",
            "  inflating: facades/test_dev/eecs442_0104.jpg  \n",
            "  inflating: facades/test_dev/eecs442_0110.jpg  \n",
            "  inflating: facades/train/eecs442_0109.jpg  \n",
            "  inflating: facades/train/eecs442_0486.png  \n",
            "  inflating: facades/train/eecs442_0653.jpg  \n",
            "  inflating: facades/train/eecs442_0135.jpg  \n",
            "  inflating: facades/train/eecs442_0121.jpg  \n",
            "  inflating: facades/train/eecs442_0647.jpg  \n",
            "  inflating: facades/train/eecs442_0492.png  \n",
            "  inflating: facades/train/eecs442_0479.png  \n",
            "  inflating: facades/train/eecs442_0874.jpg  \n",
            "  inflating: facades/train/eecs442_0860.jpg  \n",
            "  inflating: facades/train/eecs442_0848.jpg  \n",
            "  inflating: facades/train/eecs442_0690.jpg  \n",
            "  inflating: facades/train/eecs442_0445.png  \n",
            "  inflating: facades/train/eecs442_0323.png  \n",
            "  inflating: facades/train/eecs442_0337.png  \n",
            "  inflating: facades/train/eecs442_0451.png  \n",
            "  inflating: facades/train/eecs442_0684.jpg  \n",
            "  inflating: facades/train/eecs442_0860.png  \n",
            "  inflating: facades/train/eecs442_0479.jpg  \n",
            "  inflating: facades/train/eecs442_0874.png  \n",
            "  inflating: facades/train/eecs442_0337.jpg  \n",
            "  inflating: facades/train/eecs442_0451.jpg  \n",
            "  inflating: facades/train/eecs442_0684.png  \n",
            "  inflating: facades/train/eecs442_0690.png  \n",
            "  inflating: facades/train/eecs442_0848.png  \n",
            "  inflating: facades/train/eecs442_0445.jpg  \n",
            "  inflating: facades/train/eecs442_0323.jpg  \n",
            "  inflating: facades/train/eecs442_0109.png  \n",
            "  inflating: facades/train/eecs442_0121.png  \n",
            "  inflating: facades/train/eecs442_0647.png  \n",
            "  inflating: facades/train/eecs442_0492.jpg  \n",
            "  inflating: facades/train/eecs442_0486.jpg  \n",
            "  inflating: facades/train/eecs442_0653.png  \n",
            "  inflating: facades/train/eecs442_0135.png  \n",
            "  inflating: facades/train/eecs442_0519.jpg  \n",
            "  inflating: facades/train/eecs442_0900.png  \n",
            "  inflating: facades/train/eecs442_0096.png  \n",
            "  inflating: facades/train/eecs442_0243.jpg  \n",
            "  inflating: facades/train/eecs442_0525.jpg  \n",
            "  inflating: facades/train/eecs442_0531.jpg  \n",
            "  inflating: facades/train/eecs442_0257.jpg  \n",
            "  inflating: facades/train/eecs442_0082.png  \n",
            "  inflating: facades/train/eecs442_0069.png  \n",
            "  inflating: facades/train/eecs442_0280.jpg  \n",
            "  inflating: facades/train/eecs442_0055.png  \n",
            "  inflating: facades/train/eecs442_0733.png  \n",
            "  inflating: facades/train/eecs442_0727.png  \n",
            "  inflating: facades/train/eecs442_0041.png  \n",
            "  inflating: facades/train/eecs442_0294.jpg  \n",
            "  inflating: facades/train/eecs442_0069.jpg  \n",
            "  inflating: facades/train/eecs442_0727.jpg  \n",
            "  inflating: facades/train/eecs442_0041.jpg  \n",
            "  inflating: facades/train/eecs442_0294.png  \n",
            "  inflating: facades/train/eecs442_0280.png  \n",
            "  inflating: facades/train/eecs442_0055.jpg  \n",
            "  inflating: facades/train/eecs442_0733.jpg  \n",
            "  inflating: facades/train/eecs442_0900.jpg  \n",
            "  inflating: facades/train/eecs442_0519.png  \n",
            "  inflating: facades/train/eecs442_0531.png  \n",
            "  inflating: facades/train/eecs442_0257.png  \n",
            "  inflating: facades/train/eecs442_0082.jpg  \n",
            "  inflating: facades/train/eecs442_0096.jpg  \n",
            "  inflating: facades/train/eecs442_0243.png  \n",
            "  inflating: facades/train/eecs442_0525.png  \n",
            "  inflating: facades/train/eecs442_0242.png  \n",
            "  inflating: facades/train/eecs442_0097.jpg  \n",
            "  inflating: facades/train/eecs442_0524.png  \n",
            "  inflating: facades/train/eecs442_0530.png  \n",
            "  inflating: facades/train/eecs442_0083.jpg  \n",
            "  inflating: facades/train/eecs442_0256.png  \n",
            "  inflating: facades/train/eecs442_0518.png  \n",
            "  inflating: facades/train/eecs442_0901.jpg  \n",
            "  inflating: facades/train/eecs442_0054.jpg  \n",
            "  inflating: facades/train/eecs442_0281.png  \n",
            "  inflating: facades/train/eecs442_0732.jpg  \n",
            "  inflating: facades/train/eecs442_0726.jpg  \n",
            "  inflating: facades/train/eecs442_0295.png  \n",
            "  inflating: facades/train/eecs442_0040.jpg  \n",
            "  inflating: facades/train/eecs442_0068.jpg  \n",
            "  inflating: facades/train/eecs442_0726.png  \n",
            "  inflating: facades/train/eecs442_0295.jpg  \n",
            "  inflating: facades/train/eecs442_0040.png  \n",
            "  inflating: facades/train/eecs442_0054.png  \n",
            "  inflating: facades/train/eecs442_0281.jpg  \n",
            "  inflating: facades/train/eecs442_0732.png  \n",
            "  inflating: facades/train/eecs442_0068.png  \n",
            "  inflating: facades/train/eecs442_0530.jpg  \n",
            "  inflating: facades/train/eecs442_0083.png  \n",
            "  inflating: facades/train/eecs442_0256.jpg  \n",
            "  inflating: facades/train/eecs442_0242.jpg  \n",
            "  inflating: facades/train/eecs442_0097.png  \n",
            "  inflating: facades/train/eecs442_0524.jpg  \n",
            "  inflating: facades/train/eecs442_0901.png  \n",
            "  inflating: facades/train/eecs442_0518.jpg  \n",
            "  inflating: facades/train/eecs442_0652.png  \n",
            "  inflating: facades/train/eecs442_0487.jpg  \n",
            "  inflating: facades/train/eecs442_0134.png  \n",
            "  inflating: facades/train/eecs442_0120.png  \n",
            "  inflating: facades/train/eecs442_0493.jpg  \n",
            "  inflating: facades/train/eecs442_0646.png  \n",
            "  inflating: facades/train/eecs442_0108.png  \n",
            "  inflating: facades/train/eecs442_0444.jpg  \n",
            "  inflating: facades/train/eecs442_0849.png  \n",
            "  inflating: facades/train/eecs442_0691.png  \n",
            "  inflating: facades/train/eecs442_0322.jpg  \n",
            "  inflating: facades/train/eecs442_0336.jpg  \n",
            "  inflating: facades/train/eecs442_0685.png  \n",
            "  inflating: facades/train/eecs442_0450.jpg  \n",
            "  inflating: facades/train/eecs442_0875.png  \n",
            "  inflating: facades/train/eecs442_0478.jpg  \n",
            "  inflating: facades/train/eecs442_0861.png  \n",
            "  inflating: facades/train/eecs442_0336.png  \n",
            "  inflating: facades/train/eecs442_0685.jpg  \n",
            "  inflating: facades/train/eecs442_0450.png  \n",
            "  inflating: facades/train/eecs442_0444.png  \n",
            "  inflating: facades/train/eecs442_0691.jpg  \n",
            "  inflating: facades/train/eecs442_0849.jpg  \n",
            "  inflating: facades/train/eecs442_0322.png  \n",
            "  inflating: facades/train/eecs442_0861.jpg  \n",
            "  inflating: facades/train/eecs442_0875.jpg  \n",
            "  inflating: facades/train/eecs442_0478.png  \n",
            "  inflating: facades/train/eecs442_0120.jpg  \n",
            "  inflating: facades/train/eecs442_0493.png  \n",
            "  inflating: facades/train/eecs442_0646.jpg  \n",
            "  inflating: facades/train/eecs442_0652.jpg  \n",
            "  inflating: facades/train/eecs442_0487.png  \n",
            "  inflating: facades/train/eecs442_0134.jpg  \n",
            "  inflating: facades/train/eecs442_0108.jpg  \n",
            "  inflating: facades/train/eecs442_0678.jpg  \n",
            "  inflating: facades/train/eecs442_0644.jpg  \n",
            "  inflating: facades/train/eecs442_0491.png  \n",
            "  inflating: facades/train/eecs442_0122.jpg  \n",
            "  inflating: facades/train/eecs442_0136.jpg  \n",
            "  inflating: facades/train/eecs442_0485.png  \n",
            "  inflating: facades/train/eecs442_0650.jpg  \n",
            "  inflating: facades/train/eecs442_0888.jpg  \n",
            "  inflating: facades/train/eecs442_0863.jpg  \n",
            "  inflating: facades/train/eecs442_0308.png  \n",
            "  inflating: facades/train/eecs442_0877.jpg  \n",
            "  inflating: facades/train/eecs442_0452.png  \n",
            "  inflating: facades/train/eecs442_0687.jpg  \n",
            "  inflating: facades/train/eecs442_0334.png  \n",
            "  inflating: facades/train/eecs442_0320.png  \n",
            "  inflating: facades/train/eecs442_0693.jpg  \n",
            "  inflating: facades/train/eecs442_0446.png  \n",
            "  inflating: facades/train/eecs442_0877.png  \n",
            "  inflating: facades/train/eecs442_0863.png  \n",
            "  inflating: facades/train/eecs442_0308.jpg  \n",
            "  inflating: facades/train/eecs442_0320.jpg  \n",
            "  inflating: facades/train/eecs442_0693.png  \n",
            "  inflating: facades/train/eecs442_0446.jpg  \n",
            "  inflating: facades/train/eecs442_0452.jpg  \n",
            "  inflating: facades/train/eecs442_0687.png  \n",
            "  inflating: facades/train/eecs442_0334.jpg  \n",
            "  inflating: facades/train/eecs442_0678.png  \n",
            "  inflating: facades/train/eecs442_0136.png  \n",
            "  inflating: facades/train/eecs442_0485.jpg  \n",
            "  inflating: facades/train/eecs442_0888.png  \n",
            "  inflating: facades/train/eecs442_0650.png  \n",
            "  inflating: facades/train/eecs442_0644.png  \n",
            "  inflating: facades/train/eecs442_0491.jpg  \n",
            "  inflating: facades/train/eecs442_0122.png  \n",
            "  inflating: facades/train/eecs442_0268.jpg  \n",
            "  inflating: facades/train/eecs442_0903.png  \n",
            "  inflating: facades/train/eecs442_0254.jpg  \n",
            "  inflating: facades/train/eecs442_0081.png  \n",
            "  inflating: facades/train/eecs442_0532.jpg  \n",
            "  inflating: facades/train/eecs442_0526.jpg  \n",
            "  inflating: facades/train/eecs442_0095.png  \n",
            "  inflating: facades/train/eecs442_0240.jpg  \n",
            "  inflating: facades/train/eecs442_0718.png  \n",
            "  inflating: facades/train/eecs442_0042.png  \n",
            "  inflating: facades/train/eecs442_0297.jpg  \n",
            "  inflating: facades/train/eecs442_0724.png  \n",
            "  inflating: facades/train/eecs442_0730.png  \n",
            "  inflating: facades/train/eecs442_0283.jpg  \n",
            "  inflating: facades/train/eecs442_0056.png  \n",
            "  inflating: facades/train/eecs442_0718.jpg  \n",
            "  inflating: facades/train/eecs442_0730.jpg  \n",
            "  inflating: facades/train/eecs442_0283.png  \n",
            "  inflating: facades/train/eecs442_0056.jpg  \n",
            "  inflating: facades/train/eecs442_0042.jpg  \n",
            "  inflating: facades/train/eecs442_0297.png  \n",
            "  inflating: facades/train/eecs442_0724.jpg  \n",
            "  inflating: facades/train/eecs442_0268.png  \n",
            "  inflating: facades/train/eecs442_0903.jpg  \n",
            "  inflating: facades/train/eecs442_0526.png  \n",
            "  inflating: facades/train/eecs442_0095.jpg  \n",
            "  inflating: facades/train/eecs442_0240.png  \n",
            "  inflating: facades/train/eecs442_0254.png  \n",
            "  inflating: facades/train/eecs442_0081.jpg  \n",
            "  inflating: facades/train/eecs442_0532.png  \n",
            "  inflating: facades/train/eecs442_0080.jpg  \n",
            "  inflating: facades/train/eecs442_0255.png  \n",
            "  inflating: facades/train/eecs442_0533.png  \n",
            "  inflating: facades/train/eecs442_0527.png  \n",
            "  inflating: facades/train/eecs442_0241.png  \n",
            "  inflating: facades/train/eecs442_0094.jpg  \n",
            "  inflating: facades/train/eecs442_0269.png  \n",
            "  inflating: facades/train/eecs442_0902.jpg  \n",
            "  inflating: facades/train/eecs442_0296.png  \n",
            "  inflating: facades/train/eecs442_0043.jpg  \n",
            "  inflating: facades/train/eecs442_0725.jpg  \n",
            "  inflating: facades/train/eecs442_0731.jpg  \n",
            "  inflating: facades/train/eecs442_0057.jpg  \n",
            "  inflating: facades/train/eecs442_0282.png  \n",
            "  inflating: facades/train/eecs442_0719.jpg  \n",
            "  inflating: facades/train/eecs442_0731.png  \n",
            "  inflating: facades/train/eecs442_0057.png  \n",
            "  inflating: facades/train/eecs442_0282.jpg  \n",
            "  inflating: facades/train/eecs442_0296.jpg  \n",
            "  inflating: facades/train/eecs442_0043.png  \n",
            "  inflating: facades/train/eecs442_0725.png  \n",
            "  inflating: facades/train/eecs442_0719.png  \n",
            "  inflating: facades/train/eecs442_0527.jpg  \n",
            "  inflating: facades/train/eecs442_0241.jpg  \n",
            "  inflating: facades/train/eecs442_0094.png  \n",
            "  inflating: facades/train/eecs442_0080.png  \n",
            "  inflating: facades/train/eecs442_0255.jpg  \n",
            "  inflating: facades/train/eecs442_0533.jpg  \n",
            "  inflating: facades/train/eecs442_0269.jpg  \n",
            "  inflating: facades/train/eecs442_0902.png  \n",
            "  inflating: facades/train/eecs442_0490.jpg  \n",
            "  inflating: facades/train/eecs442_0645.png  \n",
            "  inflating: facades/train/eecs442_0123.png  \n",
            "  inflating: facades/train/eecs442_0137.png  \n",
            "  inflating: facades/train/eecs442_0651.png  \n",
            "  inflating: facades/train/eecs442_0889.png  \n",
            "  inflating: facades/train/eecs442_0484.jpg  \n",
            "  inflating: facades/train/eecs442_0679.png  \n",
            "  inflating: facades/train/eecs442_0686.png  \n",
            "  inflating: facades/train/eecs442_0453.jpg  \n",
            "  inflating: facades/train/eecs442_0335.jpg  \n",
            "  inflating: facades/train/eecs442_0321.jpg  \n",
            "  inflating: facades/train/eecs442_0447.jpg  \n",
            "  inflating: facades/train/eecs442_0692.png  \n",
            "  inflating: facades/train/eecs442_0862.png  \n",
            "  inflating: facades/train/eecs442_0309.jpg  \n",
            "  inflating: facades/train/eecs442_0876.png  \n",
            "  inflating: facades/train/eecs442_0321.png  \n",
            "  inflating: facades/train/eecs442_0447.png  \n",
            "  inflating: facades/train/eecs442_0692.jpg  \n",
            "  inflating: facades/train/eecs442_0686.jpg  \n",
            "  inflating: facades/train/eecs442_0453.png  \n",
            "  inflating: facades/train/eecs442_0335.png  \n",
            "  inflating: facades/train/eecs442_0876.jpg  \n",
            "  inflating: facades/train/eecs442_0862.jpg  \n",
            "  inflating: facades/train/eecs442_0309.png  \n",
            "  inflating: facades/train/eecs442_0137.jpg  \n",
            "  inflating: facades/train/eecs442_0889.jpg  \n",
            "  inflating: facades/train/eecs442_0651.jpg  \n",
            "  inflating: facades/train/eecs442_0484.png  \n",
            "  inflating: facades/train/eecs442_0490.png  \n",
            "  inflating: facades/train/eecs442_0645.jpg  \n",
            "  inflating: facades/train/eecs442_0123.jpg  \n",
            "  inflating: facades/train/eecs442_0679.jpg  \n",
            "  inflating: facades/train/eecs442_0127.jpg  \n",
            "  inflating: facades/train/eecs442_0641.jpg  \n",
            "  inflating: facades/train/eecs442_0899.jpg  \n",
            "  inflating: facades/train/eecs442_0494.png  \n",
            "  inflating: facades/train/eecs442_0480.png  \n",
            "  inflating: facades/train/eecs442_0655.jpg  \n",
            "  inflating: facades/train/eecs442_0133.jpg  \n",
            "  inflating: facades/train/eecs442_0669.jpg  \n",
            "  inflating: facades/train/eecs442_0331.png  \n",
            "  inflating: facades/train/eecs442_0457.png  \n",
            "  inflating: facades/train/eecs442_0682.jpg  \n",
            "  inflating: facades/train/eecs442_0696.jpg  \n",
            "  inflating: facades/train/eecs442_0443.png  \n",
            "  inflating: facades/train/eecs442_0325.png  \n",
            "  inflating: facades/train/eecs442_0866.jpg  \n",
            "  inflating: facades/train/eecs442_0872.jpg  \n",
            "  inflating: facades/train/eecs442_0319.png  \n",
            "  inflating: facades/train/eecs442_0696.png  \n",
            "  inflating: facades/train/eecs442_0443.jpg  \n",
            "  inflating: facades/train/eecs442_0325.jpg  \n",
            "  inflating: facades/train/eecs442_0331.jpg  \n",
            "  inflating: facades/train/eecs442_0457.jpg  \n",
            "  inflating: facades/train/eecs442_0682.png  \n",
            "  inflating: facades/train/eecs442_0872.png  \n",
            "  inflating: facades/train/eecs442_0319.jpg  \n",
            "  inflating: facades/train/eecs442_0866.png  \n",
            "  inflating: facades/train/eecs442_0480.jpg  \n",
            "  inflating: facades/train/eecs442_0655.png  \n",
            "  inflating: facades/train/eecs442_0133.png  \n",
            "  inflating: facades/train/eecs442_0127.png  \n",
            "  inflating: facades/train/eecs442_0899.png  \n",
            "  inflating: facades/train/eecs442_0641.png  \n",
            "  inflating: facades/train/eecs442_0494.jpg  \n",
            "  inflating: facades/train/eecs442_0669.png  \n",
            "  inflating: facades/train/eecs442_0537.jpg  \n",
            "  inflating: facades/train/eecs442_0251.jpg  \n",
            "  inflating: facades/train/eecs442_0084.png  \n",
            "  inflating: facades/train/eecs442_0090.png  \n",
            "  inflating: facades/train/eecs442_0245.jpg  \n",
            "  inflating: facades/train/eecs442_0523.jpg  \n",
            "  inflating: facades/train/eecs442_0279.jpg  \n",
            "  inflating: facades/train/eecs442_0721.png  \n",
            "  inflating: facades/train/eecs442_0047.png  \n",
            "  inflating: facades/train/eecs442_0292.jpg  \n",
            "  inflating: facades/train/eecs442_0286.jpg  \n",
            "  inflating: facades/train/eecs442_0053.png  \n",
            "  inflating: facades/train/eecs442_0735.png  \n",
            "  inflating: facades/train/eecs442_0709.png  \n",
            "  inflating: facades/train/eecs442_0286.png  \n",
            "  inflating: facades/train/eecs442_0053.jpg  \n",
            "  inflating: facades/train/eecs442_0735.jpg  \n",
            "  inflating: facades/train/eecs442_0721.jpg  \n",
            "  inflating: facades/train/eecs442_0047.jpg  \n",
            "  inflating: facades/train/eecs442_0292.png  \n",
            "  inflating: facades/train/eecs442_0709.jpg  \n",
            "  inflating: facades/train/eecs442_0090.jpg  \n",
            "  inflating: facades/train/eecs442_0245.png  \n",
            "  inflating: facades/train/eecs442_0523.png  \n",
            "  inflating: facades/train/eecs442_0537.png  \n",
            "  inflating: facades/train/eecs442_0251.png  \n",
            "  inflating: facades/train/eecs442_0084.jpg  \n",
            "  inflating: facades/train/eecs442_0279.png  \n",
            "  inflating: facades/train/eecs442_0278.png  \n",
            "  inflating: facades/train/eecs442_0536.png  \n",
            "  inflating: facades/train/eecs442_0085.jpg  \n",
            "  inflating: facades/train/eecs442_0250.png  \n",
            "  inflating: facades/train/eecs442_0244.png  \n",
            "  inflating: facades/train/eecs442_0091.jpg  \n",
            "  inflating: facades/train/eecs442_0522.png  \n",
            "  inflating: facades/train/eecs442_0708.jpg  \n",
            "  inflating: facades/train/eecs442_0720.jpg  \n",
            "  inflating: facades/train/eecs442_0293.png  \n",
            "  inflating: facades/train/eecs442_0046.jpg  \n",
            "  inflating: facades/train/eecs442_0052.jpg  \n",
            "  inflating: facades/train/eecs442_0287.png  \n",
            "  inflating: facades/train/eecs442_0734.jpg  \n",
            "  inflating: facades/train/eecs442_0708.png  \n",
            "  inflating: facades/train/eecs442_0052.png  \n",
            "  inflating: facades/train/eecs442_0287.jpg  \n",
            "  inflating: facades/train/eecs442_0734.png  \n",
            "  inflating: facades/train/eecs442_0720.png  \n",
            "  inflating: facades/train/eecs442_0293.jpg  \n",
            "  inflating: facades/train/eecs442_0046.png  \n",
            "  inflating: facades/train/eecs442_0278.jpg  \n",
            "  inflating: facades/train/eecs442_0244.jpg  \n",
            "  inflating: facades/train/eecs442_0091.png  \n",
            "  inflating: facades/train/eecs442_0522.jpg  \n",
            "  inflating: facades/train/eecs442_0536.jpg  \n",
            "  inflating: facades/train/eecs442_0085.png  \n",
            "  inflating: facades/train/eecs442_0250.jpg  \n",
            "  inflating: facades/train/eecs442_0668.png  \n",
            "  inflating: facades/train/eecs442_0126.png  \n",
            "  inflating: facades/train/eecs442_0495.jpg  \n",
            "  inflating: facades/train/eecs442_0640.png  \n",
            "  inflating: facades/train/eecs442_0898.png  \n",
            "  inflating: facades/train/eecs442_0654.png  \n",
            "  inflating: facades/train/eecs442_0481.jpg  \n",
            "  inflating: facades/train/eecs442_0132.png  \n",
            "  inflating: facades/train/eecs442_0867.png  \n",
            "  inflating: facades/train/eecs442_0873.png  \n",
            "  inflating: facades/train/eecs442_0318.jpg  \n",
            "  inflating: facades/train/eecs442_0330.jpg  \n",
            "  inflating: facades/train/eecs442_0683.png  \n",
            "  inflating: facades/train/eecs442_0456.jpg  \n",
            "  inflating: facades/train/eecs442_0442.jpg  \n",
            "  inflating: facades/train/eecs442_0697.png  \n",
            "  inflating: facades/train/eecs442_0324.jpg  \n",
            "  inflating: facades/train/eecs442_0873.jpg  \n",
            "  inflating: facades/train/eecs442_0318.png  \n",
            "  inflating: facades/train/eecs442_0867.jpg  \n",
            "  inflating: facades/train/eecs442_0442.png  \n",
            "  inflating: facades/train/eecs442_0697.jpg  \n",
            "  inflating: facades/train/eecs442_0324.png  \n",
            "  inflating: facades/train/eecs442_0330.png  \n",
            "  inflating: facades/train/eecs442_0683.jpg  \n",
            "  inflating: facades/train/eecs442_0456.png  \n",
            "  inflating: facades/train/eecs442_0668.jpg  \n",
            "  inflating: facades/train/eecs442_0654.jpg  \n",
            "  inflating: facades/train/eecs442_0481.png  \n",
            "  inflating: facades/train/eecs442_0132.jpg  \n",
            "  inflating: facades/train/eecs442_0126.jpg  \n",
            "  inflating: facades/train/eecs442_0495.png  \n",
            "  inflating: facades/train/eecs442_0898.jpg  \n",
            "  inflating: facades/train/eecs442_0640.jpg  \n",
            "  inflating: facades/train/eecs442_0130.jpg  \n",
            "  inflating: facades/train/eecs442_0483.png  \n",
            "  inflating: facades/train/eecs442_0656.jpg  \n",
            "  inflating: facades/train/eecs442_0642.jpg  \n",
            "  inflating: facades/train/eecs442_0497.png  \n",
            "  inflating: facades/train/eecs442_0124.jpg  \n",
            "  inflating: facades/train/eecs442_0118.jpg  \n",
            "  inflating: facades/train/eecs442_0326.png  \n",
            "  inflating: facades/train/eecs442_0695.jpg  \n",
            "  inflating: facades/train/eecs442_0440.png  \n",
            "  inflating: facades/train/eecs442_0454.png  \n",
            "  inflating: facades/train/eecs442_0859.jpg  \n",
            "  inflating: facades/train/eecs442_0681.jpg  \n",
            "  inflating: facades/train/eecs442_0332.png  \n",
            "  inflating: facades/train/eecs442_0871.jpg  \n",
            "  inflating: facades/train/eecs442_0865.jpg  \n",
            "  inflating: facades/train/eecs442_0468.png  \n",
            "  inflating: facades/train/eecs442_0454.jpg  \n",
            "  inflating: facades/train/eecs442_0681.png  \n",
            "  inflating: facades/train/eecs442_0859.png  \n",
            "  inflating: facades/train/eecs442_0332.jpg  \n",
            "  inflating: facades/train/eecs442_0326.jpg  \n",
            "  inflating: facades/train/eecs442_0695.png  \n",
            "  inflating: facades/train/eecs442_0440.jpg  \n",
            "  inflating: facades/train/eecs442_0865.png  \n",
            "  inflating: facades/train/eecs442_0468.jpg  \n",
            "  inflating: facades/train/eecs442_0871.png  \n",
            "  inflating: facades/train/eecs442_0642.png  \n",
            "  inflating: facades/train/eecs442_0497.jpg  \n",
            "  inflating: facades/train/eecs442_0124.png  \n",
            "  inflating: facades/train/eecs442_0130.png  \n",
            "  inflating: facades/train/eecs442_0483.jpg  \n",
            "  inflating: facades/train/eecs442_0656.png  \n",
            "  inflating: facades/train/eecs442_0118.png  \n",
            "  inflating: facades/train/eecs442_0520.jpg  \n",
            "  inflating: facades/train/eecs442_0093.png  \n",
            "  inflating: facades/train/eecs442_0246.jpg  \n",
            "  inflating: facades/train/eecs442_0252.jpg  \n",
            "  inflating: facades/train/eecs442_0087.png  \n",
            "  inflating: facades/train/eecs442_0534.jpg  \n",
            "  inflating: facades/train/eecs442_0508.jpg  \n",
            "  inflating: facades/train/eecs442_0905.png  \n",
            "  inflating: facades/train/eecs442_0736.png  \n",
            "  inflating: facades/train/eecs442_0285.jpg  \n",
            "  inflating: facades/train/eecs442_0050.png  \n",
            "  inflating: facades/train/eecs442_0044.png  \n",
            "  inflating: facades/train/eecs442_0291.jpg  \n",
            "  inflating: facades/train/eecs442_0722.png  \n",
            "  inflating: facades/train/eecs442_0078.png  \n",
            "  inflating: facades/train/eecs442_0044.jpg  \n",
            "  inflating: facades/train/eecs442_0291.png  \n",
            "  inflating: facades/train/eecs442_0722.jpg  \n",
            "  inflating: facades/train/eecs442_0736.jpg  \n",
            "  inflating: facades/train/eecs442_0285.png  \n",
            "  inflating: facades/train/eecs442_0050.jpg  \n",
            "  inflating: facades/train/eecs442_0078.jpg  \n",
            "  inflating: facades/train/eecs442_0252.png  \n",
            "  inflating: facades/train/eecs442_0087.jpg  \n",
            "  inflating: facades/train/eecs442_0534.png  \n",
            "  inflating: facades/train/eecs442_0520.png  \n",
            "  inflating: facades/train/eecs442_0093.jpg  \n",
            "  inflating: facades/train/eecs442_0246.png  \n",
            "  inflating: facades/train/eecs442_0508.png  \n",
            "  inflating: facades/train/eecs442_0905.jpg  \n",
            "  inflating: facades/train/eecs442_0904.jpg  \n",
            "  inflating: facades/train/eecs442_0509.png  \n",
            "  inflating: facades/train/eecs442_0521.png  \n",
            "  inflating: facades/train/eecs442_0247.png  \n",
            "  inflating: facades/train/eecs442_0092.jpg  \n",
            "  inflating: facades/train/eecs442_0086.jpg  \n",
            "  inflating: facades/train/eecs442_0253.png  \n",
            "  inflating: facades/train/eecs442_0535.png  \n",
            "  inflating: facades/train/eecs442_0079.jpg  \n",
            "  inflating: facades/train/eecs442_0737.jpg  \n",
            "  inflating: facades/train/eecs442_0051.jpg  \n",
            "  inflating: facades/train/eecs442_0284.png  \n",
            "  inflating: facades/train/eecs442_0290.png  \n",
            "  inflating: facades/train/eecs442_0045.jpg  \n",
            "  inflating: facades/train/eecs442_0723.jpg  \n",
            "  inflating: facades/train/eecs442_0079.png  \n",
            "  inflating: facades/train/eecs442_0290.jpg  \n",
            "  inflating: facades/train/eecs442_0045.png  \n",
            "  inflating: facades/train/eecs442_0723.png  \n",
            "  inflating: facades/train/eecs442_0737.png  \n",
            "  inflating: facades/train/eecs442_0051.png  \n",
            "  inflating: facades/train/eecs442_0284.jpg  \n",
            "  inflating: facades/train/eecs442_0904.png  \n",
            "  inflating: facades/train/eecs442_0509.jpg  \n",
            "  inflating: facades/train/eecs442_0086.png  \n",
            "  inflating: facades/train/eecs442_0253.jpg  \n",
            "  inflating: facades/train/eecs442_0535.jpg  \n",
            "  inflating: facades/train/eecs442_0521.jpg  \n",
            "  inflating: facades/train/eecs442_0247.jpg  \n",
            "  inflating: facades/train/eecs442_0092.png  \n",
            "  inflating: facades/train/eecs442_0119.png  \n",
            "  inflating: facades/train/eecs442_0131.png  \n",
            "  inflating: facades/train/eecs442_0657.png  \n",
            "  inflating: facades/train/eecs442_0482.jpg  \n",
            "  inflating: facades/train/eecs442_0496.jpg  \n",
            "  inflating: facades/train/eecs442_0643.png  \n",
            "  inflating: facades/train/eecs442_0125.png  \n",
            "  inflating: facades/train/eecs442_0870.png  \n",
            "  inflating: facades/train/eecs442_0469.jpg  \n",
            "  inflating: facades/train/eecs442_0864.png  \n",
            "  inflating: facades/train/eecs442_0327.jpg  \n",
            "  inflating: facades/train/eecs442_0441.jpg  \n",
            "  inflating: facades/train/eecs442_0694.png  \n",
            "  inflating: facades/train/eecs442_0858.png  \n",
            "  inflating: facades/train/eecs442_0680.png  \n",
            "  inflating: facades/train/eecs442_0455.jpg  \n",
            "  inflating: facades/train/eecs442_0333.jpg  \n",
            "  inflating: facades/train/eecs442_0469.png  \n",
            "  inflating: facades/train/eecs442_0864.jpg  \n",
            "  inflating: facades/train/eecs442_0870.jpg  \n",
            "  inflating: facades/train/eecs442_0680.jpg  \n",
            "  inflating: facades/train/eecs442_0858.jpg  \n",
            "  inflating: facades/train/eecs442_0455.png  \n",
            "  inflating: facades/train/eecs442_0333.png  \n",
            "  inflating: facades/train/eecs442_0327.png  \n",
            "  inflating: facades/train/eecs442_0441.png  \n",
            "  inflating: facades/train/eecs442_0694.jpg  \n",
            "  inflating: facades/train/eecs442_0119.jpg  \n",
            "  inflating: facades/train/eecs442_0496.png  \n",
            "  inflating: facades/train/eecs442_0643.jpg  \n",
            "  inflating: facades/train/eecs442_0125.jpg  \n",
            "  inflating: facades/train/eecs442_0131.jpg  \n",
            "  inflating: facades/train/eecs442_0657.jpg  \n",
            "  inflating: facades/train/eecs442_0482.png  \n",
            "  inflating: facades/train/eecs442_0618.jpg  \n",
            "  inflating: facades/train/eecs442_0383.png  \n",
            "  inflating: facades/train/eecs442_0156.jpg  \n",
            "  inflating: facades/train/eecs442_0630.jpg  \n",
            "  inflating: facades/train/eecs442_0624.jpg  \n",
            "  inflating: facades/train/eecs442_0142.jpg  \n",
            "  inflating: facades/train/eecs442_0397.png  \n",
            "  inflating: facades/train/eecs442_0817.jpg  \n",
            "  inflating: facades/train/eecs442_0803.jpg  \n",
            "  inflating: facades/train/eecs442_0368.png  \n",
            "  inflating: facades/train/eecs442_0195.jpg  \n",
            "  inflating: facades/train/eecs442_0340.png  \n",
            "  inflating: facades/train/eecs442_0426.png  \n",
            "  inflating: facades/train/eecs442_0432.png  \n",
            "  inflating: facades/train/eecs442_0354.png  \n",
            "  inflating: facades/train/eecs442_0181.jpg  \n",
            "  inflating: facades/train/eecs442_0803.png  \n",
            "  inflating: facades/train/eecs442_0368.jpg  \n",
            "  inflating: facades/train/eecs442_0817.png  \n",
            "  inflating: facades/train/eecs442_0432.jpg  \n",
            "  inflating: facades/train/eecs442_0354.jpg  \n",
            "  inflating: facades/train/eecs442_0181.png  \n",
            "  inflating: facades/train/eecs442_0195.png  \n",
            "  inflating: facades/train/eecs442_0340.jpg  \n",
            "  inflating: facades/train/eecs442_0426.jpg  \n",
            "  inflating: facades/train/eecs442_0618.png  \n",
            "  inflating: facades/train/eecs442_0624.png  \n",
            "  inflating: facades/train/eecs442_0142.png  \n",
            "  inflating: facades/train/eecs442_0397.jpg  \n",
            "  inflating: facades/train/eecs442_0383.jpg  \n",
            "  inflating: facades/train/eecs442_0156.png  \n",
            "  inflating: facades/train/eecs442_0630.png  \n",
            "  inflating: facades/train/eecs442_0208.jpg  \n",
            "  inflating: facades/train/eecs442_0793.png  \n",
            "  inflating: facades/train/eecs442_0546.jpg  \n",
            "  inflating: facades/train/eecs442_0220.jpg  \n",
            "  inflating: facades/train/eecs442_0234.jpg  \n",
            "  inflating: facades/train/eecs442_0552.jpg  \n",
            "  inflating: facades/train/eecs442_0787.png  \n",
            "  inflating: facades/train/eecs442_0778.png  \n",
            "  inflating: facades/train/eecs442_0585.jpg  \n",
            "  inflating: facades/train/eecs442_0750.png  \n",
            "  inflating: facades/train/eecs442_0036.png  \n",
            "  inflating: facades/train/eecs442_0022.png  \n",
            "  inflating: facades/train/eecs442_0744.png  \n",
            "  inflating: facades/train/eecs442_0591.jpg  \n",
            "  inflating: facades/train/eecs442_0778.jpg  \n",
            "  inflating: facades/train/eecs442_0022.jpg  \n",
            "  inflating: facades/train/eecs442_0744.jpg  \n",
            "  inflating: facades/train/eecs442_0591.png  \n",
            "  inflating: facades/train/eecs442_0585.png  \n",
            "  inflating: facades/train/eecs442_0750.jpg  \n",
            "  inflating: facades/train/eecs442_0036.jpg  \n",
            "  inflating: facades/train/eecs442_0208.png  \n",
            "  inflating: facades/train/eecs442_0234.png  \n",
            "  inflating: facades/train/eecs442_0552.png  \n",
            "  inflating: facades/train/eecs442_0787.jpg  \n",
            "  inflating: facades/train/eecs442_0793.jpg  \n",
            "  inflating: facades/train/eecs442_0546.png  \n",
            "  inflating: facades/train/eecs442_0220.png  \n",
            "  inflating: facades/train/eecs442_0547.png  \n",
            "  inflating: facades/train/eecs442_0792.jpg  \n",
            "  inflating: facades/train/eecs442_0221.png  \n",
            "  inflating: facades/train/eecs442_0235.png  \n",
            "  inflating: facades/train/eecs442_0786.jpg  \n",
            "  inflating: facades/train/eecs442_0553.png  \n",
            "  inflating: facades/train/eecs442_0209.png  \n",
            "  inflating: facades/train/eecs442_0751.jpg  \n",
            "  inflating: facades/train/eecs442_0584.png  \n",
            "  inflating: facades/train/eecs442_0037.jpg  \n",
            "  inflating: facades/train/eecs442_0023.jpg  \n",
            "  inflating: facades/train/eecs442_0590.png  \n",
            "  inflating: facades/train/eecs442_0745.jpg  \n",
            "  inflating: facades/train/eecs442_0779.jpg  \n",
            "  inflating: facades/train/eecs442_0023.png  \n",
            "  inflating: facades/train/eecs442_0590.jpg  \n",
            "  inflating: facades/train/eecs442_0745.png  \n",
            "  inflating: facades/train/eecs442_0751.png  \n",
            "  inflating: facades/train/eecs442_0584.jpg  \n",
            "  inflating: facades/train/eecs442_0037.png  \n",
            "  inflating: facades/train/eecs442_0779.png  \n",
            "  inflating: facades/train/eecs442_0235.jpg  \n",
            "  inflating: facades/train/eecs442_0786.png  \n",
            "  inflating: facades/train/eecs442_0553.jpg  \n",
            "  inflating: facades/train/eecs442_0547.jpg  \n",
            "  inflating: facades/train/eecs442_0792.png  \n",
            "  inflating: facades/train/eecs442_0221.jpg  \n",
            "  inflating: facades/train/eecs442_0209.jpg  \n",
            "  inflating: facades/train/eecs442_0157.png  \n",
            "  inflating: facades/train/eecs442_0382.jpg  \n",
            "  inflating: facades/train/eecs442_0631.png  \n",
            "  inflating: facades/train/eecs442_0625.png  \n",
            "  inflating: facades/train/eecs442_0396.jpg  \n",
            "  inflating: facades/train/eecs442_0143.png  \n",
            "  inflating: facades/train/eecs442_0619.png  \n",
            "  inflating: facades/train/eecs442_0341.jpg  \n",
            "  inflating: facades/train/eecs442_0194.png  \n",
            "  inflating: facades/train/eecs442_0427.jpg  \n",
            "  inflating: facades/train/eecs442_0433.jpg  \n",
            "  inflating: facades/train/eecs442_0180.png  \n",
            "  inflating: facades/train/eecs442_0355.jpg  \n",
            "  inflating: facades/train/eecs442_0816.png  \n",
            "  inflating: facades/train/eecs442_0802.png  \n",
            "  inflating: facades/train/eecs442_0369.jpg  \n",
            "  inflating: facades/train/eecs442_0433.png  \n",
            "  inflating: facades/train/eecs442_0180.jpg  \n",
            "  inflating: facades/train/eecs442_0355.png  \n",
            "  inflating: facades/train/eecs442_0341.png  \n",
            "  inflating: facades/train/eecs442_0194.jpg  \n",
            "  inflating: facades/train/eecs442_0427.png  \n",
            "  inflating: facades/train/eecs442_0802.jpg  \n",
            "  inflating: facades/train/eecs442_0369.png  \n",
            "  inflating: facades/train/eecs442_0816.jpg  \n",
            "  inflating: facades/train/eecs442_0625.jpg  \n",
            "  inflating: facades/train/eecs442_0396.png  \n",
            "  inflating: facades/train/eecs442_0143.jpg  \n",
            "  inflating: facades/train/eecs442_0157.jpg  \n",
            "  inflating: facades/train/eecs442_0382.png  \n",
            "  inflating: facades/train/eecs442_0631.jpg  \n",
            "  inflating: facades/train/eecs442_0619.jpg  \n",
            "  inflating: facades/train/eecs442_0169.jpg  \n",
            "  inflating: facades/train/eecs442_0141.jpg  \n",
            "  inflating: facades/train/eecs442_0394.png  \n",
            "  inflating: facades/train/eecs442_0627.jpg  \n",
            "  inflating: facades/train/eecs442_0633.jpg  \n",
            "  inflating: facades/train/eecs442_0380.png  \n",
            "  inflating: facades/train/eecs442_0155.jpg  \n",
            "  inflating: facades/train/eecs442_0800.jpg  \n",
            "  inflating: facades/train/eecs442_0814.jpg  \n",
            "  inflating: facades/train/eecs442_0419.png  \n",
            "  inflating: facades/train/eecs442_0357.png  \n",
            "  inflating: facades/train/eecs442_0182.jpg  \n",
            "  inflating: facades/train/eecs442_0431.png  \n",
            "  inflating: facades/train/eecs442_0425.png  \n",
            "  inflating: facades/train/eecs442_0828.jpg  \n",
            "  inflating: facades/train/eecs442_0196.jpg  \n",
            "  inflating: facades/train/eecs442_0343.png  \n",
            "  inflating: facades/train/eecs442_0814.png  \n",
            "  inflating: facades/train/eecs442_0419.jpg  \n",
            "  inflating: facades/train/eecs442_0800.png  \n",
            "  inflating: facades/train/eecs442_0425.jpg  \n",
            "  inflating: facades/train/eecs442_0828.png  \n",
            "  inflating: facades/train/eecs442_0196.png  \n",
            "  inflating: facades/train/eecs442_0343.jpg  \n",
            "  inflating: facades/train/eecs442_0357.jpg  \n",
            "  inflating: facades/train/eecs442_0182.png  \n",
            "  inflating: facades/train/eecs442_0431.jpg  \n",
            "  inflating: facades/train/eecs442_0169.png  \n",
            "  inflating: facades/train/eecs442_0633.png  \n",
            "  inflating: facades/train/eecs442_0380.jpg  \n",
            "  inflating: facades/train/eecs442_0155.png  \n",
            "  inflating: facades/train/eecs442_0141.png  \n",
            "  inflating: facades/train/eecs442_0394.jpg  \n",
            "  inflating: facades/train/eecs442_0627.png  \n",
            "  inflating: facades/train/eecs442_0579.jpg  \n",
            "  inflating: facades/train/eecs442_0551.jpg  \n",
            "  inflating: facades/train/eecs442_0784.png  \n",
            "  inflating: facades/train/eecs442_0237.jpg  \n",
            "  inflating: facades/train/eecs442_0223.jpg  \n",
            "  inflating: facades/train/eecs442_0790.png  \n",
            "  inflating: facades/train/eecs442_0545.jpg  \n",
            "  inflating: facades/train/eecs442_0009.png  \n",
            "  inflating: facades/train/eecs442_0747.png  \n",
            "  inflating: facades/train/eecs442_0592.jpg  \n",
            "  inflating: facades/train/eecs442_0021.png  \n",
            "  inflating: facades/train/eecs442_0035.png  \n",
            "  inflating: facades/train/eecs442_0586.jpg  \n",
            "  inflating: facades/train/eecs442_0753.png  \n",
            "  inflating: facades/train/eecs442_0009.jpg  \n",
            "  inflating: facades/train/eecs442_0035.jpg  \n",
            "  inflating: facades/train/eecs442_0586.png  \n",
            "  inflating: facades/train/eecs442_0753.jpg  \n",
            "  inflating: facades/train/eecs442_0747.jpg  \n",
            "  inflating: facades/train/eecs442_0592.png  \n",
            "  inflating: facades/train/eecs442_0021.jpg  \n",
            "  inflating: facades/train/eecs442_0579.png  \n",
            "  inflating: facades/train/eecs442_0223.png  \n",
            "  inflating: facades/train/eecs442_0790.jpg  \n",
            "  inflating: facades/train/eecs442_0545.png  \n",
            "  inflating: facades/train/eecs442_0551.png  \n",
            "  inflating: facades/train/eecs442_0784.jpg  \n",
            "  inflating: facades/train/eecs442_0237.png  \n",
            "  inflating: facades/train/eecs442_0785.jpg  \n",
            "  inflating: facades/train/eecs442_0550.png  \n",
            "  inflating: facades/train/eecs442_0236.png  \n",
            "  inflating: facades/train/eecs442_0222.png  \n",
            "  inflating: facades/train/eecs442_0544.png  \n",
            "  inflating: facades/train/eecs442_0791.jpg  \n",
            "  inflating: facades/train/eecs442_0578.png  \n",
            "  inflating: facades/train/eecs442_0593.png  \n",
            "  inflating: facades/train/eecs442_0746.jpg  \n",
            "  inflating: facades/train/eecs442_0020.jpg  \n",
            "  inflating: facades/train/eecs442_0034.jpg  \n",
            "  inflating: facades/train/eecs442_0752.jpg  \n",
            "  inflating: facades/train/eecs442_0587.png  \n",
            "  inflating: facades/train/eecs442_0008.jpg  \n",
            "  inflating: facades/train/eecs442_0034.png  \n",
            "  inflating: facades/train/eecs442_0752.png  \n",
            "  inflating: facades/train/eecs442_0587.jpg  \n",
            "  inflating: facades/train/eecs442_0593.jpg  \n",
            "  inflating: facades/train/eecs442_0746.png  \n",
            "  inflating: facades/train/eecs442_0020.png  \n",
            "  inflating: facades/train/eecs442_0008.png  \n",
            "  inflating: facades/train/eecs442_0222.jpg  \n",
            "  inflating: facades/train/eecs442_0544.jpg  \n",
            "  inflating: facades/train/eecs442_0791.png  \n",
            "  inflating: facades/train/eecs442_0785.png  \n",
            "  inflating: facades/train/eecs442_0550.jpg  \n",
            "  inflating: facades/train/eecs442_0236.jpg  \n",
            "  inflating: facades/train/eecs442_0578.jpg  \n",
            "  inflating: facades/train/eecs442_0395.jpg  \n",
            "  inflating: facades/train/eecs442_0140.png  \n",
            "  inflating: facades/train/eecs442_0626.png  \n",
            "  inflating: facades/train/eecs442_0632.png  \n",
            "  inflating: facades/train/eecs442_0154.png  \n",
            "  inflating: facades/train/eecs442_0381.jpg  \n",
            "  inflating: facades/train/eecs442_0168.png  \n",
            "  inflating: facades/train/eecs442_0183.png  \n",
            "  inflating: facades/train/eecs442_0356.jpg  \n",
            "  inflating: facades/train/eecs442_0430.jpg  \n",
            "  inflating: facades/train/eecs442_0829.png  \n",
            "  inflating: facades/train/eecs442_0424.jpg  \n",
            "  inflating: facades/train/eecs442_0342.jpg  \n",
            "  inflating: facades/train/eecs442_0197.png  \n",
            "  inflating: facades/train/eecs442_0801.png  \n",
            "  inflating: facades/train/eecs442_0418.jpg  \n",
            "  inflating: facades/train/eecs442_0815.png  \n",
            "  inflating: facades/train/eecs442_0829.jpg  \n",
            "  inflating: facades/train/eecs442_0424.png  \n",
            "  inflating: facades/train/eecs442_0342.png  \n",
            "  inflating: facades/train/eecs442_0197.jpg  \n",
            "  inflating: facades/train/eecs442_0183.jpg  \n",
            "  inflating: facades/train/eecs442_0356.png  \n",
            "  inflating: facades/train/eecs442_0430.png  \n",
            "  inflating: facades/train/eecs442_0418.png  \n",
            "  inflating: facades/train/eecs442_0815.jpg  \n",
            "  inflating: facades/train/eecs442_0801.jpg  \n",
            "  inflating: facades/train/eecs442_0632.jpg  \n",
            "  inflating: facades/train/eecs442_0154.jpg  \n",
            "  inflating: facades/train/eecs442_0381.png  \n",
            "  inflating: facades/train/eecs442_0395.png  \n",
            "  inflating: facades/train/eecs442_0140.jpg  \n",
            "  inflating: facades/train/eecs442_0626.jpg  \n",
            "  inflating: facades/train/eecs442_0168.jpg  \n",
            "  inflating: facades/train/eecs442_0622.jpg  \n",
            "  inflating: facades/train/eecs442_0144.jpg  \n",
            "  inflating: facades/train/eecs442_0391.png  \n",
            "  inflating: facades/train/eecs442_0385.png  \n",
            "  inflating: facades/train/eecs442_0150.jpg  \n",
            "  inflating: facades/train/eecs442_0636.jpg  \n",
            "  inflating: facades/train/eecs442_0178.jpg  \n",
            "  inflating: facades/train/eecs442_0839.jpg  \n",
            "  inflating: facades/train/eecs442_0434.png  \n",
            "  inflating: facades/train/eecs442_0352.png  \n",
            "  inflating: facades/train/eecs442_0187.jpg  \n",
            "  inflating: facades/train/eecs442_0193.jpg  \n",
            "  inflating: facades/train/eecs442_0346.png  \n",
            "  inflating: facades/train/eecs442_0420.png  \n",
            "  inflating: facades/train/eecs442_0408.png  \n",
            "  inflating: facades/train/eecs442_0805.jpg  \n",
            "  inflating: facades/train/eecs442_0811.jpg  \n",
            "  inflating: facades/train/eecs442_0193.png  \n",
            "  inflating: facades/train/eecs442_0346.jpg  \n",
            "  inflating: facades/train/eecs442_0420.jpg  \n",
            "  inflating: facades/train/eecs442_0839.png  \n",
            "  inflating: facades/train/eecs442_0434.jpg  \n",
            "  inflating: facades/train/eecs442_0352.jpg  \n",
            "  inflating: facades/train/eecs442_0187.png  \n",
            "  inflating: facades/train/eecs442_0811.png  \n",
            "  inflating: facades/train/eecs442_0408.jpg  \n",
            "  inflating: facades/train/eecs442_0805.png  \n",
            "  inflating: facades/train/eecs442_0385.jpg  \n",
            "  inflating: facades/train/eecs442_0150.png  \n",
            "  inflating: facades/train/eecs442_0636.png  \n",
            "  inflating: facades/train/eecs442_0622.png  \n",
            "  inflating: facades/train/eecs442_0144.png  \n",
            "  inflating: facades/train/eecs442_0391.jpg  \n",
            "  inflating: facades/train/eecs442_0178.png  \n",
            "  inflating: facades/train/eecs442_0232.jpg  \n",
            "  inflating: facades/train/eecs442_0554.jpg  \n",
            "  inflating: facades/train/eecs442_0781.png  \n",
            "  inflating: facades/train/eecs442_0795.png  \n",
            "  inflating: facades/train/eecs442_0540.jpg  \n",
            "  inflating: facades/train/eecs442_0226.jpg  \n",
            "  inflating: facades/train/eecs442_0568.jpg  \n",
            "  inflating: facades/train/eecs442_0024.png  \n",
            "  inflating: facades/train/eecs442_0742.png  \n",
            "  inflating: facades/train/eecs442_0597.jpg  \n",
            "  inflating: facades/train/eecs442_0583.jpg  \n",
            "  inflating: facades/train/eecs442_0756.png  \n",
            "  inflating: facades/train/eecs442_0030.png  \n",
            "  inflating: facades/train/eecs442_0018.png  \n",
            "  inflating: facades/train/eecs442_0583.png  \n",
            "  inflating: facades/train/eecs442_0756.jpg  \n",
            "  inflating: facades/train/eecs442_0030.jpg  \n",
            "  inflating: facades/train/eecs442_0024.jpg  \n",
            "  inflating: facades/train/eecs442_0742.jpg  \n",
            "  inflating: facades/train/eecs442_0597.png  \n",
            "  inflating: facades/train/eecs442_0018.jpg  \n",
            "  inflating: facades/train/eecs442_0795.jpg  \n",
            "  inflating: facades/train/eecs442_0540.png  \n",
            "  inflating: facades/train/eecs442_0226.png  \n",
            "  inflating: facades/train/eecs442_0232.png  \n",
            "  inflating: facades/train/eecs442_0554.png  \n",
            "  inflating: facades/train/eecs442_0781.jpg  \n",
            "  inflating: facades/train/eecs442_0568.png  \n",
            "  inflating: facades/train/eecs442_0569.png  \n",
            "  inflating: facades/train/eecs442_0233.png  \n",
            "  inflating: facades/train/eecs442_0780.jpg  \n",
            "  inflating: facades/train/eecs442_0555.png  \n",
            "  inflating: facades/train/eecs442_0541.png  \n",
            "  inflating: facades/train/eecs442_0794.jpg  \n",
            "  inflating: facades/train/eecs442_0227.png  \n",
            "  inflating: facades/train/eecs442_0019.jpg  \n",
            "  inflating: facades/train/eecs442_0025.jpg  \n",
            "  inflating: facades/train/eecs442_0596.png  \n",
            "  inflating: facades/train/eecs442_0743.jpg  \n",
            "  inflating: facades/train/eecs442_0757.jpg  \n",
            "  inflating: facades/train/eecs442_0582.png  \n",
            "  inflating: facades/train/eecs442_0031.jpg  \n",
            "  inflating: facades/train/eecs442_0019.png  \n",
            "  inflating: facades/train/eecs442_0757.png  \n",
            "  inflating: facades/train/eecs442_0582.jpg  \n",
            "  inflating: facades/train/eecs442_0031.png  \n",
            "  inflating: facades/train/eecs442_0025.png  \n",
            "  inflating: facades/train/eecs442_0596.jpg  \n",
            "  inflating: facades/train/eecs442_0743.png  \n",
            "  inflating: facades/train/eecs442_0569.jpg  \n",
            "  inflating: facades/train/eecs442_0541.jpg  \n",
            "  inflating: facades/train/eecs442_0794.png  \n",
            "  inflating: facades/train/eecs442_0227.jpg  \n",
            "  inflating: facades/train/eecs442_0233.jpg  \n",
            "  inflating: facades/train/eecs442_0780.png  \n",
            "  inflating: facades/train/eecs442_0555.jpg  \n",
            "  inflating: facades/train/eecs442_0179.png  \n",
            "  inflating: facades/train/eecs442_0623.png  \n",
            "  inflating: facades/train/eecs442_0390.jpg  \n",
            "  inflating: facades/train/eecs442_0145.png  \n",
            "  inflating: facades/train/eecs442_0151.png  \n",
            "  inflating: facades/train/eecs442_0384.jpg  \n",
            "  inflating: facades/train/eecs442_0637.png  \n",
            "  inflating: facades/train/eecs442_0804.png  \n",
            "  inflating: facades/train/eecs442_0409.jpg  \n",
            "  inflating: facades/train/eecs442_0810.png  \n",
            "  inflating: facades/train/eecs442_0435.jpg  \n",
            "  inflating: facades/train/eecs442_0838.png  \n",
            "  inflating: facades/train/eecs442_0186.png  \n",
            "  inflating: facades/train/eecs442_0353.jpg  \n",
            "  inflating: facades/train/eecs442_0347.jpg  \n",
            "  inflating: facades/train/eecs442_0192.png  \n",
            "  inflating: facades/train/eecs442_0421.jpg  \n",
            "  inflating: facades/train/eecs442_0810.jpg  \n",
            "  inflating: facades/train/eecs442_0804.jpg  \n",
            "  inflating: facades/train/eecs442_0409.png  \n",
            "  inflating: facades/train/eecs442_0347.png  \n",
            "  inflating: facades/train/eecs442_0192.jpg  \n",
            "  inflating: facades/train/eecs442_0421.png  \n",
            "  inflating: facades/train/eecs442_0435.png  \n",
            "  inflating: facades/train/eecs442_0838.jpg  \n",
            "  inflating: facades/train/eecs442_0186.jpg  \n",
            "  inflating: facades/train/eecs442_0353.png  \n",
            "  inflating: facades/train/eecs442_0179.jpg  \n",
            "  inflating: facades/train/eecs442_0151.jpg  \n",
            "  inflating: facades/train/eecs442_0384.png  \n",
            "  inflating: facades/train/eecs442_0637.jpg  \n",
            "  inflating: facades/train/eecs442_0623.jpg  \n",
            "  inflating: facades/train/eecs442_0390.png  \n",
            "  inflating: facades/train/eecs442_0145.jpg  \n",
            "  inflating: facades/train/eecs442_0635.jpg  \n",
            "  inflating: facades/train/eecs442_0386.png  \n",
            "  inflating: facades/train/eecs442_0153.jpg  \n",
            "  inflating: facades/train/eecs442_0147.jpg  \n",
            "  inflating: facades/train/eecs442_0392.png  \n",
            "  inflating: facades/train/eecs442_0621.jpg  \n",
            "  inflating: facades/train/eecs442_0609.jpg  \n",
            "  inflating: facades/train/eecs442_0423.png  \n",
            "  inflating: facades/train/eecs442_0190.jpg  \n",
            "  inflating: facades/train/eecs442_0345.png  \n",
            "  inflating: facades/train/eecs442_0351.png  \n",
            "  inflating: facades/train/eecs442_0184.jpg  \n",
            "  inflating: facades/train/eecs442_0437.png  \n",
            "  inflating: facades/train/eecs442_0812.jpg  \n",
            "  inflating: facades/train/eecs442_0379.png  \n",
            "  inflating: facades/train/eecs442_0806.jpg  \n",
            "  inflating: facades/train/eecs442_0351.jpg  \n",
            "  inflating: facades/train/eecs442_0184.png  \n",
            "  inflating: facades/train/eecs442_0437.jpg  \n",
            "  inflating: facades/train/eecs442_0423.jpg  \n",
            "  inflating: facades/train/eecs442_0190.png  \n",
            "  inflating: facades/train/eecs442_0345.jpg  \n",
            "  inflating: facades/train/eecs442_0806.png  \n",
            "  inflating: facades/train/eecs442_0812.png  \n",
            "  inflating: facades/train/eecs442_0379.jpg  \n",
            "  inflating: facades/train/eecs442_0147.png  \n",
            "  inflating: facades/train/eecs442_0392.jpg  \n",
            "  inflating: facades/train/eecs442_0621.png  \n",
            "  inflating: facades/train/eecs442_0635.png  \n",
            "  inflating: facades/train/eecs442_0386.jpg  \n",
            "  inflating: facades/train/eecs442_0153.png  \n",
            "  inflating: facades/train/eecs442_0609.png  \n",
            "  inflating: facades/train/eecs442_0225.jpg  \n",
            "  inflating: facades/train/eecs442_0796.png  \n",
            "  inflating: facades/train/eecs442_0543.jpg  \n",
            "  inflating: facades/train/eecs442_0557.jpg  \n",
            "  inflating: facades/train/eecs442_0782.png  \n",
            "  inflating: facades/train/eecs442_0231.jpg  \n",
            "  inflating: facades/train/eecs442_0219.jpg  \n",
            "  inflating: facades/train/eecs442_0033.png  \n",
            "  inflating: facades/train/eecs442_0580.jpg  \n",
            "  inflating: facades/train/eecs442_0755.png  \n",
            "  inflating: facades/train/eecs442_0741.png  \n",
            "  inflating: facades/train/eecs442_0594.jpg  \n",
            "  inflating: facades/train/eecs442_0027.png  \n",
            "  inflating: facades/train/eecs442_0769.png  \n",
            "  inflating: facades/train/eecs442_0741.jpg  \n",
            "  inflating: facades/train/eecs442_0594.png  \n",
            "  inflating: facades/train/eecs442_0027.jpg  \n",
            "  inflating: facades/train/eecs442_0033.jpg  \n",
            "  inflating: facades/train/eecs442_0580.png  \n",
            "  inflating: facades/train/eecs442_0755.jpg  \n",
            "  inflating: facades/train/eecs442_0769.jpg  \n",
            "  inflating: facades/train/eecs442_0557.png  \n",
            "  inflating: facades/train/eecs442_0782.jpg  \n",
            "  inflating: facades/train/eecs442_0231.png  \n",
            "  inflating: facades/train/eecs442_0225.png  \n",
            "  inflating: facades/train/eecs442_0796.jpg  \n",
            "  inflating: facades/train/eecs442_0543.png  \n",
            "  inflating: facades/train/eecs442_0219.png  \n",
            "  inflating: facades/train/eecs442_0218.png  \n",
            "  inflating: facades/train/eecs442_0224.png  \n",
            "  inflating: facades/train/eecs442_0542.png  \n",
            "  inflating: facades/train/eecs442_0797.jpg  \n",
            "  inflating: facades/train/eecs442_0783.jpg  \n",
            "  inflating: facades/train/eecs442_0556.png  \n",
            "  inflating: facades/train/eecs442_0230.png  \n",
            "  inflating: facades/train/eecs442_0768.jpg  \n",
            "  inflating: facades/train/eecs442_0032.jpg  \n",
            "  inflating: facades/train/eecs442_0754.jpg  \n",
            "  inflating: facades/train/eecs442_0581.png  \n",
            "  inflating: facades/train/eecs442_0595.png  \n",
            "  inflating: facades/train/eecs442_0740.jpg  \n",
            "  inflating: facades/train/eecs442_0026.jpg  \n",
            "  inflating: facades/train/eecs442_0768.png  \n",
            "  inflating: facades/train/eecs442_0595.jpg  \n",
            "  inflating: facades/train/eecs442_0740.png  \n",
            "  inflating: facades/train/eecs442_0026.png  \n",
            "  inflating: facades/train/eecs442_0032.png  \n",
            "  inflating: facades/train/eecs442_0754.png  \n",
            "  inflating: facades/train/eecs442_0581.jpg  \n",
            "  inflating: facades/train/eecs442_0218.jpg  \n",
            "  inflating: facades/train/eecs442_0783.png  \n",
            "  inflating: facades/train/eecs442_0556.jpg  \n",
            "  inflating: facades/train/eecs442_0230.jpg  \n",
            "  inflating: facades/train/eecs442_0224.jpg  \n",
            "  inflating: facades/train/eecs442_0542.jpg  \n",
            "  inflating: facades/train/eecs442_0797.png  \n",
            "  inflating: facades/train/eecs442_0608.png  \n",
            "  inflating: facades/train/eecs442_0634.png  \n",
            "  inflating: facades/train/eecs442_0152.png  \n",
            "  inflating: facades/train/eecs442_0387.jpg  \n",
            "  inflating: facades/train/eecs442_0393.jpg  \n",
            "  inflating: facades/train/eecs442_0146.png  \n",
            "  inflating: facades/train/eecs442_0620.png  \n",
            "  inflating: facades/train/eecs442_0813.png  \n",
            "  inflating: facades/train/eecs442_0378.jpg  \n",
            "  inflating: facades/train/eecs442_0807.png  \n",
            "  inflating: facades/train/eecs442_0422.jpg  \n",
            "  inflating: facades/train/eecs442_0344.jpg  \n",
            "  inflating: facades/train/eecs442_0191.png  \n",
            "  inflating: facades/train/eecs442_0185.png  \n",
            "  inflating: facades/train/eecs442_0350.jpg  \n",
            "  inflating: facades/train/eecs442_0436.jpg  \n",
            "  inflating: facades/train/eecs442_0807.jpg  \n",
            "  inflating: facades/train/eecs442_0813.jpg  \n",
            "  inflating: facades/train/eecs442_0378.png  \n",
            "  inflating: facades/train/eecs442_0185.jpg  \n",
            "  inflating: facades/train/eecs442_0350.png  \n",
            "  inflating: facades/train/eecs442_0436.png  \n",
            "  inflating: facades/train/eecs442_0422.png  \n",
            "  inflating: facades/train/eecs442_0344.png  \n",
            "  inflating: facades/train/eecs442_0191.jpg  \n",
            "  inflating: facades/train/eecs442_0608.jpg  \n",
            "  inflating: facades/train/eecs442_0393.png  \n",
            "  inflating: facades/train/eecs442_0146.jpg  \n",
            "  inflating: facades/train/eecs442_0620.jpg  \n",
            "  inflating: facades/train/eecs442_0634.jpg  \n",
            "  inflating: facades/train/eecs442_0152.jpg  \n",
            "  inflating: facades/train/eecs442_0387.png  \n",
            "  inflating: facades/train/eecs442_0639.jpg  \n",
            "  inflating: facades/train/eecs442_0177.jpg  \n",
            "  inflating: facades/train/eecs442_0611.jpg  \n",
            "  inflating: facades/train/eecs442_0605.jpg  \n",
            "  inflating: facades/train/eecs442_0163.jpg  \n",
            "  inflating: facades/train/eecs442_0188.jpg  \n",
            "  inflating: facades/train/eecs442_0836.jpg  \n",
            "  inflating: facades/train/eecs442_0822.jpg  \n",
            "  inflating: facades/train/eecs442_0349.png  \n",
            "  inflating: facades/train/eecs442_0361.png  \n",
            "  inflating: facades/train/eecs442_0407.png  \n",
            "  inflating: facades/train/eecs442_0413.png  \n",
            "  inflating: facades/train/eecs442_0375.png  \n",
            "  inflating: facades/train/eecs442_0822.png  \n",
            "  inflating: facades/train/eecs442_0349.jpg  \n",
            "  inflating: facades/train/eecs442_0188.png  \n",
            "  inflating: facades/train/eecs442_0836.png  \n",
            "  inflating: facades/train/eecs442_0413.jpg  \n",
            "  inflating: facades/train/eecs442_0375.jpg  \n",
            "  inflating: facades/train/eecs442_0361.jpg  \n",
            "  inflating: facades/train/eecs442_0407.jpg  \n",
            "  inflating: facades/train/eecs442_0639.png  \n",
            "  inflating: facades/train/eecs442_0605.png  \n",
            "  inflating: facades/train/eecs442_0163.png  \n",
            "  inflating: facades/train/eecs442_0177.png  \n",
            "  inflating: facades/train/eecs442_0611.png  \n",
            "  inflating: facades/train/eecs442_0229.jpg  \n",
            "  inflating: facades/train/eecs442_0567.jpg  \n",
            "  inflating: facades/train/eecs442_0201.jpg  \n",
            "  inflating: facades/train/eecs442_0215.jpg  \n",
            "  inflating: facades/train/eecs442_0573.jpg  \n",
            "  inflating: facades/train/eecs442_0598.jpg  \n",
            "  inflating: facades/train/eecs442_0759.png  \n",
            "  inflating: facades/train/eecs442_0771.png  \n",
            "  inflating: facades/train/eecs442_0017.png  \n",
            "  inflating: facades/train/eecs442_0003.png  \n",
            "  inflating: facades/train/eecs442_0765.png  \n",
            "  inflating: facades/train/eecs442_0759.jpg  \n",
            "  inflating: facades/train/eecs442_0598.png  \n",
            "  inflating: facades/train/eecs442_0003.jpg  \n",
            "  inflating: facades/train/eecs442_0765.jpg  \n",
            "  inflating: facades/train/eecs442_0771.jpg  \n",
            "  inflating: facades/train/eecs442_0017.jpg  \n",
            "  inflating: facades/train/eecs442_0229.png  \n",
            "  inflating: facades/train/eecs442_0215.png  \n",
            "  inflating: facades/train/eecs442_0573.png  \n",
            "  inflating: facades/train/eecs442_0567.png  \n",
            "  inflating: facades/train/eecs442_0201.png  \n",
            "  inflating: facades/train/eecs442_0566.png  \n",
            "  inflating: facades/train/eecs442_0200.png  \n",
            "  inflating: facades/train/eecs442_0214.png  \n",
            "  inflating: facades/train/eecs442_0572.png  \n",
            "  inflating: facades/train/eecs442_0228.png  \n",
            "  inflating: facades/train/eecs442_0770.jpg  \n",
            "  inflating: facades/train/eecs442_0016.jpg  \n",
            "  inflating: facades/train/eecs442_0002.jpg  \n",
            "  inflating: facades/train/eecs442_0764.jpg  \n",
            "  inflating: facades/train/eecs442_0599.png  \n",
            "  inflating: facades/train/eecs442_0758.jpg  \n",
            "  inflating: facades/train/eecs442_0002.png  \n",
            "  inflating: facades/train/eecs442_0764.png  \n",
            "  inflating: facades/train/eecs442_0770.png  \n",
            "  inflating: facades/train/eecs442_0016.png  \n",
            "  inflating: facades/train/eecs442_0758.png  \n",
            "  inflating: facades/train/eecs442_0599.jpg  \n",
            "  inflating: facades/train/eecs442_0214.jpg  \n",
            "  inflating: facades/train/eecs442_0572.jpg  \n",
            "  inflating: facades/train/eecs442_0566.jpg  \n",
            "  inflating: facades/train/eecs442_0200.jpg  \n",
            "  inflating: facades/train/eecs442_0228.jpg  \n",
            "  inflating: facades/train/eecs442_0176.png  \n",
            "  inflating: facades/train/eecs442_0610.png  \n",
            "  inflating: facades/train/eecs442_0604.png  \n",
            "  inflating: facades/train/eecs442_0162.png  \n",
            "  inflating: facades/train/eecs442_0638.png  \n",
            "  inflating: facades/train/eecs442_0360.jpg  \n",
            "  inflating: facades/train/eecs442_0406.jpg  \n",
            "  inflating: facades/train/eecs442_0412.jpg  \n",
            "  inflating: facades/train/eecs442_0374.jpg  \n",
            "  inflating: facades/train/eecs442_0189.png  \n",
            "  inflating: facades/train/eecs442_0837.png  \n",
            "  inflating: facades/train/eecs442_0823.png  \n",
            "  inflating: facades/train/eecs442_0348.jpg  \n",
            "  inflating: facades/train/eecs442_0412.png  \n",
            "  inflating: facades/train/eecs442_0374.png  \n",
            "  inflating: facades/train/eecs442_0360.png  \n",
            "  inflating: facades/train/eecs442_0406.png  \n",
            "  inflating: facades/train/eecs442_0823.jpg  \n",
            "  inflating: facades/train/eecs442_0348.png  \n",
            "  inflating: facades/train/eecs442_0189.jpg  \n",
            "  inflating: facades/train/eecs442_0837.jpg  \n",
            "  inflating: facades/train/eecs442_0604.jpg  \n",
            "  inflating: facades/train/eecs442_0162.jpg  \n",
            "  inflating: facades/train/eecs442_0176.jpg  \n",
            "  inflating: facades/train/eecs442_0610.jpg  \n",
            "  inflating: facades/train/eecs442_0638.jpg  \n",
            "  inflating: facades/train/eecs442_0389.png  \n",
            "  inflating: facades/train/eecs442_0148.jpg  \n",
            "  inflating: facades/train/eecs442_0160.jpg  \n",
            "  inflating: facades/train/eecs442_0606.jpg  \n",
            "  inflating: facades/train/eecs442_0612.jpg  \n",
            "  inflating: facades/train/eecs442_0174.jpg  \n",
            "  inflating: facades/train/eecs442_0821.jpg  \n",
            "  inflating: facades/train/eecs442_0438.png  \n",
            "  inflating: facades/train/eecs442_0835.jpg  \n",
            "  inflating: facades/train/eecs442_0376.png  \n",
            "  inflating: facades/train/eecs442_0410.png  \n",
            "  inflating: facades/train/eecs442_0809.jpg  \n",
            "  inflating: facades/train/eecs442_0404.png  \n",
            "  inflating: facades/train/eecs442_0362.png  \n",
            "  inflating: facades/train/eecs442_0438.jpg  \n",
            "  inflating: facades/train/eecs442_0835.png  \n",
            "  inflating: facades/train/eecs442_0821.png  \n",
            "  inflating: facades/train/eecs442_0809.png  \n",
            "  inflating: facades/train/eecs442_0404.jpg  \n",
            "  inflating: facades/train/eecs442_0362.jpg  \n",
            "  inflating: facades/train/eecs442_0376.jpg  \n",
            "  inflating: facades/train/eecs442_0410.jpg  \n",
            "  inflating: facades/train/eecs442_0148.png  \n",
            "  inflating: facades/train/eecs442_0389.jpg  \n",
            "  inflating: facades/train/eecs442_0612.png  \n",
            "  inflating: facades/train/eecs442_0174.png  \n",
            "  inflating: facades/train/eecs442_0160.png  \n",
            "  inflating: facades/train/eecs442_0606.png  \n",
            "  inflating: facades/train/eecs442_0799.png  \n",
            "  inflating: facades/train/eecs442_0558.jpg  \n",
            "  inflating: facades/train/eecs442_0570.jpg  \n",
            "  inflating: facades/train/eecs442_0216.jpg  \n",
            "  inflating: facades/train/eecs442_0202.jpg  \n",
            "  inflating: facades/train/eecs442_0564.jpg  \n",
            "  inflating: facades/train/eecs442_0028.png  \n",
            "  inflating: facades/train/eecs442_0766.png  \n",
            "  inflating: facades/train/eecs442_0000.png  \n",
            "  inflating: facades/train/eecs442_0014.png  \n",
            "  inflating: facades/train/eecs442_0772.png  \n",
            "  inflating: facades/train/eecs442_0028.jpg  \n",
            "  inflating: facades/train/eecs442_0014.jpg  \n",
            "  inflating: facades/train/eecs442_0772.jpg  \n",
            "  inflating: facades/train/eecs442_0766.jpg  \n",
            "  inflating: facades/train/eecs442_0000.jpg  \n",
            "  inflating: facades/train/eecs442_0558.png  \n",
            "  inflating: facades/train/eecs442_0799.jpg  \n",
            "  inflating: facades/train/eecs442_0202.png  \n",
            "  inflating: facades/train/eecs442_0564.png  \n",
            "  inflating: facades/train/eecs442_0570.png  \n",
            "  inflating: facades/train/eecs442_0216.png  \n",
            "  inflating: facades/train/eecs442_0571.png  \n",
            "  inflating: facades/train/eecs442_0217.png  \n",
            "  inflating: facades/train/eecs442_0203.png  \n",
            "  inflating: facades/train/eecs442_0565.png  \n",
            "  inflating: facades/train/eecs442_0798.jpg  \n",
            "  inflating: facades/train/eecs442_0559.png  \n",
            "  inflating: facades/train/eecs442_0767.jpg  \n",
            "  inflating: facades/train/eecs442_0001.jpg  \n",
            "  inflating: facades/train/eecs442_0015.jpg  \n",
            "  inflating: facades/train/eecs442_0773.jpg  \n",
            "  inflating: facades/train/eecs442_0029.jpg  \n",
            "  inflating: facades/train/eecs442_0015.png  \n",
            "  inflating: facades/train/eecs442_0773.png  \n",
            "  inflating: facades/train/eecs442_0767.png  \n",
            "  inflating: facades/train/eecs442_0001.png  \n",
            "  inflating: facades/train/eecs442_0029.png  \n",
            "  inflating: facades/train/eecs442_0203.jpg  \n",
            "  inflating: facades/train/eecs442_0565.jpg  \n",
            "  inflating: facades/train/eecs442_0571.jpg  \n",
            "  inflating: facades/train/eecs442_0217.jpg  \n",
            "  inflating: facades/train/eecs442_0559.jpg  \n",
            "  inflating: facades/train/eecs442_0798.png  \n",
            "  inflating: facades/train/eecs442_0161.png  \n",
            "  inflating: facades/train/eecs442_0607.png  \n",
            "  inflating: facades/train/eecs442_0613.png  \n",
            "  inflating: facades/train/eecs442_0175.png  \n",
            "  inflating: facades/train/eecs442_0388.jpg  \n",
            "  inflating: facades/train/eecs442_0149.png  \n",
            "  inflating: facades/train/eecs442_0377.jpg  \n",
            "  inflating: facades/train/eecs442_0411.jpg  \n",
            "  inflating: facades/train/eecs442_0405.jpg  \n",
            "  inflating: facades/train/eecs442_0808.png  \n",
            "  inflating: facades/train/eecs442_0363.jpg  \n",
            "  inflating: facades/train/eecs442_0820.png  \n",
            "  inflating: facades/train/eecs442_0834.png  \n",
            "  inflating: facades/train/eecs442_0439.jpg  \n",
            "  inflating: facades/train/eecs442_0405.png  \n",
            "  inflating: facades/train/eecs442_0808.jpg  \n",
            "  inflating: facades/train/eecs442_0363.png  \n",
            "  inflating: facades/train/eecs442_0377.png  \n",
            "  inflating: facades/train/eecs442_0411.png  \n",
            "  inflating: facades/train/eecs442_0834.jpg  \n",
            "  inflating: facades/train/eecs442_0439.png  \n",
            "  inflating: facades/train/eecs442_0820.jpg  \n",
            "  inflating: facades/train/eecs442_0613.jpg  \n",
            "  inflating: facades/train/eecs442_0175.jpg  \n",
            "  inflating: facades/train/eecs442_0161.jpg  \n",
            "  inflating: facades/train/eecs442_0607.jpg  \n",
            "  inflating: facades/train/eecs442_0149.jpg  \n",
            "  inflating: facades/train/eecs442_0388.png  \n",
            "  inflating: facades/train/eecs442_0603.jpg  \n",
            "  inflating: facades/train/eecs442_0165.jpg  \n",
            "  inflating: facades/train/eecs442_0171.jpg  \n",
            "  inflating: facades/train/eecs442_0617.jpg  \n",
            "  inflating: facades/train/eecs442_0159.jpg  \n",
            "  inflating: facades/train/eecs442_0398.png  \n",
            "  inflating: facades/train/eecs442_0415.png  \n",
            "  inflating: facades/train/eecs442_0818.jpg  \n",
            "  inflating: facades/train/eecs442_0373.png  \n",
            "  inflating: facades/train/eecs442_0367.png  \n",
            "  inflating: facades/train/eecs442_0401.png  \n",
            "  inflating: facades/train/eecs442_0824.jpg  \n",
            "  inflating: facades/train/eecs442_0429.png  \n",
            "  inflating: facades/train/eecs442_0830.jpg  \n",
            "  inflating: facades/train/eecs442_0367.jpg  \n",
            "  inflating: facades/train/eecs442_0401.jpg  \n",
            "  inflating: facades/train/eecs442_0415.jpg  \n",
            "  inflating: facades/train/eecs442_0818.png  \n",
            "  inflating: facades/train/eecs442_0373.jpg  \n",
            "  inflating: facades/train/eecs442_0830.png  \n",
            "  inflating: facades/train/eecs442_0824.png  \n",
            "  inflating: facades/train/eecs442_0429.jpg  \n",
            "  inflating: facades/train/eecs442_0171.png  \n",
            "  inflating: facades/train/eecs442_0617.png  \n",
            "  inflating: facades/train/eecs442_0603.png  \n",
            "  inflating: facades/train/eecs442_0165.png  \n",
            "  inflating: facades/train/eecs442_0398.jpg  \n",
            "  inflating: facades/train/eecs442_0159.png  \n",
            "  inflating: facades/train/eecs442_0213.jpg  \n",
            "  inflating: facades/train/eecs442_0575.jpg  \n",
            "  inflating: facades/train/eecs442_0561.jpg  \n",
            "  inflating: facades/train/eecs442_0207.jpg  \n",
            "  inflating: facades/train/eecs442_0549.jpg  \n",
            "  inflating: facades/train/eecs442_0788.png  \n",
            "  inflating: facades/train/eecs442_0005.png  \n",
            "  inflating: facades/train/eecs442_0763.png  \n",
            "  inflating: facades/train/eecs442_0777.png  \n",
            "  inflating: facades/train/eecs442_0011.png  \n",
            "  inflating: facades/train/eecs442_0039.png  \n",
            "  inflating: facades/train/eecs442_0777.jpg  \n",
            "  inflating: facades/train/eecs442_0011.jpg  \n",
            "  inflating: facades/train/eecs442_0005.jpg  \n",
            "  inflating: facades/train/eecs442_0763.jpg  \n",
            "  inflating: facades/train/eecs442_0039.jpg  \n",
            "  inflating: facades/train/eecs442_0561.png  \n",
            "  inflating: facades/train/eecs442_0207.png  \n",
            "  inflating: facades/train/eecs442_0213.png  \n",
            "  inflating: facades/train/eecs442_0575.png  \n",
            "  inflating: facades/train/eecs442_0788.jpg  \n",
            "  inflating: facades/train/eecs442_0549.png  \n",
            "  inflating: facades/train/eecs442_0548.png  \n",
            "  inflating: facades/train/eecs442_0789.jpg  \n",
            "  inflating: facades/train/eecs442_0212.png  \n",
            "  inflating: facades/train/eecs442_0574.png  \n",
            "  inflating: facades/train/eecs442_0560.png  \n",
            "  inflating: facades/train/eecs442_0206.png  \n",
            "  inflating: facades/train/eecs442_0038.jpg  \n",
            "  inflating: facades/train/eecs442_0004.jpg  \n",
            "  inflating: facades/train/eecs442_0762.jpg  \n",
            "  inflating: facades/train/eecs442_0776.jpg  \n",
            "  inflating: facades/train/eecs442_0010.jpg  \n",
            "  inflating: facades/train/eecs442_0038.png  \n",
            "  inflating: facades/train/eecs442_0776.png  \n",
            "  inflating: facades/train/eecs442_0010.png  \n",
            "  inflating: facades/train/eecs442_0004.png  \n",
            "  inflating: facades/train/eecs442_0762.png  \n",
            "  inflating: facades/train/eecs442_0789.png  \n",
            "  inflating: facades/train/eecs442_0548.jpg  \n",
            "  inflating: facades/train/eecs442_0560.jpg  \n",
            "  inflating: facades/train/eecs442_0206.jpg  \n",
            "  inflating: facades/train/eecs442_0212.jpg  \n",
            "  inflating: facades/train/eecs442_0574.jpg  \n",
            "  inflating: facades/train/eecs442_0158.png  \n",
            "  inflating: facades/train/eecs442_0399.jpg  \n",
            "  inflating: facades/train/eecs442_0602.png  \n",
            "  inflating: facades/train/eecs442_0164.png  \n",
            "  inflating: facades/train/eecs442_0170.png  \n",
            "  inflating: facades/train/eecs442_0616.png  \n",
            "  inflating: facades/train/eecs442_0428.jpg  \n",
            "  inflating: facades/train/eecs442_0825.png  \n",
            "  inflating: facades/train/eecs442_0831.png  \n",
            "  inflating: facades/train/eecs442_0819.png  \n",
            "  inflating: facades/train/eecs442_0414.jpg  \n",
            "  inflating: facades/train/eecs442_0372.jpg  \n",
            "  inflating: facades/train/eecs442_0366.jpg  \n",
            "  inflating: facades/train/eecs442_0400.jpg  \n",
            "  inflating: facades/train/eecs442_0831.jpg  \n",
            "  inflating: facades/train/eecs442_0428.png  \n",
            "  inflating: facades/train/eecs442_0825.jpg  \n",
            "  inflating: facades/train/eecs442_0366.png  \n",
            "  inflating: facades/train/eecs442_0400.png  \n",
            "  inflating: facades/train/eecs442_0819.jpg  \n",
            "  inflating: facades/train/eecs442_0414.png  \n",
            "  inflating: facades/train/eecs442_0372.png  \n",
            "  inflating: facades/train/eecs442_0399.png  \n",
            "  inflating: facades/train/eecs442_0158.jpg  \n",
            "  inflating: facades/train/eecs442_0170.jpg  \n",
            "  inflating: facades/train/eecs442_0616.jpg  \n",
            "  inflating: facades/train/eecs442_0602.jpg  \n",
            "  inflating: facades/train/eecs442_0164.jpg  \n",
            "  inflating: facades/train/eecs442_0614.jpg  \n",
            "  inflating: facades/train/eecs442_0172.jpg  \n",
            "  inflating: facades/train/eecs442_0166.jpg  \n",
            "  inflating: facades/train/eecs442_0600.jpg  \n",
            "  inflating: facades/train/eecs442_0628.jpg  \n",
            "  inflating: facades/train/eecs442_0402.png  \n",
            "  inflating: facades/train/eecs442_0364.png  \n",
            "  inflating: facades/train/eecs442_0370.png  \n",
            "  inflating: facades/train/eecs442_0416.png  \n",
            "  inflating: facades/train/eecs442_0833.jpg  \n",
            "  inflating: facades/train/eecs442_0358.png  \n",
            "  inflating: facades/train/eecs442_0199.jpg  \n",
            "  inflating: facades/train/eecs442_0827.jpg  \n",
            "  inflating: facades/train/eecs442_0370.jpg  \n",
            "  inflating: facades/train/eecs442_0416.jpg  \n",
            "  inflating: facades/train/eecs442_0402.jpg  \n",
            "  inflating: facades/train/eecs442_0364.jpg  \n",
            "  inflating: facades/train/eecs442_0199.png  \n",
            "  inflating: facades/train/eecs442_0827.png  \n",
            "  inflating: facades/train/eecs442_0833.png  \n",
            "  inflating: facades/train/eecs442_0358.jpg  \n",
            "  inflating: facades/train/eecs442_0166.png  \n",
            "  inflating: facades/train/eecs442_0600.png  \n",
            "  inflating: facades/train/eecs442_0614.png  \n",
            "  inflating: facades/train/eecs442_0172.png  \n",
            "  inflating: facades/train/eecs442_0628.png  \n",
            "  inflating: facades/train/eecs442_0204.jpg  \n",
            "  inflating: facades/train/eecs442_0562.jpg  \n",
            "  inflating: facades/train/eecs442_0576.jpg  \n",
            "  inflating: facades/train/eecs442_0210.jpg  \n",
            "  inflating: facades/train/eecs442_0238.jpg  \n",
            "  inflating: facades/train/eecs442_0012.png  \n",
            "  inflating: facades/train/eecs442_0774.png  \n",
            "  inflating: facades/train/eecs442_0760.png  \n",
            "  inflating: facades/train/eecs442_0006.png  \n",
            "  inflating: facades/train/eecs442_0748.png  \n",
            "  inflating: facades/train/eecs442_0589.jpg  \n",
            "  inflating: facades/train/eecs442_0760.jpg  \n",
            "  inflating: facades/train/eecs442_0006.jpg  \n",
            "  inflating: facades/train/eecs442_0012.jpg  \n",
            "  inflating: facades/train/eecs442_0774.jpg  \n",
            "  inflating: facades/train/eecs442_0589.png  \n",
            "  inflating: facades/train/eecs442_0748.jpg  \n",
            "  inflating: facades/train/eecs442_0576.png  \n",
            "  inflating: facades/train/eecs442_0210.png  \n",
            "  inflating: facades/train/eecs442_0204.png  \n",
            "  inflating: facades/train/eecs442_0562.png  \n",
            "  inflating: facades/train/eecs442_0238.png  \n",
            "  inflating: facades/train/eecs442_0239.png  \n",
            "  inflating: facades/train/eecs442_0205.png  \n",
            "  inflating: facades/train/eecs442_0563.png  \n",
            "  inflating: facades/train/eecs442_0577.png  \n",
            "  inflating: facades/train/eecs442_0211.png  \n",
            "  inflating: facades/train/eecs442_0749.jpg  \n",
            "  inflating: facades/train/eecs442_0588.png  \n",
            "  inflating: facades/train/eecs442_0013.jpg  \n",
            "  inflating: facades/train/eecs442_0775.jpg  \n",
            "  inflating: facades/train/eecs442_0761.jpg  \n",
            "  inflating: facades/train/eecs442_0007.jpg  \n",
            "  inflating: facades/train/eecs442_0588.jpg  \n",
            "  inflating: facades/train/eecs442_0749.png  \n",
            "  inflating: facades/train/eecs442_0761.png  \n",
            "  inflating: facades/train/eecs442_0007.png  \n",
            "  inflating: facades/train/eecs442_0013.png  \n",
            "  inflating: facades/train/eecs442_0775.png  \n",
            "  inflating: facades/train/eecs442_0239.jpg  \n",
            "  inflating: facades/train/eecs442_0577.jpg  \n",
            "  inflating: facades/train/eecs442_0211.jpg  \n",
            "  inflating: facades/train/eecs442_0205.jpg  \n",
            "  inflating: facades/train/eecs442_0563.jpg  \n",
            "  inflating: facades/train/eecs442_0629.png  \n",
            "  inflating: facades/train/eecs442_0615.png  \n",
            "  inflating: facades/train/eecs442_0173.png  \n",
            "  inflating: facades/train/eecs442_0167.png  \n",
            "  inflating: facades/train/eecs442_0601.png  \n",
            "  inflating: facades/train/eecs442_0832.png  \n",
            "  inflating: facades/train/eecs442_0359.jpg  \n",
            "  inflating: facades/train/eecs442_0198.png  \n",
            "  inflating: facades/train/eecs442_0826.png  \n",
            "  inflating: facades/train/eecs442_0403.jpg  \n",
            "  inflating: facades/train/eecs442_0365.jpg  \n",
            "  inflating: facades/train/eecs442_0371.jpg  \n",
            "  inflating: facades/train/eecs442_0417.jpg  \n",
            "  inflating: facades/train/eecs442_0198.jpg  \n",
            "  inflating: facades/train/eecs442_0826.jpg  \n",
            "  inflating: facades/train/eecs442_0832.jpg  \n",
            "  inflating: facades/train/eecs442_0359.png  \n",
            "  inflating: facades/train/eecs442_0371.png  \n",
            "  inflating: facades/train/eecs442_0417.png  \n",
            "  inflating: facades/train/eecs442_0403.png  \n",
            "  inflating: facades/train/eecs442_0365.png  \n",
            "  inflating: facades/train/eecs442_0629.jpg  \n",
            "  inflating: facades/train/eecs442_0167.jpg  \n",
            "  inflating: facades/train/eecs442_0601.jpg  \n",
            "  inflating: facades/train/eecs442_0615.jpg  \n",
            "  inflating: facades/train/eecs442_0173.jpg  \n",
            "  inflating: facades/train/eecs442_0896.jpg  \n",
            "  inflating: facades/train/eecs442_0128.jpg  \n",
            "  inflating: facades/train/eecs442_0882.jpg  \n",
            "  inflating: facades/train/eecs442_0672.jpg  \n",
            "  inflating: facades/train/eecs442_0114.jpg  \n",
            "  inflating: facades/train/eecs442_0100.jpg  \n",
            "  inflating: facades/train/eecs442_0666.jpg  \n",
            "  inflating: facades/train/eecs442_0855.jpg  \n",
            "  inflating: facades/train/eecs442_0458.png  \n",
            "  inflating: facades/train/eecs442_0841.jpg  \n",
            "  inflating: facades/train/eecs442_0699.jpg  \n",
            "  inflating: facades/train/eecs442_0464.png  \n",
            "  inflating: facades/train/eecs442_0869.jpg  \n",
            "  inflating: facades/train/eecs442_0302.png  \n",
            "  inflating: facades/train/eecs442_0316.png  \n",
            "  inflating: facades/train/eecs442_0470.png  \n",
            "  inflating: facades/train/eecs442_0699.png  \n",
            "  inflating: facades/train/eecs442_0841.png  \n",
            "  inflating: facades/train/eecs442_0855.png  \n",
            "  inflating: facades/train/eecs442_0458.jpg  \n",
            "  inflating: facades/train/eecs442_0316.jpg  \n",
            "  inflating: facades/train/eecs442_0470.jpg  \n",
            "  inflating: facades/train/eecs442_0464.jpg  \n",
            "  inflating: facades/train/eecs442_0869.png  \n",
            "  inflating: facades/train/eecs442_0302.jpg  \n",
            "  inflating: facades/train/eecs442_0882.png  \n",
            "  inflating: facades/train/eecs442_0896.png  \n",
            "  inflating: facades/train/eecs442_0128.png  \n",
            "  inflating: facades/train/eecs442_0100.png  \n",
            "  inflating: facades/train/eecs442_0666.png  \n",
            "  inflating: facades/train/eecs442_0672.png  \n",
            "  inflating: facades/train/eecs442_0114.png  \n",
            "  inflating: facades/train/eecs442_0538.jpg  \n",
            "  inflating: facades/train/eecs442_0262.jpg  \n",
            "  inflating: facades/train/eecs442_0504.jpg  \n",
            "  inflating: facades/train/eecs442_0510.jpg  \n",
            "  inflating: facades/train/eecs442_0276.jpg  \n",
            "  inflating: facades/train/eecs442_0048.png  \n",
            "  inflating: facades/train/eecs442_0289.jpg  \n",
            "  inflating: facades/train/eecs442_0074.png  \n",
            "  inflating: facades/train/eecs442_0712.png  \n",
            "  inflating: facades/train/eecs442_0706.png  \n",
            "  inflating: facades/train/eecs442_0060.png  \n",
            "  inflating: facades/train/eecs442_0289.png  \n",
            "  inflating: facades/train/eecs442_0048.jpg  \n",
            "  inflating: facades/train/eecs442_0706.jpg  \n",
            "  inflating: facades/train/eecs442_0060.jpg  \n",
            "  inflating: facades/train/eecs442_0074.jpg  \n",
            "  inflating: facades/train/eecs442_0712.jpg  \n",
            "  inflating: facades/train/eecs442_0538.png  \n",
            "  inflating: facades/train/eecs442_0510.png  \n",
            "  inflating: facades/train/eecs442_0276.png  \n",
            "  inflating: facades/train/eecs442_0262.png  \n",
            "  inflating: facades/train/eecs442_0504.png  \n",
            "  inflating: facades/train/eecs442_0263.png  \n",
            "  inflating: facades/train/eecs442_0505.png  \n",
            "  inflating: facades/train/eecs442_0511.png  \n",
            "  inflating: facades/train/eecs442_0277.png  \n",
            "  inflating: facades/train/eecs442_0539.png  \n",
            "  inflating: facades/train/eecs442_0075.jpg  \n",
            "  inflating: facades/train/eecs442_0713.jpg  \n",
            "  inflating: facades/train/eecs442_0707.jpg  \n",
            "  inflating: facades/train/eecs442_0061.jpg  \n",
            "  inflating: facades/train/eecs442_0049.jpg  \n",
            "  inflating: facades/train/eecs442_0288.png  \n",
            "  inflating: facades/train/eecs442_0707.png  \n",
            "  inflating: facades/train/eecs442_0061.png  \n",
            "  inflating: facades/train/eecs442_0075.png  \n",
            "  inflating: facades/train/eecs442_0713.png  \n",
            "  inflating: facades/train/eecs442_0288.jpg  \n",
            "  inflating: facades/train/eecs442_0049.png  \n",
            "  inflating: facades/train/eecs442_0511.jpg  \n",
            "  inflating: facades/train/eecs442_0277.jpg  \n",
            "  inflating: facades/train/eecs442_0263.jpg  \n",
            "  inflating: facades/train/eecs442_0505.jpg  \n",
            "  inflating: facades/train/eecs442_0539.jpg  \n",
            "  inflating: facades/train/eecs442_0673.png  \n",
            "  inflating: facades/train/eecs442_0115.png  \n",
            "  inflating: facades/train/eecs442_0101.png  \n",
            "  inflating: facades/train/eecs442_0667.png  \n",
            "  inflating: facades/train/eecs442_0897.png  \n",
            "  inflating: facades/train/eecs442_0129.png  \n",
            "  inflating: facades/train/eecs442_0883.png  \n",
            "  inflating: facades/train/eecs442_0868.png  \n",
            "  inflating: facades/train/eecs442_0465.jpg  \n",
            "  inflating: facades/train/eecs442_0303.jpg  \n",
            "  inflating: facades/train/eecs442_0317.jpg  \n",
            "  inflating: facades/train/eecs442_0471.jpg  \n",
            "  inflating: facades/train/eecs442_0459.jpg  \n",
            "  inflating: facades/train/eecs442_0854.png  \n",
            "  inflating: facades/train/eecs442_0840.png  \n",
            "  inflating: facades/train/eecs442_0698.png  \n",
            "  inflating: facades/train/eecs442_0317.png  \n",
            "  inflating: facades/train/eecs442_0471.png  \n",
            "  inflating: facades/train/eecs442_0868.jpg  \n",
            "  inflating: facades/train/eecs442_0465.png  \n",
            "  inflating: facades/train/eecs442_0303.png  \n",
            "  inflating: facades/train/eecs442_0698.jpg  \n",
            "  inflating: facades/train/eecs442_0840.jpg  \n",
            "  inflating: facades/train/eecs442_0459.png  \n",
            "  inflating: facades/train/eecs442_0854.jpg  \n",
            "  inflating: facades/train/eecs442_0101.jpg  \n",
            "  inflating: facades/train/eecs442_0667.jpg  \n",
            "  inflating: facades/train/eecs442_0673.jpg  \n",
            "  inflating: facades/train/eecs442_0115.jpg  \n",
            "  inflating: facades/train/eecs442_0883.jpg  \n",
            "  inflating: facades/train/eecs442_0897.jpg  \n",
            "  inflating: facades/train/eecs442_0129.jpg  \n",
            "  inflating: facades/train/eecs442_0659.jpg  \n",
            "  inflating: facades/train/eecs442_0881.jpg  \n",
            "  inflating: facades/train/eecs442_0498.png  \n",
            "  inflating: facades/train/eecs442_0895.jpg  \n",
            "  inflating: facades/train/eecs442_0665.jpg  \n",
            "  inflating: facades/train/eecs442_0103.jpg  \n",
            "  inflating: facades/train/eecs442_0117.jpg  \n",
            "  inflating: facades/train/eecs442_0671.jpg  \n",
            "  inflating: facades/train/eecs442_0842.jpg  \n",
            "  inflating: facades/train/eecs442_0329.png  \n",
            "  inflating: facades/train/eecs442_0856.jpg  \n",
            "  inflating: facades/train/eecs442_0473.png  \n",
            "  inflating: facades/train/eecs442_0315.png  \n",
            "  inflating: facades/train/eecs442_0301.png  \n",
            "  inflating: facades/train/eecs442_0467.png  \n",
            "  inflating: facades/train/eecs442_0856.png  \n",
            "  inflating: facades/train/eecs442_0842.png  \n",
            "  inflating: facades/train/eecs442_0329.jpg  \n",
            "  inflating: facades/train/eecs442_0301.jpg  \n",
            "  inflating: facades/train/eecs442_0467.jpg  \n",
            "  inflating: facades/train/eecs442_0473.jpg  \n",
            "  inflating: facades/train/eecs442_0315.jpg  \n",
            "  inflating: facades/train/eecs442_0498.jpg  \n",
            "  inflating: facades/train/eecs442_0895.png  \n",
            "  inflating: facades/train/eecs442_0881.png  \n",
            "  inflating: facades/train/eecs442_0659.png  \n",
            "  inflating: facades/train/eecs442_0117.png  \n",
            "  inflating: facades/train/eecs442_0671.png  \n",
            "  inflating: facades/train/eecs442_0665.png  \n",
            "  inflating: facades/train/eecs442_0103.png  \n",
            "  inflating: facades/train/eecs442_0249.jpg  \n",
            "  inflating: facades/train/eecs442_0088.png  \n",
            "  inflating: facades/train/eecs442_0275.jpg  \n",
            "  inflating: facades/train/eecs442_0513.jpg  \n",
            "  inflating: facades/train/eecs442_0507.jpg  \n",
            "  inflating: facades/train/eecs442_0261.jpg  \n",
            "  inflating: facades/train/eecs442_0739.png  \n",
            "  inflating: facades/train/eecs442_0063.png  \n",
            "  inflating: facades/train/eecs442_0705.png  \n",
            "  inflating: facades/train/eecs442_0711.png  \n",
            "  inflating: facades/train/eecs442_0077.png  \n",
            "  inflating: facades/train/eecs442_0739.jpg  \n",
            "  inflating: facades/train/eecs442_0711.jpg  \n",
            "  inflating: facades/train/eecs442_0077.jpg  \n",
            "  inflating: facades/train/eecs442_0063.jpg  \n",
            "  inflating: facades/train/eecs442_0705.jpg  \n",
            "  inflating: facades/train/eecs442_0088.jpg  \n",
            "  inflating: facades/train/eecs442_0249.png  \n",
            "  inflating: facades/train/eecs442_0507.png  \n",
            "  inflating: facades/train/eecs442_0261.png  \n",
            "  inflating: facades/train/eecs442_0275.png  \n",
            "  inflating: facades/train/eecs442_0513.png  \n",
            "  inflating: facades/train/eecs442_0274.png  \n",
            "  inflating: facades/train/eecs442_0512.png  \n",
            "  inflating: facades/train/eecs442_0506.png  \n",
            "  inflating: facades/train/eecs442_0260.png  \n",
            "  inflating: facades/train/eecs442_0248.png  \n",
            "  inflating: facades/train/eecs442_0089.jpg  \n",
            "  inflating: facades/train/eecs442_0062.jpg  \n",
            "  inflating: facades/train/eecs442_0704.jpg  \n",
            "  inflating: facades/train/eecs442_0710.jpg  \n",
            "  inflating: facades/train/eecs442_0076.jpg  \n",
            "  inflating: facades/train/eecs442_0738.jpg  \n",
            "  inflating: facades/train/eecs442_0710.png  \n",
            "  inflating: facades/train/eecs442_0076.png  \n",
            "  inflating: facades/train/eecs442_0062.png  \n",
            "  inflating: facades/train/eecs442_0704.png  \n",
            "  inflating: facades/train/eecs442_0738.png  \n",
            "  inflating: facades/train/eecs442_0506.jpg  \n",
            "  inflating: facades/train/eecs442_0260.jpg  \n",
            "  inflating: facades/train/eecs442_0274.jpg  \n",
            "  inflating: facades/train/eecs442_0512.jpg  \n",
            "  inflating: facades/train/eecs442_0089.png  \n",
            "  inflating: facades/train/eecs442_0248.jpg  \n",
            "  inflating: facades/train/eecs442_0664.png  \n",
            "  inflating: facades/train/eecs442_0102.png  \n",
            "  inflating: facades/train/eecs442_0116.png  \n",
            "  inflating: facades/train/eecs442_0670.png  \n",
            "  inflating: facades/train/eecs442_0658.png  \n",
            "  inflating: facades/train/eecs442_0880.png  \n",
            "  inflating: facades/train/eecs442_0894.png  \n",
            "  inflating: facades/train/eecs442_0499.jpg  \n",
            "  inflating: facades/train/eecs442_0472.jpg  \n",
            "  inflating: facades/train/eecs442_0314.jpg  \n",
            "  inflating: facades/train/eecs442_0300.jpg  \n",
            "  inflating: facades/train/eecs442_0466.jpg  \n",
            "  inflating: facades/train/eecs442_0843.png  \n",
            "  inflating: facades/train/eecs442_0328.jpg  \n",
            "  inflating: facades/train/eecs442_0857.png  \n",
            "  inflating: facades/train/eecs442_0300.png  \n",
            "  inflating: facades/train/eecs442_0466.png  \n",
            "  inflating: facades/train/eecs442_0472.png  \n",
            "  inflating: facades/train/eecs442_0314.png  \n",
            "  inflating: facades/train/eecs442_0857.jpg  \n",
            "  inflating: facades/train/eecs442_0843.jpg  \n",
            "  inflating: facades/train/eecs442_0328.png  \n",
            "  inflating: facades/train/eecs442_0116.jpg  \n",
            "  inflating: facades/train/eecs442_0670.jpg  \n",
            "  inflating: facades/train/eecs442_0664.jpg  \n",
            "  inflating: facades/train/eecs442_0102.jpg  \n",
            "  inflating: facades/train/eecs442_0894.jpg  \n",
            "  inflating: facades/train/eecs442_0499.png  \n",
            "  inflating: facades/train/eecs442_0880.jpg  \n",
            "  inflating: facades/train/eecs442_0658.jpg  \n",
            "  inflating: facades/train/eecs442_0106.jpg  \n",
            "  inflating: facades/train/eecs442_0660.jpg  \n",
            "  inflating: facades/train/eecs442_0674.jpg  \n",
            "  inflating: facades/train/eecs442_0112.jpg  \n",
            "  inflating: facades/train/eecs442_0884.jpg  \n",
            "  inflating: facades/train/eecs442_0489.png  \n",
            "  inflating: facades/train/eecs442_0648.jpg  \n",
            "  inflating: facades/train/eecs442_0890.jpg  \n",
            "  inflating: facades/train/eecs442_0310.png  \n",
            "  inflating: facades/train/eecs442_0476.png  \n",
            "  inflating: facades/train/eecs442_0462.png  \n",
            "  inflating: facades/train/eecs442_0304.png  \n",
            "  inflating: facades/train/eecs442_0847.jpg  \n",
            "  inflating: facades/train/eecs442_0853.jpg  \n",
            "  inflating: facades/train/eecs442_0338.png  \n",
            "  inflating: facades/train/eecs442_0462.jpg  \n",
            "  inflating: facades/train/eecs442_0304.jpg  \n",
            "  inflating: facades/train/eecs442_0310.jpg  \n",
            "  inflating: facades/train/eecs442_0476.jpg  \n",
            "  inflating: facades/train/eecs442_0853.png  \n",
            "  inflating: facades/train/eecs442_0338.jpg  \n",
            "  inflating: facades/train/eecs442_0847.png  \n",
            "  inflating: facades/train/eecs442_0674.png  \n",
            "  inflating: facades/train/eecs442_0112.png  \n",
            "  inflating: facades/train/eecs442_0106.png  \n",
            "  inflating: facades/train/eecs442_0660.png  \n",
            "  inflating: facades/train/eecs442_0890.png  \n",
            "  inflating: facades/train/eecs442_0648.png  \n",
            "  inflating: facades/train/eecs442_0884.png  \n",
            "  inflating: facades/train/eecs442_0489.jpg  \n",
            "  inflating: facades/train/eecs442_0516.jpg  \n",
            "  inflating: facades/train/eecs442_0270.jpg  \n",
            "  inflating: facades/train/eecs442_0264.jpg  \n",
            "  inflating: facades/train/eecs442_0502.jpg  \n",
            "  inflating: facades/train/eecs442_0099.png  \n",
            "  inflating: facades/train/eecs442_0258.jpg  \n",
            "  inflating: facades/train/eecs442_0700.png  \n",
            "  inflating: facades/train/eecs442_0066.png  \n",
            "  inflating: facades/train/eecs442_0072.png  \n",
            "  inflating: facades/train/eecs442_0714.png  \n",
            "  inflating: facades/train/eecs442_0728.png  \n",
            "  inflating: facades/train/eecs442_0072.jpg  \n",
            "  inflating: facades/train/eecs442_0714.jpg  \n",
            "  inflating: facades/train/eecs442_0700.jpg  \n",
            "  inflating: facades/train/eecs442_0066.jpg  \n",
            "  inflating: facades/train/eecs442_0728.jpg  \n",
            "  inflating: facades/train/eecs442_0264.png  \n",
            "  inflating: facades/train/eecs442_0502.png  \n",
            "  inflating: facades/train/eecs442_0516.png  \n",
            "  inflating: facades/train/eecs442_0270.png  \n",
            "  inflating: facades/train/eecs442_0258.png  \n",
            "  inflating: facades/train/eecs442_0099.jpg  \n",
            "  inflating: facades/train/eecs442_0098.jpg  \n",
            "  inflating: facades/train/eecs442_0259.png  \n",
            "  inflating: facades/train/eecs442_0517.png  \n",
            "  inflating: facades/train/eecs442_0271.png  \n",
            "  inflating: facades/train/eecs442_0265.png  \n",
            "  inflating: facades/train/eecs442_0503.png  \n",
            "  inflating: facades/train/eecs442_0729.jpg  \n",
            "  inflating: facades/train/eecs442_0701.jpg  \n",
            "  inflating: facades/train/eecs442_0067.jpg  \n",
            "  inflating: facades/train/eecs442_0073.jpg  \n",
            "  inflating: facades/train/eecs442_0715.jpg  \n",
            "  inflating: facades/train/eecs442_0729.png  \n",
            "  inflating: facades/train/eecs442_0073.png  \n",
            "  inflating: facades/train/eecs442_0715.png  \n",
            "  inflating: facades/train/eecs442_0701.png  \n",
            "  inflating: facades/train/eecs442_0067.png  \n",
            "  inflating: facades/train/eecs442_0259.jpg  \n",
            "  inflating: facades/train/eecs442_0098.png  \n",
            "  inflating: facades/train/eecs442_0265.jpg  \n",
            "  inflating: facades/train/eecs442_0503.jpg  \n",
            "  inflating: facades/train/eecs442_0517.jpg  \n",
            "  inflating: facades/train/eecs442_0271.jpg  \n",
            "  inflating: facades/train/eecs442_0488.jpg  \n",
            "  inflating: facades/train/eecs442_0885.png  \n",
            "  inflating: facades/train/eecs442_0649.png  \n",
            "  inflating: facades/train/eecs442_0891.png  \n",
            "  inflating: facades/train/eecs442_0107.png  \n",
            "  inflating: facades/train/eecs442_0661.png  \n",
            "  inflating: facades/train/eecs442_0675.png  \n",
            "  inflating: facades/train/eecs442_0113.png  \n",
            "  inflating: facades/train/eecs442_0846.png  \n",
            "  inflating: facades/train/eecs442_0852.png  \n",
            "  inflating: facades/train/eecs442_0339.jpg  \n",
            "  inflating: facades/train/eecs442_0311.jpg  \n",
            "  inflating: facades/train/eecs442_0477.jpg  \n",
            "  inflating: facades/train/eecs442_0463.jpg  \n",
            "  inflating: facades/train/eecs442_0305.jpg  \n",
            "  inflating: facades/train/eecs442_0852.jpg  \n",
            "  inflating: facades/train/eecs442_0339.png  \n",
            "  inflating: facades/train/eecs442_0846.jpg  \n",
            "  inflating: facades/train/eecs442_0463.png  \n",
            "  inflating: facades/train/eecs442_0305.png  \n",
            "  inflating: facades/train/eecs442_0311.png  \n",
            "  inflating: facades/train/eecs442_0477.png  \n",
            "  inflating: facades/train/eecs442_0891.jpg  \n",
            "  inflating: facades/train/eecs442_0649.jpg  \n",
            "  inflating: facades/train/eecs442_0488.png  \n",
            "  inflating: facades/train/eecs442_0885.jpg  \n",
            "  inflating: facades/train/eecs442_0675.jpg  \n",
            "  inflating: facades/train/eecs442_0113.jpg  \n",
            "  inflating: facades/train/eecs442_0107.jpg  \n",
            "  inflating: facades/train/eecs442_0661.jpg  \n",
            "  inflating: facades/train/eecs442_0111.jpg  \n",
            "  inflating: facades/train/eecs442_0677.jpg  \n",
            "  inflating: facades/train/eecs442_0663.jpg  \n",
            "  inflating: facades/train/eecs442_0105.jpg  \n",
            "  inflating: facades/train/eecs442_0893.jpg  \n",
            "  inflating: facades/train/eecs442_0887.jpg  \n",
            "  inflating: facades/train/eecs442_0139.jpg  \n",
            "  inflating: facades/train/eecs442_0307.png  \n",
            "  inflating: facades/train/eecs442_0461.png  \n",
            "  inflating: facades/train/eecs442_0878.jpg  \n",
            "  inflating: facades/train/eecs442_0475.png  \n",
            "  inflating: facades/train/eecs442_0313.png  \n",
            "  inflating: facades/train/eecs442_0850.jpg  \n",
            "  inflating: facades/train/eecs442_0688.jpg  \n",
            "  inflating: facades/train/eecs442_0449.png  \n",
            "  inflating: facades/train/eecs442_0844.jpg  \n",
            "  inflating: facades/train/eecs442_0878.png  \n",
            "  inflating: facades/train/eecs442_0475.jpg  \n",
            "  inflating: facades/train/eecs442_0313.jpg  \n",
            "  inflating: facades/train/eecs442_0307.jpg  \n",
            "  inflating: facades/train/eecs442_0461.jpg  \n",
            "  inflating: facades/train/eecs442_0449.jpg  \n",
            "  inflating: facades/train/eecs442_0844.png  \n",
            "  inflating: facades/train/eecs442_0688.png  \n",
            "  inflating: facades/train/eecs442_0850.png  \n",
            "  inflating: facades/train/eecs442_0663.png  \n",
            "  inflating: facades/train/eecs442_0105.png  \n",
            "  inflating: facades/train/eecs442_0111.png  \n",
            "  inflating: facades/train/eecs442_0677.png  \n",
            "  inflating: facades/train/eecs442_0887.png  \n",
            "  inflating: facades/train/eecs442_0139.png  \n",
            "  inflating: facades/train/eecs442_0893.png  \n",
            "  inflating: facades/train/eecs442_0501.jpg  \n",
            "  inflating: facades/train/eecs442_0267.jpg  \n",
            "  inflating: facades/train/eecs442_0273.jpg  \n",
            "  inflating: facades/train/eecs442_0515.jpg  \n",
            "  inflating: facades/train/eecs442_0529.jpg  \n",
            "  inflating: facades/train/eecs442_0717.png  \n",
            "  inflating: facades/train/eecs442_0071.png  \n",
            "  inflating: facades/train/eecs442_0065.png  \n",
            "  inflating: facades/train/eecs442_0703.png  \n",
            "  inflating: facades/train/eecs442_0298.jpg  \n",
            "  inflating: facades/train/eecs442_0059.png  \n",
            "  inflating: facades/train/eecs442_0065.jpg  \n",
            "  inflating: facades/train/eecs442_0703.jpg  \n",
            "  inflating: facades/train/eecs442_0717.jpg  \n",
            "  inflating: facades/train/eecs442_0071.jpg  \n",
            "  inflating: facades/train/eecs442_0059.jpg  \n",
            "  inflating: facades/train/eecs442_0298.png  \n",
            "  inflating: facades/train/eecs442_0273.png  \n",
            "  inflating: facades/train/eecs442_0515.png  \n",
            "  inflating: facades/train/eecs442_0501.png  \n",
            "  inflating: facades/train/eecs442_0267.png  \n",
            "  inflating: facades/train/eecs442_0529.png  \n",
            "  inflating: facades/train/eecs442_0528.png  \n",
            "  inflating: facades/train/eecs442_0500.png  \n",
            "  inflating: facades/train/eecs442_0266.png  \n",
            "  inflating: facades/train/eecs442_0272.png  \n",
            "  inflating: facades/train/eecs442_0514.png  \n",
            "  inflating: facades/train/eecs442_0299.png  \n",
            "  inflating: facades/train/eecs442_0058.jpg  \n",
            "  inflating: facades/train/eecs442_0716.jpg  \n",
            "  inflating: facades/train/eecs442_0070.jpg  \n",
            "  inflating: facades/train/eecs442_0064.jpg  \n",
            "  inflating: facades/train/eecs442_0702.jpg  \n",
            "  inflating: facades/train/eecs442_0058.png  \n",
            "  inflating: facades/train/eecs442_0299.jpg  \n",
            "  inflating: facades/train/eecs442_0064.png  \n",
            "  inflating: facades/train/eecs442_0702.png  \n",
            "  inflating: facades/train/eecs442_0716.png  \n",
            "  inflating: facades/train/eecs442_0070.png  \n",
            "  inflating: facades/train/eecs442_0528.jpg  \n",
            "  inflating: facades/train/eecs442_0272.jpg  \n",
            "  inflating: facades/train/eecs442_0514.jpg  \n",
            "  inflating: facades/train/eecs442_0500.jpg  \n",
            "  inflating: facades/train/eecs442_0266.jpg  \n",
            "  inflating: facades/train/eecs442_0892.png  \n",
            "  inflating: facades/train/eecs442_0886.png  \n",
            "  inflating: facades/train/eecs442_0138.png  \n",
            "  inflating: facades/train/eecs442_0110.png  \n",
            "  inflating: facades/train/eecs442_0676.png  \n",
            "  inflating: facades/train/eecs442_0662.png  \n",
            "  inflating: facades/train/eecs442_0104.png  \n",
            "  inflating: facades/train/eecs442_0851.png  \n",
            "  inflating: facades/train/eecs442_0689.png  \n",
            "  inflating: facades/train/eecs442_0845.png  \n",
            "  inflating: facades/train/eecs442_0448.jpg  \n",
            "  inflating: facades/train/eecs442_0306.jpg  \n",
            "  inflating: facades/train/eecs442_0460.jpg  \n",
            "  inflating: facades/train/eecs442_0474.jpg  \n",
            "  inflating: facades/train/eecs442_0879.png  \n",
            "  inflating: facades/train/eecs442_0312.jpg  \n",
            "  inflating: facades/train/eecs442_0845.jpg  \n",
            "  inflating: facades/train/eecs442_0448.png  \n",
            "  inflating: facades/train/eecs442_0689.jpg  \n",
            "  inflating: facades/train/eecs442_0851.jpg  \n",
            "  inflating: facades/train/eecs442_0474.png  \n",
            "  inflating: facades/train/eecs442_0879.jpg  \n",
            "  inflating: facades/train/eecs442_0312.png  \n",
            "  inflating: facades/train/eecs442_0306.png  \n",
            "  inflating: facades/train/eecs442_0460.png  \n",
            "  inflating: facades/train/eecs442_0886.jpg  \n",
            "  inflating: facades/train/eecs442_0138.jpg  \n",
            "  inflating: facades/train/eecs442_0892.jpg  \n",
            "  inflating: facades/train/eecs442_0662.jpg  \n",
            "  inflating: facades/train/eecs442_0104.jpg  \n",
            "  inflating: facades/train/eecs442_0110.jpg  \n",
            "  inflating: facades/train/eecs442_0676.jpg  \n"
          ]
        }
      ],
      "source": [
        "# install required packages and download the dataset\n",
        "!pip install colormap easydev pypng\n",
        "!wget http://web.eecs.umich.edu/~justincj/teaching/eecs442/resources/facades.zip\n",
        "!unzip facades.zip"
      ]
    },
    {
      "cell_type": "code",
      "execution_count": 3,
      "metadata": {
        "id": "szOGZTMpDXFa"
      },
      "outputs": [],
      "source": [
        "import os\n",
        "import time\n",
        "import cv2\n",
        "import matplotlib.pyplot as plt\n",
        "import numpy as np\n",
        "import png\n",
        "import torch\n",
        "import torch.nn as nn\n",
        "import torch.optim as optim\n",
        "from torchsummary import summary\n",
        "from PIL import Image\n",
        "import torchvision\n",
        "from colormap.colors import Color, hex2rgb\n",
        "from sklearn.metrics import average_precision_score as ap_score\n",
        "from torch.utils.data import DataLoader\n",
        "from torchvision import datasets, models, transforms\n",
        "from torch.utils.data.dataset import Dataset\n",
        "from tqdm import tqdm"
      ]
    },
    {
      "cell_type": "code",
      "execution_count": 4,
      "metadata": {
        "id": "lZiuefySEJ6J",
        "colab": {
          "base_uri": "https://localhost:8080/"
        },
        "outputId": "db138584-15e6-4629-8f5c-fd809718d109"
      },
      "outputs": [
        {
          "output_type": "stream",
          "name": "stdout",
          "text": [
            "Using the GPU. You are good to go!\n"
          ]
        }
      ],
      "source": [
        "if torch.cuda.is_available():\n",
        "    print(\"Using the GPU. You are good to go!\")\n",
        "    device = torch.device('cuda:0')\n",
        "else:\n",
        "    raise Exception(\"WARNING: Could not find GPU! Using CPU only. \\\n",
        "To enable GPU, please to go Edit > Notebook Settings > Hardware \\\n",
        "Accelerator and select GPU.\")"
      ]
    },
    {
      "cell_type": "markdown",
      "metadata": {
        "id": "RwWirxVjELJ2"
      },
      "source": [
        "## Dataset\n",
        "We will create a custom Dataset function for the Mini Facade dataset. You don't have to change anything here."
      ]
    },
    {
      "cell_type": "code",
      "execution_count": 5,
      "metadata": {
        "id": "zK6si5Kzp7cb"
      },
      "outputs": [],
      "source": [
        "class FacadeDataset(Dataset):\n",
        "  def __init__(self, flag, dataDir='./facades/', data_range=(0, 8), n_class=5, \n",
        "               onehot=False):\n",
        "    self.onehot = onehot\n",
        "    assert(flag in ['train', 'eval', 'test', 'test_dev', 'kaggle'])\n",
        "    print(\"load \"+ flag+\" dataset start\")\n",
        "    print(\"    from: %s\" % dataDir)\n",
        "    print(\"    range: [%d, %d)\" % (data_range[0], data_range[1]))\n",
        "    self.dataset = []\n",
        "    for i in range(data_range[0], data_range[1]):\n",
        "      img = Image.open(os.path.join(dataDir,flag,'eecs442_%04d.jpg' % i))\n",
        "\n",
        "      pngreader = png.Reader(filename=os.path.join(dataDir,flag,\n",
        "                                                   'eecs442_%04d.png' % i))\n",
        "      w,h,row,info = pngreader.read()\n",
        "      label = np.array(list(row)).astype('uint8')\n",
        "\n",
        "      # Normalize input image\n",
        "      img = np.asarray(img).astype(\"f\").transpose(2, 0, 1)/128.0-1.0\n",
        "      # Convert to n_class-dimensional onehot matrix\n",
        "      label_ = np.asarray(label)\n",
        "      label = np.zeros((n_class, img.shape[1], img.shape[2])).astype(\"i\")\n",
        "      for j in range(n_class):\n",
        "          label[j, :] = label_ == j\n",
        "      self.dataset.append((img, label))\n",
        "    print(\"load dataset done\")\n",
        "\n",
        "  def __len__(self):\n",
        "    return len(self.dataset)\n",
        "\n",
        "  def __getitem__(self, index):\n",
        "    img, label = self.dataset[index]\n",
        "    label = torch.FloatTensor(label)\n",
        "    if not self.onehot:\n",
        "      label = torch.argmax(label, dim=0)\n",
        "    else:\n",
        "      label = label.long()\n",
        "\n",
        "    return torch.FloatTensor(img), torch.LongTensor(label)"
      ]
    },
    {
      "cell_type": "markdown",
      "metadata": {
        "id": "ompM1vf2UmzS"
      },
      "source": [
        "Now, we will create a dataloader for the Mini Facade dataset. You have to play with the size of train-val split and adjust the batch sizes for the splits."
      ]
    },
    {
      "cell_type": "code",
      "execution_count": 6,
      "metadata": {
        "id": "LjLnwnbOD285",
        "colab": {
          "base_uri": "https://localhost:8080/"
        },
        "outputId": "db80e566-9d12-46e8-9edd-e574ef488953"
      },
      "outputs": [
        {
          "output_type": "stream",
          "name": "stdout",
          "text": [
            "load train dataset start\n",
            "    from: ./facades/\n",
            "    range: [0, 750)\n",
            "load dataset done\n",
            "load train dataset start\n",
            "    from: ./facades/\n",
            "    range: [750, 906)\n",
            "load dataset done\n",
            "load test_dev dataset start\n",
            "    from: ./facades/\n",
            "    range: [0, 114)\n",
            "load dataset done\n",
            "load test_dev dataset start\n",
            "    from: ./facades/\n",
            "    range: [0, 114)\n",
            "load dataset done\n"
          ]
        }
      ],
      "source": [
        "N_CLASS=5\n",
        "##############################################################################\n",
        "# TODO: Change data_range so that train_data and val_data splits the 906     #\n",
        "# samples under \"train\" folder. You can decide how to split.                 #\n",
        "#                                                                            # \n",
        "# TODO: Adjust batch_size for loaders                                        #\n",
        "##############################################################################\n",
        "train_data = FacadeDataset(flag='train', data_range=(0,750), onehot=False)\n",
        "train_loader = DataLoader(train_data, batch_size=4)\n",
        "val_data = FacadeDataset(flag='train', data_range=(750,906), onehot=False)\n",
        "val_loader = DataLoader(val_data, batch_size=4)\n",
        "##############################################################################\n",
        "#                             END OF YOUR CODE                               #\n",
        "##############################################################################\n",
        "test_data = FacadeDataset(flag='test_dev', data_range=(0,114), onehot=False)\n",
        "test_loader = DataLoader(test_data, batch_size=1)\n",
        "\n",
        "# ap_loader for calculating Average Precision\n",
        "ap_data = FacadeDataset(flag='test_dev', data_range=(0,114), onehot=True)\n",
        "ap_loader = DataLoader(ap_data, batch_size=1)"
      ]
    },
    {
      "cell_type": "markdown",
      "metadata": {
        "id": "-fU5kNVZFIpg"
      },
      "source": [
        "## Model\n",
        "Design and implement your Convolutional NeuralNetworks to perform semantic segmentation on the Mini Facade dataset. \n",
        "\n",
        "You can build a simple neural network based on the U-net [1]:\n",
        "1. Conv-ReLU-Conv-ReLU that goes from `3 -> 64 -> 64` ( H x W )\n",
        "2. Maxpool (`nn.MaxPool2d`) to reduce the size of the feature map by half ( H/2 x W/2 )\n",
        "3. Conv-ReLU-Conv-ReLU that goes from `64 -> 128 -> 128` ( H/2 x W/2 )\n",
        "4. Maxpool (`nn.MaxPool2d`) to reduce the size of the feature map by half ( H/4 x W/4 )\n",
        "5. Conv that goes from `128 -> 128` ( H/4 x W/4 )\n",
        "6. Upsample (`nn.Upsample`) to increase of size of the feature map by two ( H/2 x W/2 )\n",
        "6. Conv-ReLU-Conv-ReLU that goes from `128 -> 64 -> 64` ( H/2 x W/2 )\n",
        "7. Upsample (`nn.Upsample`) to increase of size of the feature map by two ( H x W )\n",
        "8. Conv-ReLU-Conv-ReLU that goes from `64 -> 64 -> 5` ( H x W )\n",
        "\n",
        "Be careful while choosing the kernel size, padding and stride in the convolution layer. You can compute the output shape after a convolution by using the formula:\n",
        "\n",
        "$$\n",
        "X_{out} = (X_{in} - K + 2P)/S +1\n",
        "$$\n",
        "\n",
        "Where, $X_{out}$ & $X_{in}$ are the output and input shape of the feature map and $K$, $P$ & $S$ are the kernel size, padding and stride repectively.\n",
        "\n",
        "[1] O. Ronneberger, P. Fischer, and T. Brox, “U-net:  Convolutional networks for biomedical image seg-mentation,”ArXiv, vol. abs/1505.04597, 2015"
      ]
    },
    {
      "cell_type": "code",
      "execution_count": 7,
      "metadata": {
        "id": "z0lZ1PvTFJme"
      },
      "outputs": [],
      "source": [
        "class Net(nn.Module):\n",
        "  def __init__(self):\n",
        "    super(Net, self).__init__()\n",
        "    self.n_class = N_CLASS\n",
        "    ########################################################################\n",
        "    # TODO: Implement a sematic segmentation model                         #\n",
        "    ########################################################################\n",
        "    self.layers = nn.Sequential(\n",
        "        #Conv-ReLU-Conv-ReLU that goes from 3 -> 64 -> 64 ( H x W )\n",
        "        nn.Conv2d(3,64,kernel_size = 3,stride = 1, padding = 1),\n",
        "        nn.ReLU(),\n",
        "        nn.Conv2d(64,64,3,1,1),\n",
        "        nn.ReLU(),\n",
        "        #Maxpool (nn.MaxPool2d) to reduce the size of the feature map by half ( H/2 x W/2 )\n",
        "        nn.MaxPool2d(2, 2),\n",
        "        #Conv-ReLU-Conv-ReLU that goes from 64 -> 128 -> 128 ( H/2 x W/2 )\n",
        "        nn.Conv2d(64,128,kernel_size = 3,stride = 1,padding = 1),\n",
        "        nn.ReLU(),\n",
        "        nn.Conv2d(128,128,3,1,1),\n",
        "        nn.ReLU(),\n",
        "        #Maxpool (nn.MaxPool2d) to reduce the size of the feature map by half ( H/4 x W/4 )\n",
        "        nn.MaxPool2d(kernel_size=2, stride=2),\n",
        "        #Conv that goes from 128 -> 128 ( H/4 x W/4 )\n",
        "        nn.Conv2d(128,128,3,1,1),\n",
        "        #Upsample (nn.Upsample) to increase of size of the feature map by two ( H/2 x W/2 )\n",
        "        nn.Upsample(scale_factor = 2),\n",
        "        #Conv-ReLU-Conv-ReLU that goes from 128 -> 64 -> 64 ( H/2 x W/2 )\n",
        "        nn.Conv2d(128,64,kernel_size = 3,stride = 1,padding = 1),\n",
        "        nn.ReLU(),\n",
        "        nn.Conv2d(64,64,kernel_size = 3,stride = 1,padding = 1),\n",
        "        nn.ReLU(),\n",
        "        #Upsample (nn.Upsample) to increase of size of the feature map by two ( H x W )\n",
        "        nn.Upsample(scale_factor = 2),\n",
        "        nn.Conv2d(64,64,kernel_size = 3,stride = 1,padding = 1),\n",
        "        nn.ReLU(),\n",
        "        nn.Conv2d(64,5,3,1,1),\n",
        "        nn.ReLU()\n",
        "      \n",
        "        )\n",
        "    ########################################################################\n",
        "    #                             END OF YOUR CODE                         #\n",
        "    ########################################################################\n",
        "\n",
        "  def forward(self, x):\n",
        "    ########################################################################\n",
        "    # TODO: Implement the forward pass                                     #\n",
        "    ########################################################################\n",
        "    x = self.layers(x)\n",
        "    ########################################################################\n",
        "    #                             END OF YOUR CODE                         #\n",
        "    ########################################################################\n",
        "    return x"
      ]
    },
    {
      "cell_type": "markdown",
      "metadata": {
        "id": "kyWQnSJ21Rxd"
      },
      "source": [
        "Ininitialize your model and look at the structure of your model, [torchsummary](https://github.com/sksq96/pytorch-summary) is a useful library to look at the computation graph of your model."
      ]
    },
    {
      "cell_type": "code",
      "execution_count": 8,
      "metadata": {
        "id": "ssxWj9dA1SOb",
        "colab": {
          "base_uri": "https://localhost:8080/"
        },
        "outputId": "da76908d-0eb9-4b02-b0c0-2a4ddd2b1199"
      },
      "outputs": [
        {
          "output_type": "stream",
          "name": "stdout",
          "text": [
            "Your network:\n",
            "----------------------------------------------------------------\n",
            "        Layer (type)               Output Shape         Param #\n",
            "================================================================\n",
            "            Conv2d-1         [-1, 64, 224, 224]           1,792\n",
            "              ReLU-2         [-1, 64, 224, 224]               0\n",
            "            Conv2d-3         [-1, 64, 224, 224]          36,928\n",
            "              ReLU-4         [-1, 64, 224, 224]               0\n",
            "         MaxPool2d-5         [-1, 64, 112, 112]               0\n",
            "            Conv2d-6        [-1, 128, 112, 112]          73,856\n",
            "              ReLU-7        [-1, 128, 112, 112]               0\n",
            "            Conv2d-8        [-1, 128, 112, 112]         147,584\n",
            "              ReLU-9        [-1, 128, 112, 112]               0\n",
            "        MaxPool2d-10          [-1, 128, 56, 56]               0\n",
            "           Conv2d-11          [-1, 128, 56, 56]         147,584\n",
            "         Upsample-12        [-1, 128, 112, 112]               0\n",
            "           Conv2d-13         [-1, 64, 112, 112]          73,792\n",
            "             ReLU-14         [-1, 64, 112, 112]               0\n",
            "           Conv2d-15         [-1, 64, 112, 112]          36,928\n",
            "             ReLU-16         [-1, 64, 112, 112]               0\n",
            "         Upsample-17         [-1, 64, 224, 224]               0\n",
            "           Conv2d-18         [-1, 64, 224, 224]          36,928\n",
            "             ReLU-19         [-1, 64, 224, 224]               0\n",
            "           Conv2d-20          [-1, 5, 224, 224]           2,885\n",
            "             ReLU-21          [-1, 5, 224, 224]               0\n",
            "================================================================\n",
            "Total params: 558,277\n",
            "Trainable params: 558,277\n",
            "Non-trainable params: 0\n",
            "----------------------------------------------------------------\n",
            "Input size (MB): 0.57\n",
            "Forward/backward pass size (MB): 273.33\n",
            "Params size (MB): 2.13\n",
            "Estimated Total Size (MB): 276.03\n",
            "----------------------------------------------------------------\n"
          ]
        }
      ],
      "source": [
        "name = 'starter_net'\n",
        "net = Net().to(device)\n",
        "# visualizing the model\n",
        "print('Your network:')\n",
        "summary(net, (3,224,224))"
      ]
    },
    {
      "cell_type": "markdown",
      "metadata": {
        "id": "XOPAI1wYFQxc"
      },
      "source": [
        "Once you have completed the model implementation in the cell above, run the cell below to load helper functions and train the model."
      ]
    },
    {
      "cell_type": "code",
      "execution_count": 9,
      "metadata": {
        "id": "QUXCW18nFK6p"
      },
      "outputs": [],
      "source": [
        "def save_label(label, path):\n",
        "  '''\n",
        "  Function for ploting labels.\n",
        "  '''\n",
        "  colormap = [\n",
        "      '#000000',\n",
        "      '#0080FF',\n",
        "      '#80FF80',\n",
        "      '#FF8000',\n",
        "      '#FF0000',\n",
        "  ]\n",
        "  assert(np.max(label)<len(colormap))\n",
        "  colors = [hex2rgb(color, normalise=False) for color in colormap]\n",
        "  w = png.Writer(label.shape[1], label.shape[0], palette=colors, bitdepth=4)\n",
        "  with open(path, 'wb') as f:\n",
        "      w.write(f, label)\n",
        "\n",
        "def train(trainloader, net, criterion, optimizer, device, epoch):\n",
        "  '''\n",
        "  Function for training.\n",
        "  '''\n",
        "  start = time.time()\n",
        "  running_loss = 0.0\n",
        "  cnt = 0\n",
        "  net = net.train()\n",
        "  for images, labels in tqdm(trainloader):\n",
        "    images = images.to(device)\n",
        "    labels = labels.to(device)\n",
        "    optimizer.zero_grad()\n",
        "    output = net(images)\n",
        "    loss = criterion(output, labels)\n",
        "    loss.backward()\n",
        "    optimizer.step()\n",
        "    running_loss += loss.item()\n",
        "    cnt += 1\n",
        "  end = time.time()\n",
        "  running_loss /= cnt\n",
        "  print('\\n [epoch %d] loss: %.3f elapsed time %.3f' %\n",
        "        (epoch, running_loss, end-start))\n",
        "  return running_loss\n",
        "\n",
        "def test(testloader, net, criterion, device):\n",
        "  '''\n",
        "  Function for testing.\n",
        "  '''\n",
        "  losses = 0.\n",
        "  cnt = 0\n",
        "  with torch.no_grad():\n",
        "    net = net.eval()\n",
        "    for images, labels in tqdm(testloader):\n",
        "      images = images.to(device)\n",
        "      labels = labels.to(device)\n",
        "      output = net(images)\n",
        "      loss = criterion(output, labels)\n",
        "      losses += loss.item()\n",
        "      cnt += 1\n",
        "  print('\\n',losses / cnt)\n",
        "  return (losses/cnt)\n",
        "\n",
        "\n",
        "def cal_AP(testloader, net, criterion, device):\n",
        "  '''\n",
        "  Calculate Average Precision\n",
        "  '''\n",
        "  losses = 0.\n",
        "  cnt = 0\n",
        "  with torch.no_grad():\n",
        "    net = net.eval()\n",
        "    preds = [[] for _ in range(5)]\n",
        "    heatmaps = [[] for _ in range(5)]\n",
        "    for images, labels in tqdm(testloader):\n",
        "      images = images.to(device)\n",
        "      labels = labels.to(device)\n",
        "      output = net(images).cpu().numpy()\n",
        "      for c in range(5):\n",
        "        preds[c].append(output[:, c].reshape(-1))\n",
        "        heatmaps[c].append(labels[:, c].cpu().numpy().reshape(-1))\n",
        "\n",
        "    aps = []\n",
        "    for c in range(5):\n",
        "      preds[c] = np.concatenate(preds[c])\n",
        "      heatmaps[c] = np.concatenate(heatmaps[c])\n",
        "      if heatmaps[c].max() == 0:\n",
        "        ap = float('nan')\n",
        "      else:\n",
        "        ap = ap_score(heatmaps[c], preds[c])\n",
        "        aps.append(ap)\n",
        "      print(\"AP = {}\".format(ap))\n",
        "    print(\"Average Precision (all classes) = {}\".format(np.mean(aps)))\n",
        "  return None\n",
        "\n",
        "\n",
        "def get_result(testloader, net, device, folder='output_train'):\n",
        "  result = []\n",
        "  cnt = 1\n",
        "  os.makedirs(folder, exist_ok=True)\n",
        "  with torch.no_grad():\n",
        "    net = net.eval()\n",
        "    cnt = 0\n",
        "    for images, labels in tqdm(testloader):\n",
        "      images = images.to(device)\n",
        "      labels = labels.to(device)\n",
        "      output = net(images)[0].cpu().numpy()\n",
        "      c, h, w = output.shape\n",
        "      assert(c == N_CLASS)\n",
        "      y = np.argmax(output, 0).astype('uint8')\n",
        "      gt = labels.cpu().data.numpy().squeeze(0).astype('uint8')\n",
        "      save_label(y, './{}/y{}.png'.format(folder, cnt))\n",
        "      save_label(gt, './{}/gt{}.png'.format(folder, cnt))\n",
        "      plt.imsave('./{}/x{}.png'.format(folder, cnt),\n",
        "                 ((images[0].cpu().data.numpy()+1)*128).astype(np.uint8).transpose(1,2,0))\n",
        "      cnt += 1\n",
        "\n",
        "def plot_hist(trn_hist, val_hist):\n",
        "    x = np.arange(len(trn_hist))\n",
        "    plt.figure()\n",
        "    plt.plot(x, trn_hist)\n",
        "    plt.plot(x, val_hist)\n",
        "    plt.legend(['Training', 'Validation'])\n",
        "    plt.xticks(x)\n",
        "    plt.xlabel('Epoch')\n",
        "    plt.ylabel('Loss')\n",
        "    plt.show()"
      ]
    },
    {
      "cell_type": "markdown",
      "metadata": {
        "id": "5dKfZ2SnWnut"
      },
      "source": [
        "Experiment with with different optimizers, parameters (such as learning rate) and number of epochs. We expect you to achieve **0.45 AP** on the test set"
      ]
    },
    {
      "cell_type": "code",
      "execution_count": 10,
      "metadata": {
        "id": "Rh5n-zKMFViG",
        "colab": {
          "base_uri": "https://localhost:8080/",
          "height": 1000
        },
        "outputId": "178a4611-876c-4aa3-9fd5-9aebf35421c7"
      },
      "outputs": [
        {
          "output_type": "stream",
          "name": "stdout",
          "text": [
            "\n",
            "Start training\n",
            "-----------------Epoch = 1-----------------\n"
          ]
        },
        {
          "output_type": "stream",
          "name": "stderr",
          "text": [
            "100%|██████████| 188/188 [00:22<00:00,  8.28it/s]\n"
          ]
        },
        {
          "output_type": "stream",
          "name": "stdout",
          "text": [
            "\n",
            " [epoch 1] loss: 1.606 elapsed time 22.731\n",
            "Validation loss: \n"
          ]
        },
        {
          "output_type": "stream",
          "name": "stderr",
          "text": [
            "100%|██████████| 39/39 [00:02<00:00, 14.16it/s]\n"
          ]
        },
        {
          "output_type": "stream",
          "name": "stdout",
          "text": [
            "\n",
            " 1.4552803864845862\n",
            "-----------------Epoch = 2-----------------\n"
          ]
        },
        {
          "output_type": "stream",
          "name": "stderr",
          "text": [
            "100%|██████████| 188/188 [00:20<00:00,  9.11it/s]\n"
          ]
        },
        {
          "output_type": "stream",
          "name": "stdout",
          "text": [
            "\n",
            " [epoch 2] loss: 1.329 elapsed time 20.639\n",
            "Validation loss: \n"
          ]
        },
        {
          "output_type": "stream",
          "name": "stderr",
          "text": [
            "100%|██████████| 39/39 [00:03<00:00, 12.75it/s]\n"
          ]
        },
        {
          "output_type": "stream",
          "name": "stdout",
          "text": [
            "\n",
            " 1.2671440167304797\n",
            "-----------------Epoch = 3-----------------\n"
          ]
        },
        {
          "output_type": "stream",
          "name": "stderr",
          "text": [
            "100%|██████████| 188/188 [00:20<00:00,  9.04it/s]\n"
          ]
        },
        {
          "output_type": "stream",
          "name": "stdout",
          "text": [
            "\n",
            " [epoch 3] loss: 1.178 elapsed time 20.798\n",
            "Validation loss: \n"
          ]
        },
        {
          "output_type": "stream",
          "name": "stderr",
          "text": [
            "100%|██████████| 39/39 [00:02<00:00, 14.12it/s]\n"
          ]
        },
        {
          "output_type": "stream",
          "name": "stdout",
          "text": [
            "\n",
            " 1.0916535946039052\n",
            "-----------------Epoch = 4-----------------\n"
          ]
        },
        {
          "output_type": "stream",
          "name": "stderr",
          "text": [
            "100%|██████████| 188/188 [00:21<00:00,  8.95it/s]\n"
          ]
        },
        {
          "output_type": "stream",
          "name": "stdout",
          "text": [
            "\n",
            " [epoch 4] loss: 1.060 elapsed time 21.019\n",
            "Validation loss: \n"
          ]
        },
        {
          "output_type": "stream",
          "name": "stderr",
          "text": [
            "100%|██████████| 39/39 [00:02<00:00, 14.24it/s]\n"
          ]
        },
        {
          "output_type": "stream",
          "name": "stdout",
          "text": [
            "\n",
            " 1.030457698381864\n",
            "-----------------Epoch = 5-----------------\n"
          ]
        },
        {
          "output_type": "stream",
          "name": "stderr",
          "text": [
            "100%|██████████| 188/188 [00:21<00:00,  8.92it/s]\n"
          ]
        },
        {
          "output_type": "stream",
          "name": "stdout",
          "text": [
            "\n",
            " [epoch 5] loss: 0.993 elapsed time 21.087\n",
            "Validation loss: \n"
          ]
        },
        {
          "output_type": "stream",
          "name": "stderr",
          "text": [
            "100%|██████████| 39/39 [00:03<00:00, 10.49it/s]\n"
          ]
        },
        {
          "output_type": "stream",
          "name": "stdout",
          "text": [
            "\n",
            " 0.9793340961138407\n",
            "-----------------Epoch = 6-----------------\n"
          ]
        },
        {
          "output_type": "stream",
          "name": "stderr",
          "text": [
            "100%|██████████| 188/188 [00:20<00:00,  8.98it/s]\n"
          ]
        },
        {
          "output_type": "stream",
          "name": "stdout",
          "text": [
            "\n",
            " [epoch 6] loss: 0.952 elapsed time 20.956\n",
            "Validation loss: \n"
          ]
        },
        {
          "output_type": "stream",
          "name": "stderr",
          "text": [
            "100%|██████████| 39/39 [00:02<00:00, 14.17it/s]\n"
          ]
        },
        {
          "output_type": "stream",
          "name": "stdout",
          "text": [
            "\n",
            " 0.9365691573191912\n",
            "-----------------Epoch = 7-----------------\n"
          ]
        },
        {
          "output_type": "stream",
          "name": "stderr",
          "text": [
            "100%|██████████| 188/188 [00:20<00:00,  9.01it/s]\n"
          ]
        },
        {
          "output_type": "stream",
          "name": "stdout",
          "text": [
            "\n",
            " [epoch 7] loss: 0.923 elapsed time 20.884\n",
            "Validation loss: \n"
          ]
        },
        {
          "output_type": "stream",
          "name": "stderr",
          "text": [
            "100%|██████████| 39/39 [00:02<00:00, 14.39it/s]\n"
          ]
        },
        {
          "output_type": "stream",
          "name": "stdout",
          "text": [
            "\n",
            " 0.9247072660006009\n",
            "-----------------Epoch = 8-----------------\n"
          ]
        },
        {
          "output_type": "stream",
          "name": "stderr",
          "text": [
            "100%|██████████| 188/188 [00:20<00:00,  8.99it/s]\n"
          ]
        },
        {
          "output_type": "stream",
          "name": "stdout",
          "text": [
            "\n",
            " [epoch 8] loss: 0.901 elapsed time 20.918\n",
            "Validation loss: \n"
          ]
        },
        {
          "output_type": "stream",
          "name": "stderr",
          "text": [
            "100%|██████████| 39/39 [00:02<00:00, 14.34it/s]\n"
          ]
        },
        {
          "output_type": "stream",
          "name": "stdout",
          "text": [
            "\n",
            " 0.9005510547222235\n",
            "-----------------Epoch = 9-----------------\n"
          ]
        },
        {
          "output_type": "stream",
          "name": "stderr",
          "text": [
            "100%|██████████| 188/188 [00:20<00:00,  9.02it/s]\n"
          ]
        },
        {
          "output_type": "stream",
          "name": "stdout",
          "text": [
            "\n",
            " [epoch 9] loss: 0.875 elapsed time 20.862\n",
            "Validation loss: \n"
          ]
        },
        {
          "output_type": "stream",
          "name": "stderr",
          "text": [
            "100%|██████████| 39/39 [00:02<00:00, 14.35it/s]\n"
          ]
        },
        {
          "output_type": "stream",
          "name": "stdout",
          "text": [
            "\n",
            " 0.8743675137177492\n",
            "-----------------Epoch = 10-----------------\n"
          ]
        },
        {
          "output_type": "stream",
          "name": "stderr",
          "text": [
            "100%|██████████| 188/188 [00:20<00:00,  9.00it/s]\n"
          ]
        },
        {
          "output_type": "stream",
          "name": "stdout",
          "text": [
            "\n",
            " [epoch 10] loss: 0.850 elapsed time 20.905\n",
            "Validation loss: \n"
          ]
        },
        {
          "output_type": "stream",
          "name": "stderr",
          "text": [
            "100%|██████████| 39/39 [00:02<00:00, 14.53it/s]\n"
          ]
        },
        {
          "output_type": "stream",
          "name": "stdout",
          "text": [
            "\n",
            " 0.8482198149729998\n",
            "-----------------Epoch = 11-----------------\n"
          ]
        },
        {
          "output_type": "stream",
          "name": "stderr",
          "text": [
            "100%|██████████| 188/188 [00:21<00:00,  8.71it/s]\n"
          ]
        },
        {
          "output_type": "stream",
          "name": "stdout",
          "text": [
            "\n",
            " [epoch 11] loss: 0.831 elapsed time 21.602\n",
            "Validation loss: \n"
          ]
        },
        {
          "output_type": "stream",
          "name": "stderr",
          "text": [
            "100%|██████████| 39/39 [00:02<00:00, 14.39it/s]\n"
          ]
        },
        {
          "output_type": "stream",
          "name": "stdout",
          "text": [
            "\n",
            " 0.8448052742542365\n",
            "-----------------Epoch = 12-----------------\n"
          ]
        },
        {
          "output_type": "stream",
          "name": "stderr",
          "text": [
            "100%|██████████| 188/188 [00:24<00:00,  7.81it/s]\n"
          ]
        },
        {
          "output_type": "stream",
          "name": "stdout",
          "text": [
            "\n",
            " [epoch 12] loss: 0.818 elapsed time 24.099\n",
            "Validation loss: \n"
          ]
        },
        {
          "output_type": "stream",
          "name": "stderr",
          "text": [
            "100%|██████████| 39/39 [00:02<00:00, 14.34it/s]\n"
          ]
        },
        {
          "output_type": "stream",
          "name": "stdout",
          "text": [
            "\n",
            " 0.8269504262850835\n",
            "-----------------Epoch = 13-----------------\n"
          ]
        },
        {
          "output_type": "stream",
          "name": "stderr",
          "text": [
            "100%|██████████| 188/188 [00:21<00:00,  8.94it/s]\n"
          ]
        },
        {
          "output_type": "stream",
          "name": "stdout",
          "text": [
            "\n",
            " [epoch 13] loss: 0.804 elapsed time 21.035\n",
            "Validation loss: \n"
          ]
        },
        {
          "output_type": "stream",
          "name": "stderr",
          "text": [
            "100%|██████████| 39/39 [00:02<00:00, 14.05it/s]\n"
          ]
        },
        {
          "output_type": "stream",
          "name": "stdout",
          "text": [
            "\n",
            " 0.8136928448310266\n",
            "-----------------Epoch = 14-----------------\n"
          ]
        },
        {
          "output_type": "stream",
          "name": "stderr",
          "text": [
            "100%|██████████| 188/188 [00:20<00:00,  8.97it/s]\n"
          ]
        },
        {
          "output_type": "stream",
          "name": "stdout",
          "text": [
            "\n",
            " [epoch 14] loss: 0.795 elapsed time 20.981\n",
            "Validation loss: \n"
          ]
        },
        {
          "output_type": "stream",
          "name": "stderr",
          "text": [
            "100%|██████████| 39/39 [00:02<00:00, 13.99it/s]\n"
          ]
        },
        {
          "output_type": "stream",
          "name": "stdout",
          "text": [
            "\n",
            " 0.8010482207322732\n",
            "-----------------Epoch = 15-----------------\n"
          ]
        },
        {
          "output_type": "stream",
          "name": "stderr",
          "text": [
            "100%|██████████| 188/188 [00:21<00:00,  8.64it/s]\n"
          ]
        },
        {
          "output_type": "stream",
          "name": "stdout",
          "text": [
            "\n",
            " [epoch 15] loss: 0.782 elapsed time 21.764\n",
            "Validation loss: \n"
          ]
        },
        {
          "output_type": "stream",
          "name": "stderr",
          "text": [
            "100%|██████████| 39/39 [00:02<00:00, 14.33it/s]\n"
          ]
        },
        {
          "output_type": "stream",
          "name": "stdout",
          "text": [
            "\n",
            " 0.7925041593038119\n",
            "-----------------Epoch = 16-----------------\n"
          ]
        },
        {
          "output_type": "stream",
          "name": "stderr",
          "text": [
            "100%|██████████| 188/188 [00:21<00:00,  8.94it/s]\n"
          ]
        },
        {
          "output_type": "stream",
          "name": "stdout",
          "text": [
            "\n",
            " [epoch 16] loss: 0.770 elapsed time 21.047\n",
            "Validation loss: \n"
          ]
        },
        {
          "output_type": "stream",
          "name": "stderr",
          "text": [
            "100%|██████████| 39/39 [00:02<00:00, 14.49it/s]\n"
          ]
        },
        {
          "output_type": "stream",
          "name": "stdout",
          "text": [
            "\n",
            " 0.7874587514461615\n",
            "-----------------Epoch = 17-----------------\n"
          ]
        },
        {
          "output_type": "stream",
          "name": "stderr",
          "text": [
            "100%|██████████| 188/188 [00:21<00:00,  8.66it/s]\n"
          ]
        },
        {
          "output_type": "stream",
          "name": "stdout",
          "text": [
            "\n",
            " [epoch 17] loss: 0.758 elapsed time 21.726\n",
            "Validation loss: \n"
          ]
        },
        {
          "output_type": "stream",
          "name": "stderr",
          "text": [
            "100%|██████████| 39/39 [00:02<00:00, 14.46it/s]\n"
          ]
        },
        {
          "output_type": "stream",
          "name": "stdout",
          "text": [
            "\n",
            " 0.7705331490590022\n",
            "-----------------Epoch = 18-----------------\n"
          ]
        },
        {
          "output_type": "stream",
          "name": "stderr",
          "text": [
            "100%|██████████| 188/188 [00:21<00:00,  8.95it/s]\n"
          ]
        },
        {
          "output_type": "stream",
          "name": "stdout",
          "text": [
            "\n",
            " [epoch 18] loss: 0.745 elapsed time 21.015\n",
            "Validation loss: \n"
          ]
        },
        {
          "output_type": "stream",
          "name": "stderr",
          "text": [
            "100%|██████████| 39/39 [00:02<00:00, 14.40it/s]\n"
          ]
        },
        {
          "output_type": "stream",
          "name": "stdout",
          "text": [
            "\n",
            " 0.7580452393262814\n",
            "-----------------Epoch = 19-----------------\n"
          ]
        },
        {
          "output_type": "stream",
          "name": "stderr",
          "text": [
            "100%|██████████| 188/188 [00:20<00:00,  9.00it/s]\n"
          ]
        },
        {
          "output_type": "stream",
          "name": "stdout",
          "text": [
            "\n",
            " [epoch 19] loss: 0.735 elapsed time 20.902\n",
            "Validation loss: \n"
          ]
        },
        {
          "output_type": "stream",
          "name": "stderr",
          "text": [
            "100%|██████████| 39/39 [00:02<00:00, 14.30it/s]\n"
          ]
        },
        {
          "output_type": "stream",
          "name": "stdout",
          "text": [
            "\n",
            " 0.7571052939463885\n",
            "-----------------Epoch = 20-----------------\n"
          ]
        },
        {
          "output_type": "stream",
          "name": "stderr",
          "text": [
            "100%|██████████| 188/188 [00:21<00:00,  8.95it/s]\n"
          ]
        },
        {
          "output_type": "stream",
          "name": "stdout",
          "text": [
            "\n",
            " [epoch 20] loss: 0.727 elapsed time 21.024\n",
            "Validation loss: \n"
          ]
        },
        {
          "output_type": "stream",
          "name": "stderr",
          "text": [
            "100%|██████████| 39/39 [00:02<00:00, 14.60it/s]\n"
          ]
        },
        {
          "output_type": "stream",
          "name": "stdout",
          "text": [
            "\n",
            " 0.7457584738731384\n",
            "-----------------Epoch = 21-----------------\n"
          ]
        },
        {
          "output_type": "stream",
          "name": "stderr",
          "text": [
            "100%|██████████| 188/188 [00:20<00:00,  9.04it/s]\n"
          ]
        },
        {
          "output_type": "stream",
          "name": "stdout",
          "text": [
            "\n",
            " [epoch 21] loss: 0.719 elapsed time 20.804\n",
            "Validation loss: \n"
          ]
        },
        {
          "output_type": "stream",
          "name": "stderr",
          "text": [
            "100%|██████████| 39/39 [00:02<00:00, 14.55it/s]\n"
          ]
        },
        {
          "output_type": "stream",
          "name": "stdout",
          "text": [
            "\n",
            " 0.7391883043142465\n",
            "-----------------Epoch = 22-----------------\n"
          ]
        },
        {
          "output_type": "stream",
          "name": "stderr",
          "text": [
            "100%|██████████| 188/188 [00:21<00:00,  8.74it/s]\n"
          ]
        },
        {
          "output_type": "stream",
          "name": "stdout",
          "text": [
            "\n",
            " [epoch 22] loss: 0.712 elapsed time 21.522\n",
            "Validation loss: \n"
          ]
        },
        {
          "output_type": "stream",
          "name": "stderr",
          "text": [
            "100%|██████████| 39/39 [00:02<00:00, 14.23it/s]\n"
          ]
        },
        {
          "output_type": "stream",
          "name": "stdout",
          "text": [
            "\n",
            " 0.7351660743737832\n",
            "-----------------Epoch = 23-----------------\n"
          ]
        },
        {
          "output_type": "stream",
          "name": "stderr",
          "text": [
            "100%|██████████| 188/188 [00:21<00:00,  8.82it/s]\n"
          ]
        },
        {
          "output_type": "stream",
          "name": "stdout",
          "text": [
            "\n",
            " [epoch 23] loss: 0.705 elapsed time 21.333\n",
            "Validation loss: \n"
          ]
        },
        {
          "output_type": "stream",
          "name": "stderr",
          "text": [
            "100%|██████████| 39/39 [00:02<00:00, 14.00it/s]\n"
          ]
        },
        {
          "output_type": "stream",
          "name": "stdout",
          "text": [
            "\n",
            " 0.7262892784216465\n",
            "-----------------Epoch = 24-----------------\n"
          ]
        },
        {
          "output_type": "stream",
          "name": "stderr",
          "text": [
            "100%|██████████| 188/188 [00:21<00:00,  8.94it/s]\n"
          ]
        },
        {
          "output_type": "stream",
          "name": "stdout",
          "text": [
            "\n",
            " [epoch 24] loss: 0.700 elapsed time 21.038\n",
            "Validation loss: \n"
          ]
        },
        {
          "output_type": "stream",
          "name": "stderr",
          "text": [
            "100%|██████████| 39/39 [00:02<00:00, 14.18it/s]\n"
          ]
        },
        {
          "output_type": "stream",
          "name": "stdout",
          "text": [
            "\n",
            " 0.7216186936085041\n",
            "-----------------Epoch = 25-----------------\n"
          ]
        },
        {
          "output_type": "stream",
          "name": "stderr",
          "text": [
            "100%|██████████| 188/188 [00:20<00:00,  8.96it/s]\n"
          ]
        },
        {
          "output_type": "stream",
          "name": "stdout",
          "text": [
            "\n",
            " [epoch 25] loss: 0.693 elapsed time 21.000\n",
            "Validation loss: \n"
          ]
        },
        {
          "output_type": "stream",
          "name": "stderr",
          "text": [
            "100%|██████████| 39/39 [00:02<00:00, 14.33it/s]\n"
          ]
        },
        {
          "output_type": "stream",
          "name": "stdout",
          "text": [
            "\n",
            " 0.715514967074761\n",
            "-----------------Epoch = 26-----------------\n"
          ]
        },
        {
          "output_type": "stream",
          "name": "stderr",
          "text": [
            "100%|██████████| 188/188 [00:20<00:00,  9.00it/s]\n"
          ]
        },
        {
          "output_type": "stream",
          "name": "stdout",
          "text": [
            "\n",
            " [epoch 26] loss: 0.686 elapsed time 20.911\n",
            "Validation loss: \n"
          ]
        },
        {
          "output_type": "stream",
          "name": "stderr",
          "text": [
            "100%|██████████| 39/39 [00:02<00:00, 14.39it/s]\n"
          ]
        },
        {
          "output_type": "stream",
          "name": "stdout",
          "text": [
            "\n",
            " 0.714236224308992\n",
            "-----------------Epoch = 27-----------------\n"
          ]
        },
        {
          "output_type": "stream",
          "name": "stderr",
          "text": [
            "100%|██████████| 188/188 [00:20<00:00,  8.98it/s]\n"
          ]
        },
        {
          "output_type": "stream",
          "name": "stdout",
          "text": [
            "\n",
            " [epoch 27] loss: 0.682 elapsed time 20.955\n",
            "Validation loss: \n"
          ]
        },
        {
          "output_type": "stream",
          "name": "stderr",
          "text": [
            "100%|██████████| 39/39 [00:02<00:00, 14.44it/s]\n"
          ]
        },
        {
          "output_type": "stream",
          "name": "stdout",
          "text": [
            "\n",
            " 0.7199489107498755\n",
            "-----------------Epoch = 28-----------------\n"
          ]
        },
        {
          "output_type": "stream",
          "name": "stderr",
          "text": [
            "100%|██████████| 188/188 [00:21<00:00,  8.74it/s]\n"
          ]
        },
        {
          "output_type": "stream",
          "name": "stdout",
          "text": [
            "\n",
            " [epoch 28] loss: 0.678 elapsed time 21.512\n",
            "Validation loss: \n"
          ]
        },
        {
          "output_type": "stream",
          "name": "stderr",
          "text": [
            "100%|██████████| 39/39 [00:02<00:00, 14.65it/s]\n"
          ]
        },
        {
          "output_type": "stream",
          "name": "stdout",
          "text": [
            "\n",
            " 0.705758084089328\n",
            "-----------------Epoch = 29-----------------\n"
          ]
        },
        {
          "output_type": "stream",
          "name": "stderr",
          "text": [
            "100%|██████████| 188/188 [00:21<00:00,  8.66it/s]\n"
          ]
        },
        {
          "output_type": "stream",
          "name": "stdout",
          "text": [
            "\n",
            " [epoch 29] loss: 0.672 elapsed time 21.713\n",
            "Validation loss: \n"
          ]
        },
        {
          "output_type": "stream",
          "name": "stderr",
          "text": [
            "100%|██████████| 39/39 [00:02<00:00, 14.10it/s]\n"
          ]
        },
        {
          "output_type": "stream",
          "name": "stdout",
          "text": [
            "\n",
            " 0.7045018718792841\n",
            "-----------------Epoch = 30-----------------\n"
          ]
        },
        {
          "output_type": "stream",
          "name": "stderr",
          "text": [
            "100%|██████████| 188/188 [00:21<00:00,  8.95it/s]\n"
          ]
        },
        {
          "output_type": "stream",
          "name": "stdout",
          "text": [
            "\n",
            " [epoch 30] loss: 0.670 elapsed time 21.024\n",
            "Validation loss: \n"
          ]
        },
        {
          "output_type": "stream",
          "name": "stderr",
          "text": [
            "100%|██████████| 39/39 [00:02<00:00, 14.33it/s]\n"
          ]
        },
        {
          "output_type": "stream",
          "name": "stdout",
          "text": [
            "\n",
            " 0.6991483294046842\n",
            "-----------------Epoch = 31-----------------\n"
          ]
        },
        {
          "output_type": "stream",
          "name": "stderr",
          "text": [
            "100%|██████████| 188/188 [00:20<00:00,  8.99it/s]\n"
          ]
        },
        {
          "output_type": "stream",
          "name": "stdout",
          "text": [
            "\n",
            " [epoch 31] loss: 0.662 elapsed time 20.918\n",
            "Validation loss: \n"
          ]
        },
        {
          "output_type": "stream",
          "name": "stderr",
          "text": [
            "100%|██████████| 39/39 [00:02<00:00, 14.47it/s]\n"
          ]
        },
        {
          "output_type": "stream",
          "name": "stdout",
          "text": [
            "\n",
            " 0.6963787506788205\n",
            "-----------------Epoch = 32-----------------\n"
          ]
        },
        {
          "output_type": "stream",
          "name": "stderr",
          "text": [
            "100%|██████████| 188/188 [00:21<00:00,  8.95it/s]\n"
          ]
        },
        {
          "output_type": "stream",
          "name": "stdout",
          "text": [
            "\n",
            " [epoch 32] loss: 0.659 elapsed time 21.018\n",
            "Validation loss: \n"
          ]
        },
        {
          "output_type": "stream",
          "name": "stderr",
          "text": [
            "100%|██████████| 39/39 [00:02<00:00, 14.52it/s]\n"
          ]
        },
        {
          "output_type": "stream",
          "name": "stdout",
          "text": [
            "\n",
            " 0.692282403126741\n",
            "-----------------Epoch = 33-----------------\n"
          ]
        },
        {
          "output_type": "stream",
          "name": "stderr",
          "text": [
            "100%|██████████| 188/188 [00:21<00:00,  8.72it/s]\n"
          ]
        },
        {
          "output_type": "stream",
          "name": "stdout",
          "text": [
            "\n",
            " [epoch 33] loss: 0.654 elapsed time 21.581\n",
            "Validation loss: \n"
          ]
        },
        {
          "output_type": "stream",
          "name": "stderr",
          "text": [
            "100%|██████████| 39/39 [00:02<00:00, 14.21it/s]\n"
          ]
        },
        {
          "output_type": "stream",
          "name": "stdout",
          "text": [
            "\n",
            " 0.6902536917955447\n",
            "-----------------Epoch = 34-----------------\n"
          ]
        },
        {
          "output_type": "stream",
          "name": "stderr",
          "text": [
            "100%|██████████| 188/188 [00:21<00:00,  8.91it/s]\n"
          ]
        },
        {
          "output_type": "stream",
          "name": "stdout",
          "text": [
            "\n",
            " [epoch 34] loss: 0.650 elapsed time 21.112\n",
            "Validation loss: \n"
          ]
        },
        {
          "output_type": "stream",
          "name": "stderr",
          "text": [
            "100%|██████████| 39/39 [00:02<00:00, 14.33it/s]\n"
          ]
        },
        {
          "output_type": "stream",
          "name": "stdout",
          "text": [
            "\n",
            " 0.6894310193184094\n",
            "-----------------Epoch = 35-----------------\n"
          ]
        },
        {
          "output_type": "stream",
          "name": "stderr",
          "text": [
            "100%|██████████| 188/188 [00:21<00:00,  8.55it/s]\n"
          ]
        },
        {
          "output_type": "stream",
          "name": "stdout",
          "text": [
            "\n",
            " [epoch 35] loss: 0.644 elapsed time 22.000\n",
            "Validation loss: \n"
          ]
        },
        {
          "output_type": "stream",
          "name": "stderr",
          "text": [
            "100%|██████████| 39/39 [00:02<00:00, 14.24it/s]\n"
          ]
        },
        {
          "output_type": "stream",
          "name": "stdout",
          "text": [
            "\n",
            " 0.6974990444305615\n",
            "-----------------Epoch = 36-----------------\n"
          ]
        },
        {
          "output_type": "stream",
          "name": "stderr",
          "text": [
            "100%|██████████| 188/188 [00:21<00:00,  8.85it/s]\n"
          ]
        },
        {
          "output_type": "stream",
          "name": "stdout",
          "text": [
            "\n",
            " [epoch 36] loss: 0.641 elapsed time 21.254\n",
            "Validation loss: \n"
          ]
        },
        {
          "output_type": "stream",
          "name": "stderr",
          "text": [
            "100%|██████████| 39/39 [00:02<00:00, 14.52it/s]\n"
          ]
        },
        {
          "output_type": "stream",
          "name": "stdout",
          "text": [
            "\n",
            " 0.6827177619322752\n",
            "-----------------Epoch = 37-----------------\n"
          ]
        },
        {
          "output_type": "stream",
          "name": "stderr",
          "text": [
            "100%|██████████| 188/188 [00:21<00:00,  8.93it/s]\n"
          ]
        },
        {
          "output_type": "stream",
          "name": "stdout",
          "text": [
            "\n",
            " [epoch 37] loss: 0.639 elapsed time 21.055\n",
            "Validation loss: \n"
          ]
        },
        {
          "output_type": "stream",
          "name": "stderr",
          "text": [
            "100%|██████████| 39/39 [00:02<00:00, 14.43it/s]\n"
          ]
        },
        {
          "output_type": "stream",
          "name": "stdout",
          "text": [
            "\n",
            " 0.6858101960940238\n",
            "-----------------Epoch = 38-----------------\n"
          ]
        },
        {
          "output_type": "stream",
          "name": "stderr",
          "text": [
            "100%|██████████| 188/188 [00:22<00:00,  8.41it/s]\n"
          ]
        },
        {
          "output_type": "stream",
          "name": "stdout",
          "text": [
            "\n",
            " [epoch 38] loss: 0.634 elapsed time 22.360\n",
            "Validation loss: \n"
          ]
        },
        {
          "output_type": "stream",
          "name": "stderr",
          "text": [
            "100%|██████████| 39/39 [00:02<00:00, 14.26it/s]\n"
          ]
        },
        {
          "output_type": "stream",
          "name": "stdout",
          "text": [
            "\n",
            " 0.6768765846888224\n",
            "-----------------Epoch = 39-----------------\n"
          ]
        },
        {
          "output_type": "stream",
          "name": "stderr",
          "text": [
            "100%|██████████| 188/188 [00:23<00:00,  8.04it/s]\n"
          ]
        },
        {
          "output_type": "stream",
          "name": "stdout",
          "text": [
            "\n",
            " [epoch 39] loss: 0.629 elapsed time 23.411\n",
            "Validation loss: \n"
          ]
        },
        {
          "output_type": "stream",
          "name": "stderr",
          "text": [
            "100%|██████████| 39/39 [00:03<00:00,  9.79it/s]\n"
          ]
        },
        {
          "output_type": "stream",
          "name": "stdout",
          "text": [
            "\n",
            " 0.6714488833378522\n",
            "-----------------Epoch = 40-----------------\n"
          ]
        },
        {
          "output_type": "stream",
          "name": "stderr",
          "text": [
            "100%|██████████| 188/188 [00:22<00:00,  8.43it/s]\n"
          ]
        },
        {
          "output_type": "stream",
          "name": "stdout",
          "text": [
            "\n",
            " [epoch 40] loss: 0.629 elapsed time 22.318\n",
            "Validation loss: \n"
          ]
        },
        {
          "output_type": "stream",
          "name": "stderr",
          "text": [
            "100%|██████████| 39/39 [00:02<00:00, 14.25it/s]\n"
          ]
        },
        {
          "output_type": "stream",
          "name": "stdout",
          "text": [
            "\n",
            " 0.6727494169504215\n",
            "-----------------Epoch = 41-----------------\n"
          ]
        },
        {
          "output_type": "stream",
          "name": "stderr",
          "text": [
            "100%|██████████| 188/188 [00:21<00:00,  8.94it/s]\n"
          ]
        },
        {
          "output_type": "stream",
          "name": "stdout",
          "text": [
            "\n",
            " [epoch 41] loss: 0.622 elapsed time 21.037\n",
            "Validation loss: \n"
          ]
        },
        {
          "output_type": "stream",
          "name": "stderr",
          "text": [
            "100%|██████████| 39/39 [00:02<00:00, 14.32it/s]\n"
          ]
        },
        {
          "output_type": "stream",
          "name": "stdout",
          "text": [
            "\n",
            " 0.6683607025024219\n",
            "-----------------Epoch = 42-----------------\n"
          ]
        },
        {
          "output_type": "stream",
          "name": "stderr",
          "text": [
            "100%|██████████| 188/188 [00:22<00:00,  8.52it/s]\n"
          ]
        },
        {
          "output_type": "stream",
          "name": "stdout",
          "text": [
            "\n",
            " [epoch 42] loss: 0.616 elapsed time 22.083\n",
            "Validation loss: \n"
          ]
        },
        {
          "output_type": "stream",
          "name": "stderr",
          "text": [
            "100%|██████████| 39/39 [00:02<00:00, 14.36it/s]\n"
          ]
        },
        {
          "output_type": "stream",
          "name": "stdout",
          "text": [
            "\n",
            " 0.6635327079357245\n",
            "-----------------Epoch = 43-----------------\n"
          ]
        },
        {
          "output_type": "stream",
          "name": "stderr",
          "text": [
            "100%|██████████| 188/188 [00:21<00:00,  8.90it/s]\n"
          ]
        },
        {
          "output_type": "stream",
          "name": "stdout",
          "text": [
            "\n",
            " [epoch 43] loss: 0.612 elapsed time 21.127\n",
            "Validation loss: \n"
          ]
        },
        {
          "output_type": "stream",
          "name": "stderr",
          "text": [
            "100%|██████████| 39/39 [00:02<00:00, 14.08it/s]\n"
          ]
        },
        {
          "output_type": "stream",
          "name": "stdout",
          "text": [
            "\n",
            " 0.6633306267933968\n",
            "-----------------Epoch = 44-----------------\n"
          ]
        },
        {
          "output_type": "stream",
          "name": "stderr",
          "text": [
            "100%|██████████| 188/188 [00:21<00:00,  8.66it/s]\n"
          ]
        },
        {
          "output_type": "stream",
          "name": "stdout",
          "text": [
            "\n",
            " [epoch 44] loss: 0.608 elapsed time 21.715\n",
            "Validation loss: \n"
          ]
        },
        {
          "output_type": "stream",
          "name": "stderr",
          "text": [
            "100%|██████████| 39/39 [00:02<00:00, 14.22it/s]\n"
          ]
        },
        {
          "output_type": "stream",
          "name": "stdout",
          "text": [
            "\n",
            " 0.669457923143338\n",
            "-----------------Epoch = 45-----------------\n"
          ]
        },
        {
          "output_type": "stream",
          "name": "stderr",
          "text": [
            "100%|██████████| 188/188 [00:20<00:00,  8.99it/s]\n"
          ]
        },
        {
          "output_type": "stream",
          "name": "stdout",
          "text": [
            "\n",
            " [epoch 45] loss: 0.605 elapsed time 20.930\n",
            "Validation loss: \n"
          ]
        },
        {
          "output_type": "stream",
          "name": "stderr",
          "text": [
            "100%|██████████| 39/39 [00:02<00:00, 14.29it/s]\n"
          ]
        },
        {
          "output_type": "stream",
          "name": "stdout",
          "text": [
            "\n",
            " 0.6596679030320584\n",
            "-----------------Epoch = 46-----------------\n"
          ]
        },
        {
          "output_type": "stream",
          "name": "stderr",
          "text": [
            "100%|██████████| 188/188 [00:20<00:00,  8.96it/s]\n"
          ]
        },
        {
          "output_type": "stream",
          "name": "stdout",
          "text": [
            "\n",
            " [epoch 46] loss: 0.601 elapsed time 21.000\n",
            "Validation loss: \n"
          ]
        },
        {
          "output_type": "stream",
          "name": "stderr",
          "text": [
            "100%|██████████| 39/39 [00:02<00:00, 14.26it/s]\n"
          ]
        },
        {
          "output_type": "stream",
          "name": "stdout",
          "text": [
            "\n",
            " 0.6577096275794201\n",
            "-----------------Epoch = 47-----------------\n"
          ]
        },
        {
          "output_type": "stream",
          "name": "stderr",
          "text": [
            "100%|██████████| 188/188 [00:21<00:00,  8.93it/s]\n"
          ]
        },
        {
          "output_type": "stream",
          "name": "stdout",
          "text": [
            "\n",
            " [epoch 47] loss: 0.596 elapsed time 21.075\n",
            "Validation loss: \n"
          ]
        },
        {
          "output_type": "stream",
          "name": "stderr",
          "text": [
            "100%|██████████| 39/39 [00:02<00:00, 14.03it/s]\n"
          ]
        },
        {
          "output_type": "stream",
          "name": "stdout",
          "text": [
            "\n",
            " 0.6567659255785819\n",
            "-----------------Epoch = 48-----------------\n"
          ]
        },
        {
          "output_type": "stream",
          "name": "stderr",
          "text": [
            "100%|██████████| 188/188 [00:21<00:00,  8.93it/s]\n"
          ]
        },
        {
          "output_type": "stream",
          "name": "stdout",
          "text": [
            "\n",
            " [epoch 48] loss: 0.603 elapsed time 21.065\n",
            "Validation loss: \n"
          ]
        },
        {
          "output_type": "stream",
          "name": "stderr",
          "text": [
            "100%|██████████| 39/39 [00:02<00:00, 14.22it/s]\n"
          ]
        },
        {
          "output_type": "stream",
          "name": "stdout",
          "text": [
            "\n",
            " 0.6592836945484846\n",
            "-----------------Epoch = 49-----------------\n"
          ]
        },
        {
          "output_type": "stream",
          "name": "stderr",
          "text": [
            "100%|██████████| 188/188 [00:20<00:00,  8.95it/s]\n"
          ]
        },
        {
          "output_type": "stream",
          "name": "stdout",
          "text": [
            "\n",
            " [epoch 49] loss: 0.593 elapsed time 21.009\n",
            "Validation loss: \n"
          ]
        },
        {
          "output_type": "stream",
          "name": "stderr",
          "text": [
            "100%|██████████| 39/39 [00:02<00:00, 13.04it/s]\n"
          ]
        },
        {
          "output_type": "stream",
          "name": "stdout",
          "text": [
            "\n",
            " 0.6552533553196833\n",
            "-----------------Epoch = 50-----------------\n"
          ]
        },
        {
          "output_type": "stream",
          "name": "stderr",
          "text": [
            "100%|██████████| 188/188 [00:21<00:00,  8.62it/s]\n"
          ]
        },
        {
          "output_type": "stream",
          "name": "stdout",
          "text": [
            "\n",
            " [epoch 50] loss: 0.589 elapsed time 21.810\n",
            "Validation loss: \n"
          ]
        },
        {
          "output_type": "stream",
          "name": "stderr",
          "text": [
            "100%|██████████| 39/39 [00:02<00:00, 14.21it/s]\n"
          ]
        },
        {
          "output_type": "stream",
          "name": "stdout",
          "text": [
            "\n",
            " 0.6516664884029291\n"
          ]
        },
        {
          "output_type": "display_data",
          "data": {
            "text/plain": [
              "<Figure size 432x288 with 1 Axes>"
            ],
            "image/png": "[encoded data removed]"
          },
          "metadata": {
            "needs_background": "light"
          }
        },
        {
          "output_type": "stream",
          "name": "stdout",
          "text": [
            "\n",
            "Finished Training, Testing on test set\n"
          ]
        },
        {
          "output_type": "stream",
          "name": "stderr",
          "text": [
            "100%|██████████| 114/114 [00:02<00:00, 49.86it/s]\n"
          ]
        },
        {
          "output_type": "stream",
          "name": "stdout",
          "text": [
            "\n",
            " 0.7636883298033162\n",
            "\n",
            "Generating Unlabeled Result\n"
          ]
        },
        {
          "output_type": "stream",
          "name": "stderr",
          "text": [
            "100%|██████████| 114/114 [00:10<00:00, 11.23it/s]\n",
            "100%|██████████| 114/114 [00:01<00:00, 85.93it/s]\n"
          ]
        },
        {
          "output_type": "stream",
          "name": "stdout",
          "text": [
            "AP = 0.5634031173126235\n",
            "AP = 0.6284943909299082\n",
            "AP = 0.17019388734228877\n",
            "AP = 0.8029671928227727\n",
            "AP = 0.3839983105387548\n",
            "Average Precision (all classes) = 0.5098113797892696\n",
            "CPU times: user 20min 19s, sys: 9.21 s, total: 20min 28s\n",
            "Wall time: 20min 31s\n"
          ]
        }
      ],
      "source": [
        "%%time\n",
        "criterion = nn.CrossEntropyLoss()\n",
        "##############################################################################\n",
        "# TODO: Modify the lines below to experiment with different optimizers,      #\n",
        "# parameters (such as learning rate) and number of epochs.                   #\n",
        "##############################################################################\n",
        "optimizer = torch.optim.Adam(net.parameters(), 5e-4, weight_decay=1e-5)\n",
        "num_epoch = 50\n",
        "##############################################################################\n",
        "#                               END OF YOUR CODE                             #\n",
        "##############################################################################\n",
        "\n",
        "print('\\nStart training')\n",
        "trn_hist = []\n",
        "val_hist = []\n",
        "for epoch in range(num_epoch): #TODO: Change the number of epochs\n",
        "  print('-----------------Epoch = %d-----------------' % (epoch+1))\n",
        "  trn_loss = train(train_loader, net, criterion, optimizer, device, epoch+1)\n",
        "  print('Validation loss: ')\n",
        "  val_loss = test(val_loader, net, criterion, device)\n",
        "  trn_hist.append(trn_loss)\n",
        "  val_hist.append(val_loss)\n",
        "\n",
        "plot_hist(trn_hist, val_hist)\n",
        "##########################################################################\n",
        "# TODO: Submit the \"Average Precision(all classes)\" value in the report  #\n",
        "##########################################################################\n",
        "print('\\nFinished Training, Testing on test set')\n",
        "test(test_loader, net, criterion, device)\n",
        "print('\\nGenerating Unlabeled Result')\n",
        "##############################################################################\n",
        "# You can visualize your segmentation results using get_results function     #\n",
        "# Your result will be dumped in the folder 'output_test'.                    #\n",
        "# There will be three files for each image:                                   # \n",
        "#   (1) gt<num>.png (ground truth label)                                     #\n",
        "#   (2) x<num>.png (input RGB image)                                         #\n",
        "#   (3) y<num>.png (predicted output)                                        #\n",
        "#                                                                            #\n",
        "# TODO: Find a satisfactory result by running the next cell and report       #\n",
        "#       the plot of gt<num>.png, x<num>.png and y<num>.png in the pdf        #\n",
        "# Note: Your submission doesn't have to be perfect.                          #\n",
        "##############################################################################\n",
        "result = get_result(test_loader, net, device, folder='output_test')\n",
        "\n",
        "os.makedirs('./models', exist_ok=True)\n",
        "torch.save(net.state_dict(), './models/model_{}.pth'.format(name))\n",
        "\n",
        "cal_AP(ap_loader, net, criterion, device)"
      ]
    },
    {
      "cell_type": "code",
      "execution_count": 11,
      "metadata": {
        "id": "XwYgDofP6bh9",
        "colab": {
          "base_uri": "https://localhost:8080/",
          "height": 344
        },
        "outputId": "a7fefe10-6210-4bf2-a7c0-27e4d8671a27"
      },
      "outputs": [
        {
          "output_type": "display_data",
          "data": {
            "text/plain": [
              "<Figure size 1296x720 with 3 Axes>"
            ],
            "image/png": "[encoded data removed]"
          },
          "metadata": {
            "needs_background": "light"
          }
        }
      ],
      "source": [
        "########################################################################\n",
        "# TODO: Find a satisfactory result from the 114 test images            #\n",
        "#       Submit the result in the pdf                                   #\n",
        "# Note: Your submission doesn't have to be perfect.                    #\n",
        "########################################################################\n",
        "img_idx = 0\n",
        "########################################################################\n",
        "#                             END OF YOUR CODE                         #\n",
        "########################################################################\n",
        "output_dir = 'output_test'\n",
        "\n",
        "plt.subplot(1, 3, 1)\n",
        "plt.imshow(Image.open(os.path.join(output_dir, 'x{}.png'.format(img_idx))))\n",
        "plt.title('Input Image', fontsize=16)\n",
        "plt.axis('off')\n",
        "\n",
        "plt.subplot(1, 3, 2)\n",
        "plt.imshow(Image.open(os.path.join(output_dir, 'gt{}.png'.format(img_idx))))\n",
        "plt.title('Ground Truth Segmentation Map', fontsize=16)\n",
        "plt.axis('off')\n",
        "\n",
        "plt.subplot(1, 3, 3)\n",
        "plt.imshow(Image.open(os.path.join(output_dir, 'y{}.png'.format(img_idx))))\n",
        "plt.title('Predicted Segmentation Map', fontsize=16)\n",
        "plt.axis('off')\n",
        "\n",
        "plt.gcf().set_size_inches(18, 10)\n",
        "plt.show()"
      ]
    },
    {
      "cell_type": "code",
      "source": [],
      "metadata": {
        "id": "ucoHw9urQ8f3"
      },
      "execution_count": 21,
      "outputs": []
    },
    {
      "cell_type": "markdown",
      "metadata": {
        "id": "e8Bz6Ic8f1m-"
      },
      "source": [
        "## Acknowledgement\n",
        "The Mini Facade dataset are modified from CMP Facade Database by $Radim \\ Tyle \\check{c}ek$ and $Radim \\ \\check{S}a^{'}ra$. Please feel free to similarly re-use our problems while similarly crediting us."
      ]
    }
  ],
  "metadata": {
    "accelerator": "GPU",
    "colab": {
      "collapsed_sections": [],
      "provenance": []
    },
    "hide_input": false,
    "kernelspec": {
      "display_name": "Python 3 (ipykernel)",
      "language": "python",
      "name": "python3"
    },
    "language_info": {
      "codemirror_mode": {
        "name": "ipython",
        "version": 3
      },
      "file_extension": ".py",
      "mimetype": "text/x-python",
      "name": "python",
      "nbconvert_exporter": "python",
      "pygments_lexer": "ipython3",
      "version": "3.7.4"
    },
    "toc": {
      "base_numbering": 1,
      "nav_menu": {},
      "number_sections": true,
      "sideBar": true,
      "skip_h1_title": false,
      "title_cell": "Table of Contents",
      "title_sidebar": "Contents",
      "toc_cell": false,
      "toc_position": {},
      "toc_section_display": true,
      "toc_window_display": false
    },
    "varInspector": {
      "cols": {
        "lenName": 16,
        "lenType": 16,
        "lenVar": 40
      },
      "kernels_config": {
        "python": {
          "delete_cmd_postfix": "",
          "delete_cmd_prefix": "del ",
          "library": "var_list.py",
          "varRefreshCmd": "print(var_dic_list())"
        },
        "r": {
          "delete_cmd_postfix": ") ",
          "delete_cmd_prefix": "rm(",
          "library": "var_list.r",
          "varRefreshCmd": "cat(var_dic_list()) "
        }
      },
      "types_to_exclude": [
        "module",
        "function",
        "builtin_function_or_method",
        "instance",
        "_Feature"
      ],
      "window_display": false
    }
  },
  "nbformat": 4,
  "nbformat_minor": 0
}